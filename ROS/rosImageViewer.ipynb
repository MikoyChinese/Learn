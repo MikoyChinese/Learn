{
 "cells": [
  {
   "cell_type": "code",
   "execution_count": null,
   "metadata": {
    "ExecuteTime": {
     "end_time": "2021-01-14T08:36:07.836028Z",
     "start_time": "2021-01-14T08:36:07.739060Z"
    }
   },
   "outputs": [],
   "source": [
    "import cv2\n",
    "import rospy\n",
    "import message_filters\n",
    "from cv_bridge import CvBridge, CvBridgeError\n",
    "from sensor_msgs.msg import Image\n",
    "import numpy as np"
   ]
  },
  {
   "cell_type": "code",
   "execution_count": null,
   "metadata": {
    "ExecuteTime": {
     "end_time": "2021-01-14T08:36:08.432171Z",
     "start_time": "2021-01-14T08:36:08.418096Z"
    }
   },
   "outputs": [],
   "source": [
    "class Image_Converter(object):\n",
    "    \n",
    "    def __init__(self, color_topic, depth_topic=None):\n",
    "        self.bridge = CvBridge()\n",
    "        \n",
    "        if depth_topic:\n",
    "            image_sub = message_filters.Subscriber(color_topic, Image)\n",
    "            depth_sub = message_filters.Subscriber(depth_topic, Image)\n",
    "            \n",
    "            self.timeSync = message_filters.ApproximateTimeSynchronizer(\n",
    "                            [image_sub, depth_sub], 1, 0.5)\n",
    "            self.timeSync.registerCallback(self.callback)\n",
    "            \n",
    "        #self.windows = cv2.namedWindow('Image', 0)\n",
    "            \n",
    "    def callback(self, image_msg, depth_msg):\n",
    "        header = image_msg.header\n",
    "        secs = header.stamp.secs\n",
    "        nsecs = header.stamp.nsecs\n",
    "        print('Header: %s' % header)\n",
    "        try:\n",
    "            image_data = self.bridge.imgmsg_to_cv2(image_msg, \"bgr8\")\n",
    "            depth_data = self.bridge.imgmsg_to_cv2(depth_msg, \"passthrough\")\n",
    "        except CvBridgeError as e:\n",
    "            print(e)     "
   ]
  },
  {
   "cell_type": "code",
   "execution_count": null,
   "metadata": {
    "ExecuteTime": {
     "end_time": "2021-01-14T08:42:08.232264Z",
     "start_time": "2021-01-14T08:36:09.437282Z"
    }
   },
   "outputs": [],
   "source": [
    "rospy.init_node('Image_Viewer', anonymous=True)\n",
    "vis = Image_Converter('/rs01/color/image_rect_color_resize',\n",
    "                      '/rs01/aligned_depth_to_color/image_raw_resize')\n",
    "\n",
    "try:\n",
    "    rospy.spin()\n",
    "except KeyboardInterrupt:\n",
    "    print(\"Image Converter Shutting Down.\")"
   ]
  },
  {
   "cell_type": "code",
   "execution_count": null,
   "metadata": {},
   "outputs": [],
   "source": []
  }
 ],
 "metadata": {
  "kernelspec": {
   "display_name": "Python 3",
   "language": "python",
   "name": "python3"
  },
  "language_info": {
   "codemirror_mode": {
    "name": "ipython",
    "version": 3
   },
   "file_extension": ".py",
   "mimetype": "text/x-python",
   "name": "python",
   "nbconvert_exporter": "python",
   "pygments_lexer": "ipython3",
   "version": "3.8.5"
  },
  "varInspector": {
   "cols": {
    "lenName": 16,
    "lenType": 16,
    "lenVar": 40
   },
   "kernels_config": {
    "python": {
     "delete_cmd_postfix": "",
     "delete_cmd_prefix": "del ",
     "library": "var_list.py",
     "varRefreshCmd": "print(var_dic_list())"
    },
    "r": {
     "delete_cmd_postfix": ") ",
     "delete_cmd_prefix": "rm(",
     "library": "var_list.r",
     "varRefreshCmd": "cat(var_dic_list()) "
    }
   },
   "types_to_exclude": [
    "module",
    "function",
    "builtin_function_or_method",
    "instance",
    "_Feature"
   ],
   "window_display": false
  }
 },
 "nbformat": 4,
 "nbformat_minor": 4
}
