{
 "cells": [
  {
   "cell_type": "code",
   "execution_count": null,
   "metadata": {},
   "outputs": [],
   "source": [
    "import dt_apriltags\n",
    "import pyrealsense2 as rs\n",
    "import numpy as np\n",
    "import cv2"
   ]
  },
  {
   "cell_type": "code",
   "execution_count": null,
   "metadata": {},
   "outputs": [],
   "source": [
    "# Load json file\n",
    "json_path = '/home/commaai-03/Test/test.json'\n",
    "with open(json_path, 'r') as f:\n",
    "    json_obj = json.load(f)\n",
    "    \n",
    "json_str = str(json_obj).replace(\"'\", '\\\"')\n",
    "\n",
    "ctx = rs.context()                                                \n",
    "devices = ctx.query_devices()                                     \n",
    "#print('devices: ', devices)\n",
    "advance_mode = rs.rs400_advanced_mode(devices[0])\n",
    "advance_mode.load_json(json_str)"
   ]
  },
  {
   "cell_type": "code",
   "execution_count": null,
   "metadata": {},
   "outputs": [],
   "source": [
    "at_detector = dt_apriltags.Detector(searchpath=['apriltags'],\n",
    "                       families='tagStandard41h12',\n",
    "                       nthreads=1,\n",
    "                       quad_decimate=1.0,\n",
    "                       quad_sigma=0.0,\n",
    "                       refine_edges=1,\n",
    "                       decode_sharpening=0.25,\n",
    "                       debug=0)"
   ]
  },
  {
   "cell_type": "code",
   "execution_count": null,
   "metadata": {},
   "outputs": [],
   "source": [
    "pipeline = rs.pipeline()\n",
    "config = rs.config()\n",
    "config.enable_stream(rs.stream.depth, 848, 480, rs.format.z16, 30)\n",
    "config.enable_stream(rs.stream.color, 848, 480, rs.format.rgb8, 30)\n",
    "\n",
    "pipeline.start(config)\n",
    "\n",
    "profiles = pipeline.get_active_profile()\n",
    "profile = profiles.get_stream(rs.stream.color).as_video_stream_profile()\n",
    "intrinsics = profile.get_intrinsics()\n",
    "camera_params = [intrinsics.fx,\n",
    "                 intrinsics.fy,\n",
    "                 intrinsics.ppx,\n",
    "                 intrinsics.ppy]\n",
    "tag_size = 0.14576\n",
    "\n",
    "# skip some frames\n",
    "for x in range(30):\n",
    "    pipeline.wait_for_frames()\n",
    "\n",
    "align_to = rs.stream.color\n",
    "align = rs.align(align_to)\n",
    "add = False\n",
    "\n",
    "\n",
    "try:\n",
    "    while 1:\n",
    "        frames = pipeline.wait_for_frames()\n",
    "        aligned_frames = align.process(frames)\n",
    "        profile = aligned_frames.get_profile()\n",
    "        color = aligned_frames.get_color_frame()\n",
    "        depth = aligned_frames.get_depth_frame()\n",
    "        if not color or not depth:\n",
    "            continue\n",
    "        \n",
    "        d_img = np.asanyarray(depth.get_data())\n",
    "        img = np.asanyarray(color.get_data())\n",
    "        gray = cv2.cvtColor(img, cv2.COLOR_RGB2GRAY)\n",
    "        tags = at_detector.detect(gray, estimate_tag_pose=True, camera_params=camera_params, tag_size=tag_size)\n",
    "        if tags:\n",
    "            print(tags)\n",
    "        cv2.imshow('Tags', img[...,::-1])\n",
    "        k = cv2.waitKey(1)\n",
    "        if k == 27 or k == ord('q'):\n",
    "            break\n",
    "        \n",
    "finally:\n",
    "    pipeline.stop()\n",
    "    cv2.destroyAllWindows()"
   ]
  },
  {
   "cell_type": "markdown",
   "metadata": {},
   "source": [
    "### Check Apriltag"
   ]
  },
  {
   "cell_type": "code",
   "execution_count": null,
   "metadata": {},
   "outputs": [],
   "source": [
    "import dt_apriltags\n",
    "import numpy as np\n",
    "import cv2\n",
    "\n",
    "# Create apriltags Detector\n",
    "at_detector = dt_apriltags.Detector(searchpath=['apriltags'],\n",
    "                       families='tagStandard41h12',\n",
    "                       nthreads=1,\n",
    "                       quad_decimate=1.0,\n",
    "                       quad_sigma=0.0,\n",
    "                       refine_edges=1,\n",
    "                       decode_sharpening=0.25,\n",
    "                       debug=0)\n",
    "\n",
    "# Load image file to gray.\n",
    "img_file = '/home/commaai-03/Data/color/apriltags/rs15_1.jpg'\n",
    "gray = cv2.imread(img_file, 0)\n",
    "\n",
    "tags = at_detector.detect(gray)\n",
    "\n",
    "for tag in tags:\n",
    "    _round = lambda x: int(round(x))\n",
    "    points = [(_round(tag.center[0]), _round(tag.center[1])),\n",
    "              (_round(tag.corners[0][0]), _round(tag.corners[0][1])),\n",
    "              (_round(tag.corners[1][0]), _round(tag.corners[1][1])),\n",
    "              (_round(tag.corners[2][0]), _round(tag.corners[2][1])),\n",
    "              (_round(tag.corners[3][0]), _round(tag.corners[3][1]))\n",
    "             ]\n",
    "    \n",
    "    for point in points:\n",
    "        cv2.circle(gray, point, 1, (0,0,255),-1)\n",
    "        \n",
    "cv2. imshow('Test', gray)\n",
    "k = cv2.waitKey()\n",
    "if k == 27 or k == ord('q'):\n",
    "    cv2.destroyAllWindows()\n",
    "else:\n",
    "    cv2.destroyAllWindows()"
   ]
  },
  {
   "cell_type": "code",
   "execution_count": null,
   "metadata": {},
   "outputs": [],
   "source": [
    "import os\n",
    "\n",
    "save_dir = '/home/commaai-03/Data/color/test'\n",
    "img_dir = '/home/commaai-03/Data/color/apriltags'\n",
    "files = os.listdir(img_dir)\n",
    "\n",
    "def circle2save(img_file, save_dir):\n",
    "    gray = cv2.imread(img_file, 0)\n",
    "    tags = at_detector.detect(gray)\n",
    "    for tag in tags:\n",
    "        _round = lambda x: int(round(x))\n",
    "        points = [(_round(tag.center[0]), _round(tag.center[1])),\n",
    "                  (_round(tag.corners[0][0]), _round(tag.corners[0][1])),\n",
    "                  (_round(tag.corners[1][0]), _round(tag.corners[1][1])),\n",
    "                  (_round(tag.corners[2][0]), _round(tag.corners[2][1])),\n",
    "                  (_round(tag.corners[3][0]), _round(tag.corners[3][1]))\n",
    "                 ]\n",
    "\n",
    "        for point in points:\n",
    "            cv2.circle(gray, point, 1, (0,0,255),-1)\n",
    "    basename = os.path.basename(img_file)\n",
    "    filename = os.path.join(save_dir, basename)\n",
    "    cv2.imwrite(filename, gray)\n",
    "\n",
    "for file in files:\n",
    "    if '.jpg' in file:\n",
    "        img_file = os.path.join(img_dir, file)\n",
    "        circle2save(img_file, save_dir)"
   ]
  },
  {
   "cell_type": "code",
   "execution_count": null,
   "metadata": {},
   "outputs": [],
   "source": []
  }
 ],
 "metadata": {
  "kernelspec": {
   "display_name": "Python 3",
   "language": "python",
   "name": "python3"
  },
  "language_info": {
   "codemirror_mode": {
    "name": "ipython",
    "version": 3
   },
   "file_extension": ".py",
   "mimetype": "text/x-python",
   "name": "python",
   "nbconvert_exporter": "python",
   "pygments_lexer": "ipython3",
   "version": "3.6.9"
  },
  "varInspector": {
   "cols": {
    "lenName": 16,
    "lenType": 16,
    "lenVar": 40
   },
   "kernels_config": {
    "python": {
     "delete_cmd_postfix": "",
     "delete_cmd_prefix": "del ",
     "library": "var_list.py",
     "varRefreshCmd": "print(var_dic_list())"
    },
    "r": {
     "delete_cmd_postfix": ") ",
     "delete_cmd_prefix": "rm(",
     "library": "var_list.r",
     "varRefreshCmd": "cat(var_dic_list()) "
    }
   },
   "types_to_exclude": [
    "module",
    "function",
    "builtin_function_or_method",
    "instance",
    "_Feature"
   ],
   "window_display": false
  }
 },
 "nbformat": 4,
 "nbformat_minor": 4
}
