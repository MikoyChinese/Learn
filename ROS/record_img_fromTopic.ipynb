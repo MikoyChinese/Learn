{
 "cells": [
  {
   "cell_type": "code",
   "execution_count": 1,
   "metadata": {
    "ExecuteTime": {
     "end_time": "2021-01-14T06:22:37.283840Z",
     "start_time": "2021-01-14T06:22:37.185428Z"
    },
    "code_folding": []
   },
   "outputs": [],
   "source": [
    "#!/usr/bin/env python\n",
    "\n",
    "import sys\n",
    "import cv2\n",
    "import os\n",
    "import numpy as np\n",
    "import rospy\n",
    "import message_filters\n",
    "from sensor_msgs.msg import Image\n",
    "from cv_bridge import CvBridge, CvBridgeError"
   ]
  },
  {
   "cell_type": "code",
   "execution_count": 2,
   "metadata": {
    "ExecuteTime": {
     "end_time": "2021-01-14T06:22:37.447079Z",
     "start_time": "2021-01-14T06:22:37.435953Z"
    }
   },
   "outputs": [],
   "source": [
    "class Image_Converter(object):\n",
    "    \n",
    "    def __init__(self, color_topic, depth_topic=None, save_dir=None):\n",
    "        self.bridge = CvBridge()\n",
    "        if save_dir:\n",
    "            self.save_dir = save_dir\n",
    "        if depth_topic:\n",
    "            image_sub = message_filters.Subscriber(color_topic, Image)\n",
    "            depth_sub = message_filters.Subscriber(depth_topic, Image)\n",
    "\n",
    "            self.timeSync = message_filters.ApproximateTimeSynchronizer(\n",
    "                            [image_sub, depth_sub], 10, 0.5)\n",
    "            self.timeSync.registerCallback(self.callback)\n",
    "        else:\n",
    "            image_sub = rospy.Subscriber(color_topic, Image, self.callback_single)\n",
    "        \n",
    "    def callback(self, image_msg, depth_msg):\n",
    "        header = image_msg.header\n",
    "        secs = header.stamp.secs\n",
    "        nsecs = header.stamp.nsecs\n",
    "        try:\n",
    "            image_data = self.bridge.imgmsg_to_cv2(image_msg, \"bgr8\")\n",
    "            depth_data = self.bridge.imgmsg_to_cv2(depth_msg, \"passthrough\")\n",
    "        except CvBridgeError as e:\n",
    "            print(e)\n",
    "            \n",
    "        depth_data = np.array(depth_data, dtype=np.uint16)\n",
    "        \n",
    "        cv2.imwrite(\"%s.%s.png\" %(secs, nsecs), image_data)\n",
    "        cv2.imwrite(\"%s.%s.pgm\" %(secs, nsecs), depth_data)\n",
    "        \n",
    "    def callback_single(self, image_msg):\n",
    "        header = image_msg.header\n",
    "        secs = header.stamp.secs\n",
    "        nsecs = header.stamp.nsecs\n",
    "        try:\n",
    "            image_data = self.bridge.imgmsg_to_cv2(image_msg, 'bgr8')\n",
    "        except CvBridgeError as e:\n",
    "            print(e)\n",
    "        file_name = os.path.join(self.save_dir, \"%s.%s.png\" %(secs, nsecs))\n",
    "        cv2.imwrite(file_name, image_data)\n",
    "        print('[Info]: %s saved!' % file_name)"
   ]
  },
  {
   "cell_type": "code",
   "execution_count": 3,
   "metadata": {
    "ExecuteTime": {
     "end_time": "2021-01-14T06:22:37.834497Z",
     "start_time": "2021-01-14T06:22:37.823112Z"
    }
   },
   "outputs": [],
   "source": [
    "class Image_Conv_Visual(Image_Converter):\n",
    "    \n",
    "    def __init__(self, color_topic, depth_topic=None, save_dir=None, checkerBoard=None):\n",
    "        # Inheritance\n",
    "        super(Image_Conv_Visual, self).__init__(color_topic, depth_topic=depth_topic, save_dir=save_dir)\n",
    "        # New features.\n",
    "        self.windows = cv2.namedWindow('Image', 0)\n",
    "        self.checkerBoard = checkerBoard\n",
    "        self.criteria = (cv2.TERM_CRITERIA_EPS + cv2.TERM_CRITERIA_MAX_ITER, 30, 0.001)\n",
    "        \n",
    "    def callback_single(self, image_msg):\n",
    "        header = image_msg.header\n",
    "        secs, nsecs = header.stamp.secs, header.stamp.nsecs\n",
    "        \n",
    "        try:\n",
    "            image_data = self.bridge.imgmsg_to_cv2(image_msg, 'bgr8')\n",
    "        except CvBridgeError as e:\n",
    "            print(e)\n",
    "        img = image_data\n",
    "        gray = cv2.cvtColor(image_data, cv2.COLOR_BGR2GRAY)\n",
    "        ret, corners = cv2.findChessboardCorners(gray, self.checkerBoard, None)\n",
    "        if ret:\n",
    "            corners = cv2.cornerSubPix(gray, \n",
    "                                       corners,\n",
    "                                       (5,5),\n",
    "                                       (-1,-1),\n",
    "                                       self.criteria)\n",
    "            img = cv2.drawChessboardCorners(img, \n",
    "                                                   self.checkerBoard, \n",
    "                                                   corners, \n",
    "                                                   ret)\n",
    "        cv2.imshow('Image', img)\n",
    "        if cv2.waitKey(1) & 0xFF == ord('q'):\n",
    "            cv2.destroyAllWindows()\n",
    "            rospy.signal_shutdown('Exit.')\n",
    "            print('[End]: Exitting...')\n",
    "            sys.exit(0)\n",
    "        if cv2.waitKey(1) & 0xFF == ord('s'):\n",
    "            file_name = os.path.join(self.save_dir, \"%s.%s.png\" %(secs, nsecs))\n",
    "            cv2.imwrite(file_name, image_data)\n",
    "            print('[Info]: %s saved!' % file_name)\n",
    "            \n",
    "    def callback(self, image_msg, depth_msg):\n",
    "        header = image_msg.header\n",
    "        secs, nsecs = header.stamp.secs, header.stamp.nsecs\n",
    "        try:\n",
    "            image_data = self.bridge.imgmsg_to_cv2(image_msg, 'bgr8')\n",
    "            depth_data = self.bridge.imgmsg_to_cv2(depth_msg, 'passthrough')\n",
    "        except CvBridgeError as e:\n",
    "            print(e)\n",
    "            \n",
    "        depth_data = depth_data.astype(np.uint16)\n",
    "        \n",
    "        cv2.imshow('Image', image_data)\n",
    "        k = cv2.waitKey(1)\n",
    "        if k == ord('q') or k == 27:\n",
    "            cv2.destroyAllWindows()\n",
    "            rospy.signal_shutdown('Exit...')\n",
    "            \n",
    "        if k == ord('s'):\n",
    "            image_name = os.path.join(self.save_dir, '%s.%s.png' %(secs, nsecs))\n",
    "            depth_name = os.path.join(self.save_dir, '%s.%s_.png' %(secs, nsecs))\n",
    "            cv2.imwrite(image_name, image_data)\n",
    "            cv2.imwrite(depth_name, depth_data)\n",
    "            print('[Info]: %s and %s saved!' % (image_name, depth_name))"
   ]
  },
  {
   "cell_type": "code",
   "execution_count": 4,
   "metadata": {
    "ExecuteTime": {
     "end_time": "2021-01-14T06:23:11.906265Z",
     "start_time": "2021-01-14T06:22:38.551305Z"
    }
   },
   "outputs": [],
   "source": [
    "rospy.init_node('image_converter', anonymous=True)\n",
    "cap1 = Image_Conv_Visual('/rs01/color/image_rect_color_resize',\n",
    "                         '/rs01/aligned_depth_to_color/image_raw_resize',\n",
    "                         save_dir='/media/commaai-03/Data/workdata/temp/', \n",
    "                         checkerBoard=None)\n",
    "try:\n",
    "    rospy.spin()\n",
    "except KeyboardInterrupt:\n",
    "    print(\"Image Converter Shutting Down.\")"
   ]
  },
  {
   "cell_type": "code",
   "execution_count": null,
   "metadata": {},
   "outputs": [],
   "source": []
  },
  {
   "cell_type": "code",
   "execution_count": null,
   "metadata": {},
   "outputs": [],
   "source": []
  }
 ],
 "metadata": {
  "kernelspec": {
   "display_name": "Python 3",
   "language": "python",
   "name": "python3"
  },
  "language_info": {
   "codemirror_mode": {
    "name": "ipython",
    "version": 3
   },
   "file_extension": ".py",
   "mimetype": "text/x-python",
   "name": "python",
   "nbconvert_exporter": "python",
   "pygments_lexer": "ipython3",
   "version": "3.8.5"
  },
  "varInspector": {
   "cols": {
    "lenName": 16,
    "lenType": 16,
    "lenVar": 40
   },
   "kernels_config": {
    "python": {
     "delete_cmd_postfix": "",
     "delete_cmd_prefix": "del ",
     "library": "var_list.py",
     "varRefreshCmd": "print(var_dic_list())"
    },
    "r": {
     "delete_cmd_postfix": ") ",
     "delete_cmd_prefix": "rm(",
     "library": "var_list.r",
     "varRefreshCmd": "cat(var_dic_list()) "
    }
   },
   "types_to_exclude": [
    "module",
    "function",
    "builtin_function_or_method",
    "instance",
    "_Feature"
   ],
   "window_display": false
  }
 },
 "nbformat": 4,
 "nbformat_minor": 2
}
