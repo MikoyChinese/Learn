{
 "cells": [
  {
   "cell_type": "markdown",
   "metadata": {},
   "source": [
    "### Compare two images\n",
    "\n",
    "This method is to use algorithms such as Mean Squared Error(MSE) or the Structural Similarity Index(SSIM).\n",
    "\n",
    "$$MSE = \\frac{1}{m n}\\cdot\\sum_{i=0}^{m-1}\\cdot \\sum_{j=0}^{n-1}\\cdot \\left [I(i,j) - K(i,j)  \\right ]^{2}$$"
   ]
  },
  {
   "cell_type": "code",
   "execution_count": 1,
   "metadata": {},
   "outputs": [],
   "source": [
    "def mse(img1, img2):\n",
    "    '''The Mean Squared Error between the two images\n",
    "    is the sum of the squared difference between the two images.\n",
    "    Note: the two images must have the same dimension.\n",
    "    '''\n",
    "    import numpy as np\n",
    "    err = np.sum((img1.astype('float') - img2.astype('float'))**2)\n",
    "    err /= float(img1.shape[0]*img2.shape[1])\n",
    "    \n",
    "    # return the MSE, the lower the error, the more similar\n",
    "    # the two images are.\n",
    "    return err"
   ]
  },
  {
   "cell_type": "markdown",
   "metadata": {},
   "source": [
    "$$SSIM\\left ( x, y \\right ) = \\frac{(2*\\mu_{x}\\mu_{y} + c_{1})(2\\sigma_{xy} + c_{2})}{(\\mu_{x}^{2} + \\mu_{y}^{2} + c_{1})(\\sigma_{x}^{2} + \\sigma_{y}^{2} + c_{2})}$$"
   ]
  },
  {
   "cell_type": "code",
   "execution_count": 2,
   "metadata": {},
   "outputs": [],
   "source": [
    "import numpy as np\n",
    "from scipy.ndimage import uniform_filter, gaussian_filter\n",
    "def ssim(X, Y, win_size=None, gradient=False,\n",
    "         data_range=None, multichannel=False, gaussian_weights=False,\n",
    "         full=False, dynamic_range=None, **kwargs):\n",
    "    \"\"\"Compute the mean structural similarity index between two images.\n",
    "    Parameters\n",
    "    ----------\n",
    "    X, Y : ndarray\n",
    "        Image.  Any dimensionality.\n",
    "    win_size : int or None\n",
    "        The side-length of the sliding window used in comparison.  Must be an\n",
    "        odd value.  If `gaussian_weights` is True, this is ignored and the\n",
    "        window size will depend on `sigma`.\n",
    "    gradient : bool, optional\n",
    "        If True, also return the gradient.\n",
    "    data_range : int, optional\n",
    "        The data range of the input image (distance between minimum and\n",
    "        maximum possible values).  By default, this is estimated from the image\n",
    "        data-type.\n",
    "    multichannel : bool, optional\n",
    "        If True, treat the last dimension of the array as channels. Similarity\n",
    "        calculations are done independently for each channel then averaged.\n",
    "    gaussian_weights : bool, optional\n",
    "        If True, each patch has its mean and variance spatially weighted by a\n",
    "        normalized Gaussian kernel of width sigma=1.5.\n",
    "    full : bool, optional\n",
    "        If True, return the full structural similarity image instead of the\n",
    "        mean value.\n",
    "    Other Parameters\n",
    "    ----------------\n",
    "    use_sample_covariance : bool\n",
    "        if True, normalize covariances by N-1 rather than, N where N is the\n",
    "        number of pixels within the sliding window.\n",
    "    K1 : float\n",
    "        algorithm parameter, K1 (small constant, see [1]_)\n",
    "    K2 : float\n",
    "        algorithm parameter, K2 (small constant, see [1]_)\n",
    "    sigma : float\n",
    "        sigma for the Gaussian when `gaussian_weights` is True.\n",
    "    Returns\n",
    "    -------\n",
    "    mssim : float\n",
    "        The mean structural similarity over the image.\n",
    "    grad : ndarray\n",
    "        The gradient of the structural similarity index between X and Y [2]_.\n",
    "        This is only returned if `gradient` is set to True.\n",
    "    S : ndarray\n",
    "        The full SSIM image.  This is only returned if `full` is set to True.\n",
    "    Notes\n",
    "    -----\n",
    "    To match the implementation of Wang et. al. [1]_, set `gaussian_weights`\n",
    "    to True, `sigma` to 1.5, and `use_sample_covariance` to False.\n",
    "    References\n",
    "    ----------\n",
    "    .. [1] Wang, Z., Bovik, A. C., Sheikh, H. R., & Simoncelli, E. P.\n",
    "       (2004). Image quality assessment: From error visibility to\n",
    "       structural similarity. IEEE Transactions on Image Processing,\n",
    "       13, 600-612.\n",
    "       https://ece.uwaterloo.ca/~z70wang/publications/ssim.pdf,\n",
    "       DOI:10.1.1.11.2477\n",
    "    .. [2] Avanaki, A. N. (2009). Exact global histogram specification\n",
    "       optimized for structural similarity. Optical Review, 16, 613-621.\n",
    "       http://arxiv.org/abs/0901.0065,\n",
    "       DOI:10.1007/s10043-009-0119-z\n",
    "    \"\"\"\n",
    "    _integer_types = (np.byte, np.ubyte,          # 8 bits\n",
    "                      np.short, np.ushort,        # 16 bits\n",
    "                      np.intc, np.uintc,          # 16 or 32 or 64 bits\n",
    "                      np.int_, np.uint,           # 32 or 64 bits\n",
    "                      np.longlong, np.ulonglong)  # 64 bits\n",
    "    _integer_ranges = {t: (np.iinfo(t).min, np.iinfo(t).max)\n",
    "                       for t in _integer_types}\n",
    "    dtype_range = {np.bool_: (False, True),\n",
    "                   np.bool8: (False, True),\n",
    "                   np.float16: (-1, 1),\n",
    "                   np.float32: (-1, 1),\n",
    "                   np.float64: (-1, 1)}\n",
    "    dtype_range.update(_integer_ranges)\n",
    "    \n",
    "    if not X.dtype == Y.dtype:\n",
    "        raise ValueError('Input images must have the same dtype.')\n",
    "\n",
    "    if not X.shape == Y.shape:\n",
    "        raise ValueError('Input images must have the same dimensions.')\n",
    "\n",
    "    if dynamic_range is not None:\n",
    "        warn('`dynamic_range` has been deprecated in favor of '\n",
    "             '`data_range`. The `dynamic_range` keyword argument '\n",
    "             'will be removed in v0.14', skimage_deprecation)\n",
    "        data_range = dynamic_range\n",
    "\n",
    "    if multichannel:\n",
    "        # loop over channels\n",
    "        args = dict(win_size=win_size,\n",
    "                    gradient=gradient,\n",
    "                    data_range=data_range,\n",
    "                    multichannel=False,\n",
    "                    gaussian_weights=gaussian_weights,\n",
    "                    full=full)\n",
    "        args.update(kwargs)\n",
    "        nch = X.shape[-1]\n",
    "        mssim = np.empty(nch)\n",
    "        if gradient:\n",
    "            G = np.empty(X.shape)\n",
    "        if full:\n",
    "            S = np.empty(X.shape)\n",
    "        for ch in range(nch):\n",
    "            ch_result = compare_ssim(X[..., ch], Y[..., ch], **args)\n",
    "            if gradient and full:\n",
    "                mssim[..., ch], G[..., ch], S[..., ch] = ch_result\n",
    "            elif gradient:\n",
    "                mssim[..., ch], G[..., ch] = ch_result\n",
    "            elif full:\n",
    "                mssim[..., ch], S[..., ch] = ch_result\n",
    "            else:\n",
    "                mssim[..., ch] = ch_result\n",
    "        mssim = mssim.mean()\n",
    "        if gradient and full:\n",
    "            return mssim, G, S\n",
    "        elif gradient:\n",
    "            return mssim, G\n",
    "        elif full:\n",
    "            return mssim, S\n",
    "        else:\n",
    "            return mssim\n",
    "\n",
    "    K1 = kwargs.pop('K1', 0.01)\n",
    "    K2 = kwargs.pop('K2', 0.03)\n",
    "    sigma = kwargs.pop('sigma', 1.5)\n",
    "    if K1 < 0:\n",
    "        raise ValueError(\"K1 must be positive\")\n",
    "    if K2 < 0:\n",
    "        raise ValueError(\"K2 must be positive\")\n",
    "    if sigma < 0:\n",
    "        raise ValueError(\"sigma must be positive\")\n",
    "    use_sample_covariance = kwargs.pop('use_sample_covariance', True)\n",
    "\n",
    "    if win_size is None:\n",
    "        if gaussian_weights:\n",
    "            win_size = 11  # 11 to match Wang et. al. 2004\n",
    "        else:\n",
    "            win_size = 7   # backwards compatibility\n",
    "\n",
    "    if np.any((np.asarray(X.shape) - win_size) < 0):\n",
    "        raise ValueError(\n",
    "            \"win_size exceeds image extent.  If the input is a multichannel \"\n",
    "            \"(color) image, set multichannel=True.\")\n",
    "\n",
    "    if not (win_size % 2 == 1):\n",
    "        raise ValueError('Window size must be odd.')\n",
    "\n",
    "    if data_range is None:\n",
    "        dmin, dmax = dtype_range[X.dtype.type]\n",
    "        data_range = dmax - dmin\n",
    "\n",
    "    ndim = X.ndim\n",
    "\n",
    "    if gaussian_weights:\n",
    "        # sigma = 1.5 to approximately match filter in Wang et. al. 2004\n",
    "        # this ends up giving a 13-tap rather than 11-tap Gaussian\n",
    "        filter_func = gaussian_filter\n",
    "        filter_args = {'sigma': sigma}\n",
    "\n",
    "    else:\n",
    "        filter_func = uniform_filter\n",
    "        filter_args = {'size': win_size}\n",
    "\n",
    "    # ndimage filters need floating point data\n",
    "    X = X.astype(np.float64)\n",
    "    Y = Y.astype(np.float64)\n",
    "\n",
    "    NP = win_size ** ndim\n",
    "\n",
    "    # filter has already normalized by NP\n",
    "    if use_sample_covariance:\n",
    "        cov_norm = NP / (NP - 1)  # sample covariance\n",
    "    else:\n",
    "        cov_norm = 1.0  # population covariance to match Wang et. al. 2004\n",
    "\n",
    "    # compute (weighted) means\n",
    "    ux = filter_func(X, **filter_args)\n",
    "    uy = filter_func(Y, **filter_args)\n",
    "\n",
    "    # compute (weighted) variances and covariances\n",
    "    uxx = filter_func(X * X, **filter_args)\n",
    "    uyy = filter_func(Y * Y, **filter_args)\n",
    "    uxy = filter_func(X * Y, **filter_args)\n",
    "    vx = cov_norm * (uxx - ux * ux)\n",
    "    vy = cov_norm * (uyy - uy * uy)\n",
    "    vxy = cov_norm * (uxy - ux * uy)\n",
    "\n",
    "    R = data_range\n",
    "    C1 = (K1 * R) ** 2\n",
    "    C2 = (K2 * R) ** 2\n",
    "\n",
    "    A1, A2, B1, B2 = ((2 * ux * uy + C1,\n",
    "                       2 * vxy + C2,\n",
    "                       ux ** 2 + uy ** 2 + C1,\n",
    "                       vx + vy + C2))\n",
    "    D = B1 * B2\n",
    "    S = (A1 * A2) / D\n",
    "\n",
    "    # to avoid edge effects will ignore filter radius strip around edges\n",
    "    pad = (win_size - 1) // 2\n",
    "\n",
    "    # compute (weighted) mean of ssim\n",
    "    from numpy.lib.arraypad import _as_pairs\n",
    "    ar = np.array(S, copy=False)\n",
    "    crops = _as_pairs(pad, ar.ndim, as_index=True)\n",
    "    slices = tuple(slice(a, ar.shape[i] - b) for i, (a, b) in enumerate(crops))\n",
    "    cropped = ar[slices]\n",
    "    # mssim = crop(S, pad).mean()\n",
    "    mssim = cropped.mean()\n",
    "\n",
    "    if gradient:\n",
    "        # The following is Eqs. 7-8 of Avanaki 2009.\n",
    "        grad = filter_func(A1 / D, **filter_args) * X\n",
    "        grad += filter_func(-S / B2, **filter_args) * Y\n",
    "        grad += filter_func((ux * (A2 - A1) - uy * (B2 - B1) * S) / D,\n",
    "                            **filter_args)\n",
    "        grad *= (2 / X.size)\n",
    "\n",
    "        if full:\n",
    "            return mssim, grad, S\n",
    "        else:\n",
    "            return mssim, grad\n",
    "    else:\n",
    "        if full:\n",
    "            return mssim, S\n",
    "        else:\n",
    "            return mssim"
   ]
  },
  {
   "cell_type": "code",
   "execution_count": 3,
   "metadata": {},
   "outputs": [],
   "source": [
    "#from skimage.measure import compare_mse, compare_ssim\n",
    "import cv2\n",
    "#import imutils\n",
    "import matplotlib.pyplot as plt"
   ]
  },
  {
   "cell_type": "code",
   "execution_count": 4,
   "metadata": {},
   "outputs": [
    {
     "name": "stdout",
     "output_type": "stream",
     "text": [
      "SSIM: 0.9116000159993498\n"
     ]
    },
    {
     "data": {
      "image/png": "[encoded data removed]",
      "text/plain": [
       "<Figure size 1152x864 with 2 Axes>"
      ]
     },
     "metadata": {
      "needs_background": "light"
     },
     "output_type": "display_data"
    }
   ],
   "source": [
    "img1 = '/home/commaai-03/Test/tmp/data/depth_0_.png'\n",
    "img2 = '/home/commaai-03/Test/tmp/data/depth_1_.png'\n",
    "\n",
    "img1 = cv2.imread(img1) # RGB [...,::-1]\n",
    "img2 = cv2.imread(img2)\n",
    "\n",
    "gray1 = cv2.cvtColor(img1, cv2.COLOR_BGR2GRAY)\n",
    "gray2 = cv2.cvtColor(img2, cv2.COLOR_BGR2GRAY)\n",
    "\n",
    "fig, axs = plt.subplots(ncols=2, figsize=(16,12))\n",
    "axs[0].imshow(gray1)\n",
    "axs[1].imshow(gray2)\n",
    "\n",
    "(score, diff) = ssim(gray1, gray2, full=True)\n",
    "diff = (diff * 255).astype('uint8')\n",
    "print('SSIM: {}'.format(score))"
   ]
  },
  {
   "cell_type": "code",
   "execution_count": 5,
   "metadata": {},
   "outputs": [],
   "source": [
    "def show(frame_name, img):\n",
    "    cv2.imshow(frame_name, img)\n",
    "    k = cv2.waitKey(0)\n",
    "    if k == 27 or k == ord('q'):\n",
    "        cv2.destroyAllWindows()"
   ]
  },
  {
   "cell_type": "code",
   "execution_count": 6,
   "metadata": {},
   "outputs": [
    {
     "name": "stdout",
     "output_type": "stream",
     "text": [
      "SSIM: 0.9116000159993498\n"
     ]
    }
   ],
   "source": [
    "#(score, diff) = compare_ssim(gray1, gray2, full=True)\n",
    "(score, diff) = ssim(gray1, gray2, full=True)\n",
    "diff = (diff * 255).astype('uint8')\n",
    "print('SSIM: {}'.format(score))\n",
    "show('Diff', diff)"
   ]
  },
  {
   "cell_type": "code",
   "execution_count": 7,
   "metadata": {},
   "outputs": [],
   "source": [
    "def grab_contours(cnts):\n",
    "    # if the length the contours tuple returned by cv2.findContours\n",
    "    # is '2' then we are using either OpenCV v2.4, v4-beta, or\n",
    "    # v4-official\n",
    "    if len(cnts) == 2:\n",
    "        cnts = cnts[0]\n",
    "\n",
    "    # if the length of the contours tuple is '3' then we are using\n",
    "    # either OpenCV v3, v4-pre, or v4-alpha\n",
    "    elif len(cnts) == 3:\n",
    "        cnts = cnts[1]\n",
    "\n",
    "    # otherwise OpenCV has changed their cv2.findContours return\n",
    "    # signature yet again and I have no idea WTH is going on\n",
    "    else:\n",
    "        raise Exception((\"Contours tuple must have length 2 or 3, \"\n",
    "            \"otherwise OpenCV changed their cv2.findContours return \"\n",
    "            \"signature yet again. Refer to OpenCV's documentation \"\n",
    "            \"in that case\"))\n",
    "\n",
    "    # return the actual contours array\n",
    "    return cnts"
   ]
  },
  {
   "cell_type": "code",
   "execution_count": 15,
   "metadata": {},
   "outputs": [
    {
     "name": "stdout",
     "output_type": "stream",
     "text": [
      "265\n",
      "150\n",
      "1443\n",
      "466\n"
     ]
    }
   ],
   "source": [
    "thresh = cv2.threshold(diff, 0, 255,\n",
    "                       cv2.THRESH_BINARY_INV | cv2.THRESH_OTSU)[1]\n",
    "cnts = cv2.findContours(thresh.copy(), cv2.RETR_EXTERNAL,\n",
    "                        cv2.CHAIN_APPROX_NONE)\n",
    "#cnts = imutils.grab_contours(cnts)\n",
    "cnts = grab_contours(cnts)\n",
    "\n",
    "g1 = gray1\n",
    "g2 = gray2\n",
    "# loop over the contours\n",
    "for c in cnts:\n",
    "# compute the bounding box of the contour and then draw the\n",
    "# bounding box on both input images to represent where the two\n",
    "# images differ\n",
    "    if len(c) < 100:\n",
    "        continue\n",
    "    print(len(c))\n",
    "    (x, y, w, h) = cv2.boundingRect(c)\n",
    "    cv2.rectangle(g1, (x, y), (x + w, y + h), (0, 0, 255), 2)\n",
    "    cv2.rectangle(g2, (x, y), (x + w, y + h), (0, 0, 255), 2)\n",
    " \n",
    "# show the output images\n",
    "cv2.imshow(\"Original\", g1)\n",
    "cv2.imshow(\"Modified\", g2)\n",
    "cv2.imshow(\"Diff\", diff)\n",
    "cv2.imshow(\"Thresh\", thresh)\n",
    "k = cv2.waitKey(0)\n",
    "if k == 27 or k == ord('q'):\n",
    "    cv2.destroyAllWindows()"
   ]
  },
  {
   "cell_type": "code",
   "execution_count": null,
   "metadata": {},
   "outputs": [],
   "source": [
    "cnts[0][0]"
   ]
  },
  {
   "cell_type": "code",
   "execution_count": 16,
   "metadata": {},
   "outputs": [],
   "source": [
    "point_size = 1\n",
    "point_color = (255, 255, 255) # BGR\n",
    "thickness = 0 # 可以為 0 、4、8\n",
    "\n",
    "peoples = []\n",
    "\n",
    "for c in cnts:\n",
    "    if len(c) < 100:\n",
    "        continue\n",
    "    peoples.append(c)\n",
    "    for point in c:\n",
    "        cv2.circle(gray2, tuple(point[0]), point_size, point_color, thickness)\n",
    "        \n",
    "show('Points', gray2)"
   ]
  },
  {
   "cell_type": "code",
   "execution_count": null,
   "metadata": {},
   "outputs": [],
   "source": [
    "len(peoples)"
   ]
  },
  {
   "cell_type": "code",
   "execution_count": 10,
   "metadata": {},
   "outputs": [],
   "source": [
    "img = np.zeros((gray2.shape[0], gray2.shape[1]), np.uint8)\n",
    "#mask = cv2.polylines(img, pts, True, (255, 255, 255))\n",
    "mask2 = cv2.fillPoly(img, [peoples[1]], (255,255,255))\n",
    "# show('Points', mask2)"
   ]
  },
  {
   "cell_type": "code",
   "execution_count": 11,
   "metadata": {},
   "outputs": [],
   "source": [
    "res = cv2.bitwise_and(img2, img2, mask=mask2)\n",
    "show('Result', res)"
   ]
  },
  {
   "cell_type": "code",
   "execution_count": null,
   "metadata": {},
   "outputs": [],
   "source": [
    "gray1.size"
   ]
  },
  {
   "cell_type": "code",
   "execution_count": 12,
   "metadata": {},
   "outputs": [],
   "source": [
    "cnts_need = []\n",
    "\n",
    "for cnt in cnts:\n",
    "    area = cv2.contourArea(cnt)\n",
    "    if area > gray1.size * 0.05:\n",
    "        cnts_need.append(cnt)"
   ]
  },
  {
   "cell_type": "code",
   "execution_count": 13,
   "metadata": {},
   "outputs": [
    {
     "data": {
      "text/plain": [
       "1"
      ]
     },
     "execution_count": 13,
     "metadata": {},
     "output_type": "execute_result"
    }
   ],
   "source": [
    "len(cnts_need)"
   ]
  },
  {
   "cell_type": "code",
   "execution_count": 14,
   "metadata": {},
   "outputs": [],
   "source": [
    "img = np.zeros((gray2.shape[0], gray2.shape[1]), np.uint8)\n",
    "mask = cv2.fillPoly(img, cnts_need, (255,255,255))\n",
    "res = cv2.bitwise_and(img2, img2, mask=mask2)\n",
    "show('Result', res)"
   ]
  },
  {
   "cell_type": "code",
   "execution_count": null,
   "metadata": {},
   "outputs": [],
   "source": [
    "# Filter file by ssim index:\n",
    "\n",
    "import os\n",
    "import cv2\n",
    "import shutil\n",
    "\n",
    "x_dir = '/media/commaai-03/Data/workdata/baodi/weighter/rs07'\n",
    "y_dir = '/media/commaai-03/Data/workdata/baodi/weighter/rs08'\n",
    "\n",
    "x_img = cv2.imread('/media/commaai-03/Data/workdata/baodi/background/rs07/1583477062.357019287.png')\n",
    "y_img = cv2.imread('/media/commaai-03/Data/workdata/baodi/background/rs08/1583477182.886167725.png')\n",
    "\n",
    "x_gray = cv2.cvtColor(x_img, cv2.COLOR_BGR2GRAY) \n",
    "y_gray = cv2.cvtColor(y_img, cv2.COLOR_BGR2GRAY)\n",
    "\n",
    "root_dir = '/media/commaai-03/Data/workdata/baodi/weighter/original/'\n",
    "\n",
    "filenames = os.listdir(root_dir)\n",
    "filenames = [x for x in filenames if os.path.isfile(os.path.join(root_dir, x))]\n",
    "images = [os.path.join(root_dir, x) for x in filenames]\n",
    "\n",
    "for image in images:\n",
    "    basename = os.path.basename(image)\n",
    "    compare_gray = cv2.cvtColor(cv2.imread(image), cv2.COLOR_BGR2GRAY)\n",
    "    ssim_x, _ = ssim(x_gray, compare_gray, full=True)\n",
    "    ssim_y, _ = ssim(y_gray, compare_gray, full=True)\n",
    "    \n",
    "    if ssim_x == ssim_y:\n",
    "        print('[Info]: SSIM index score is same. %s' % basename)\n",
    "    if ssim_x > ssim_y:\n",
    "        x_des = os.path.join(x_dir, basename)\n",
    "        shutil.move(image, x_des)\n",
    "        print('[Info]: Remove %s to X.' % basename)\n",
    "    else:\n",
    "        y_des = os.path.join(y_dir, basename)\n",
    "        shutil.move(image, y_des)\n",
    "        print('[Info]: Remove %s to Y.' % basename)"
   ]
  },
  {
   "cell_type": "markdown",
   "metadata": {},
   "source": [
    "#### CW-SSIM\n",
    "\n",
    "Given two sets of complex wavelet coefficients **c<sub>x</sub>** = {c<sub>x,i</sub> | i=1,...,M} and **c<sub>y</sub>** = {c<sub>y,i</sub> | i=1,...,M} extracted at the same spatial location in the same wavele subbands of the two images being compared, the local **CW-SSIM** index is defined as:\n",
    "\n",
    "$$\\widetilde{S}\\mathbf{(c_{x}, c_{y})} = \\frac{2\\left | \\sum_{i=1}^{M}c_x,i \\cdot c_{y}^{*},i   \\right | + K}{\\sum_{i=1}^{M}|c_x,i|^2 + \\sum_{i=1}^{M}|c_y,i|^2 +K}$$\n",
    "\n",
    "where c<sup>*</sup> denotes the complex conjugate of c, and K is a small positive stabilizing constant. The value of index ranges from 0 to 1, where 1 implies no structural distortion(but still could have small spatial shift).\n",
    "\n",
    "The global CW-SSIM index **$\\widetilde{S}$**(I<sub>x</sub>,I<sub>y</sub>) between two images I<sub>x</sub> and I<sub>y</sub> is calculated as the average of local CW-SSIM values computed with a sliding window running across the whole wavelet subband and then averaged over all subbands.\n",
    "\n",
    "$$\\widetilde{S}\\mathbf{(c_{x}, c_{y})} = \n",
    "\\frac{2 \\cdot \\sum_{i=1}^{N}|c_{x,i}|\\cdot |c_{y,i}| + K}{\\sum_{i=1}^{N}|c_{x,i}|^{2} + \\sum_{i=1}^{N}|c_{y,i}|^{2} + K} \\cdot \\frac{2|\\sum_{i=1}^{N}c_{x,i}c_{y,i}^{*}| + K}{2\\sum_{i=1}^{N}|c_{x,i}c_{y,i}^{*}| + K}$$"
   ]
  },
  {
   "cell_type": "code",
   "execution_count": null,
   "metadata": {},
   "outputs": [],
   "source": [
    "def cw_ssim(X, Y, win_size=30, K=0.01):\n",
    "    \n",
    "    import numpy as np\n",
    "    from scipy import signal\n",
    "    \n",
    "    if not X.dtype == Y.dtype:\n",
    "        raise ValueError('Input images must have the same dtype.')\n",
    "\n",
    "    if not X.shape == Y.shape:\n",
    "        raise ValueError('Input images must have the same dimensions.')\n",
    "    \n",
    "    # Get data as arrays.\n",
    "    X = X.astype(np.float64)\n",
    "    Y = Y.astype(np.float64)\n",
    "    \n",
    "    # Define a width for the wavelet convolution.\n",
    "    \n",
    "    widths = np.arange(1, win_size+1)\n",
    "    \n",
    "    # Convolution, cx, cy\n",
    "    cwtmatrX = signal.cwt(X, signal.ricker, widths)\n",
    "    cwtmatrY = signal.cwt(Y, signal.ricker, widths)\n",
    "    \n",
    "    cxcy = np.multiply(abs(cwtmatrX), abs(cwtmatrY))\n",
    "    cx_2 = np.square(abs(cwtmatrX))\n",
    "    cy_2 = np.square(abs(cwtmatrY))\n",
    "    \n",
    "    # The first term\n",
    "    num_cwssim_1 = 2 * np.sum(cxcy, axis=0) + K\n",
    "    den_cwssim_1 = np.sum(cx_2, axis=0) + np.sum(cy_2, axis=0) + K\n",
    "    \n",
    "    # The second term\n",
    "    cxcy_conj = np.multiply(cwtmatrX, np.conjugate(cwtmatrY))\n",
    "    num_cwssim_2 = 2 * np.abs(np.sum(cxcy_conj, axis=0)) + K\n",
    "    den_cwssim_2 = 2 * np.sum(np.abs(cxcy_conj), axis=0) + K\n",
    "    \n",
    "    cwssim_map = (num_cwssim_1 / den_cwssim_1) * (num_cwssim_2 / den_cwssim_2)\n",
    "    \n",
    "    # Average the per pixel results.\n",
    "    cw_ssim = np.average(cwssim_map)\n",
    "    \n",
    "    return cw_ssim, cwssim_map"
   ]
  },
  {
   "cell_type": "code",
   "execution_count": null,
   "metadata": {},
   "outputs": [],
   "source": [
    "gray_1 = gray1.reshape(-1,)\n",
    "gray_2 = gray2.reshape(-1,)\n",
    "\n",
    "score, diff = cw_ssim(gray_1, gray_2)"
   ]
  },
  {
   "cell_type": "code",
   "execution_count": null,
   "metadata": {},
   "outputs": [],
   "source": [
    "score"
   ]
  },
  {
   "cell_type": "code",
   "execution_count": null,
   "metadata": {},
   "outputs": [],
   "source": [
    "gray1.shape"
   ]
  },
  {
   "cell_type": "code",
   "execution_count": null,
   "metadata": {},
   "outputs": [],
   "source": [
    "diff = diff.reshape(240, 424)\n",
    "diff.shape"
   ]
  },
  {
   "cell_type": "code",
   "execution_count": null,
   "metadata": {},
   "outputs": [],
   "source": [
    "diff = (diff * 255).astype('uint8')\n",
    "cv2.imshow('Result', diff)\n",
    "k = cv2.waitKey(0)\n",
    "if k == 27 or k == ord('q'):\n",
    "    cv2.destroyAllWindows()"
   ]
  },
  {
   "cell_type": "code",
   "execution_count": null,
   "metadata": {},
   "outputs": [],
   "source": []
  }
 ],
 "metadata": {
  "kernelspec": {
   "display_name": "Python 3",
   "language": "python",
   "name": "python3"
  },
  "language_info": {
   "codemirror_mode": {
    "name": "ipython",
    "version": 3
   },
   "file_extension": ".py",
   "mimetype": "text/x-python",
   "name": "python",
   "nbconvert_exporter": "python",
   "pygments_lexer": "ipython3",
   "version": "3.6.9"
  },
  "varInspector": {
   "cols": {
    "lenName": 16,
    "lenType": 16,
    "lenVar": 40
   },
   "kernels_config": {
    "python": {
     "delete_cmd_postfix": "",
     "delete_cmd_prefix": "del ",
     "library": "var_list.py",
     "varRefreshCmd": "print(var_dic_list())"
    },
    "r": {
     "delete_cmd_postfix": ") ",
     "delete_cmd_prefix": "rm(",
     "library": "var_list.r",
     "varRefreshCmd": "cat(var_dic_list()) "
    }
   },
   "types_to_exclude": [
    "module",
    "function",
    "builtin_function_or_method",
    "instance",
    "_Feature"
   ],
   "window_display": false
  }
 },
 "nbformat": 4,
 "nbformat_minor": 2
}
