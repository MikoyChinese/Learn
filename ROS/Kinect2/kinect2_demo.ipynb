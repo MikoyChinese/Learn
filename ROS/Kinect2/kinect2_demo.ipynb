{
 "cells": [
  {
   "cell_type": "code",
   "execution_count": 1,
   "metadata": {},
   "outputs": [
    {
     "ename": "ModuleNotFoundError",
     "evalue": "No module named 'pylibfreenect2'",
     "output_type": "error",
     "traceback": [
      "\u001b[0;31m---------------------------------------------------------------------------\u001b[0m",
      "\u001b[0;31mModuleNotFoundError\u001b[0m                       Traceback (most recent call last)",
      "\u001b[0;32m<ipython-input-1-ab7ef4139aa6>\u001b[0m in \u001b[0;36m<module>\u001b[0;34m\u001b[0m\n\u001b[1;32m      2\u001b[0m \u001b[0;32mimport\u001b[0m \u001b[0mcv2\u001b[0m\u001b[0;34m\u001b[0m\u001b[0;34m\u001b[0m\u001b[0m\n\u001b[1;32m      3\u001b[0m \u001b[0;32mimport\u001b[0m \u001b[0msys\u001b[0m\u001b[0;34m\u001b[0m\u001b[0;34m\u001b[0m\u001b[0m\n\u001b[0;32m----> 4\u001b[0;31m \u001b[0;32mfrom\u001b[0m \u001b[0mpylibfreenect2\u001b[0m \u001b[0;32mimport\u001b[0m \u001b[0mFreenect2\u001b[0m\u001b[0;34m,\u001b[0m \u001b[0mSyncMultiFrameListener\u001b[0m\u001b[0;34m\u001b[0m\u001b[0;34m\u001b[0m\u001b[0m\n\u001b[0m\u001b[1;32m      5\u001b[0m \u001b[0;32mfrom\u001b[0m \u001b[0mpylibfreenect2\u001b[0m \u001b[0;32mimport\u001b[0m \u001b[0mFrameType\u001b[0m\u001b[0;34m,\u001b[0m \u001b[0mRegistration\u001b[0m\u001b[0;34m,\u001b[0m \u001b[0mFrame\u001b[0m\u001b[0;34m\u001b[0m\u001b[0;34m\u001b[0m\u001b[0m\n",
      "\u001b[0;31mModuleNotFoundError\u001b[0m: No module named 'pylibfreenect2'"
     ]
    }
   ],
   "source": [
    "import numpy as np\n",
    "import cv2\n",
    "import sys\n",
    "from pylibfreenect2 import Freenect2, SyncMultiFrameListener\n",
    "from pylibfreenect2 import FrameType, Registration, Frame"
   ]
  },
  {
   "cell_type": "code",
   "execution_count": null,
   "metadata": {},
   "outputs": [],
   "source": [
    "from pylibfreenect2 imoprt CudaPacketPipeline\n",
    "pipeline = CudaPacketPipeline()\n",
    "print(\"Packet pipeline:\", type(pipeline).__name__)"
   ]
  },
  {
   "cell_type": "code",
   "execution_count": null,
   "metadata": {},
   "outputs": [],
   "source": [
    "enable_rgb = True\n",
    "enable_depth = True\n",
    "\n",
    "fn = Freenect2()\n",
    "num_devices = fn.enumerateDevices()\n",
    "if num_devices == 0:\n",
    "    print(\"No device connected!\")\n",
    "    sys.exit(1)\n",
    "\n",
    "serial = fn.getDeviceSerialNumber(0)\n",
    "device = fn.openDevice(serial, pipeline=pipeline)\n",
    "\n",
    "types = 0\n",
    "if enable_rgb:\n",
    "    types |= FrameType.Color\n",
    "if enable_depth:\n",
    "    types |= (FrameType.Ir | FrameType.Depth)\n",
    "listener = SyncMultiFrameListener(types)\n",
    "\n",
    "# Register listeners\n",
    "device.setColorFrameListener(listener)\n",
    "device.setIrAndDepthFrameListener(listener)\n",
    "\n",
    "if enable_rgb and enable_depth:\n",
    "    device.start()\n",
    "else:\n",
    "    device.startStreams(rgb=enable_rgb, depth=enable_depth)\n",
    "\n",
    "# NOTE: must be called after device.start()\n",
    "if enable_depth:\n",
    "    registration = Registration(device.getIrCameraParams(),\n",
    "                                device.getColorCameraParams())\n",
    "\n",
    "undistorted = Frame(512, 424, 4)\n",
    "registered = Frame(512, 424, 4)"
   ]
  }
 ],
 "metadata": {
  "kernelspec": {
   "display_name": "Python 3",
   "language": "python",
   "name": "python3"
  },
  "language_info": {
   "codemirror_mode": {
    "name": "ipython",
    "version": 3
   },
   "file_extension": ".py",
   "mimetype": "text/x-python",
   "name": "python",
   "nbconvert_exporter": "python",
   "pygments_lexer": "ipython3",
   "version": "3.6.9"
  },
  "varInspector": {
   "cols": {
    "lenName": 16,
    "lenType": 16,
    "lenVar": 40
   },
   "kernels_config": {
    "python": {
     "delete_cmd_postfix": "",
     "delete_cmd_prefix": "del ",
     "library": "var_list.py",
     "varRefreshCmd": "print(var_dic_list())"
    },
    "r": {
     "delete_cmd_postfix": ") ",
     "delete_cmd_prefix": "rm(",
     "library": "var_list.r",
     "varRefreshCmd": "cat(var_dic_list()) "
    }
   },
   "types_to_exclude": [
    "module",
    "function",
    "builtin_function_or_method",
    "instance",
    "_Feature"
   ],
   "window_display": false
  }
 },
 "nbformat": 4,
 "nbformat_minor": 4
}
