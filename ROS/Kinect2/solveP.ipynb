{
 "cells": [
  {
   "cell_type": "code",
   "execution_count": 1,
   "metadata": {},
   "outputs": [],
   "source": [
    "import cv2\n",
    "import glob\n",
    "import numpy as np"
   ]
  },
  {
   "cell_type": "code",
   "execution_count": 2,
   "metadata": {},
   "outputs": [],
   "source": [
    "?np.mgrid"
   ]
  },
  {
   "cell_type": "code",
   "execution_count": 3,
   "metadata": {},
   "outputs": [],
   "source": [
    "column, row = 4, 5\n",
    "objp = np.zeros(shape=(column*row, 3), dtype=np.float32)\n",
    "objp[:, :2] = np.mgrid[0:row, 0:column].T.reshape(-1, 2)"
   ]
  },
  {
   "cell_type": "code",
   "execution_count": 4,
   "metadata": {},
   "outputs": [],
   "source": [
    "objps = []\n",
    "imgps = []"
   ]
  },
  {
   "cell_type": "code",
   "execution_count": 5,
   "metadata": {},
   "outputs": [],
   "source": [
    "pic_dir = '/media/commaai-03/Data/tmp2/calibrationdata'"
   ]
  },
  {
   "cell_type": "code",
   "execution_count": 6,
   "metadata": {},
   "outputs": [],
   "source": [
    "for img in glob.glob(pic_dir + '/*.png'):\n",
    "    im = cv2.imread(img, cv2.IMREAD_GRAYSCALE)\n",
    "    pattern_found, corners = cv2.findChessboardCorners(im, \n",
    "                                                       (row, column))\n",
    "    if pattern_found:\n",
    "        objps.append(objp)\n",
    "        imgps.append(corners)\n"
   ]
  },
  {
   "cell_type": "code",
   "execution_count": 11,
   "metadata": {},
   "outputs": [
    {
     "name": "stdout",
     "output_type": "stream",
     "text": [
      "[[0. 0. 0.]\n",
      " [1. 0. 0.]\n",
      " [2. 0. 0.]\n",
      " [3. 0. 0.]\n",
      " [4. 0. 0.]\n",
      " [0. 1. 0.]\n",
      " [1. 1. 0.]\n",
      " [2. 1. 0.]\n",
      " [3. 1. 0.]\n",
      " [4. 1. 0.]\n",
      " [0. 2. 0.]\n",
      " [1. 2. 0.]\n",
      " [2. 2. 0.]\n",
      " [3. 2. 0.]\n",
      " [4. 2. 0.]\n",
      " [0. 3. 0.]\n",
      " [1. 3. 0.]\n",
      " [2. 3. 0.]\n",
      " [3. 3. 0.]\n",
      " [4. 3. 0.]]\n"
     ]
    },
    {
     "data": {
      "text/plain": [
       "array([[[143.      , 175.      ]],\n",
       "\n",
       "       [[136.5     , 153.      ]],\n",
       "\n",
       "       [[131.5388  , 129.20465 ]],\n",
       "\n",
       "       [[120.97319 , 104.76247 ]],\n",
       "\n",
       "       [[115.38538 ,  79.41136 ]],\n",
       "\n",
       "       [[167.45128 , 173.69576 ]],\n",
       "\n",
       "       [[160.64548 , 150.40016 ]],\n",
       "\n",
       "       [[153.95816 , 128.44814 ]],\n",
       "\n",
       "       [[147.23663 , 103.25036 ]],\n",
       "\n",
       "       [[139.4187  ,  78.478134]],\n",
       "\n",
       "       [[189.9117  , 170.63808 ]],\n",
       "\n",
       "       [[183.09372 , 148.68768 ]],\n",
       "\n",
       "       [[176.49828 , 126.655266]],\n",
       "\n",
       "       [[171.55902 , 102.72516 ]],\n",
       "\n",
       "       [[164.5076  ,  74.280815]],\n",
       "\n",
       "       [[212.64047 , 169.42302 ]],\n",
       "\n",
       "       [[206.76158 , 146.71643 ]],\n",
       "\n",
       "       [[201.18282 , 123.40666 ]],\n",
       "\n",
       "       [[195.4485  ,  97.27209 ]],\n",
       "\n",
       "       [[189.      ,  73.5     ]]], dtype=float32)"
      ]
     },
     "execution_count": 11,
     "metadata": {},
     "output_type": "execute_result"
    }
   ],
   "source": [
    "print(objps[0])\n",
    "imgps[0]"
   ]
  },
  {
   "cell_type": "code",
   "execution_count": 12,
   "metadata": {},
   "outputs": [],
   "source": [
    "matrix_init = np.zeros((3, 3), np.float32)\n",
    "matrix_init[0][0] = 310.940583445\n",
    "matrix_init[0][2] = 320.0\n",
    "matrix_init[1][1] = 310.940583445\n",
    "matrix_init[1][2] = 320.0\n",
    "matrix_init[2][2] = 1.0"
   ]
  },
  {
   "cell_type": "code",
   "execution_count": 13,
   "metadata": {},
   "outputs": [],
   "source": [
    "pattern_found, K, D, rvecs, tvecs = cv2.calibrateCamera(objps, \n",
    "                                                        imgps,\n",
    "                                                        im.shape[::-1],\n",
    "                                                        matrix_init,\n",
    "                                                        None,\n",
    "                                                        flags=1+8+16384)"
   ]
  },
  {
   "cell_type": "code",
   "execution_count": null,
   "metadata": {},
   "outputs": [],
   "source": [
    "im.shape[::-1]"
   ]
  },
  {
   "cell_type": "code",
   "execution_count": 14,
   "metadata": {},
   "outputs": [
    {
     "data": {
      "text/plain": [
       "array([[508.25338381,   0.        , 342.75658344],\n",
       "       [  0.        , 506.64650779, 237.4152401 ],\n",
       "       [  0.        ,   0.        ,   1.        ]])"
      ]
     },
     "execution_count": 14,
     "metadata": {},
     "output_type": "execute_result"
    }
   ],
   "source": [
    "K"
   ]
  },
  {
   "cell_type": "code",
   "execution_count": 15,
   "metadata": {},
   "outputs": [
    {
     "data": {
      "text/plain": [
       "array([[  4.21419293, -39.42400852,   0.        ,   0.        ,\n",
       "         61.8680341 ,   4.15997269, -39.17858003,  61.57940946,\n",
       "          0.        ,   0.        ,   0.        ,   0.        ,\n",
       "          0.        ,   0.        ]])"
      ]
     },
     "execution_count": 15,
     "metadata": {},
     "output_type": "execute_result"
    }
   ],
   "source": [
    "D"
   ]
  },
  {
   "cell_type": "markdown",
   "metadata": {},
   "source": [
    "### Extrinsic"
   ]
  },
  {
   "cell_type": "code",
   "execution_count": 16,
   "metadata": {},
   "outputs": [],
   "source": [
    "import json"
   ]
  },
  {
   "cell_type": "code",
   "execution_count": 17,
   "metadata": {},
   "outputs": [],
   "source": [
    "json_file = '/media/commaai-03/Data/tmp2/c1226/bg/c0.json'\n",
    "bg = '/media/commaai-03/Data/tmp2/c1226/bg/c0.jpg'\n",
    "\n",
    "with open(json_file, 'r') as f:\n",
    "    c0_info = json.load(f, encoding='utf-8')"
   ]
  },
  {
   "cell_type": "code",
   "execution_count": 18,
   "metadata": {},
   "outputs": [],
   "source": [
    "_objPoints = {}\n",
    "for i in range(5):\n",
    "    for j in range(5):\n",
    "        #\n",
    "        label1 = 'p%d-p%d'%(i,j)\n",
    "        label2 = 'p%d-n%d'%(i,j)\n",
    "        label3 = 'n%d-p%d'%(i,j)\n",
    "        label4 = 'n%d-n%d'%(i,j)\n",
    "        #\n",
    "        _objPoints[label1] = [i*0.5, j*0.5, 0]\n",
    "        _objPoints[label2] = [i*0.5, -j*0.5, 0]\n",
    "        _objPoints[label3] = [-i*0.5, j*0.5, 0]\n",
    "        _objPoints[label4] = [-i*0.5, -j*0.5, 0]"
   ]
  },
  {
   "cell_type": "code",
   "execution_count": 19,
   "metadata": {},
   "outputs": [
    {
     "data": {
      "text/plain": [
       "[('n3-p3', [-1.5, 1.5, 0]),\n",
       " ('n3-p2', [-1.5, 1.0, 0]),\n",
       " ('n3-p1', [-1.5, 0.5, 0]),\n",
       " ('n3-p0', [-1.5, 0.0, 0]),\n",
       " ('n3-p4', [-1.5, 2.0, 0])]"
      ]
     },
     "execution_count": 19,
     "metadata": {},
     "output_type": "execute_result"
    }
   ],
   "source": [
    "_objPoints.items()[:5]"
   ]
  },
  {
   "cell_type": "code",
   "execution_count": 20,
   "metadata": {},
   "outputs": [
    {
     "data": {
      "text/plain": [
       "[u'imagePath',\n",
       " u'imageData',\n",
       " u'shapes',\n",
       " u'version',\n",
       " u'flags',\n",
       " u'fillColor',\n",
       " u'lineColor',\n",
       " u'imageWidth',\n",
       " u'imageHeight']"
      ]
     },
     "execution_count": 20,
     "metadata": {},
     "output_type": "execute_result"
    }
   ],
   "source": [
    "c0_info.keys()"
   ]
  },
  {
   "cell_type": "code",
   "execution_count": 21,
   "metadata": {},
   "outputs": [],
   "source": [
    "objps = []\n",
    "imgps = []\n",
    "for shape in c0_info['shapes']:\n",
    "    point = shape['points'][0]\n",
    "    objP = _objPoints[shape['label']]\n",
    "    imgps.append(point)\n",
    "    objps.append(objP)"
   ]
  },
  {
   "cell_type": "code",
   "execution_count": 23,
   "metadata": {},
   "outputs": [],
   "source": [
    "imgps = np.array(imgps, dtype=np.float32)\n",
    "objps = np.array(objps, dtype=np.float32)"
   ]
  },
  {
   "cell_type": "code",
   "execution_count": 45,
   "metadata": {},
   "outputs": [],
   "source": [
    "ret, rvec, tvec, inliers \\\n",
    "    = cv2.solvePnPRansac(objps, \n",
    "                         imgps, \n",
    "                         K, \n",
    "                         D)"
   ]
  },
  {
   "cell_type": "code",
   "execution_count": 46,
   "metadata": {},
   "outputs": [
    {
     "data": {
      "text/plain": [
       "array([[ 2.19221672],\n",
       "       [ 2.14301657],\n",
       "       [-0.15368367]])"
      ]
     },
     "execution_count": 46,
     "metadata": {},
     "output_type": "execute_result"
    }
   ],
   "source": [
    "rvec"
   ]
  },
  {
   "cell_type": "code",
   "execution_count": 47,
   "metadata": {},
   "outputs": [
    {
     "data": {
      "text/plain": [
       "array([[-0.47887079],\n",
       "       [-0.96232791],\n",
       "       [ 3.07350631]])"
      ]
     },
     "execution_count": 47,
     "metadata": {},
     "output_type": "execute_result"
    }
   ],
   "source": [
    "tvec"
   ]
  },
  {
   "cell_type": "code",
   "execution_count": 124,
   "metadata": {},
   "outputs": [
    {
     "data": {
      "text/plain": [
       "array([[ 0.02140315,  0.99954723, -0.02114796],\n",
       "       [ 0.99233646, -0.02381407, -0.12124869],\n",
       "       [-0.12169741, -0.01839079, -0.99239686]])"
      ]
     },
     "execution_count": 124,
     "metadata": {},
     "output_type": "execute_result"
    }
   ],
   "source": [
    "dst, jac = cv2.Rodrigues(rvec)"
   ]
  },
  {
   "cell_type": "code",
   "execution_count": 116,
   "metadata": {},
   "outputs": [],
   "source": [
    "o = np.float32([[1.0, 0.5, 0]]).reshape(-1,3)\n",
    "imgpts, jac = cv2.projectPoints(o, rvec, tvec, K, D)\n",
    "x, y = int(tuple(imgpts[0].ravel())[0]), int(tuple(imgpts[0].ravel())[1])\n",
    "_img = cv2.imread(bg)\n",
    "p_img = cv2.circle(_img, (x, y), 3, (0,0,255), -1)\n",
    "while 1:\n",
    "    cv2.imshow('P', p_img)\n",
    "    k = cv2.waitKey(1)\n",
    "    if k == 27:\n",
    "        cv2.destroyAllWindows()\n",
    "        break"
   ]
  }
 ],
 "metadata": {
  "kernelspec": {
   "display_name": "Python 2",
   "language": "python",
   "name": "python2"
  },
  "language_info": {
   "codemirror_mode": {
    "name": "ipython",
    "version": 2
   },
   "file_extension": ".py",
   "mimetype": "text/x-python",
   "name": "python",
   "nbconvert_exporter": "python",
   "pygments_lexer": "ipython2",
   "version": "2.7.15+"
  },
  "varInspector": {
   "cols": {
    "lenName": 16,
    "lenType": 16,
    "lenVar": 40
   },
   "kernels_config": {
    "python": {
     "delete_cmd_postfix": "",
     "delete_cmd_prefix": "del ",
     "library": "var_list.py",
     "varRefreshCmd": "print(var_dic_list())"
    },
    "r": {
     "delete_cmd_postfix": ") ",
     "delete_cmd_prefix": "rm(",
     "library": "var_list.r",
     "varRefreshCmd": "cat(var_dic_list()) "
    }
   },
   "types_to_exclude": [
    "module",
    "function",
    "builtin_function_or_method",
    "instance",
    "_Feature"
   ],
   "window_display": false
  }
 },
 "nbformat": 4,
 "nbformat_minor": 2
}
