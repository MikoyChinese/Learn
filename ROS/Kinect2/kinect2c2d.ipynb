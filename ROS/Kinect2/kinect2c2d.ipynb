{
 "cells": [
  {
   "cell_type": "code",
   "execution_count": 1,
   "metadata": {},
   "outputs": [],
   "source": [
    "from pylibfreenect2 import Freenect2, SyncMultiFrameListener\n",
    "from pylibfreenect2 import FrameType, Registration, Frame\n",
    "from pylibfreenect2 import CpuPacketPipeline"
   ]
  },
  {
   "cell_type": "code",
   "execution_count": 2,
   "metadata": {},
   "outputs": [],
   "source": [
    "dp = {'cx': 253.314697265625,\n",
    " 'cy': 207.460693359375,\n",
    " 'fx': 365.63720703125,\n",
    " 'fy': 365.63720703125,\n",
    " 'k1': 0.09617280960083008,\n",
    " 'k2': -0.2692984938621521,\n",
    " 'k3': 0.08770948648452759,\n",
    " 'p1': 0.0,\n",
    " 'p2': 0.0}\n",
    "\n",
    "rp = {'cx': 959.5,\n",
    " 'cy': 539.5,\n",
    " 'fx': 1081.3720703125,\n",
    " 'fy': 1081.3720703125,\n",
    " 'mx_x0y0': 0.1461970955133438,\n",
    " 'mx_x0y1': 0.003376332111656666,\n",
    " 'mx_x0y2': 0.0001174572971649468,\n",
    " 'mx_x0y3': 4.1423638322157785e-05,\n",
    " 'mx_x1y0': 0.6362712979316711,\n",
    " 'mx_x1y1': -6.082074833102524e-06,\n",
    " 'mx_x1y2': 0.0003575267910491675,\n",
    " 'mx_x2y0': 0.00016135470650624484,\n",
    " 'mx_x2y1': 2.191878047597129e-05,\n",
    " 'mx_x3y0': 0.0005048222956247628,\n",
    " 'my_x0y0': 0.005415176972746849,\n",
    " 'my_x0y1': 0.6362615823745728,\n",
    " 'my_x0y2': -9.692917228676379e-05,\n",
    " 'my_x0y3': 0.0006501250900328159,\n",
    " 'my_x1y0': -0.0037287920713424683,\n",
    " 'my_x1y1': 3.459840081632137e-05,\n",
    " 'my_x1y2': 2.968754961329978e-05,\n",
    " 'my_x2y0': -0.00010923569789156318,\n",
    " 'my_x2y1': 0.00040543320938013494,\n",
    " 'my_x3y0': -8.966947007138515e-07,\n",
    " 'shift_d': 863.0,\n",
    " 'shift_m': 52.0}\n",
    "\n",
    "from easydict import EasyDict\n",
    "\n",
    "depth_p = EasyDict(dp)\n",
    "rgb_p = EasyDict(rp)"
   ]
  },
  {
   "cell_type": "code",
   "execution_count": null,
   "metadata": {},
   "outputs": [],
   "source": [
    "pipeline = CpuPacketPipeline()\n",
    "fn = Freenect2()"
   ]
  },
  {
   "cell_type": "code",
   "execution_count": null,
   "metadata": {},
   "outputs": [],
   "source": [
    "device = fn.openDefaultDevice(pipeline=pipeline)"
   ]
  },
  {
   "cell_type": "code",
   "execution_count": null,
   "metadata": {},
   "outputs": [],
   "source": [
    "def distort(mx, my, depth_p):\n",
    "    \n",
    "    dx = (float(mx) - depth_p.cx) / depth_p.fx;\n",
    "    dy = (float(my) - depth_p.cy) / depth_p.fy;\n",
    "    dx2 = dx * dx;\n",
    "    dy2 = dy * dy;\n",
    "    r2 = dx2 + dy2;\n",
    "    dxdy2 = 2 * dx * dy;\n",
    "    kr = 1 + ((depth_p.k3 * r2 + depth_p.k2) * r2 + depth_p.k1) * r2;\n",
    "    x = depth_p.fx * (dx * kr + depth_p.p2 * (r2 + 2 * dx2) + depth_p.p1 * dxdy2) + depth_p.cx;\n",
    "    y = depth_p.fy * (dy * kr + depth_p.p1 * (r2 + 2 * dy2) + depth_p.p2 * dxdy2) + depth_p.cy;\n",
    "    \n",
    "    return x, y\n",
    "\n",
    "depth_q = 0.01\n",
    "color_q = 0.002199\n",
    "\n",
    "def depth_to_color(mx, my, depth_p, rgb_p):\n",
    "    mx = (mx - depth_p.cx) * depth_q\n",
    "    my = (my - depth_p.cy) * depth_q\n",
    "\n",
    "    wx = (mx * mx * mx * rgb_p.mx_x3y0) + (my * my * my * rgb_p.mx_x0y3) + \\\n",
    "    (mx * mx * my * rgb_p.mx_x2y1) + (my * my * mx * rgb_p.mx_x1y2) + \\\n",
    "    (mx * mx * rgb_p.mx_x2y0) + (my * my * rgb_p.mx_x0y2) + (mx * my * rgb_p.mx_x1y1) + \\\n",
    "    (mx * rgb_p.mx_x1y0) + (my * rgb_p.mx_x0y1) + (rgb_p.mx_x0y0)\n",
    "\n",
    "    wy = (mx * mx * mx * rgb_p.my_x3y0) + (my * my * my * rgb_p.my_x0y3) + \\\n",
    "    (mx * mx * my * rgb_p.my_x2y1) + (my * my * mx * rgb_p.my_x1y2) + \\\n",
    "    (mx * mx * rgb_p.my_x2y0) + (my * my * rgb_p.my_x0y2) + (mx * my * rgb_p.my_x1y1) + \\\n",
    "    (mx * rgb_p.my_x1y0) + (my * rgb_p.my_x0y1) + (rgb_p.my_x0y0)\n",
    "\n",
    "    rx = (wx / (rgb_p.fx * color_q)) - (rgb_p.shift_m / rgb_p.shift_d)\n",
    "    ry = (wy / color_q) + rgb_p.cy\n",
    "    \n",
    "    return rx, ry\n",
    "\n",
    "def getRegistrationMap(depth_p, rgb_p):\n",
    "    import numpy as np\n",
    "    distort_map = np.empty((512 * 424))\n",
    "    depth_to_color_map_x = np.empty((512 * 424))\n",
    "    depth_to_color_map_y = np.empty((512 * 424))\n",
    "    depth_to_color_map_yi = np.empty((512 * 424))\n",
    "    \n",
    "    for y in range(424):\n",
    "        for x in range(512):\n",
    "            index = y * 512 + x\n",
    "            mx, my = distort(x, y, depth_p)\n",
    "            ix = int(round(mx))\n",
    "            iy = int(round(my))\n",
    "            if (ix < 0 or ix >= 512 or iy < 0 or iy >= 424):\n",
    "                distort_index = -1\n",
    "            else:\n",
    "                distort_index = iy * 512 + ix\n",
    "            \n",
    "            distort_map[index] = distort_index\n",
    "            \n",
    "            rx, ry = depth_to_color(x, y, depth_p, rgb_p)\n",
    "            depth_to_color_map_x[index] = rx\n",
    "            depth_to_color_map_y[index] = ry\n",
    "            depth_to_color_map_yi[index] = int(round(ry))\n",
    "    \n",
    "    map_dist = distort_map\n",
    "    map_x = depth_to_color_map_x\n",
    "    map_y = depth_to_color_map_y\n",
    "    map_yi = depth_to_color_map_yi\n",
    "    \n",
    "    return map_dist, map_x, map_y, map_yi"
   ]
  },
  {
   "cell_type": "code",
   "execution_count": null,
   "metadata": {},
   "outputs": [],
   "source": [
    "depth_p = device.getIrCameraParams()\n",
    "rgb_p = device.getColorCameraParams()"
   ]
  },
  {
   "cell_type": "code",
   "execution_count": 3,
   "metadata": {},
   "outputs": [],
   "source": [
    "import numpy as np\n",
    "import os"
   ]
  },
  {
   "cell_type": "code",
   "execution_count": 10,
   "metadata": {},
   "outputs": [],
   "source": [
    "map_dir = '/home/commaai-03/Test/tmp'\n",
    "map_list = [os.path.join(map_dir, 'map%d.txt' % i) for i in range(1, 5)]\n",
    "\n",
    "map1 = np.loadtxt(map_list[0])\n",
    "map2 = np.loadtxt(map_list[1])\n",
    "map3 = np.loadtxt(map_list[2])\n",
    "map4 = np.loadtxt(map_list[3])"
   ]
  },
  {
   "cell_type": "code",
   "execution_count": 5,
   "metadata": {},
   "outputs": [],
   "source": [
    "tmp_reshape = lambda mapx: np.reshape(mapx, (424, 512))\n",
    "map1 = tmp_reshape(map1)\n",
    "map2 = tmp_reshape(map2)\n",
    "map3 = tmp_reshape(map3)\n",
    "map4 = tmp_reshape(map4)"
   ]
  },
  {
   "cell_type": "code",
   "execution_count": null,
   "metadata": {},
   "outputs": [],
   "source": [
    "map2"
   ]
  },
  {
   "cell_type": "code",
   "execution_count": null,
   "metadata": {},
   "outputs": [],
   "source": [
    "map3"
   ]
  },
  {
   "cell_type": "code",
   "execution_count": null,
   "metadata": {},
   "outputs": [],
   "source": [
    "map4"
   ]
  },
  {
   "cell_type": "code",
   "execution_count": 6,
   "metadata": {},
   "outputs": [],
   "source": [
    "import cv2\n",
    "\n",
    "color = '/home/commaai-03/Test/tmp/data/1589877210.962524156.png'\n",
    "depth = '/home/commaai-03/Test/tmp/data/1589877210.962524156_.png'\n",
    "\n",
    "color = cv2.imread(color)\n",
    "depth = cv2.imread(depth, cv2.IMREAD_ANYDEPTH)"
   ]
  },
  {
   "cell_type": "code",
   "execution_count": 7,
   "metadata": {},
   "outputs": [],
   "source": [
    "depth_flatten = depth.flatten()\n",
    "color_flatten = color.reshape(-1, 3)"
   ]
  },
  {
   "cell_type": "code",
   "execution_count": null,
   "metadata": {},
   "outputs": [],
   "source": [
    "color_flatten.shape"
   ]
  },
  {
   "cell_type": "code",
   "execution_count": 8,
   "metadata": {},
   "outputs": [],
   "source": [
    "size_depth = 512 * 424\n",
    "size_color = 1920 * 1080\n",
    "color_cx = rgb_p.cx + 0.5\n",
    "\n",
    "depth_to_c_off = np.empty((size_depth))\n",
    "map_c_off = depth_to_c_off\n",
    "\n",
    "# Filter\n",
    "filter_map = np.empty((size_color + 1920 * 2))\n",
    "p_filter_map = filter_map"
   ]
  },
  {
   "cell_type": "code",
   "execution_count": 11,
   "metadata": {},
   "outputs": [],
   "source": [
    "for i in range(size_depth):\n",
    "    index = int(map1[i])\n",
    "    if index < 0:\n",
    "        map_c_off[i] = -1\n",
    "        continue\n",
    "    z = depth_flatten[index]\n",
    "    \n",
    "    if z <= 0.:\n",
    "        map_c_off[i] = -1\n",
    "        continue\n",
    "    rx = (map2[i] + (rgb_p.shift_m / z)) * rgb_p.fx + rgb_p.cx\n",
    "    cx = rx\n",
    "    cy = map4[i]\n",
    "    c_off = cx + cy * 1920\n",
    "    \n",
    "    if c_off < 0 or c_off >= size_color:\n",
    "        map_c_off[i] = -1\n",
    "        continue\n",
    "    \n",
    "    map_c_off[i] = c_off"
   ]
  },
  {
   "cell_type": "code",
   "execution_count": 12,
   "metadata": {},
   "outputs": [
    {
     "data": {
      "text/plain": [
       "array([32961.12415108, 32963.94928836, 32966.48193171, 32969.07424988,\n",
       "       32972.24163964, 32975.35851219, 32978.29029593, 32981.16880174,\n",
       "       32983.94192218, 32986.63812745, 32989.90862858, 32992.97127539,\n",
       "       32995.66369191, 32998.46266676, 33001.3660438 , 33004.2951711 ,\n",
       "       33007.14610254, 33010.10058857, 33012.84805428, 33015.95683762,\n",
       "       33018.91050648, 33021.760123  , 33024.53260395, 33027.45946361,\n",
       "       33030.38604602, 33033.36376548, 33036.26407366, 33039.21555641,\n",
       "       33042.03835648, 33045.11781262, 33048.04276042, 33050.96744061,\n",
       "       33053.78888938, 33056.63617909, 33059.40727507, 33062.33089858,\n",
       "       33065.22891606, 33068.17736479, 33071.27858511, 33074.17558876,\n",
       "       33077.09792241, 33079.84186729, 33082.9674148 , 33085.76140909,\n",
       "       33088.63194277, 33091.50236439, 33094.42319566, 33097.26805075,\n",
       "       33100.01286473, 33102.95793847, 33105.82787885, 33108.69771192,\n",
       "       33111.56743854, 33114.36302508, 33117.23273712, 33120.05341055,\n",
       "       33122.85007583, 33125.62320683, 33128.30190631, 33130.98346816,\n",
       "       33133.73746511, 33136.46966904, 33139.02218619, 33141.67042915,\n",
       "       33144.43222993, 33147.30464511, 33150.33099773, 33153.40236633,\n",
       "       33156.47489441, 33159.39042596, 33162.30574361, 33164.99729784,\n",
       "       33167.58208537, 33170.34482103, 33173.02316709, 33175.78882986,\n",
       "       33178.61854663, 33181.44847085, 33184.38307219, 33187.27558152,\n",
       "       33190.37826847, 33193.39747115, 33196.50304928])"
      ]
     },
     "execution_count": 12,
     "metadata": {},
     "output_type": "execute_result"
    }
   ],
   "source": [
    "map_c_off[13333: 13416]"
   ]
  },
  {
   "cell_type": "code",
   "execution_count": 13,
   "metadata": {},
   "outputs": [],
   "source": [
    "registered_data = []\n",
    "\n",
    "for i in range(size_depth):\n",
    "    c_off = int(map_c_off[i])\n",
    "    if c_off >= 0:\n",
    "        registered_data.append(color_flatten[c_off])\n",
    "    else:\n",
    "        registered_data.append([0,0,0])"
   ]
  },
  {
   "cell_type": "code",
   "execution_count": 14,
   "metadata": {},
   "outputs": [],
   "source": [
    "registered_data = np.asarray(registered_data)"
   ]
  },
  {
   "cell_type": "code",
   "execution_count": 15,
   "metadata": {},
   "outputs": [],
   "source": [
    "registered_data = registered_data.reshape(424, 512, 3)"
   ]
  },
  {
   "cell_type": "code",
   "execution_count": 16,
   "metadata": {},
   "outputs": [],
   "source": [
    "import cv2\n",
    "\n",
    "img = registered_data.astype(np.uint8)\n",
    "\n",
    "#cv2.imshow('Test', img)\n",
    "#k = cv2.waitKey()"
   ]
  },
  {
   "cell_type": "code",
   "execution_count": 17,
   "metadata": {},
   "outputs": [
    {
     "data": {
      "text/plain": [
       "True"
      ]
     },
     "execution_count": 17,
     "metadata": {},
     "output_type": "execute_result"
    }
   ],
   "source": [
    "cv2.imwrite('/home/commaai-03/Test/tmp/data/test.png', img)"
   ]
  },
  {
   "cell_type": "code",
   "execution_count": null,
   "metadata": {},
   "outputs": [],
   "source": [
    "registered_data"
   ]
  },
  {
   "cell_type": "code",
   "execution_count": null,
   "metadata": {},
   "outputs": [],
   "source": [
    "def distort(x, y, intrinsic, method=0):\n",
    "    '''Undistortion Image(depth).\n",
    "    method:\n",
    "    0: DISTORTION_INVERSE_BROWN_CONRADY\n",
    "    1: DISTORTION_KANNALA_BRANDT4\n",
    "    2: DISTORTION_FTHETA\n",
    "    '''\n",
    "    k1, k2, p1, p2, k3 = [intrinsic.k1,\n",
    "                          intrinsic.k2,\n",
    "                          intrinsic.p1,\n",
    "                          intrinsic.p2,\n",
    "                          intrinsic.k3]\n",
    "    \n",
    "    if type(method) == str:\n",
    "        method = method.upper()\n",
    "    if method == 'DISTORTION_INVERSE_BROWN_CONRADY' or method == 0:\n",
    "        r2 = x * x + y * y\n",
    "        f = 1 + k1 * r2 + k2 * r2 ** 2 + k3 * r2 ** 3\n",
    "        ux = x * f + 2 * p1 * x * y + p2 * (r2 + 2 * x * x)\n",
    "        uy = y * f + 2 * p2 * x * y + p1 * (r2 + 2 * y * y)\n",
    "        return ux, uy\n",
    "    if method == 'DISTORTION_KANNALA_BRANDT4' or method == 1:\n",
    "        import math, sys\n",
    "        rd = math.sqrt(x * x + y * y)\n",
    "        eps = sys.float_info.epsilon\n",
    "        # Avoid rd == 0\n",
    "        if rd < eps:\n",
    "            rd = eps\n",
    "        theta = rd\n",
    "        theta2 = rd * rd\n",
    "        for i in range(4):\n",
    "            f = theta * (1 + theta2 * (k1 + theta2 * (k2 + theta2 * (p1 + theta2 * p2)))) - rd\n",
    "            if abs(f) < eps:\n",
    "                break\n",
    "            df = 1 + theta2 * (3 * k1 + theta2 * (5 * k2 + theta2 * (7 * p1 + 9 * theta2 * p2)))\n",
    "            theta -= f / df\n",
    "            theta2 = theta * theta\n",
    "        \n",
    "        r = math.tan(theta)\n",
    "        x *= r / rd\n",
    "        y *= r / rd\n",
    "        ux, uy = x, y\n",
    "        return ux, uy\n",
    "    if method == 'DISTORTION_FTHETA' or method == 2:\n",
    "        import math, sys\n",
    "        rd = math.sqrt(x * x + y * y)\n",
    "        eps = sys.float_info.epsilon\n",
    "        # Avoid rd == 0\n",
    "        if rd < eps:\n",
    "            rd = eps\n",
    "        r = math.tan(k1 * rd) / math.atan(2 * math.tan(k1 / 2.0))\n",
    "        x *= r / rd\n",
    "        y *= r / rd\n",
    "        ux, uy = x, y\n",
    "        return ux, uy\n",
    "\n",
    "def deproject_pixel_to_point(pixel, depth, intrinsic, undistort=False):\n",
    "    '''Calculate pixel and depth with no distortion\n",
    "    to 3D coordinate of this camera's view.\n",
    "    Args:\n",
    "    ------\n",
    "    intrinsic: camera intrinsic.\n",
    "    pixel: pixel coordinate on depth.\n",
    "    depth: the depth value of the pixel coordinate.\n",
    "    '''\n",
    "    \n",
    "    x = (pixel[0] - intrinsic.ppx) / intrinsic.fx\n",
    "    y = (pixel[1] - intrinsic.ppy) / intrinsic.fy\n",
    "    ux, uy = x, y\n",
    "    if undistort:\n",
    "        ux, uy = distort(x, y, intrinsic, method=0)\n",
    "    point = np.empty(3)\n",
    "    point[0] = depth * ux\n",
    "    point[1] = depth * uy\n",
    "    point[2] = depth\n",
    "    \n",
    "    return point\n",
    "\n",
    "def transform_p2p(from_point, rotation=None, translation=None, extrinsic=None):\n",
    "    '''Transform 3D coordinates to other coordinate.\n",
    "    Args:\n",
    "    ------\n",
    "    from_point: ndarray, (3,)\n",
    "    rotation: ndarray, (3, 3)\n",
    "    translation: ndarray, (3,)\n",
    "    extrinsic(optional): include rotation, translation.\n",
    "    '''\n",
    "    \n",
    "    if extrinsic:\n",
    "        rotation = extrinsic.rotation\n",
    "        translation = extrinsic.translation\n",
    "    assert rotation.shape == (3, 3)\n",
    "    assert (translation.shape == (3,) or translation == (3,1))\n",
    "    translation = translation.reshape(3)\n",
    "    to_point = np.empty(3)\n",
    "    to_point = np.dot(rotation, from_point) + translation\n",
    "    \n",
    "    return to_point\n",
    "\n",
    "def distort2(x, y, intrinsic, method=0):\n",
    "    \n",
    "    k1, k2, p1, p2, k3 = [intrinsic.k1,\n",
    "                          intrinsic.k2,\n",
    "                          intrinsic.p1,\n",
    "                          intrinsic.p2,\n",
    "                          intrinsic.k3]\n",
    "    \n",
    "    r2 = x * x + y * y\n",
    "    if method == 0:\n",
    "        f = 1 + k1 * r2 + k2 * r2 ** 2 + k3 * r2 ** 3\n",
    "        dx = x * f + 2 * p1 * x * y + p2 * (r2 + 2 * x * x)\n",
    "        dy = y * f + 2 * p2 * x * y + p1 * ( r2 + 2 * y * y)\n",
    "        return dx, dy\n",
    "    if method == 1:\n",
    "        import math, sys\n",
    "        r = math.sqrt(r2)\n",
    "        eps = sys.float_info.epsilon\n",
    "        if r < eps:\n",
    "            r = eps\n",
    "        theta = math.atan(r)\n",
    "        theta2 = theta * theta\n",
    "        series = 1 + theta2 * (k1 + theta2 * (k2 + theta2 * (p1 + theta2 * p2)))\n",
    "        rd = theta * series\n",
    "        x *= rd / r\n",
    "        y *= rd / r\n",
    "        dx, dy = x, y\n",
    "        return dx, dy\n",
    "    if method == 2:\n",
    "        import math, sys\n",
    "        r = math.sqrt(r2)\n",
    "        eps = sys.float_info.epsilon\n",
    "        if r < eps:\n",
    "            r = eps\n",
    "        rd = 1.0 / k1 * math.atan(2 * r * math.tan(k1 / 2.0))\n",
    "        x *= rd / r\n",
    "        y *= rd / r\n",
    "        dx, dy = x, y\n",
    "        return dx, dy\n",
    "        \n",
    "def project_point_to_pixel(point, intrinsic, method=0, undistort=False):\n",
    "    \n",
    "    assert point[2] != 0\n",
    "    x, y = point[0] / point[2], point[1] / point[2]\n",
    "    x, y = distort2(x, y, intrinsic, method=method)\n",
    "    return x, y"
   ]
  }
 ],
 "metadata": {
  "kernelspec": {
   "display_name": "Python 2",
   "language": "python",
   "name": "python2"
  },
  "language_info": {
   "codemirror_mode": {
    "name": "ipython",
    "version": 2
   },
   "file_extension": ".py",
   "mimetype": "text/x-python",
   "name": "python",
   "nbconvert_exporter": "python",
   "pygments_lexer": "ipython2",
   "version": "2.7.17"
  },
  "varInspector": {
   "cols": {
    "lenName": 16,
    "lenType": 16,
    "lenVar": 40
   },
   "kernels_config": {
    "python": {
     "delete_cmd_postfix": "",
     "delete_cmd_prefix": "del ",
     "library": "var_list.py",
     "varRefreshCmd": "print(var_dic_list())"
    },
    "r": {
     "delete_cmd_postfix": ") ",
     "delete_cmd_prefix": "rm(",
     "library": "var_list.r",
     "varRefreshCmd": "cat(var_dic_list()) "
    }
   },
   "types_to_exclude": [
    "module",
    "function",
    "builtin_function_or_method",
    "instance",
    "_Feature"
   ],
   "window_display": false
  }
 },
 "nbformat": 4,
 "nbformat_minor": 4
}
