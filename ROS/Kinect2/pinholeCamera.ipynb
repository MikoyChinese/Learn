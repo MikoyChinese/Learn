{
 "cells": [
  {
   "cell_type": "code",
   "execution_count": 1,
   "metadata": {},
   "outputs": [],
   "source": [
    "import cv2\n",
    "import time\n",
    "import numpy as np\n",
    "\n",
    "import rospy\n",
    "from sensor_msgs.msg import Image\n",
    "from cv_bridge import CvBridge, CvBridgeError"
   ]
  },
  {
   "cell_type": "code",
   "execution_count": 2,
   "metadata": {},
   "outputs": [],
   "source": [
    "class PinholeCam(object):\n",
    "    '''PiholeCam\n",
    "    \n",
    "    This class is for pinhole camera creating a cv2.VideoCapture() object.\n",
    "    And can set width and height.\n",
    "    \n",
    "    Args:\n",
    "        serial: The unique flag of pinholeCam.\n",
    "    '''\n",
    "    def __init__(self, serial):\n",
    "        self.serial = serial\n",
    "    \n",
    "    def openCam(self, width=1920, height=1080):\n",
    "        import cv2\n",
    "        self.pinholeCam = cv2.VideoCapture(self.serial)\n",
    "        if self.pinholeCam.isOpened():\n",
    "            self.pinholeCam.set(cv2.CAP_PROP_FRAME_WIDTH, width)\n",
    "            self.pinholeCam.set(cv2.CAP_PROP_FRAME_HEIGHT, height)\n",
    "            return self.pinholeCam\n",
    "        else:\n",
    "            raise Exception(\"[Error]: Can not open PinholeCam %s\" % self.serial)\n",
    "            \n",
    "    def get_oriImg(self):\n",
    "        ret, img = self.pinholeCam.read()\n",
    "        if ret:\n",
    "            return img\n",
    "    \n",
    "    def get_rectImg(self, img):\n",
    "        \n",
    "        rect_img = cv2.undistort(img, self.mtx, self.dist, None, self.mtx)\n",
    "    \n",
    "    def set_rect(self, mtx, dist):\n",
    "        self.mtx = mtx\n",
    "        self.dist = dist"
   ]
  },
  {
   "cell_type": "code",
   "execution_count": 3,
   "metadata": {},
   "outputs": [],
   "source": [
    "class PinholeCam_Converter():\n",
    "    '''The ROS cv_bridge for PinholeCam\n",
    "    \n",
    "    Args:\n",
    "        ori_topic : original image topic to Publisher.\n",
    "        rect_topic: Rect image topic to Publisher.\n",
    "    '''\n",
    "    def __init__(self, ori_topic, rect_topic=None):\n",
    "        self.ori_pub = rospy.Publisher(ori_topic, Image, queue_size=39)\n",
    "        if rect_topic:\n",
    "            self.rect_pub = rospy.Publisher(rect_topic, Image, queue_size=39)\n",
    "        self.bridge = CvBridge()\n",
    "        \n",
    "    def publish(self, ori_img, rect_img=None):\n",
    "        try:\n",
    "            ori_msg = self.bridge.cv2_to_imgmsg(ori_img, 'bgr8')\n",
    "            self.ori_pub.publish(ori_msg)\n",
    "            if rect_img:\n",
    "                rect_msg = self.bridge.cv2_to_imgmsg(rect_img, 'bgr8')\n",
    "                self.rect_pub.publish(rect_msg)\n",
    "        except CvBridgeError as e:\n",
    "            rospy.logerr('[Error]: Can not converter Image to msg.')"
   ]
  },
  {
   "cell_type": "code",
   "execution_count": 6,
   "metadata": {},
   "outputs": [
    {
     "name": "stderr",
     "output_type": "stream",
     "text": [
      "/usr/local/lib/python2.7/dist-packages/ipykernel_launcher.py:9: SyntaxWarning: The publisher should be created with an explicit keyword argument 'queue_size'. Please see http://wiki.ros.org/rospy/Overview/Publishers%20and%20Subscribers for more information.\n",
      "  if __name__ == '__main__':\n",
      "/usr/local/lib/python2.7/dist-packages/ipykernel_launcher.py:10: SyntaxWarning: The publisher should be created with an explicit keyword argument 'queue_size'. Please see http://wiki.ros.org/rospy/Overview/Publishers%20and%20Subscribers for more information.\n",
      "  # Remove the CWD from sys.path while we load stuff.\n"
     ]
    }
   ],
   "source": [
    "if __name__ == '__main__':\n",
    "    rospy.init_node('pinholeCam', anonymous=True)\n",
    "    rate = rospy.Rate(60)\n",
    "    cam1 = PinholeCam('/dev/video0')\n",
    "    cam2 = PinholeCam('/dev/video1')\n",
    "    cam1.openCam()\n",
    "    cam2.openCam()\n",
    "    cam1_conv = PinholeCam_Converter('/cam1/color')\n",
    "    cam2_conv = PinholeCam_Converter('/cam2/color')\n",
    "    while cam1.pinholeCam.isOpened() and cam2.pinholeCam.isOpened() and not rospy.is_shutdown():\n",
    "        t0 = time.time()\n",
    "        img1 = cam1.get_oriImg()\n",
    "        img2 = cam2.get_oriImg()\n",
    "        cam1_conv.publish(img1)\n",
    "        cam2_conv.publish(img2)\n",
    "        t1 = time.time()\n",
    "        print('[Rate]: %5f [Info]: Publishing...' % (1./(t1-t0)))\n",
    "        rate.sleep()\n",
    "        \n",
    "    print('Exiting...')\n",
    "    cam1.pinholeCam.release()\n",
    "    cam2.pinholeCam.release()"
   ]
  },
  {
   "cell_type": "code",
   "execution_count": null,
   "metadata": {},
   "outputs": [],
   "source": []
  }
 ],
 "metadata": {
  "kernelspec": {
   "display_name": "Python 2",
   "language": "python",
   "name": "python2"
  },
  "language_info": {
   "codemirror_mode": {
    "name": "ipython",
    "version": 2
   },
   "file_extension": ".py",
   "mimetype": "text/x-python",
   "name": "python",
   "nbconvert_exporter": "python",
   "pygments_lexer": "ipython2",
   "version": "2.7.17"
  },
  "varInspector": {
   "cols": {
    "lenName": 16,
    "lenType": 16,
    "lenVar": 40
   },
   "kernels_config": {
    "python": {
     "delete_cmd_postfix": "",
     "delete_cmd_prefix": "del ",
     "library": "var_list.py",
     "varRefreshCmd": "print(var_dic_list())"
    },
    "r": {
     "delete_cmd_postfix": ") ",
     "delete_cmd_prefix": "rm(",
     "library": "var_list.r",
     "varRefreshCmd": "cat(var_dic_list()) "
    }
   },
   "types_to_exclude": [
    "module",
    "function",
    "builtin_function_or_method",
    "instance",
    "_Feature"
   ],
   "window_display": false
  }
 },
 "nbformat": 4,
 "nbformat_minor": 2
}
