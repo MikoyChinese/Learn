{
 "cells": [
  {
   "cell_type": "code",
   "execution_count": null,
   "metadata": {},
   "outputs": [],
   "source": [
    "import tensorrt as trt\n",
    "import numpy as np\n",
    "import pycuda.driver as cuda\n",
    "import pycuda.autoinit\n",
    "\n",
    "import common # See the folder."
   ]
  },
  {
   "cell_type": "code",
   "execution_count": null,
   "metadata": {},
   "outputs": [],
   "source": [
    "TRT_LOGGER = trt.Logger()\n",
    "\n",
    "# The following depend on float16, FP16!!!\n",
    "onnx_file_path = '../models/DFA_model_simple.onnx'\n",
    "i_file = '../test/rs02_1564022347_05.jpg'\n",
    "d_file = '../test/rs02_1564022347_05.pgm'\n",
    "\n",
    "def build_engine(onnx_file_path):\n",
    "    with trt.Builder(TRT_LOGGER) as builder, builder.create_network(common.EXPLICIT_BATCH) as network, trt.OnnxParser(network, TRT_LOGGER) as parser:\n",
    "        builder.max_workspace_size = 1 << 30\n",
    "        builder.max_batch_size = 1\n",
    "        # FP16\n",
    "        builder.fp16_mode = True\n",
    "        #builder.strict_type_constraints = True\n",
    "        with open(onnx_file_path, 'rb') as model:\n",
    "            print('Beginning ONNX file parsing')\n",
    "            if not parser.parse(model.read()):\n",
    "                print('[ERROR]: Failed to parse the ONNX file.')\n",
    "                for error in range(parser.num_errors):\n",
    "                    print(parser.get_error(error))\n",
    "                return None\n",
    "        network.get_input(0).shape = [1,4,288,512]\n",
    "        engine = builder.build_cuda_engine(network)\n",
    "        return engine\n",
    "\n",
    "engine = build_engine(onnx_file_path)\n",
    "context = engine.create_execution_context()\n",
    "\n",
    "inputs, outputs, bindings, stream = common.allocate_buffers(engine)"
   ]
  },
  {
   "cell_type": "code",
   "execution_count": null,
   "metadata": {},
   "outputs": [],
   "source": [
    "from PIL import Image\n",
    "\n",
    "i_raw = Image.open(i_file)\n",
    "i_raw = i_raw.resize((512, 288)) # WHC\n",
    "i_raw = np.asarray(i_raw, dtype=np.float32, order='C') # HWC\n",
    "d_raw = Image.open(d_file)\n",
    "d_raw = d_raw.resize((512, 288))\n",
    "d_raw = np.asarray(d_raw, dtype=np.int16, order='C')\n",
    "\n",
    "def toTensor(data):\n",
    "    '''Change the data range to [0.0, 1.0]\n",
    "    Return [B, C, H, W]\n",
    "    '''\n",
    "    assert data.ndim == 2 or data.ndim == 3\n",
    "    if data.ndim == 2:\n",
    "        # depth\n",
    "        data = data[..., np.newaxis]\n",
    "        mask = data > 10000\n",
    "        data[mask] = 0\n",
    "        data = data / 10000.\n",
    "    elif data.ndim == 3:\n",
    "        # image\n",
    "        data = data / 255.\n",
    "    data = np.transpose(data, (2, 0, 1))\n",
    "    data = data[np.newaxis, ...]\n",
    "    return data\n",
    "\n",
    "def normalize(data, mean, std):\n",
    "    assert data.ndim == 4\n",
    "    assert data.shape[1] == len(mean) == len(std)\n",
    "    batch_size = data.shape[0]\n",
    "    mean, std = np.asarray(mean), np.asarray(std)\n",
    "    mean = mean[..., np.newaxis, np.newaxis]\n",
    "    std = std[..., np.newaxis, np.newaxis]\n",
    "    for i in range(batch_size):\n",
    "        data[i, ...] = (data[i, ...] - mean) / std\n",
    "    return data\n",
    "\n",
    "\n",
    "##############################\n",
    "# Start Process Input data   #\n",
    "##############################\n",
    "\n",
    "data = toTensor(d_raw)\n",
    "data = normalize(data, [0.1864497], [0.07711394])\n",
    "img_data = toTensor(i_raw)\n",
    "img_data = normalize(img_data, [0.368, 0.393, 0.404], [0.286, 0.290, 0.296])\n",
    "\n",
    "# [1, 4, 288, 512] NCHW\n",
    "test = np.concatenate((img_data, data), axis=1)\n",
    "# FP16\n",
    "test = test.astype(np.float16)\n",
    "###################################\n",
    "# Make sure the flags of the\n",
    "# input data [C_CONTIGUOUS = True]\n",
    "#\n",
    "# If not, try np.ascontiguousarray\n",
    "# test = np.ascontiguousarray(test)\n",
    "###################################\n",
    "\n",
    "# Inputs\n",
    "inputs[0].host = test\n",
    "trt_outputs = common.do_inference_v2(context, \n",
    "                                     bindings=bindings, \n",
    "                                     inputs=inputs, \n",
    "                                     outputs=outputs, \n",
    "                                     stream=stream)"
   ]
  },
  {
   "cell_type": "code",
   "execution_count": null,
   "metadata": {},
   "outputs": [],
   "source": [
    "import time\n",
    "t0 = time.time()                                                                     \n",
    "for i in range(9):                                                                  \n",
    "    trt_outputs = common.do_inference_v2(context, \n",
    "                                         bindings=bindings, \n",
    "                                         inputs=inputs, \n",
    "                                         outputs=outputs, \n",
    "                                         stream=stream)\n",
    "t1 = time.time()\n",
    "print('[FPS]: %.3f' %(1./((t1-t0)/9.)))"
   ]
  },
  {
   "cell_type": "markdown",
   "metadata": {},
   "source": [
    "1. DFA_model_simple.onnx \n",
    "```\n",
    "Jetson Nano: {\n",
    "    'Inference FPS': {'FP32': ~11.52, 'FP16': ~14.25}\n",
    "}\n",
    "```"
   ]
  }
 ],
 "metadata": {
  "kernelspec": {
   "display_name": "Python 3",
   "language": "python",
   "name": "python3"
  },
  "language_info": {
   "codemirror_mode": {
    "name": "ipython",
    "version": 3
   },
   "file_extension": ".py",
   "mimetype": "text/x-python",
   "name": "python",
   "nbconvert_exporter": "python",
   "pygments_lexer": "ipython3",
   "version": "3.6.9"
  },
  "varInspector": {
   "cols": {
    "lenName": 16,
    "lenType": 16,
    "lenVar": 40
   },
   "kernels_config": {
    "python": {
     "delete_cmd_postfix": "",
     "delete_cmd_prefix": "del ",
     "library": "var_list.py",
     "varRefreshCmd": "print(var_dic_list())"
    },
    "r": {
     "delete_cmd_postfix": ") ",
     "delete_cmd_prefix": "rm(",
     "library": "var_list.r",
     "varRefreshCmd": "cat(var_dic_list()) "
    }
   },
   "types_to_exclude": [
    "module",
    "function",
    "builtin_function_or_method",
    "instance",
    "_Feature"
   ],
   "window_display": false
  }
 },
 "nbformat": 4,
 "nbformat_minor": 4
}
