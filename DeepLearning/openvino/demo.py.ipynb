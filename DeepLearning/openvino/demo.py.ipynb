{
 "cells": [
  {
   "cell_type": "code",
   "execution_count": 2,
   "metadata": {},
   "outputs": [
    {
     "ename": "ModuleNotFoundError",
     "evalue": "No module named 'openvino'",
     "output_type": "error",
     "traceback": [
      "\u001b[0;31m---------------------------------------------------------------------------\u001b[0m",
      "\u001b[0;31mModuleNotFoundError\u001b[0m                       Traceback (most recent call last)",
      "\u001b[0;32m<ipython-input-2-aeb48572cad9>\u001b[0m in \u001b[0;36m<module>\u001b[0;34m\u001b[0m\n\u001b[0;32m----> 1\u001b[0;31m \u001b[0;32mfrom\u001b[0m \u001b[0mopenvino\u001b[0m\u001b[0;34m.\u001b[0m\u001b[0minference_engine\u001b[0m \u001b[0;32mimport\u001b[0m \u001b[0mIECore\u001b[0m\u001b[0;34m\u001b[0m\u001b[0;34m\u001b[0m\u001b[0m\n\u001b[0m\u001b[1;32m      2\u001b[0m \u001b[0;32mimport\u001b[0m \u001b[0mnumpy\u001b[0m \u001b[0;32mas\u001b[0m \u001b[0mnp\u001b[0m\u001b[0;34m\u001b[0m\u001b[0;34m\u001b[0m\u001b[0m\n\u001b[1;32m      3\u001b[0m \u001b[0;32mimport\u001b[0m \u001b[0mcv2\u001b[0m\u001b[0;34m\u001b[0m\u001b[0;34m\u001b[0m\u001b[0m\n",
      "\u001b[0;31mModuleNotFoundError\u001b[0m: No module named 'openvino'"
     ]
    }
   ],
   "source": [
    "from openvino.inference_engine import IECore\n",
    "import numpy as np\n",
    "import cv2"
   ]
  },
  {
   "cell_type": "code",
   "execution_count": null,
   "metadata": {},
   "outputs": [],
   "source": [
    "def toTensor(data):\n",
    "    '''Change the data range to [0.0, 1.0]\n",
    "    Return [B, C, H, W]\n",
    "    '''\n",
    "    assert data.ndim == 2 or data.ndim == 3\n",
    "    if data.ndim == 2:\n",
    "        # depth\n",
    "        data = data[..., np.newaxis]\n",
    "        mask = data > 10000\n",
    "        data[mask] = 0\n",
    "        data = data / 10000.\n",
    "    elif data.ndim == 3:\n",
    "        # image\n",
    "        data = data / 255.\n",
    "    data = np.transpose(data, (2, 0, 1))\n",
    "    data = data[np.newaxis, ...]\n",
    "    return data\n",
    "\n",
    "def normalize(data, mean, std):\n",
    "    assert data.ndim == 4\n",
    "    assert data.shape[1] == len(mean) == len(std)\n",
    "    batch_size = data.shape[0]\n",
    "    mean, std = np.asarray(mean), np.asarray(std)\n",
    "    mean = mean[..., np.newaxis, np.newaxis]\n",
    "    std = std[..., np.newaxis, np.newaxis]\n",
    "    for i in range(batch_size):\n",
    "        data[i, ...] = (data[i, ...] - mean) / std\n",
    "    return data"
   ]
  },
  {
   "cell_type": "code",
   "execution_count": null,
   "metadata": {},
   "outputs": [],
   "source": [
    "ie = IECore()\n",
    "xml_file = './workspace/openvino/model1/FP32/DFA_model.xml'\n",
    "bin_file = './workspace/openvino/model1/FP32/DFA_model.bin'\n",
    "\n",
    "i_file = './workspace/openvino/test/rs02_1564022345_98.jpg'\n",
    "d_file = './workspace/openvino/test/rs02_1564022345_98.pgm'\n",
    "\n",
    "i = cv2.imread(i_file)\n",
    "d = cv2.imread(d_file, cv2.IMREAD_ANYDEPTH)\n",
    "\n",
    "data = toTensor(d)\n",
    "data = normalize(data, [0.1864497], [0.07711394])\n",
    "\n",
    "img_data_ = toTensor(i)\n",
    "img_data = normalize(img_data_, [0.368, 0.393, 0.404], [0.286, 0.290, 0.296])\n",
    "\n",
    "inputs = np.concatenate((img_data, data), axis=1)\n",
    "\n",
    "net = ie.read_network(model=xml_file, weights=bin_file)\n",
    "inputLayer = next(iter(net.inputs))\n",
    "\n",
    "exec_net = ie.load_network(network=net, device_name='GPU')\n",
    "results = exec_net.infer(inputs={inputLayer: inputs})"
   ]
  },
  {
   "cell_type": "code",
   "execution_count": null,
   "metadata": {},
   "outputs": [],
   "source": [
    "import time\n",
    "t0 = time.time()\n",
    "for i in range(99):\n",
    "    results = exec_net.infer(inputs={inputLayer: inputs})\n",
    "t1 = time.time()\n",
    "\n",
    "t = t1 - t0\n",
    "1. / (t/99.)"
   ]
  }
 ],
 "metadata": {
  "kernelspec": {
   "display_name": "Python 3",
   "language": "python",
   "name": "python3"
  },
  "language_info": {
   "codemirror_mode": {
    "name": "ipython",
    "version": 3
   },
   "file_extension": ".py",
   "mimetype": "text/x-python",
   "name": "python",
   "nbconvert_exporter": "python",
   "pygments_lexer": "ipython3",
   "version": "3.6.9"
  },
  "varInspector": {
   "cols": {
    "lenName": 16,
    "lenType": 16,
    "lenVar": 40
   },
   "kernels_config": {
    "python": {
     "delete_cmd_postfix": "",
     "delete_cmd_prefix": "del ",
     "library": "var_list.py",
     "varRefreshCmd": "print(var_dic_list())"
    },
    "r": {
     "delete_cmd_postfix": ") ",
     "delete_cmd_prefix": "rm(",
     "library": "var_list.r",
     "varRefreshCmd": "cat(var_dic_list()) "
    }
   },
   "types_to_exclude": [
    "module",
    "function",
    "builtin_function_or_method",
    "instance",
    "_Feature"
   ],
   "window_display": false
  }
 },
 "nbformat": 4,
 "nbformat_minor": 4
}
