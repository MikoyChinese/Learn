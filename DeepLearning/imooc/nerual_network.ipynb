{
 "cells": [
  {
   "cell_type": "code",
   "execution_count": 1,
   "metadata": {},
   "outputs": [],
   "source": [
    "import tensorflow as tf\n",
    "import os\n",
    "import pickle\n",
    "import numpy as np"
   ]
  },
  {
   "cell_type": "code",
   "execution_count": 2,
   "metadata": {},
   "outputs": [],
   "source": [
    "CIFAR_DIR = '/home/commaai-03/Data/dataset/cifar-10-python'\n",
    "\n",
    "def unpickle(file):\n",
    "    import pickle\n",
    "    with open(file, 'rb') as f:\n",
    "        data = pickle.load(f, encoding='bytes')\n",
    "    return data"
   ]
  },
  {
   "cell_type": "code",
   "execution_count": 3,
   "metadata": {},
   "outputs": [],
   "source": [
    "filenames = [os.path.join(CIFAR_DIR, file) \n",
    "             for file in os.listdir(CIFAR_DIR)\n",
    "             if '.html' not in file]\n",
    "filenames.sort()\n",
    "meta_file = filenames[0]\n",
    "train_files = filenames[1:-1]\n",
    "test_file = [filenames[-1]]"
   ]
  },
  {
   "cell_type": "code",
   "execution_count": 4,
   "metadata": {},
   "outputs": [
    {
     "name": "stdout",
     "output_type": "stream",
     "text": [
      "b'batch_label'\n",
      "b'labels'\n",
      "b'data'\n",
      "b'filenames'\n"
     ]
    }
   ],
   "source": [
    "_test_data = unpickle(test_file[0])\n",
    "for k, v in _test_data.items():\n",
    "    print(k)"
   ]
  },
  {
   "cell_type": "code",
   "execution_count": 5,
   "metadata": {},
   "outputs": [
    {
     "data": {
      "text/plain": [
       "<matplotlib.image.AxesImage at 0x7f733b4d2438>"
      ]
     },
     "execution_count": 5,
     "metadata": {},
     "output_type": "execute_result"
    },
    {
     "data": {
      "image/png": "[encoded data removed]",
      "text/plain": [
       "<Figure size 432x288 with 1 Axes>"
      ]
     },
     "metadata": {
      "needs_background": "light"
     },
     "output_type": "display_data"
    }
   ],
   "source": [
    "img_arr = _test_data[b'data'][0]\n",
    "# 32 * 32 * 3 (R,G,B)\n",
    "img_arr_reshaped = img_arr.reshape((3, 32, 32))\n",
    "img = img_arr_reshaped.transpose(1, 2, 0)\n",
    "import matplotlib.pyplot as plt\n",
    "from matplotlib.pyplot import imshow\n",
    "\n",
    "%matplotlib inline\n",
    "imshow(img)"
   ]
  },
  {
   "cell_type": "code",
   "execution_count": 6,
   "metadata": {},
   "outputs": [],
   "source": [
    "class CifarData:\n",
    "    \n",
    "    def __init__(self, filenames, need_shuffle):\n",
    "        all_data = []\n",
    "        all_labels = []\n",
    "        for filename in filenames:\n",
    "            data, labels = self.load_data(filename)\n",
    "            all_data.append(data)\n",
    "            all_labels.append(labels)\n",
    "        self._data = np.vstack(all_data)\n",
    "        self._data = self._data / 127.5 - 1\n",
    "        self._labels = np.hstack(all_labels)\n",
    "        print('[CIFAR-10]: Data shape-> %s' % str(self._data.shape))\n",
    "        print('[CIFAR-10]: Label shape-> %s' % str(self._labels.shape))\n",
    "        \n",
    "        self.num_examples = self._data.shape[0]\n",
    "        self._need_shuffle = need_shuffle\n",
    "        self._indicator = 0\n",
    "        if self._need_shuffle:\n",
    "            self._shuffle_data()\n",
    "            \n",
    "    def load_data(self, filename):\n",
    "        import pickle\n",
    "        with open(filename, mode='rb') as f:\n",
    "            data = pickle.load(f, encoding='bytes')\n",
    "        return data[b'data'], data[b'labels']\n",
    "    \n",
    "    def _shuffle_data(self):\n",
    "        index = np.random.permutation(self.num_examples)\n",
    "        self._data = self._data[index]\n",
    "        self._labels = self._labels[index]\n",
    "        \n",
    "    def next_batch(self, batch_size):\n",
    "        end_indicator = self._indicator + batch_size\n",
    "        if end_indicator > self.num_examples:\n",
    "            rest_num_examples = self.num_examples - self._indicator\n",
    "            data_rest_part = self._data[self._indicator: self.num_examples]\n",
    "            label_rest_part = self._labels[self._indicator: self.num_examples]\n",
    "            \n",
    "            if self._need_shuffle:\n",
    "                self._shuffle_data()\n",
    "            # For new loop, self._indicator + batch_size = self.num_examples\n",
    "            self._indicator = batch_size - rest_num_examples\n",
    "            end_indicator = self._indicator\n",
    "            data_new_part = self._data[:end_indicator]\n",
    "            label_new_part = self._labels[:end_indicator]\n",
    "            batch_data = np.concatenate((data_rest_part, data_new_part), axis=0)\n",
    "            batch_label = np.concatenate((label_rest_part, label_new_part), axis=0)\n",
    "        else:\n",
    "            batch_data = self._data[self._indicator:end_indicator]\n",
    "            batch_label = self._labels[self._indicator:end_indicator]\n",
    "            self._indicator = end_indicator\n",
    "        \n",
    "        return batch_data, batch_label"
   ]
  },
  {
   "cell_type": "code",
   "execution_count": 7,
   "metadata": {},
   "outputs": [
    {
     "name": "stdout",
     "output_type": "stream",
     "text": [
      "[CIFAR-10]: Data shape-> (50000, 3072)\n",
      "[CIFAR-10]: Label shape-> (50000,)\n",
      "[CIFAR-10]: Data shape-> (10000, 3072)\n",
      "[CIFAR-10]: Label shape-> (10000,)\n"
     ]
    }
   ],
   "source": [
    "train_data = CifarData(train_files, need_shuffle=True)\n",
    "test_data = CifarData(test_file, need_shuffle=False)"
   ]
  },
  {
   "cell_type": "markdown",
   "metadata": {},
   "source": [
    "**Model**"
   ]
  },
  {
   "cell_type": "code",
   "execution_count": 8,
   "metadata": {},
   "outputs": [
    {
     "name": "stderr",
     "output_type": "stream",
     "text": [
      "WARNING: Logging before flag parsing goes to stderr.\n",
      "W0917 15:30:21.884691 140135234676544 deprecation.py:506] From /home/commaai-03/.local/lib/python3.6/site-packages/tensorflow/python/ops/init_ops.py:1251: calling VarianceScaling.__init__ (from tensorflow.python.ops.init_ops) with dtype is deprecated and will be removed in a future version.\n",
      "Instructions for updating:\n",
      "Call initializer instance with the dtype argument instead of passing it to the constructor\n",
      "W0917 15:30:21.932950 140135234676544 deprecation.py:323] From /home/commaai-03/.local/lib/python3.6/site-packages/tensorflow/python/ops/losses/losses_impl.py:121: add_dispatch_support.<locals>.wrapper (from tensorflow.python.ops.array_ops) is deprecated and will be removed in a future version.\n",
      "Instructions for updating:\n",
      "Use tf.where in 2.0, which has the same broadcast rule as np.where\n"
     ]
    }
   ],
   "source": [
    "x = tf.placeholder(dtype=tf.float32, shape=[None, 3072])\n",
    "y = tf.placeholder(dtype=tf.int64, shape=[None])\n",
    "\n",
    "# Dense Layer\n",
    "hidden1 = tf.keras.layers.Dense(\n",
    "    units=100, activation=tf.nn.relu)(x)\n",
    "hidden2 = tf.keras.layers.Dense(\n",
    "    units=100, activation=tf.nn.relu)(hidden1)\n",
    "hidden3= tf.keras.layers.Dense(\n",
    "    units=50, activation=tf.nn.relu)(hidden2)\n",
    "y_ = tf.keras.layers.Dense(units=10)(hidden3)\n",
    "\n",
    "# tf.nn.softmax_cross_entropy_with_logits_v2: (labels: one-hot), shape=[batch_size, num_classes]\n",
    "# tf.losses.sparse_softmax_cross_entropy: (labels: int), shape=[batch_size]\n",
    "\n",
    "# tf.losses.sparse_softmax_cross_entropy ->\n",
    "# tf.reduce_mean(tf.nn.sparse_softmax_cross_entropy_with_logits)\n",
    "\n",
    "_loss = tf.losses.sparse_softmax_cross_entropy(labels=y, logits=y_)\n",
    "# y_ -> softmax, y-> one-hot, loss = y * log(y_)\n",
    "\n",
    "# indices\n",
    "predict = tf.argmax(y_, 1)\n",
    "correct_pred = tf.equal(predict, y)\n",
    "accuracy = tf.math.reduce_mean(tf.cast(correct_pred, tf.float64))\n",
    "\n",
    "with tf.name_scope('train_op'):\n",
    "    train_op = tf.train.AdamOptimizer(1e-3).minimize(_loss)"
   ]
  },
  {
   "cell_type": "code",
   "execution_count": null,
   "metadata": {},
   "outputs": [],
   "source": []
  },
  {
   "cell_type": "code",
   "execution_count": 9,
   "metadata": {},
   "outputs": [
    {
     "name": "stdout",
     "output_type": "stream",
     "text": [
      "1.5164541 <class 'numpy.float64'>\n",
      "[Train] Step: 500, loss: 1.51645, acc: 0.43750\n",
      "1.7065395 <class 'numpy.float64'>\n",
      "[Train] Step: 1000, loss: 1.70654, acc: 0.40625\n",
      "1.3629048 <class 'numpy.float64'>\n",
      "[Train] Step: 1500, loss: 1.36290, acc: 0.40625\n",
      "1.4554199 <class 'numpy.float64'>\n",
      "[Train] Step: 2000, loss: 1.45542, acc: 0.46875\n",
      "1.459666 <class 'numpy.float64'>\n",
      "[Train] Step: 2500, loss: 1.45967, acc: 0.50000\n",
      "1.483187 <class 'numpy.float64'>\n",
      "[Train] Step: 3000, loss: 1.48319, acc: 0.46875\n",
      "1.4225476 <class 'numpy.float64'>\n",
      "[Train] Step: 3500, loss: 1.42255, acc: 0.46875\n",
      "1.0500748 <class 'numpy.float64'>\n",
      "[Train] Step: 4000, loss: 1.05007, acc: 0.59375\n",
      "1.780751 <class 'numpy.float64'>\n",
      "[Train] Step: 4500, loss: 1.78075, acc: 0.34375\n",
      "1.2772917 <class 'numpy.float64'>\n",
      "[Train] Step: 5000, loss: 1.27729, acc: 0.53125\n",
      "[Test] Step: 5000, acc: 0.48125\n",
      "1.5199296 <class 'numpy.float64'>\n",
      "[Train] Step: 5500, loss: 1.51993, acc: 0.31250\n",
      "1.6363537 <class 'numpy.float64'>\n",
      "[Train] Step: 6000, loss: 1.63635, acc: 0.50000\n",
      "1.2606966 <class 'numpy.float64'>\n",
      "[Train] Step: 6500, loss: 1.26070, acc: 0.56250\n",
      "1.5049299 <class 'numpy.float64'>\n",
      "[Train] Step: 7000, loss: 1.50493, acc: 0.40625\n",
      "1.0515964 <class 'numpy.float64'>\n",
      "[Train] Step: 7500, loss: 1.05160, acc: 0.62500\n",
      "0.97120214 <class 'numpy.float64'>\n",
      "[Train] Step: 8000, loss: 0.97120, acc: 0.68750\n",
      "1.0811208 <class 'numpy.float64'>\n",
      "[Train] Step: 8500, loss: 1.08112, acc: 0.53125\n",
      "1.2186668 <class 'numpy.float64'>\n",
      "[Train] Step: 9000, loss: 1.21867, acc: 0.53125\n",
      "0.88143146 <class 'numpy.float64'>\n",
      "[Train] Step: 9500, loss: 0.88143, acc: 0.81250\n",
      "0.98973536 <class 'numpy.float64'>\n",
      "[Train] Step: 10000, loss: 0.98974, acc: 0.62500\n",
      "[Test] Step: 10000, acc: 0.51125\n"
     ]
    }
   ],
   "source": [
    "batch_size = 32\n",
    "train_steps = 10000\n",
    "test_steps = 100\n",
    "\n",
    "with tf.Session() as sess:\n",
    "    tf.global_variables_initializer().run()\n",
    "    for i in range(train_steps):\n",
    "        batch_data, batch_labels = train_data.next_batch(batch_size)\n",
    "        loss, acc, _ = sess.run([_loss, accuracy, train_op], \n",
    "                                feed_dict={x: batch_data, y: batch_labels})\n",
    "        if (i+1) % 500 == 0:\n",
    "            print('[Train] Step: %d, loss: %4.5f, acc: %4.5f'\n",
    "                  % (i+1, loss, acc))\n",
    "        if (i+1) % 5000 == 0:\n",
    "            all_test_acc = []\n",
    "            for j in range(test_steps):\n",
    "                test_batch, test_labels = test_data.next_batch(batch_size)\n",
    "                test_acc = sess.run([accuracy], feed_dict={x: test_batch, \n",
    "                                                           y: test_labels})\n",
    "                all_test_acc.append(test_acc)\n",
    "            test_acc = np.mean(all_test_acc)\n",
    "            print('[Test] Step: %d, acc: %4.5f' % (i+1, test_acc))"
   ]
  },
  {
   "cell_type": "code",
   "execution_count": null,
   "metadata": {},
   "outputs": [],
   "source": []
  }
 ],
 "metadata": {
  "kernelspec": {
   "display_name": "Python 3",
   "language": "python",
   "name": "python3"
  },
  "language_info": {
   "codemirror_mode": {
    "name": "ipython",
    "version": 3
   },
   "file_extension": ".py",
   "mimetype": "text/x-python",
   "name": "python",
   "nbconvert_exporter": "python",
   "pygments_lexer": "ipython3",
   "version": "3.6.8"
  },
  "varInspector": {
   "cols": {
    "lenName": 16,
    "lenType": 16,
    "lenVar": 40
   },
   "kernels_config": {
    "python": {
     "delete_cmd_postfix": "",
     "delete_cmd_prefix": "del ",
     "library": "var_list.py",
     "varRefreshCmd": "print(var_dic_list())"
    },
    "r": {
     "delete_cmd_postfix": ") ",
     "delete_cmd_prefix": "rm(",
     "library": "var_list.r",
     "varRefreshCmd": "cat(var_dic_list()) "
    }
   },
   "types_to_exclude": [
    "module",
    "function",
    "builtin_function_or_method",
    "instance",
    "_Feature"
   ],
   "window_display": false
  }
 },
 "nbformat": 4,
 "nbformat_minor": 2
}
