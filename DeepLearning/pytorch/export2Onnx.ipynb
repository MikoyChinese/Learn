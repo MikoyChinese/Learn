{
 "cells": [
  {
   "cell_type": "code",
   "execution_count": null,
   "metadata": {},
   "outputs": [],
   "source": [
    "import torch"
   ]
  },
  {
   "cell_type": "code",
   "execution_count": null,
   "metadata": {},
   "outputs": [],
   "source": [
    "model_file = '/home/commaai-03/Public/ye/test/DFA_model_latest.pkl'"
   ]
  },
  {
   "cell_type": "code",
   "execution_count": null,
   "metadata": {},
   "outputs": [],
   "source": [
    "model = torch.load(model_file)"
   ]
  },
  {
   "cell_type": "code",
   "execution_count": null,
   "metadata": {},
   "outputs": [],
   "source": [
    "def toTensor(data):\n",
    "    '''Change the data range to [0.0, 1.0]\n",
    "    Return [B, C, H, W]\n",
    "    '''\n",
    "    assert data.ndim == 2 or data.ndim == 3\n",
    "    if data.ndim == 2:\n",
    "        # depth\n",
    "        data = data[..., np.newaxis]\n",
    "        mask = data > 10000\n",
    "        data[mask] = 0\n",
    "        data = data / 10000.\n",
    "    elif data.ndim == 3:\n",
    "        # image\n",
    "        data = data / 255.\n",
    "    data = np.transpose(data, (2, 0, 1))\n",
    "    data = data[np.newaxis, ...]\n",
    "    return data\n",
    "\n",
    "def normalize(data, mean, std):\n",
    "    assert data.ndim == 4\n",
    "    assert data.shape[1] == len(mean) == len(std)\n",
    "    batch_size = data.shape[0]\n",
    "    mean, std = np.asarray(mean), np.asarray(std)\n",
    "    mean = mean[..., np.newaxis, np.newaxis]\n",
    "    std = std[..., np.newaxis, np.newaxis]\n",
    "    for i in range(batch_size):\n",
    "        data[i, ...] = (data[i, ...] - mean) / std\n",
    "    return data"
   ]
  },
  {
   "cell_type": "code",
   "execution_count": null,
   "metadata": {},
   "outputs": [],
   "source": [
    "img = '/home/commaai-03/Public/ye/train_jpg/rs07_1564022349_55_flip2.jpg'\n",
    "depth = '/home/commaai-03/Public/ye/train_jpg/rs07_1564022349_55_flip2.pgm'\n",
    "\n",
    "import cv2\n",
    "import numpy as np\n",
    "\n",
    "img = cv2.imread(img)\n",
    "depth = cv2.imread(depth, 2)"
   ]
  },
  {
   "cell_type": "code",
   "execution_count": null,
   "metadata": {},
   "outputs": [],
   "source": [
    "data = toTensor(depth)"
   ]
  },
  {
   "cell_type": "code",
   "execution_count": null,
   "metadata": {},
   "outputs": [],
   "source": [
    "data = normalize(data, [0.1864497], [0.07711394])"
   ]
  },
  {
   "cell_type": "code",
   "execution_count": null,
   "metadata": {},
   "outputs": [],
   "source": [
    "img_data_ = toTensor(img)"
   ]
  },
  {
   "cell_type": "code",
   "execution_count": null,
   "metadata": {},
   "outputs": [],
   "source": [
    "img_data = normalize(img_data_, [0.368, 0.393, 0.404], [0.286, 0.290, 0.296])"
   ]
  },
  {
   "cell_type": "code",
   "execution_count": null,
   "metadata": {},
   "outputs": [],
   "source": [
    "a = np.concatenate((img_data, data), axis=1)"
   ]
  },
  {
   "cell_type": "code",
   "execution_count": null,
   "metadata": {},
   "outputs": [],
   "source": [
    "def topk(arr, K, mode='max'):\n",
    "    '''Same as Pytorch torch.topk function\n",
    "    Return the index of the max or min K-th values.\n",
    "    \n",
    "    Args:\n",
    "    ------\n",
    "    arr: ndarray, Input array.\n",
    "    K: the K-th.\n",
    "    mode: max or min.\n",
    "    '''\n",
    "    if not isinstance(K, int):\n",
    "        raise TypeError('K must be a int.')\n",
    "    if not isinstance(mode, str):\n",
    "        raise TypeError('mode must be a string.')\n",
    "    mode = mode.lower()\n",
    "    if mode == 'max':\n",
    "        K = -K\n",
    "    elif mode == 'min':\n",
    "        K = K\n",
    "    else:\n",
    "        raise Exception('mode must be in max or min.')\n",
    "    \n",
    "    idx = np.argpartition(arr, K)[K:]\n",
    "    topk_idx = idx[np.argsort(arr[idx])][::-1]\n",
    "    return topk_idx\n",
    "\n",
    "\n",
    "def view_as_block(arr_in, block_shape):\n",
    "    '''Block view of the input n-dimensional array.\n",
    "    \n",
    "    Blocks are non-overlapping views of the input array.\n",
    "    Args:\n",
    "    ------\n",
    "    arr_in: ndarray, N-d input array.\n",
    "    block_shape: tuple, The shape of the blcok or the kernel size.\n",
    "    '''\n",
    "    \n",
    "    if not isinstance(block_shape, tuple):\n",
    "        raise TypeError('block_shape must be a tuple.')\n",
    "        \n",
    "    block_shape = np.array(block_shape)\n",
    "    if block_shape.size != arr_in.ndim:\n",
    "        raise ValueError('block_sahep must have the same length as arr_in.shape.')"
   ]
  },
  {
   "cell_type": "code",
   "execution_count": null,
   "metadata": {},
   "outputs": [],
   "source": [
    "def _gather_feat(feature, idx):\n",
    "    dim = feature.shape[2]\n",
    "    idx = np.expand_dims(idx, 2)\n",
    "    idx = np.broadcast_to(idx, (idx.shape[0], idx.shape[1], dim))\n",
    "    \n",
    "\n",
    "def _topk(heatmap, K=10):\n",
    "    B, C, H, W = heatmap.shape\n",
    "    # Numpy topk\n",
    "    idxs = np.argpartition(heatmap.reshape(B, C, -1), -K)[-K:]\n",
    "    topk_idxs = idxs[np.argsort(heatmap[idxs])][::-1]\n",
    "    topk_scores = heatmap[topk_idxs]\n",
    "    topk_idxs %= (H * W)\n",
    "    topk_ys = np.round(topk_idxs / W)\n",
    "    topk_xs = np.round(topk_idxs % W)\n",
    "    \n",
    "    idx = np.argpartition(topk_scores.reshape(B, -1), -K)[-K:]\n",
    "    topk_idx = idx[np.argsort(topk_scores[idx])][::-1]\n",
    "    topk_score = topk_scores[topk_idx]\n",
    "    topk_clses = np.int(np.round(topk_idx / K))\n",
    "    \n",
    "    \n",
    "    \n",
    "    \n",
    "\n",
    "def ctdet_decode(heatmap, wh, offset, threshold=0.5):\n",
    "    \n",
    "    B, C, H, W = heatmap.shape\n",
    "    \n"
   ]
  }
 ],
 "metadata": {
  "kernelspec": {
   "display_name": "Python 3",
   "language": "python",
   "name": "python3"
  },
  "language_info": {
   "codemirror_mode": {
    "name": "ipython",
    "version": 3
   },
   "file_extension": ".py",
   "mimetype": "text/x-python",
   "name": "python",
   "nbconvert_exporter": "python",
   "pygments_lexer": "ipython3",
   "version": "3.6.9"
  },
  "varInspector": {
   "cols": {
    "lenName": 16,
    "lenType": 16,
    "lenVar": 40
   },
   "kernels_config": {
    "python": {
     "delete_cmd_postfix": "",
     "delete_cmd_prefix": "del ",
     "library": "var_list.py",
     "varRefreshCmd": "print(var_dic_list())"
    },
    "r": {
     "delete_cmd_postfix": ") ",
     "delete_cmd_prefix": "rm(",
     "library": "var_list.r",
     "varRefreshCmd": "cat(var_dic_list()) "
    }
   },
   "types_to_exclude": [
    "module",
    "function",
    "builtin_function_or_method",
    "instance",
    "_Feature"
   ],
   "window_display": false
  }
 },
 "nbformat": 4,
 "nbformat_minor": 4
}
