{
 "cells": [
  {
   "cell_type": "code",
   "execution_count": 1,
   "metadata": {},
   "outputs": [],
   "source": [
    "import torch\n",
    "from torch.utils.data import Dataset\n",
    "import torchvision.transforms as transforms\n",
    "\n",
    "import os.path as osp\n",
    "import os\n",
    "from PIL import Image\n",
    "import numpy as np\n",
    "import json\n",
    "\n",
    "from transform import *"
   ]
  },
  {
   "cell_type": "code",
   "execution_count": null,
   "metadata": {},
   "outputs": [],
   "source": [
    "class CityScapes(Dataset):\n",
    "    def __init__(self, rootpth, cropsize=(640, 480), mode='train', *args, **kwargs):\n",
    "        super(CityScapes, self).__init__()\n",
    "        assert mode in ('train', 'val', 'test')\n",
    "        self.mode = mode\n",
    "        self.ignore_lb = 255\n",
    "\n",
    "        with open('./cityscapes_info.json', 'r') as fr:\n",
    "            labels_info = json.load(fr)\n",
    "        self.lb_map = {el['id']: el['trainId'] for el in labels_info}\n",
    "\n",
    "        ## parse img directory\n",
    "        self.imgs = {}\n",
    "        imgnames = []\n",
    "        impth = osp.join(rootpth, 'leftImg8bit', mode)\n",
    "        folders = os.listdir(impth)\n",
    "        for fd in folders:\n",
    "            fdpth = osp.join(impth, fd)\n",
    "            im_names = os.listdir(fdpth)\n",
    "            names = [el.replace('_leftImg8bit.png', '') for el in im_names]\n",
    "            impths = [osp.join(fdpth, el) for el in im_names]\n",
    "            imgnames.extend(names)\n",
    "            self.imgs.update(dict(zip(names, impths)))\n",
    "\n",
    "        ## parse gt directory\n",
    "        self.labels = {}\n",
    "        gtnames = []\n",
    "        gtpth = osp.join(rootpth, 'gtFine', mode)\n",
    "        folders = os.listdir(gtpth)\n",
    "        for fd in folders:\n",
    "            fdpth = osp.join(gtpth, fd)\n",
    "            lbnames = os.listdir(fdpth)\n",
    "            lbnames = [el for el in lbnames if 'labelIds' in el]\n",
    "            names = [el.replace('_gtFine_labelIds.png', '') for el in lbnames]\n",
    "            lbpths = [osp.join(fdpth, el) for el in lbnames]\n",
    "            gtnames.extend(names)\n",
    "            self.labels.update(dict(zip(names, lbpths)))\n",
    "\n",
    "        self.imnames = imgnames\n",
    "        self.len = len(self.imnames)\n",
    "        assert set(imgnames) == set(gtnames)\n",
    "        assert set(self.imnames) == set(self.imgs.keys())\n",
    "        assert set(self.imnames) == set(self.labels.keys())\n",
    "\n",
    "        ## pre-processing\n",
    "        self.to_tensor = transforms.Compose([\n",
    "            transforms.ToTensor(),\n",
    "            transforms.Normalize((0.485, 0.456, 0.406), (0.229, 0.224, 0.225)),\n",
    "            ])\n",
    "        self.trans_train = Compose([\n",
    "            ColorJitter(\n",
    "                brightness = 0.5,\n",
    "                contrast = 0.5,\n",
    "                saturation = 0.5),\n",
    "            HorizontalFlip(),\n",
    "            RandomScale((0.75, 1.0, 1.25, 1.5, 1.75, 2.0)),\n",
    "            transforms.RandomResizedCrop(cropsize)\n",
    "            ])\n",
    "\n",
    "\n",
    "    def __getitem__(self, idx):\n",
    "        fn  = self.imnames[idx]\n",
    "        impth = self.imgs[fn]\n",
    "        lbpth = self.labels[fn]\n",
    "        img = Image.open(impth)\n",
    "        label = Image.open(lbpth)\n",
    "        if self.mode == 'train':\n",
    "            im_lb = dict(im = img, lb = label)\n",
    "            im_lb = self.trans_train(im_lb)\n",
    "            img, label = im_lb['im'], im_lb['lb']\n",
    "        img = self.to_tensor(img)\n",
    "        label = np.array(label).astype(np.int64)[np.newaxis, :]\n",
    "        label = self.convert_labels(label)\n",
    "        return img, label\n",
    "\n",
    "\n",
    "    def __len__(self):\n",
    "        return self.len\n",
    "\n",
    "\n",
    "    def convert_labels(self, label):\n",
    "        for k, v in self.lb_map.items():\n",
    "            label[label == k] = v\n",
    "        return label"
   ]
  },
  {
   "cell_type": "code",
   "execution_count": null,
   "metadata": {},
   "outputs": [],
   "source": [
    "data_dir = '/media/commaai-03/Data/dataset/Cityscapes'"
   ]
  },
  {
   "cell_type": "code",
   "execution_count": null,
   "metadata": {},
   "outputs": [],
   "source": [
    "ds = CityScapes(data_dir, mode='val')"
   ]
  },
  {
   "cell_type": "code",
   "execution_count": null,
   "metadata": {},
   "outputs": [],
   "source": [
    "ds.labels"
   ]
  },
  {
   "cell_type": "code",
   "execution_count": null,
   "metadata": {},
   "outputs": [],
   "source": []
  }
 ],
 "metadata": {
  "kernelspec": {
   "display_name": "Python 3",
   "language": "python",
   "name": "python3"
  },
  "language_info": {
   "codemirror_mode": {
    "name": "ipython",
    "version": 3
   },
   "file_extension": ".py",
   "mimetype": "text/x-python",
   "name": "python",
   "nbconvert_exporter": "python",
   "pygments_lexer": "ipython3",
   "version": "3.6.9"
  },
  "varInspector": {
   "cols": {
    "lenName": 16,
    "lenType": 16,
    "lenVar": 40
   },
   "kernels_config": {
    "python": {
     "delete_cmd_postfix": "",
     "delete_cmd_prefix": "del ",
     "library": "var_list.py",
     "varRefreshCmd": "print(var_dic_list())"
    },
    "r": {
     "delete_cmd_postfix": ") ",
     "delete_cmd_prefix": "rm(",
     "library": "var_list.r",
     "varRefreshCmd": "cat(var_dic_list()) "
    }
   },
   "types_to_exclude": [
    "module",
    "function",
    "builtin_function_or_method",
    "instance",
    "_Feature"
   ],
   "window_display": false
  }
 },
 "nbformat": 4,
 "nbformat_minor": 4
}
