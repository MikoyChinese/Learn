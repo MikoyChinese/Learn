{
 "cells": [
  {
   "cell_type": "code",
   "execution_count": 1,
   "metadata": {},
   "outputs": [],
   "source": [
    "import torch\n",
    "import torch.nn as nn"
   ]
  },
  {
   "cell_type": "code",
   "execution_count": 2,
   "metadata": {},
   "outputs": [],
   "source": [
    "class StemBlock(nn.Module):\n",
    "    \n",
    "    def __init__(self, in_ch=3, out_ch=16):\n",
    "        # in_ch: default is 3.\n",
    "        # out_ch: default is 16.\n",
    "        super(StemBlock, self).__init__()\n",
    "        self.conv1 = nn.Conv2d(in_ch, out_ch, kernel_size=3, stride=2, padding=1)\n",
    "        self.conv2 = nn.Conv2d(out_ch, out_ch//2, kernel_size=1, stride=1)\n",
    "        self.conv3 = nn.Conv2d(out_ch//2, out_ch, kernel_size=3, stride=2, padding=1)\n",
    "        self.conv4 = nn.Conv2d(out_ch * 2, out_ch, kernel_size=3, stride=1, padding=1)\n",
    "        \n",
    "        self.maxPooling = nn.MaxPool2d(kernel_size=3, stride=2, padding=1)\n",
    "        \n",
    "        self.bn1 = nn.BatchNorm2d(num_features=out_ch)\n",
    "        self.bn2 = nn.BatchNorm2d(num_features=out_ch//2)\n",
    "        self.relu = nn.ReLU()\n",
    "        \n",
    "    def forward(self, x):\n",
    "        x = self.conv1(x)\n",
    "        x = self.relu(self.bn1(x))\n",
    "        \n",
    "        # x1\n",
    "        x1 = self.conv2(x)\n",
    "        x1 = self.relu(self.bn2(x1))\n",
    "        x1 = self.conv3(x1)\n",
    "        # [H/4, W/4, C]\n",
    "        x1 = self.relu(self.bn1(x1))\n",
    "        \n",
    "        # x2\n",
    "        # [H/4, W/4, C]\n",
    "        x2 = self.maxPooling(x)\n",
    "        \n",
    "        x = torch.cat((x1, x2), 1)\n",
    "        x = self.conv4(x)\n",
    "        x = self.relu(self.bn1(x))\n",
    "        return x"
   ]
  },
  {
   "cell_type": "code",
   "execution_count": 3,
   "metadata": {},
   "outputs": [],
   "source": [
    "class ContextEmbeddingBlock(nn.Module):\n",
    "    \n",
    "    def __init__(self, in_ch=128, out_ch=128, stride=1):\n",
    "        \n",
    "        super(ContextEmbeddingBlock, self).__init__()\n",
    "        self.gapPooling = nn.AdaptiveAvgPool2d((1,1))\n",
    "        self.bn = nn.BatchNorm2d(num_features=in_ch)\n",
    "        self.conv1 = nn.Conv2d(in_ch, out_ch, kernel_size=1, stride=1)\n",
    "        self.relu = nn.ReLU()\n",
    "        self.conv2 = nn.Conv2d(in_ch, out_ch, kernel_size=3, stride=1, padding=1)\n",
    "        \n",
    "    def forward(self, x):\n",
    "        x1 = self.gapPooling(x)\n",
    "        # [None, C, 1, 1]\n",
    "        if not x1.size()[0] == 1:\n",
    "            x1 = self.bn(x1)\n",
    "        x1 = self.conv1(x1)\n",
    "        if not x1.size()[0] == 1:\n",
    "            x1 = self.relu(self.bn(x1))\n",
    "        else:\n",
    "            x1 = self.relu(x1)\n",
    "        \n",
    "        x = torch.add(x1, x)\n",
    "        x = self.conv2(x)\n",
    "        return x"
   ]
  },
  {
   "cell_type": "code",
   "execution_count": 4,
   "metadata": {},
   "outputs": [],
   "source": [
    "class DWConv(nn.Module):\n",
    "    \n",
    "    def __init__(self, in_ch, out_ch, stride=1):\n",
    "        super(DWConv, self).__init__()\n",
    "        self.depth_conv = nn.Conv2d(in_ch, in_ch, \n",
    "                                    kernel_size=3, \n",
    "                                    stride=stride,\n",
    "                                    padding=1,\n",
    "                                    groups=in_ch)\n",
    "        \n",
    "        self.point_conv = nn.Conv2d(in_ch, out_ch, \n",
    "                                    kernel_size=1, \n",
    "                                    stride=1, \n",
    "                                    groups=1)\n",
    "        \n",
    "    def forward(self, x):\n",
    "        x = self.depth_conv(x)\n",
    "        x = self.point_conv(x)\n",
    "        return x\n",
    "\n",
    "\n",
    "class GatherAndExpansionLayer(nn.Module):\n",
    "    \n",
    "    def __init__(self, in_ch, out_ch, stride=1):\n",
    "        super(GatherAndExpansionLayer, self).__init__()\n",
    "        error = \"GatherAndExpansionLayer's stride only support 1 or 2.\"\n",
    "        assert stride in [1, 2], error\n",
    "        self.stride = stride\n",
    "        if self.stride == 2:\n",
    "            self.conv2_1 = nn.Conv2d(in_ch, in_ch, kernel_size=3, stride=1, padding=1)\n",
    "            self.conv2_2 = DWConv(in_ch, 6 * in_ch, stride=2)\n",
    "            self.conv2_3 = DWConv(6 * in_ch, 6 * in_ch, stride=1)\n",
    "            self.conv2_4 = nn.Conv2d(6 * in_ch, out_ch, kernel_size=1)\n",
    "            self.conv2_5 = DWConv(in_ch, out_ch, stride=2)\n",
    "            self.conv2_6 = nn.Conv2d(out_ch, out_ch, kernel_size=1, stride=1)\n",
    "        else:\n",
    "            self.conv1_1 = nn.Conv2d(in_ch, in_ch, kernel_size=3, stride=self.stride, padding=1)\n",
    "            self.conv1_2 = DWConv(in_ch, 6 * in_ch, stride=self.stride)\n",
    "            self.conv1_3 = nn.Conv2d(6 * in_ch, out_ch, kernel_size=1, stride=self.stride)\n",
    "        self.bn1 = nn.BatchNorm2d(num_features=in_ch)\n",
    "        self.bn2 = nn.BatchNorm2d(num_features=in_ch * 6)\n",
    "        self.bn3 = nn.BatchNorm2d(num_features=out_ch)\n",
    "        self.relu = nn.ReLU()\n",
    "            \n",
    "    def forward(self, x):\n",
    "        if self.stride == 2:\n",
    "            x1 = self.conv2_1(x)\n",
    "            x1 = self.relu(self.bn1(x1))\n",
    "            x1 = self.conv2_2(x1)\n",
    "            x1 = self.bn2(x1)\n",
    "            x1 = self.conv2_3(x1)\n",
    "            x1 = self.bn2(x1)\n",
    "            x1 = self.conv2_4(x1)\n",
    "            x1 = self.bn3(x1)\n",
    "            \n",
    "            x2 = self.conv2_5(x)\n",
    "            x2 = self.bn3(x2)\n",
    "            x2 = self.conv2_6(x2)\n",
    "            x2 = self.bn3(x2)\n",
    "        else:\n",
    "            x1 = self.conv1_1(x)\n",
    "            x1 = self.relu(self.bn1(x1))\n",
    "            x1 = self.conv1_2(x1)\n",
    "            x1 = self.bn2(x1)\n",
    "            x1 = self.conv1_3(x1)\n",
    "            x1 = self.bn3(x1)\n",
    "            \n",
    "            x2 = x\n",
    "            \n",
    "        x = torch.add(x1, x2)\n",
    "        x = self.relu(x)\n",
    "        return x"
   ]
  },
  {
   "cell_type": "code",
   "execution_count": 5,
   "metadata": {},
   "outputs": [],
   "source": [
    "class DetailBranch(nn.Module):\n",
    "    \n",
    "    def __init__(self):\n",
    "        super(DetailBranch, self).__init__()\n",
    "        self.conv1 = nn.Conv2d(3, 64, kernel_size=3, stride=2, padding=1)\n",
    "        self.conv2 = nn.Conv2d(64, 64, kernel_size=3, stride=1, padding=1)\n",
    "        self.conv3 = nn.Conv2d(64, 64, kernel_size=3, stride=2, padding=1)\n",
    "        self.conv4 = nn.Conv2d(64, 128, kernel_size=3, stride=2, padding=1)\n",
    "        self.conv5 = nn.Conv2d(128, 128, kernel_size=3, stride=1, padding=1)\n",
    "        \n",
    "        self.bn1 = nn.BatchNorm2d(num_features=64)\n",
    "        self.bn2 = nn.BatchNorm2d(num_features=128)\n",
    "        self.relu = nn.ReLU()\n",
    "        \n",
    "    def forward(self, x):\n",
    "        # S1\n",
    "        x = self.relu(self.bn1(self.conv1(x)))\n",
    "        x = self.relu(self.bn1(self.conv2(x)))\n",
    "        # S2\n",
    "        x = self.relu(self.bn1(self.conv3(x)))\n",
    "        x = self.relu(self.bn1(self.conv2(x)))\n",
    "        x = self.relu(self.bn1(self.conv2(x)))\n",
    "        # S3\n",
    "        x = self.relu(self.bn2(self.conv4(x)))\n",
    "        x = self.relu(self.bn2(self.conv5(x)))\n",
    "        x = self.relu(self.bn2(self.conv5(x)))\n",
    "        \n",
    "        return x"
   ]
  },
  {
   "cell_type": "code",
   "execution_count": 6,
   "metadata": {},
   "outputs": [],
   "source": [
    "class SemanticBranch(nn.Module):\n",
    "    \n",
    "    def __init__(self, is_train=False):\n",
    "        super(SemanticBranch, self).__init__()\n",
    "        self.is_train = is_train\n",
    "        # S1 and S2\n",
    "        self.stem = StemBlock(in_ch=3, out_ch=16)\n",
    "        # S3\n",
    "        self.ge1 = GatherAndExpansionLayer(in_ch=16, out_ch=32, stride=2)\n",
    "        self.ge2 = GatherAndExpansionLayer(in_ch=32, out_ch=32, stride=1)\n",
    "        # S4\n",
    "        self.ge3 = GatherAndExpansionLayer(in_ch=32, out_ch=64, stride=2)\n",
    "        self.ge4 = GatherAndExpansionLayer(in_ch=64, out_ch=64, stride=1)\n",
    "        # S5\n",
    "        self.ge5 = GatherAndExpansionLayer(in_ch=64, out_ch=128, stride=2)\n",
    "        self.ge6 = GatherAndExpansionLayer(in_ch=128, out_ch=128, stride=1)\n",
    "        self.ce = ContextEmbeddingBlock(in_ch=128, out_ch=128, stride=1)\n",
    "        \n",
    "    def forward(self, x):\n",
    "        # S1 and S2\n",
    "        out1 = self.stem(x)\n",
    "        # out1: [None, 16, 128, 256]\n",
    "        \n",
    "        # S3\n",
    "        x = self.ge1(out1)\n",
    "        out2 = self.ge2(x)\n",
    "        # out2: [None, 32, 64, 128]\n",
    "        \n",
    "        # S4\n",
    "        x = self.ge3(out2)\n",
    "        out3 = self.ge4(x)\n",
    "        # out3: [None, 64, 32, 64]\n",
    "\n",
    "        # S5\n",
    "        x = self.ge5(out3)\n",
    "        x = self.ge6(x)\n",
    "        x = self.ge6(x)\n",
    "        out4 = self.ge6(x)\n",
    "        # out4: [None, 128, 16, 32]\n",
    "\n",
    "        # x: [None, 128, 16, 32]\n",
    "        x = self.ce(out4)\n",
    "        if self.is_train:\n",
    "            return x, out1, out2, out3, out4\n",
    "        else:\n",
    "            return x"
   ]
  },
  {
   "cell_type": "code",
   "execution_count": 7,
   "metadata": {},
   "outputs": [],
   "source": [
    "class SegHeadBooster(nn.Module):\n",
    "    \n",
    "    def __init__(self, in_ch, t_ch, out_ch, size):\n",
    "        super(SegHeadBooster, self).__init__()\n",
    "        self.conv1 = nn.Conv2d(in_ch, t_ch, kernel_size=3, stride=1, padding=1)\n",
    "        self.conv2 = nn.Conv2d(t_ch, out_ch, kernel_size=1, stride=1, bias=False)\n",
    "        self.bn = nn.BatchNorm2d(num_features=t_ch)\n",
    "        self.relu = nn.ReLU()\n",
    "        self.size = size\n",
    "        \n",
    "    def forward(self, x):\n",
    "        x = self.conv1(x)\n",
    "        x = self.relu(self.bn(x))\n",
    "        x = self.conv2(x)\n",
    "        x = nn.functional.interpolate(x, size=self.size, mode='bilinear')\n",
    "        return x"
   ]
  },
  {
   "cell_type": "code",
   "execution_count": 8,
   "metadata": {},
   "outputs": [],
   "source": [
    "class BiseNet_V2(nn.Module):\n",
    "    \n",
    "    def __init__(self, num_classes=19, is_train=False):\n",
    "        super(BiseNet_V2, self).__init__()\n",
    "        self.is_train = is_train\n",
    "        # Common\n",
    "        self.dw = DWConv(in_ch=128, out_ch=128, stride=1)\n",
    "        self.bn = nn.BatchNorm2d(num_features=128)\n",
    "        self.conv1_1 = nn.Conv2d(128, 128, kernel_size=1, stride=1)\n",
    "        self.sigmoid = nn.Sigmoid()\n",
    "        \n",
    "        # Detail Branch\n",
    "        self.detailBranch = DetailBranch()\n",
    "        self.conv3_3_2 = nn.Conv2d(128, 128, kernel_size=3, stride=2, padding=1)\n",
    "        self.avgPooling = nn.AvgPool2d(kernel_size=3, stride=2, padding=1)\n",
    "        \n",
    "        # Semantic Branch\n",
    "        self.semanticBranch = SemanticBranch(is_train=self.is_train)\n",
    "        self.conv3_3_1 = nn.Conv2d(128, 128, kernel_size=3, stride=1, padding=1)\n",
    "        \n",
    "        # Seg Head\n",
    "        size = (512, 1024)\n",
    "        self.segHead0 = SegHeadBooster(in_ch=128, t_ch=64, out_ch=num_classes, size=size)\n",
    "        self.segHead1 = SegHeadBooster(in_ch=16, t_ch=64, out_ch=num_classes, size=size)\n",
    "        self.segHead2 = SegHeadBooster(in_ch=32, t_ch=64, out_ch=num_classes, size=size)\n",
    "        self.segHead3 = SegHeadBooster(in_ch=64, t_ch=64, out_ch=num_classes, size=size)\n",
    "        self.segHead4 = SegHeadBooster(in_ch=128, t_ch=64, out_ch=num_classes, size=size)\n",
    "        \n",
    "        # init weight\n",
    "        self.init_weight()\n",
    "        \n",
    "    def forward(self, x):\n",
    "        # Detail Branch\n",
    "        dx = self.detailBranch(x)\n",
    "        dx1 = self.bn(self.dw(dx))\n",
    "        dx1 = self.conv1_1(dx1)\n",
    "        \n",
    "        dx2 = self.bn(self.conv3_3_2(dx))\n",
    "        dx2 = self.avgPooling(dx2)\n",
    "        \n",
    "        # Semantic Branch\n",
    "        if self.is_train:\n",
    "            sx, out1, out2, out3, out4 = self.semanticBranch(x)\n",
    "            out1 = self.segHead1(out1)\n",
    "            out2 = self.segHead2(out2)\n",
    "            out3 = self.segHead3(out3)\n",
    "            out4 = self.segHead4(out4)\n",
    "        else:\n",
    "            sx = self.semanticBranch(x)\n",
    "        sx1 = self.bn(self.dw(sx))\n",
    "        sx1 = self.sigmoid(self.conv1_1(sx1))\n",
    "        \n",
    "        sx2 = self.bn(self.conv3_3_1(sx))\n",
    "        sx2 = nn.functional.interpolate(sx2, scale_factor=4, mode='bilinear')\n",
    "        sx2 = self.sigmoid(sx2)\n",
    "        \n",
    "        # Aggregation Layer: element-wise product\n",
    "        d_out = torch.mul(dx1, sx2)\n",
    "        s_out = torch.mul(dx2, sx1)\n",
    "        \n",
    "        s_out_ = nn.functional.interpolate(s_out, scale_factor=4, mode='bilinear')\n",
    "        \n",
    "        out = d_out.add(s_out_)\n",
    "        # out: [None, 128, 64, 128]\n",
    "        out0 = self.bn(self.conv3_3_1(out))\n",
    "        out0 = self.segHead0(out0)\n",
    "        if self.is_train:\n",
    "            return out0, out1, out2, out3, out4\n",
    "        else:\n",
    "            return out0\n",
    "    \n",
    "    def init_weight(self):\n",
    "        # Kaiming Normal\n",
    "        for ly in self.children():\n",
    "            if isinstance(ly, nn.Conv2d):\n",
    "                nn.init.kaiming_normal_(ly.weight, a=1)\n",
    "                if not ly.bias is None: nn.init.constant_(ly.bias, 0)"
   ]
  },
  {
   "cell_type": "code",
   "execution_count": 9,
   "metadata": {},
   "outputs": [],
   "source": [
    "from cityscapes import CityScapes\n",
    "from torch.utils.data import DataLoader\n",
    "from tensorboardX import SummaryWriter\n",
    "from loss import OhemCELoss\n",
    "from tqdm import tqdm\n",
    "import os"
   ]
  },
  {
   "cell_type": "code",
   "execution_count": 10,
   "metadata": {},
   "outputs": [],
   "source": [
    "def poly_lr_scheduler(optimizer, init_lr, iter, lr_decay_iter=1,\n",
    "                      max_iter=300, power=0.9):\n",
    "    \n",
    "    '''Copy from ooooverflow/BiSeNet\n",
    "    Args:\n",
    "        init_lr: is base learning rate\n",
    "        iter: is a current iteration\n",
    "        lr_decay_iter: how frequently decay occurs, default is 1\n",
    "        max_iter: is number of maximum iterations\n",
    "        power: is a polymomial power\n",
    "    '''\n",
    "    lr = init_lr * (1 - iter/max_iter) ** power\n",
    "    optimizer.param_groups[0]['lr'] = lr\n",
    "    return lr"
   ]
  },
  {
   "cell_type": "code",
   "execution_count": 11,
   "metadata": {},
   "outputs": [],
   "source": [
    "data_dir = '/media/commaai-03/Data/dataset/Cityscapes'\n",
    "save_dir = '/home/commaai-03/Mikoy/learn/DeepLearning/pytorch/papers/BiseNet_V2/models'\n",
    "learning_rate = 5e-2\n",
    "num_epochs = 10000\n",
    "batch_size = 16\n",
    "thresh = 0.7\n",
    "n_mid = (1024 * 512) // 2"
   ]
  },
  {
   "cell_type": "code",
   "execution_count": 12,
   "metadata": {},
   "outputs": [],
   "source": [
    "ds_train = CityScapes(data_dir, cropsize=(2048, 1024), mode='train')\n",
    "dataloader_train = DataLoader(\n",
    "    ds_train,\n",
    "    batch_size=4,\n",
    "    shuffle=False,\n",
    "    num_workers=4,\n",
    "    drop_last=True)\n",
    "ds_val = CityScapes(data_dir, cropsize=(2048, 1024), mode='val')\n",
    "dataloader_val = DataLoader(\n",
    "    ds_val,\n",
    "    batch_size=1,\n",
    "    shuffle=False,\n",
    "    num_workers=8)"
   ]
  },
  {
   "cell_type": "code",
   "execution_count": null,
   "metadata": {},
   "outputs": [],
   "source": [
    "diter = iter(dataloader_train)\n",
    "im, lb = next(diter)"
   ]
  },
  {
   "cell_type": "code",
   "execution_count": null,
   "metadata": {},
   "outputs": [],
   "source": [
    "im.shape"
   ]
  },
  {
   "cell_type": "code",
   "execution_count": 13,
   "metadata": {},
   "outputs": [
    {
     "name": "stderr",
     "output_type": "stream",
     "text": [
      "[epoch]: 0, [lr]: 0.050000:   0%|          | 0/11888 [00:00<?, ?it/s]/home/commaai-03/.local/lib/python3.6/site-packages/torch/nn/functional.py:2506: UserWarning: Default upsampling behavior when mode=bilinear is changed to align_corners=False since 0.4.0. Please specify align_corners=True if the old behavior is desired. See the documentation of nn.Upsample for details.\n",
      "  \"See the documentation of nn.Upsample for details.\".format(mode))\n",
      "[epoch]: 0, [lr]: 0.050000: 100%|██████████| 11888/11888 [04:31<00:00, 43.76it/s, loss=6.18206] \n",
      "[epoch]: 1, [lr]: 0.049995:   0%|          | 0/11888 [00:00<?, ?it/s]"
     ]
    },
    {
     "name": "stdout",
     "output_type": "stream",
     "text": [
      "[Info]: Loss for train: 8.05211\n"
     ]
    },
    {
     "name": "stderr",
     "output_type": "stream",
     "text": [
      "[epoch]: 1, [lr]: 0.049995: 100%|██████████| 11888/11888 [04:26<00:00, 44.68it/s, loss=6.88038] \n",
      "[epoch]: 2, [lr]: 0.049991:   0%|          | 0/11888 [00:00<?, ?it/s]"
     ]
    },
    {
     "name": "stdout",
     "output_type": "stream",
     "text": [
      "[Info]: Loss for train: 7.39447\n"
     ]
    },
    {
     "name": "stderr",
     "output_type": "stream",
     "text": [
      "[epoch]: 2, [lr]: 0.049991: 100%|██████████| 11888/11888 [04:25<00:00, 44.83it/s, loss=7.37313] \n",
      "[epoch]: 3, [lr]: 0.049986:   0%|          | 0/11888 [00:00<?, ?it/s]"
     ]
    },
    {
     "name": "stdout",
     "output_type": "stream",
     "text": [
      "[Info]: Loss for train: 7.28419\n"
     ]
    },
    {
     "name": "stderr",
     "output_type": "stream",
     "text": [
      "[epoch]: 3, [lr]: 0.049986: 100%|██████████| 11888/11888 [04:37<00:00, 42.87it/s, loss=7.99342] \n",
      "[epoch]: 4, [lr]: 0.049982:   0%|          | 0/11888 [00:00<?, ?it/s]"
     ]
    },
    {
     "name": "stdout",
     "output_type": "stream",
     "text": [
      "[Info]: Loss for train: 7.19630\n"
     ]
    },
    {
     "name": "stderr",
     "output_type": "stream",
     "text": [
      "[epoch]: 4, [lr]: 0.049982: 100%|██████████| 11888/11888 [04:31<00:00, 43.74it/s, loss=7.63812] \n",
      "[epoch]: 5, [lr]: 0.049977:   0%|          | 0/11888 [00:00<?, ?it/s]"
     ]
    },
    {
     "name": "stdout",
     "output_type": "stream",
     "text": [
      "[Info]: Loss for train: 7.16199\n"
     ]
    },
    {
     "name": "stderr",
     "output_type": "stream",
     "text": [
      "[epoch]: 5, [lr]: 0.049977: 100%|██████████| 11888/11888 [04:42<00:00, 42.06it/s, loss=7.93318] \n",
      "[epoch]: 6, [lr]: 0.049973:   0%|          | 0/11888 [00:00<?, ?it/s]"
     ]
    },
    {
     "name": "stdout",
     "output_type": "stream",
     "text": [
      "[Info]: Loss for train: 7.07838\n"
     ]
    },
    {
     "name": "stderr",
     "output_type": "stream",
     "text": [
      "[epoch]: 6, [lr]: 0.049973: 100%|██████████| 11888/11888 [04:42<00:00, 42.14it/s, loss=6.75403] \n",
      "[epoch]: 7, [lr]: 0.049968:   0%|          | 0/11888 [00:00<?, ?it/s]"
     ]
    },
    {
     "name": "stdout",
     "output_type": "stream",
     "text": [
      "[Info]: Loss for train: 7.00063\n"
     ]
    },
    {
     "name": "stderr",
     "output_type": "stream",
     "text": [
      "[epoch]: 7, [lr]: 0.049968: 100%|██████████| 11888/11888 [04:27<00:00, 44.52it/s, loss=6.00324] \n",
      "[epoch]: 8, [lr]: 0.049964:   0%|          | 0/11888 [00:00<?, ?it/s]"
     ]
    },
    {
     "name": "stdout",
     "output_type": "stream",
     "text": [
      "[Info]: Loss for train: 6.97568\n"
     ]
    },
    {
     "name": "stderr",
     "output_type": "stream",
     "text": [
      "[epoch]: 8, [lr]: 0.049964: 100%|██████████| 11888/11888 [04:21<00:00, 45.41it/s, loss=6.40938] \n",
      "[epoch]: 9, [lr]: 0.049959:   0%|          | 0/11888 [00:00<?, ?it/s]"
     ]
    },
    {
     "name": "stdout",
     "output_type": "stream",
     "text": [
      "[Info]: Loss for train: 6.96574\n"
     ]
    },
    {
     "name": "stderr",
     "output_type": "stream",
     "text": [
      "[epoch]: 9, [lr]: 0.049959: 100%|██████████| 11888/11888 [04:20<00:00, 45.57it/s, loss=6.12463] \n",
      "[epoch]: 10, [lr]: 0.049955:   0%|          | 0/11888 [00:00<?, ?it/s]"
     ]
    },
    {
     "name": "stdout",
     "output_type": "stream",
     "text": [
      "[Info]: Loss for train: 6.96668\n"
     ]
    },
    {
     "name": "stderr",
     "output_type": "stream",
     "text": [
      "[epoch]: 10, [lr]: 0.049955: 100%|██████████| 11888/11888 [04:22<00:00, 45.27it/s, loss=6.76232] \n",
      "[epoch]: 11, [lr]: 0.049950:   0%|          | 0/11888 [00:00<?, ?it/s]"
     ]
    },
    {
     "name": "stdout",
     "output_type": "stream",
     "text": [
      "[Info]: Loss for train: 6.90049\n"
     ]
    },
    {
     "name": "stderr",
     "output_type": "stream",
     "text": [
      "[epoch]: 11, [lr]: 0.049950: 100%|██████████| 11888/11888 [04:24<00:00, 44.86it/s, loss=6.11315] \n",
      "[epoch]: 12, [lr]: 0.049946:   0%|          | 0/11888 [00:00<?, ?it/s]"
     ]
    },
    {
     "name": "stdout",
     "output_type": "stream",
     "text": [
      "[Info]: Loss for train: 6.89602\n"
     ]
    },
    {
     "name": "stderr",
     "output_type": "stream",
     "text": [
      "[epoch]: 12, [lr]: 0.049946: 100%|██████████| 11888/11888 [04:30<00:00, 43.96it/s, loss=6.96922] \n",
      "[epoch]: 13, [lr]: 0.049941:   0%|          | 0/11888 [00:00<?, ?it/s]"
     ]
    },
    {
     "name": "stdout",
     "output_type": "stream",
     "text": [
      "[Info]: Loss for train: 6.89792\n"
     ]
    },
    {
     "name": "stderr",
     "output_type": "stream",
     "text": [
      "[epoch]: 13, [lr]: 0.049941: 100%|██████████| 11888/11888 [04:30<00:00, 43.87it/s, loss=6.92871] \n",
      "[epoch]: 14, [lr]: 0.049937:   0%|          | 0/11888 [00:00<?, ?it/s]"
     ]
    },
    {
     "name": "stdout",
     "output_type": "stream",
     "text": [
      "[Info]: Loss for train: 6.86713\n"
     ]
    },
    {
     "name": "stderr",
     "output_type": "stream",
     "text": [
      "[epoch]: 14, [lr]: 0.049937: 100%|██████████| 11888/11888 [04:26<00:00, 44.54it/s, loss=6.70642] \n",
      "[epoch]: 15, [lr]: 0.049932:   0%|          | 0/11888 [00:00<?, ?it/s]"
     ]
    },
    {
     "name": "stdout",
     "output_type": "stream",
     "text": [
      "[Info]: Loss for train: 6.85620\n"
     ]
    },
    {
     "name": "stderr",
     "output_type": "stream",
     "text": [
      "[epoch]: 15, [lr]: 0.049932: 100%|██████████| 11888/11888 [04:25<00:00, 44.73it/s, loss=5.73553] \n",
      "[epoch]: 16, [lr]: 0.049928:   0%|          | 0/11888 [00:00<?, ?it/s]"
     ]
    },
    {
     "name": "stdout",
     "output_type": "stream",
     "text": [
      "[Info]: Loss for train: 6.82959\n"
     ]
    },
    {
     "name": "stderr",
     "output_type": "stream",
     "text": [
      "[epoch]: 16, [lr]: 0.049928: 100%|██████████| 11888/11888 [04:25<00:00, 44.74it/s, loss=6.61011] \n",
      "[epoch]: 17, [lr]: 0.049923:   0%|          | 0/11888 [00:00<?, ?it/s]"
     ]
    },
    {
     "name": "stdout",
     "output_type": "stream",
     "text": [
      "[Info]: Loss for train: 6.79086\n"
     ]
    },
    {
     "name": "stderr",
     "output_type": "stream",
     "text": [
      "[epoch]: 17, [lr]: 0.049923: 100%|██████████| 11888/11888 [04:22<00:00, 45.25it/s, loss=6.37003] \n",
      "[epoch]: 18, [lr]: 0.049919:   0%|          | 0/11888 [00:00<?, ?it/s]"
     ]
    },
    {
     "name": "stdout",
     "output_type": "stream",
     "text": [
      "[Info]: Loss for train: 6.78478\n"
     ]
    },
    {
     "name": "stderr",
     "output_type": "stream",
     "text": [
      "[epoch]: 18, [lr]: 0.049919: 100%|██████████| 11888/11888 [04:22<00:00, 45.21it/s, loss=6.40636] \n",
      "[epoch]: 19, [lr]: 0.049914:   0%|          | 0/11888 [00:00<?, ?it/s]"
     ]
    },
    {
     "name": "stdout",
     "output_type": "stream",
     "text": [
      "[Info]: Loss for train: 6.78287\n"
     ]
    },
    {
     "name": "stderr",
     "output_type": "stream",
     "text": [
      "[epoch]: 19, [lr]: 0.049914: 100%|██████████| 11888/11888 [04:22<00:00, 45.24it/s, loss=6.49606] \n",
      "[epoch]: 20, [lr]: 0.049910:   0%|          | 0/11888 [00:00<?, ?it/s]"
     ]
    },
    {
     "name": "stdout",
     "output_type": "stream",
     "text": [
      "[Info]: Loss for train: 6.77629\n"
     ]
    },
    {
     "name": "stderr",
     "output_type": "stream",
     "text": [
      "[epoch]: 20, [lr]: 0.049910: 100%|██████████| 11888/11888 [04:22<00:00, 45.22it/s, loss=6.10880] \n",
      "[epoch]: 21, [lr]: 0.049905:   0%|          | 0/11888 [00:00<?, ?it/s]"
     ]
    },
    {
     "name": "stdout",
     "output_type": "stream",
     "text": [
      "[Info]: Loss for train: 6.77845\n"
     ]
    },
    {
     "name": "stderr",
     "output_type": "stream",
     "text": [
      "[epoch]: 21, [lr]: 0.049905: 100%|██████████| 11888/11888 [04:22<00:00, 45.24it/s, loss=7.67036] \n",
      "[epoch]: 22, [lr]: 0.049901:   0%|          | 0/11888 [00:00<?, ?it/s]"
     ]
    },
    {
     "name": "stdout",
     "output_type": "stream",
     "text": [
      "[Info]: Loss for train: 6.74931\n"
     ]
    },
    {
     "name": "stderr",
     "output_type": "stream",
     "text": [
      "[epoch]: 22, [lr]: 0.049901: 100%|██████████| 11888/11888 [04:22<00:00, 45.22it/s, loss=6.45875] \n",
      "[epoch]: 23, [lr]: 0.049896:   0%|          | 0/11888 [00:00<?, ?it/s]"
     ]
    },
    {
     "name": "stdout",
     "output_type": "stream",
     "text": [
      "[Info]: Loss for train: 6.78605\n"
     ]
    },
    {
     "name": "stderr",
     "output_type": "stream",
     "text": [
      "[epoch]: 23, [lr]: 0.049896: 100%|██████████| 11888/11888 [04:22<00:00, 45.25it/s, loss=6.61819] \n",
      "[epoch]: 24, [lr]: 0.049892:   0%|          | 0/11888 [00:00<?, ?it/s]"
     ]
    },
    {
     "name": "stdout",
     "output_type": "stream",
     "text": [
      "[Info]: Loss for train: 6.71238\n"
     ]
    },
    {
     "name": "stderr",
     "output_type": "stream",
     "text": [
      "[epoch]: 24, [lr]: 0.049892: 100%|██████████| 11888/11888 [04:22<00:00, 45.23it/s, loss=6.14727] \n",
      "[epoch]: 25, [lr]: 0.049887:   0%|          | 0/11888 [00:00<?, ?it/s]"
     ]
    },
    {
     "name": "stdout",
     "output_type": "stream",
     "text": [
      "[Info]: Loss for train: 6.71884\n"
     ]
    },
    {
     "name": "stderr",
     "output_type": "stream",
     "text": [
      "[epoch]: 25, [lr]: 0.049887: 100%|██████████| 11888/11888 [04:22<00:00, 45.25it/s, loss=6.33621] \n",
      "[epoch]: 26, [lr]: 0.049883:   0%|          | 0/11888 [00:00<?, ?it/s]"
     ]
    },
    {
     "name": "stdout",
     "output_type": "stream",
     "text": [
      "[Info]: Loss for train: 6.73147\n"
     ]
    },
    {
     "name": "stderr",
     "output_type": "stream",
     "text": [
      "[epoch]: 26, [lr]: 0.049883: 100%|██████████| 11888/11888 [04:22<00:00, 45.23it/s, loss=6.57106] \n",
      "[epoch]: 27, [lr]: 0.049878:   0%|          | 0/11888 [00:00<?, ?it/s]"
     ]
    },
    {
     "name": "stdout",
     "output_type": "stream",
     "text": [
      "[Info]: Loss for train: 6.73985\n"
     ]
    },
    {
     "name": "stderr",
     "output_type": "stream",
     "text": [
      "[epoch]: 27, [lr]: 0.049878: 100%|██████████| 11888/11888 [04:22<00:00, 45.23it/s, loss=6.20305] \n",
      "[epoch]: 28, [lr]: 0.049874:   0%|          | 0/11888 [00:00<?, ?it/s]"
     ]
    },
    {
     "name": "stdout",
     "output_type": "stream",
     "text": [
      "[Info]: Loss for train: 6.71273\n"
     ]
    },
    {
     "name": "stderr",
     "output_type": "stream",
     "text": [
      "[epoch]: 28, [lr]: 0.049874: 100%|██████████| 11888/11888 [04:22<00:00, 45.23it/s, loss=6.88631] \n",
      "[epoch]: 29, [lr]: 0.049869:   0%|          | 0/11888 [00:00<?, ?it/s]"
     ]
    },
    {
     "name": "stdout",
     "output_type": "stream",
     "text": [
      "[Info]: Loss for train: 6.74471\n"
     ]
    },
    {
     "name": "stderr",
     "output_type": "stream",
     "text": [
      "[epoch]: 29, [lr]: 0.049869: 100%|██████████| 11888/11888 [04:22<00:00, 45.27it/s, loss=6.31909] \n",
      "[epoch]: 30, [lr]: 0.049865:   0%|          | 0/11888 [00:00<?, ?it/s]"
     ]
    },
    {
     "name": "stdout",
     "output_type": "stream",
     "text": [
      "[Info]: Loss for train: 6.68758\n"
     ]
    },
    {
     "name": "stderr",
     "output_type": "stream",
     "text": [
      "[epoch]: 30, [lr]: 0.049865: 100%|██████████| 11888/11888 [04:22<00:00, 45.24it/s, loss=6.91620] \n",
      "[epoch]: 31, [lr]: 0.049860:   0%|          | 0/11888 [00:00<?, ?it/s]"
     ]
    },
    {
     "name": "stdout",
     "output_type": "stream",
     "text": [
      "[Info]: Loss for train: 6.70621\n"
     ]
    },
    {
     "name": "stderr",
     "output_type": "stream",
     "text": [
      "[epoch]: 31, [lr]: 0.049860: 100%|██████████| 11888/11888 [04:22<00:00, 45.26it/s, loss=6.28882] \n",
      "[epoch]: 32, [lr]: 0.049856:   0%|          | 0/11888 [00:00<?, ?it/s]"
     ]
    },
    {
     "name": "stdout",
     "output_type": "stream",
     "text": [
      "[Info]: Loss for train: 6.68748\n"
     ]
    },
    {
     "name": "stderr",
     "output_type": "stream",
     "text": [
      "[epoch]: 32, [lr]: 0.049856: 100%|██████████| 11888/11888 [04:22<00:00, 45.24it/s, loss=6.23078] \n",
      "[epoch]: 33, [lr]: 0.049851:   0%|          | 0/11888 [00:00<?, ?it/s]"
     ]
    },
    {
     "name": "stdout",
     "output_type": "stream",
     "text": [
      "[Info]: Loss for train: 6.72705\n"
     ]
    },
    {
     "name": "stderr",
     "output_type": "stream",
     "text": [
      "[epoch]: 33, [lr]: 0.049851: 100%|██████████| 11888/11888 [04:22<00:00, 45.25it/s, loss=5.97286] \n",
      "[epoch]: 34, [lr]: 0.049847:   0%|          | 0/11888 [00:00<?, ?it/s]"
     ]
    },
    {
     "name": "stdout",
     "output_type": "stream",
     "text": [
      "[Info]: Loss for train: 6.68494\n"
     ]
    },
    {
     "name": "stderr",
     "output_type": "stream",
     "text": [
      "[epoch]: 34, [lr]: 0.049847: 100%|██████████| 11888/11888 [04:22<00:00, 45.25it/s, loss=7.03783] \n",
      "[epoch]: 35, [lr]: 0.049842:   0%|          | 0/11888 [00:00<?, ?it/s]"
     ]
    },
    {
     "name": "stdout",
     "output_type": "stream",
     "text": [
      "[Info]: Loss for train: 6.71231\n"
     ]
    },
    {
     "name": "stderr",
     "output_type": "stream",
     "text": [
      "[epoch]: 35, [lr]: 0.049842: 100%|██████████| 11888/11888 [04:22<00:00, 45.29it/s, loss=7.55538] \n",
      "[epoch]: 36, [lr]: 0.049838:   0%|          | 0/11888 [00:00<?, ?it/s]"
     ]
    },
    {
     "name": "stdout",
     "output_type": "stream",
     "text": [
      "[Info]: Loss for train: 6.66716\n"
     ]
    },
    {
     "name": "stderr",
     "output_type": "stream",
     "text": [
      "[epoch]: 36, [lr]: 0.049838: 100%|██████████| 11888/11888 [04:22<00:00, 45.23it/s, loss=7.18053] \n",
      "[epoch]: 37, [lr]: 0.049833:   0%|          | 0/11888 [00:00<?, ?it/s]"
     ]
    },
    {
     "name": "stdout",
     "output_type": "stream",
     "text": [
      "[Info]: Loss for train: 6.68833\n"
     ]
    },
    {
     "name": "stderr",
     "output_type": "stream",
     "text": [
      "[epoch]: 37, [lr]: 0.049833: 100%|██████████| 11888/11888 [04:22<00:00, 45.24it/s, loss=6.94825] \n",
      "[epoch]: 38, [lr]: 0.049829:   0%|          | 0/11888 [00:00<?, ?it/s]"
     ]
    },
    {
     "name": "stdout",
     "output_type": "stream",
     "text": [
      "[Info]: Loss for train: 6.66217\n"
     ]
    },
    {
     "name": "stderr",
     "output_type": "stream",
     "text": [
      "[epoch]: 38, [lr]: 0.049829: 100%|██████████| 11888/11888 [04:22<00:00, 45.25it/s, loss=6.19923] \n",
      "[epoch]: 39, [lr]: 0.049824:   0%|          | 0/11888 [00:00<?, ?it/s]"
     ]
    },
    {
     "name": "stdout",
     "output_type": "stream",
     "text": [
      "[Info]: Loss for train: 6.64600\n"
     ]
    },
    {
     "name": "stderr",
     "output_type": "stream",
     "text": [
      "[epoch]: 39, [lr]: 0.049824: 100%|██████████| 11888/11888 [04:22<00:00, 45.25it/s, loss=6.59910] \n",
      "[epoch]: 40, [lr]: 0.049820:   0%|          | 0/11888 [00:00<?, ?it/s]"
     ]
    },
    {
     "name": "stdout",
     "output_type": "stream",
     "text": [
      "[Info]: Loss for train: 6.63703\n"
     ]
    },
    {
     "name": "stderr",
     "output_type": "stream",
     "text": [
      "[epoch]: 40, [lr]: 0.049820: 100%|██████████| 11888/11888 [04:22<00:00, 45.24it/s, loss=6.24076] \n",
      "[epoch]: 41, [lr]: 0.049815:   0%|          | 0/11888 [00:00<?, ?it/s]"
     ]
    },
    {
     "name": "stdout",
     "output_type": "stream",
     "text": [
      "[Info]: Loss for train: 6.65293\n"
     ]
    },
    {
     "name": "stderr",
     "output_type": "stream",
     "text": [
      "[epoch]: 41, [lr]: 0.049815: 100%|██████████| 11888/11888 [04:22<00:00, 45.25it/s, loss=7.26626] \n",
      "[epoch]: 42, [lr]: 0.049811:   0%|          | 0/11888 [00:00<?, ?it/s]"
     ]
    },
    {
     "name": "stdout",
     "output_type": "stream",
     "text": [
      "[Info]: Loss for train: 6.69157\n"
     ]
    },
    {
     "name": "stderr",
     "output_type": "stream",
     "text": [
      "[epoch]: 42, [lr]: 0.049811: 100%|██████████| 11888/11888 [04:22<00:00, 45.25it/s, loss=6.07544] \n",
      "[epoch]: 43, [lr]: 0.049806:   0%|          | 0/11888 [00:00<?, ?it/s]"
     ]
    },
    {
     "name": "stdout",
     "output_type": "stream",
     "text": [
      "[Info]: Loss for train: 6.65196\n"
     ]
    },
    {
     "name": "stderr",
     "output_type": "stream",
     "text": [
      "[epoch]: 43, [lr]: 0.049806: 100%|██████████| 11888/11888 [04:22<00:00, 45.26it/s, loss=6.33453] \n",
      "[epoch]: 44, [lr]: 0.049802:   0%|          | 0/11888 [00:00<?, ?it/s]"
     ]
    },
    {
     "name": "stdout",
     "output_type": "stream",
     "text": [
      "[Info]: Loss for train: 6.65100\n"
     ]
    },
    {
     "name": "stderr",
     "output_type": "stream",
     "text": [
      "[epoch]: 44, [lr]: 0.049802: 100%|██████████| 11888/11888 [04:22<00:00, 45.25it/s, loss=6.77580] \n",
      "[epoch]: 45, [lr]: 0.049797:   0%|          | 0/11888 [00:00<?, ?it/s]"
     ]
    },
    {
     "name": "stdout",
     "output_type": "stream",
     "text": [
      "[Info]: Loss for train: 6.62956\n"
     ]
    },
    {
     "name": "stderr",
     "output_type": "stream",
     "text": [
      "[epoch]: 45, [lr]: 0.049797: 100%|██████████| 11888/11888 [04:22<00:00, 45.27it/s, loss=6.28678] \n",
      "[epoch]: 46, [lr]: 0.049793:   0%|          | 0/11888 [00:00<?, ?it/s]"
     ]
    },
    {
     "name": "stdout",
     "output_type": "stream",
     "text": [
      "[Info]: Loss for train: 6.68610\n"
     ]
    },
    {
     "name": "stderr",
     "output_type": "stream",
     "text": [
      "[epoch]: 46, [lr]: 0.049793: 100%|██████████| 11888/11888 [04:22<00:00, 45.25it/s, loss=5.89646] \n",
      "[epoch]: 47, [lr]: 0.049788:   0%|          | 0/11888 [00:00<?, ?it/s]"
     ]
    },
    {
     "name": "stdout",
     "output_type": "stream",
     "text": [
      "[Info]: Loss for train: 6.68243\n"
     ]
    },
    {
     "name": "stderr",
     "output_type": "stream",
     "text": [
      "[epoch]: 47, [lr]: 0.049788: 100%|██████████| 11888/11888 [04:22<00:00, 45.30it/s, loss=6.00979] \n",
      "[epoch]: 48, [lr]: 0.049784:   0%|          | 0/11888 [00:00<?, ?it/s]"
     ]
    },
    {
     "name": "stdout",
     "output_type": "stream",
     "text": [
      "[Info]: Loss for train: 6.59160\n"
     ]
    },
    {
     "name": "stderr",
     "output_type": "stream",
     "text": [
      "[epoch]: 48, [lr]: 0.049784: 100%|██████████| 11888/11888 [04:22<00:00, 45.22it/s, loss=6.78359] \n",
      "[epoch]: 49, [lr]: 0.049779:   0%|          | 0/11888 [00:00<?, ?it/s]"
     ]
    },
    {
     "name": "stdout",
     "output_type": "stream",
     "text": [
      "[Info]: Loss for train: 6.65457\n"
     ]
    },
    {
     "name": "stderr",
     "output_type": "stream",
     "text": [
      "[epoch]: 49, [lr]: 0.049779: 100%|██████████| 11888/11888 [04:22<00:00, 45.28it/s, loss=6.12327] \n",
      "[epoch]: 50, [lr]: 0.049775:   0%|          | 0/11888 [00:00<?, ?it/s]"
     ]
    },
    {
     "name": "stdout",
     "output_type": "stream",
     "text": [
      "[Info]: Loss for train: 6.62730\n"
     ]
    },
    {
     "name": "stderr",
     "output_type": "stream",
     "text": [
      "[epoch]: 50, [lr]: 0.049775: 100%|██████████| 11888/11888 [04:22<00:00, 45.28it/s, loss=6.29937] \n",
      "[epoch]: 51, [lr]: 0.049770:   0%|          | 0/11888 [00:00<?, ?it/s]"
     ]
    },
    {
     "name": "stdout",
     "output_type": "stream",
     "text": [
      "[Info]: Loss for train: 6.60710\n"
     ]
    },
    {
     "name": "stderr",
     "output_type": "stream",
     "text": [
      "[epoch]: 51, [lr]: 0.049770: 100%|██████████| 11888/11888 [04:22<00:00, 45.27it/s, loss=6.33683] \n",
      "[epoch]: 52, [lr]: 0.049766:   0%|          | 0/11888 [00:00<?, ?it/s]"
     ]
    },
    {
     "name": "stdout",
     "output_type": "stream",
     "text": [
      "[Info]: Loss for train: 6.61989\n"
     ]
    },
    {
     "name": "stderr",
     "output_type": "stream",
     "text": [
      "[epoch]: 52, [lr]: 0.049766: 100%|██████████| 11888/11888 [04:22<00:00, 45.26it/s, loss=6.64379] \n",
      "[epoch]: 53, [lr]: 0.049761:   0%|          | 0/11888 [00:00<?, ?it/s]"
     ]
    },
    {
     "name": "stdout",
     "output_type": "stream",
     "text": [
      "[Info]: Loss for train: 6.62627\n"
     ]
    },
    {
     "name": "stderr",
     "output_type": "stream",
     "text": [
      "[epoch]: 53, [lr]: 0.049761: 100%|██████████| 11888/11888 [04:22<00:00, 45.27it/s, loss=6.08387] \n",
      "[epoch]: 54, [lr]: 0.049757:   0%|          | 0/11888 [00:00<?, ?it/s]"
     ]
    },
    {
     "name": "stdout",
     "output_type": "stream",
     "text": [
      "[Info]: Loss for train: 6.61983\n"
     ]
    },
    {
     "name": "stderr",
     "output_type": "stream",
     "text": [
      "[epoch]: 54, [lr]: 0.049757: 100%|██████████| 11888/11888 [04:22<00:00, 45.27it/s, loss=6.68194] \n",
      "[epoch]: 55, [lr]: 0.049752:   0%|          | 0/11888 [00:00<?, ?it/s]"
     ]
    },
    {
     "name": "stdout",
     "output_type": "stream",
     "text": [
      "[Info]: Loss for train: 6.65010\n"
     ]
    },
    {
     "name": "stderr",
     "output_type": "stream",
     "text": [
      "[epoch]: 55, [lr]: 0.049752: 100%|██████████| 11888/11888 [04:22<00:00, 45.29it/s, loss=6.38764]\n",
      "[epoch]: 56, [lr]: 0.049748:   0%|          | 0/11888 [00:00<?, ?it/s]"
     ]
    },
    {
     "name": "stdout",
     "output_type": "stream",
     "text": [
      "[Info]: Loss for train: 6.57869\n"
     ]
    },
    {
     "name": "stderr",
     "output_type": "stream",
     "text": [
      "[epoch]: 56, [lr]: 0.049748: 100%|██████████| 11888/11888 [04:22<00:00, 45.28it/s, loss=5.86229] \n",
      "[epoch]: 57, [lr]: 0.049743:   0%|          | 0/11888 [00:00<?, ?it/s]"
     ]
    },
    {
     "name": "stdout",
     "output_type": "stream",
     "text": [
      "[Info]: Loss for train: 6.62427\n"
     ]
    },
    {
     "name": "stderr",
     "output_type": "stream",
     "text": [
      "[epoch]: 57, [lr]: 0.049743: 100%|██████████| 11888/11888 [04:22<00:00, 45.27it/s, loss=6.11056]\n",
      "[epoch]: 58, [lr]: 0.049739:   0%|          | 0/11888 [00:00<?, ?it/s]"
     ]
    },
    {
     "name": "stdout",
     "output_type": "stream",
     "text": [
      "[Info]: Loss for train: 6.62903\n"
     ]
    },
    {
     "name": "stderr",
     "output_type": "stream",
     "text": [
      "[epoch]: 58, [lr]: 0.049739: 100%|██████████| 11888/11888 [04:22<00:00, 45.28it/s, loss=6.23869] \n",
      "[epoch]: 59, [lr]: 0.049734:   0%|          | 0/11888 [00:00<?, ?it/s]"
     ]
    },
    {
     "name": "stdout",
     "output_type": "stream",
     "text": [
      "[Info]: Loss for train: 6.59140\n"
     ]
    },
    {
     "name": "stderr",
     "output_type": "stream",
     "text": [
      "[epoch]: 59, [lr]: 0.049734: 100%|██████████| 11888/11888 [04:22<00:00, 45.28it/s, loss=6.30883] \n",
      "[epoch]: 60, [lr]: 0.049730:   0%|          | 0/11888 [00:00<?, ?it/s]"
     ]
    },
    {
     "name": "stdout",
     "output_type": "stream",
     "text": [
      "[Info]: Loss for train: 6.59700\n"
     ]
    },
    {
     "name": "stderr",
     "output_type": "stream",
     "text": [
      "[epoch]: 60, [lr]: 0.049730: 100%|██████████| 11888/11888 [04:22<00:00, 45.29it/s, loss=5.95773] \n",
      "[epoch]: 61, [lr]: 0.049725:   0%|          | 0/11888 [00:00<?, ?it/s]"
     ]
    },
    {
     "name": "stdout",
     "output_type": "stream",
     "text": [
      "[Info]: Loss for train: 6.62314\n"
     ]
    },
    {
     "name": "stderr",
     "output_type": "stream",
     "text": [
      "[epoch]: 61, [lr]: 0.049725: 100%|██████████| 11888/11888 [04:22<00:00, 45.27it/s, loss=7.26837] \n",
      "[epoch]: 62, [lr]: 0.049721:   0%|          | 0/11888 [00:00<?, ?it/s]"
     ]
    },
    {
     "name": "stdout",
     "output_type": "stream",
     "text": [
      "[Info]: Loss for train: 6.62921\n"
     ]
    },
    {
     "name": "stderr",
     "output_type": "stream",
     "text": [
      "[epoch]: 62, [lr]: 0.049721: 100%|██████████| 11888/11888 [04:22<00:00, 45.29it/s, loss=6.77708] \n",
      "[epoch]: 63, [lr]: 0.049716:   0%|          | 0/11888 [00:00<?, ?it/s]"
     ]
    },
    {
     "name": "stdout",
     "output_type": "stream",
     "text": [
      "[Info]: Loss for train: 6.62180\n"
     ]
    },
    {
     "name": "stderr",
     "output_type": "stream",
     "text": [
      "[epoch]: 63, [lr]: 0.049716: 100%|██████████| 11888/11888 [04:22<00:00, 45.28it/s, loss=5.88893] \n",
      "[epoch]: 64, [lr]: 0.049712:   0%|          | 0/11888 [00:00<?, ?it/s]"
     ]
    },
    {
     "name": "stdout",
     "output_type": "stream",
     "text": [
      "[Info]: Loss for train: 6.62360\n"
     ]
    },
    {
     "name": "stderr",
     "output_type": "stream",
     "text": [
      "[epoch]: 64, [lr]: 0.049712: 100%|██████████| 11888/11888 [04:22<00:00, 45.28it/s, loss=5.83014]\n",
      "[epoch]: 65, [lr]: 0.049707:   0%|          | 0/11888 [00:00<?, ?it/s]"
     ]
    },
    {
     "name": "stdout",
     "output_type": "stream",
     "text": [
      "[Info]: Loss for train: 6.60560\n"
     ]
    },
    {
     "name": "stderr",
     "output_type": "stream",
     "text": [
      "[epoch]: 65, [lr]: 0.049707: 100%|██████████| 11888/11888 [04:22<00:00, 45.27it/s, loss=6.02233] \n",
      "[epoch]: 66, [lr]: 0.049703:   0%|          | 0/11888 [00:00<?, ?it/s]"
     ]
    },
    {
     "name": "stdout",
     "output_type": "stream",
     "text": [
      "[Info]: Loss for train: 6.56641\n"
     ]
    },
    {
     "name": "stderr",
     "output_type": "stream",
     "text": [
      "[epoch]: 66, [lr]: 0.049703: 100%|██████████| 11888/11888 [04:22<00:00, 45.30it/s, loss=6.53984] \n",
      "[epoch]: 67, [lr]: 0.049698:   0%|          | 0/11888 [00:00<?, ?it/s]"
     ]
    },
    {
     "name": "stdout",
     "output_type": "stream",
     "text": [
      "[Info]: Loss for train: 6.56871\n"
     ]
    },
    {
     "name": "stderr",
     "output_type": "stream",
     "text": [
      "[epoch]: 67, [lr]: 0.049698: 100%|██████████| 11888/11888 [04:22<00:00, 45.29it/s, loss=6.01996]\n",
      "[epoch]: 68, [lr]: 0.049694:   0%|          | 0/11888 [00:00<?, ?it/s]"
     ]
    },
    {
     "name": "stdout",
     "output_type": "stream",
     "text": [
      "[Info]: Loss for train: 6.59107\n"
     ]
    },
    {
     "name": "stderr",
     "output_type": "stream",
     "text": [
      "[epoch]: 68, [lr]: 0.049694: 100%|██████████| 11888/11888 [04:22<00:00, 45.31it/s, loss=6.51361] \n",
      "[epoch]: 69, [lr]: 0.049689:   0%|          | 0/11888 [00:00<?, ?it/s]"
     ]
    },
    {
     "name": "stdout",
     "output_type": "stream",
     "text": [
      "[Info]: Loss for train: 6.55246\n"
     ]
    },
    {
     "name": "stderr",
     "output_type": "stream",
     "text": [
      "[epoch]: 69, [lr]: 0.049689: 100%|██████████| 11888/11888 [04:22<00:00, 45.30it/s, loss=6.21216] \n",
      "[epoch]: 70, [lr]: 0.049685:   0%|          | 0/11888 [00:00<?, ?it/s]"
     ]
    },
    {
     "name": "stdout",
     "output_type": "stream",
     "text": [
      "[Info]: Loss for train: 6.55431\n"
     ]
    },
    {
     "name": "stderr",
     "output_type": "stream",
     "text": [
      "[epoch]: 70, [lr]: 0.049685: 100%|██████████| 11888/11888 [04:22<00:00, 45.28it/s, loss=5.93074] \n",
      "[epoch]: 71, [lr]: 0.049680:   0%|          | 0/11888 [00:00<?, ?it/s]"
     ]
    },
    {
     "name": "stdout",
     "output_type": "stream",
     "text": [
      "[Info]: Loss for train: 6.60039\n"
     ]
    },
    {
     "name": "stderr",
     "output_type": "stream",
     "text": [
      "[epoch]: 71, [lr]: 0.049680: 100%|██████████| 11888/11888 [04:22<00:00, 45.24it/s, loss=6.02076] \n",
      "[epoch]: 72, [lr]: 0.049676:   0%|          | 0/11888 [00:00<?, ?it/s]"
     ]
    },
    {
     "name": "stdout",
     "output_type": "stream",
     "text": [
      "[Info]: Loss for train: 6.58830\n"
     ]
    },
    {
     "name": "stderr",
     "output_type": "stream",
     "text": [
      "[epoch]: 72, [lr]: 0.049676: 100%|██████████| 11888/11888 [04:22<00:00, 45.27it/s, loss=6.35306] \n",
      "[epoch]: 73, [lr]: 0.049671:   0%|          | 0/11888 [00:00<?, ?it/s]"
     ]
    },
    {
     "name": "stdout",
     "output_type": "stream",
     "text": [
      "[Info]: Loss for train: 6.60231\n"
     ]
    },
    {
     "name": "stderr",
     "output_type": "stream",
     "text": [
      "[epoch]: 73, [lr]: 0.049671: 100%|██████████| 11888/11888 [04:22<00:00, 45.27it/s, loss=6.61613] \n",
      "[epoch]: 74, [lr]: 0.049667:   0%|          | 0/11888 [00:00<?, ?it/s]"
     ]
    },
    {
     "name": "stdout",
     "output_type": "stream",
     "text": [
      "[Info]: Loss for train: 6.57895\n"
     ]
    },
    {
     "name": "stderr",
     "output_type": "stream",
     "text": [
      "[epoch]: 74, [lr]: 0.049667: 100%|██████████| 11888/11888 [04:22<00:00, 45.26it/s, loss=6.29550] \n",
      "[epoch]: 75, [lr]: 0.049662:   0%|          | 0/11888 [00:00<?, ?it/s]"
     ]
    },
    {
     "name": "stdout",
     "output_type": "stream",
     "text": [
      "[Info]: Loss for train: 6.58835\n"
     ]
    },
    {
     "name": "stderr",
     "output_type": "stream",
     "text": [
      "[epoch]: 75, [lr]: 0.049662: 100%|██████████| 11888/11888 [04:22<00:00, 45.28it/s, loss=6.50589] \n",
      "[epoch]: 76, [lr]: 0.049658:   0%|          | 0/11888 [00:00<?, ?it/s]"
     ]
    },
    {
     "name": "stdout",
     "output_type": "stream",
     "text": [
      "[Info]: Loss for train: 6.58996\n"
     ]
    },
    {
     "name": "stderr",
     "output_type": "stream",
     "text": [
      "[epoch]: 76, [lr]: 0.049658: 100%|██████████| 11888/11888 [04:22<00:00, 45.27it/s, loss=5.99470] \n",
      "[epoch]: 77, [lr]: 0.049653:   0%|          | 0/11888 [00:00<?, ?it/s]"
     ]
    },
    {
     "name": "stdout",
     "output_type": "stream",
     "text": [
      "[Info]: Loss for train: 6.57964\n"
     ]
    },
    {
     "name": "stderr",
     "output_type": "stream",
     "text": [
      "[epoch]: 77, [lr]: 0.049653: 100%|██████████| 11888/11888 [04:22<00:00, 45.27it/s, loss=6.27892] \n",
      "[epoch]: 78, [lr]: 0.049649:   0%|          | 0/11888 [00:00<?, ?it/s]"
     ]
    },
    {
     "name": "stdout",
     "output_type": "stream",
     "text": [
      "[Info]: Loss for train: 6.60291\n"
     ]
    },
    {
     "name": "stderr",
     "output_type": "stream",
     "text": [
      "[epoch]: 78, [lr]: 0.049649: 100%|██████████| 11888/11888 [04:22<00:00, 45.28it/s, loss=6.90608] \n",
      "[epoch]: 79, [lr]: 0.049644:   0%|          | 0/11888 [00:00<?, ?it/s]"
     ]
    },
    {
     "name": "stdout",
     "output_type": "stream",
     "text": [
      "[Info]: Loss for train: 6.56514\n"
     ]
    },
    {
     "name": "stderr",
     "output_type": "stream",
     "text": [
      "[epoch]: 79, [lr]: 0.049644: 100%|██████████| 11888/11888 [04:22<00:00, 45.27it/s, loss=6.46355] \n",
      "[epoch]: 80, [lr]: 0.049640:   0%|          | 0/11888 [00:00<?, ?it/s]"
     ]
    },
    {
     "name": "stdout",
     "output_type": "stream",
     "text": [
      "[Info]: Loss for train: 6.54521\n"
     ]
    },
    {
     "name": "stderr",
     "output_type": "stream",
     "text": [
      "[epoch]: 80, [lr]: 0.049640: 100%|██████████| 11888/11888 [04:22<00:00, 45.26it/s, loss=7.37038] \n",
      "[epoch]: 81, [lr]: 0.049635:   0%|          | 0/11888 [00:00<?, ?it/s]"
     ]
    },
    {
     "name": "stdout",
     "output_type": "stream",
     "text": [
      "[Info]: Loss for train: 6.61836\n"
     ]
    },
    {
     "name": "stderr",
     "output_type": "stream",
     "text": [
      "[epoch]: 81, [lr]: 0.049635: 100%|██████████| 11888/11888 [04:22<00:00, 45.29it/s, loss=6.02978] \n",
      "[epoch]: 82, [lr]: 0.049631:   0%|          | 0/11888 [00:00<?, ?it/s]"
     ]
    },
    {
     "name": "stdout",
     "output_type": "stream",
     "text": [
      "[Info]: Loss for train: 6.53606\n"
     ]
    },
    {
     "name": "stderr",
     "output_type": "stream",
     "text": [
      "[epoch]: 82, [lr]: 0.049631: 100%|██████████| 11888/11888 [04:22<00:00, 45.28it/s, loss=7.08320] \n",
      "[epoch]: 83, [lr]: 0.049626:   0%|          | 0/11888 [00:00<?, ?it/s]"
     ]
    },
    {
     "name": "stdout",
     "output_type": "stream",
     "text": [
      "[Info]: Loss for train: 6.63475\n"
     ]
    },
    {
     "name": "stderr",
     "output_type": "stream",
     "text": [
      "[epoch]: 83, [lr]: 0.049626: 100%|██████████| 11888/11888 [04:22<00:00, 45.30it/s, loss=6.43050] \n",
      "[epoch]: 84, [lr]: 0.049622:   0%|          | 0/11888 [00:00<?, ?it/s]"
     ]
    },
    {
     "name": "stdout",
     "output_type": "stream",
     "text": [
      "[Info]: Loss for train: 6.56822\n"
     ]
    },
    {
     "name": "stderr",
     "output_type": "stream",
     "text": [
      "[epoch]: 84, [lr]: 0.049622: 100%|██████████| 11888/11888 [04:22<00:00, 45.27it/s, loss=6.47689] \n",
      "[epoch]: 85, [lr]: 0.049617:   0%|          | 0/11888 [00:00<?, ?it/s]"
     ]
    },
    {
     "name": "stdout",
     "output_type": "stream",
     "text": [
      "[Info]: Loss for train: 6.60288\n"
     ]
    },
    {
     "name": "stderr",
     "output_type": "stream",
     "text": [
      "[epoch]: 85, [lr]: 0.049617: 100%|██████████| 11888/11888 [04:22<00:00, 45.30it/s, loss=6.85845] \n",
      "[epoch]: 86, [lr]: 0.049613:   0%|          | 0/11888 [00:00<?, ?it/s]"
     ]
    },
    {
     "name": "stdout",
     "output_type": "stream",
     "text": [
      "[Info]: Loss for train: 6.55154\n"
     ]
    },
    {
     "name": "stderr",
     "output_type": "stream",
     "text": [
      "[epoch]: 86, [lr]: 0.049613: 100%|██████████| 11888/11888 [04:22<00:00, 45.30it/s, loss=5.85194] \n",
      "[epoch]: 87, [lr]: 0.049608:   0%|          | 0/11888 [00:00<?, ?it/s]"
     ]
    },
    {
     "name": "stdout",
     "output_type": "stream",
     "text": [
      "[Info]: Loss for train: 6.59762\n"
     ]
    },
    {
     "name": "stderr",
     "output_type": "stream",
     "text": [
      "[epoch]: 87, [lr]: 0.049608: 100%|██████████| 11888/11888 [04:22<00:00, 45.25it/s, loss=5.95886] \n",
      "[epoch]: 88, [lr]: 0.049604:   0%|          | 0/11888 [00:00<?, ?it/s]"
     ]
    },
    {
     "name": "stdout",
     "output_type": "stream",
     "text": [
      "[Info]: Loss for train: 6.60914\n"
     ]
    },
    {
     "name": "stderr",
     "output_type": "stream",
     "text": [
      "[epoch]: 88, [lr]: 0.049604: 100%|██████████| 11888/11888 [04:22<00:00, 45.29it/s, loss=6.10476] \n",
      "[epoch]: 89, [lr]: 0.049599:   0%|          | 0/11888 [00:00<?, ?it/s]"
     ]
    },
    {
     "name": "stdout",
     "output_type": "stream",
     "text": [
      "[Info]: Loss for train: 6.57742\n"
     ]
    },
    {
     "name": "stderr",
     "output_type": "stream",
     "text": [
      "[epoch]: 89, [lr]: 0.049599: 100%|██████████| 11888/11888 [04:22<00:00, 45.27it/s, loss=6.47902] \n",
      "[epoch]: 90, [lr]: 0.049595:   0%|          | 0/11888 [00:00<?, ?it/s]"
     ]
    },
    {
     "name": "stdout",
     "output_type": "stream",
     "text": [
      "[Info]: Loss for train: 6.60015\n"
     ]
    },
    {
     "name": "stderr",
     "output_type": "stream",
     "text": [
      "[epoch]: 90, [lr]: 0.049595: 100%|██████████| 11888/11888 [04:22<00:00, 45.29it/s, loss=5.93670] \n",
      "[epoch]: 91, [lr]: 0.049590:   0%|          | 0/11888 [00:00<?, ?it/s]"
     ]
    },
    {
     "name": "stdout",
     "output_type": "stream",
     "text": [
      "[Info]: Loss for train: 6.54461\n"
     ]
    },
    {
     "name": "stderr",
     "output_type": "stream",
     "text": [
      "[epoch]: 91, [lr]: 0.049590: 100%|██████████| 11888/11888 [04:22<00:00, 45.28it/s, loss=6.56984] \n",
      "[epoch]: 92, [lr]: 0.049586:   0%|          | 0/11888 [00:00<?, ?it/s]"
     ]
    },
    {
     "name": "stdout",
     "output_type": "stream",
     "text": [
      "[Info]: Loss for train: 6.56461\n"
     ]
    },
    {
     "name": "stderr",
     "output_type": "stream",
     "text": [
      "[epoch]: 92, [lr]: 0.049586: 100%|██████████| 11888/11888 [04:22<00:00, 45.31it/s, loss=6.88743] \n",
      "[epoch]: 93, [lr]: 0.049581:   0%|          | 0/11888 [00:00<?, ?it/s]"
     ]
    },
    {
     "name": "stdout",
     "output_type": "stream",
     "text": [
      "[Info]: Loss for train: 6.54242\n"
     ]
    },
    {
     "name": "stderr",
     "output_type": "stream",
     "text": [
      "[epoch]: 93, [lr]: 0.049581: 100%|██████████| 11888/11888 [04:22<00:00, 45.27it/s, loss=5.97647] \n",
      "[epoch]: 94, [lr]: 0.049577:   0%|          | 0/11888 [00:00<?, ?it/s]"
     ]
    },
    {
     "name": "stdout",
     "output_type": "stream",
     "text": [
      "[Info]: Loss for train: 6.57921\n"
     ]
    },
    {
     "name": "stderr",
     "output_type": "stream",
     "text": [
      "[epoch]: 94, [lr]: 0.049577: 100%|██████████| 11888/11888 [04:22<00:00, 45.26it/s, loss=6.29807] \n",
      "[epoch]: 95, [lr]: 0.049572:   0%|          | 0/11888 [00:00<?, ?it/s]"
     ]
    },
    {
     "name": "stdout",
     "output_type": "stream",
     "text": [
      "[Info]: Loss for train: 6.57615\n"
     ]
    },
    {
     "name": "stderr",
     "output_type": "stream",
     "text": [
      "[epoch]: 95, [lr]: 0.049572: 100%|██████████| 11888/11888 [04:22<00:00, 45.28it/s, loss=5.51373] \n",
      "[epoch]: 96, [lr]: 0.049568:   0%|          | 0/11888 [00:00<?, ?it/s]"
     ]
    },
    {
     "name": "stdout",
     "output_type": "stream",
     "text": [
      "[Info]: Loss for train: 6.56838\n"
     ]
    },
    {
     "name": "stderr",
     "output_type": "stream",
     "text": [
      "[epoch]: 96, [lr]: 0.049568: 100%|██████████| 11888/11888 [04:22<00:00, 45.29it/s, loss=6.20601] \n",
      "[epoch]: 97, [lr]: 0.049563:   0%|          | 0/11888 [00:00<?, ?it/s]"
     ]
    },
    {
     "name": "stdout",
     "output_type": "stream",
     "text": [
      "[Info]: Loss for train: 6.59201\n"
     ]
    },
    {
     "name": "stderr",
     "output_type": "stream",
     "text": [
      "[epoch]: 97, [lr]: 0.049563: 100%|██████████| 11888/11888 [04:22<00:00, 45.31it/s, loss=5.70359] \n",
      "[epoch]: 98, [lr]: 0.049559:   0%|          | 0/11888 [00:00<?, ?it/s]"
     ]
    },
    {
     "name": "stdout",
     "output_type": "stream",
     "text": [
      "[Info]: Loss for train: 6.56085\n"
     ]
    },
    {
     "name": "stderr",
     "output_type": "stream",
     "text": [
      "[epoch]: 98, [lr]: 0.049559: 100%|██████████| 11888/11888 [04:22<00:00, 45.27it/s, loss=5.74577] \n",
      "[epoch]: 99, [lr]: 0.049554:   0%|          | 0/11888 [00:00<?, ?it/s]"
     ]
    },
    {
     "name": "stdout",
     "output_type": "stream",
     "text": [
      "[Info]: Loss for train: 6.60128\n"
     ]
    },
    {
     "name": "stderr",
     "output_type": "stream",
     "text": [
      "[epoch]: 99, [lr]: 0.049554: 100%|██████████| 11888/11888 [04:22<00:00, 45.27it/s, loss=6.32745] \n",
      "[epoch]: 100, [lr]: 0.049550:   0%|          | 0/11888 [00:00<?, ?it/s]"
     ]
    },
    {
     "name": "stdout",
     "output_type": "stream",
     "text": [
      "[Info]: Loss for train: 6.58369\n"
     ]
    },
    {
     "name": "stderr",
     "output_type": "stream",
     "text": [
      "[epoch]: 100, [lr]: 0.049550: 100%|██████████| 11888/11888 [04:22<00:00, 45.27it/s, loss=6.86290] \n",
      "[epoch]: 101, [lr]: 0.049545:   0%|          | 0/11888 [00:00<?, ?it/s]"
     ]
    },
    {
     "name": "stdout",
     "output_type": "stream",
     "text": [
      "[Info]: Loss for train: 6.60227\n"
     ]
    },
    {
     "name": "stderr",
     "output_type": "stream",
     "text": [
      "[epoch]: 101, [lr]: 0.049545: 100%|██████████| 11888/11888 [04:22<00:00, 45.26it/s, loss=6.53597] \n",
      "[epoch]: 102, [lr]: 0.049541:   0%|          | 0/11888 [00:00<?, ?it/s]"
     ]
    },
    {
     "name": "stdout",
     "output_type": "stream",
     "text": [
      "[Info]: Loss for train: 6.61127\n"
     ]
    },
    {
     "name": "stderr",
     "output_type": "stream",
     "text": [
      "[epoch]: 102, [lr]: 0.049541: 100%|██████████| 11888/11888 [04:22<00:00, 45.32it/s, loss=6.07519] \n",
      "[epoch]: 103, [lr]: 0.049536:   0%|          | 0/11888 [00:00<?, ?it/s]"
     ]
    },
    {
     "name": "stdout",
     "output_type": "stream",
     "text": [
      "[Info]: Loss for train: 6.54813\n"
     ]
    },
    {
     "name": "stderr",
     "output_type": "stream",
     "text": [
      "[epoch]: 103, [lr]: 0.049536: 100%|██████████| 11888/11888 [04:22<00:00, 45.28it/s, loss=5.85499] \n",
      "[epoch]: 104, [lr]: 0.049532:   0%|          | 0/11888 [00:00<?, ?it/s]"
     ]
    },
    {
     "name": "stdout",
     "output_type": "stream",
     "text": [
      "[Info]: Loss for train: 6.55291\n"
     ]
    },
    {
     "name": "stderr",
     "output_type": "stream",
     "text": [
      "[epoch]: 104, [lr]: 0.049532: 100%|██████████| 11888/11888 [04:22<00:00, 45.31it/s, loss=6.20506] \n",
      "[epoch]: 105, [lr]: 0.049527:   0%|          | 0/11888 [00:00<?, ?it/s]"
     ]
    },
    {
     "name": "stdout",
     "output_type": "stream",
     "text": [
      "[Info]: Loss for train: 6.59601\n"
     ]
    },
    {
     "name": "stderr",
     "output_type": "stream",
     "text": [
      "[epoch]: 105, [lr]: 0.049527: 100%|██████████| 11888/11888 [04:22<00:00, 45.27it/s, loss=6.46210] \n",
      "[epoch]: 106, [lr]: 0.049523:   0%|          | 0/11888 [00:00<?, ?it/s]"
     ]
    },
    {
     "name": "stdout",
     "output_type": "stream",
     "text": [
      "[Info]: Loss for train: 6.59689\n"
     ]
    },
    {
     "name": "stderr",
     "output_type": "stream",
     "text": [
      "[epoch]: 106, [lr]: 0.049523: 100%|██████████| 11888/11888 [04:22<00:00, 45.27it/s, loss=6.13478]\n",
      "[epoch]: 107, [lr]: 0.049518:   0%|          | 0/11888 [00:00<?, ?it/s]"
     ]
    },
    {
     "name": "stdout",
     "output_type": "stream",
     "text": [
      "[Info]: Loss for train: 6.53963\n"
     ]
    },
    {
     "name": "stderr",
     "output_type": "stream",
     "text": [
      "[epoch]: 107, [lr]: 0.049518: 100%|██████████| 11888/11888 [04:22<00:00, 45.28it/s, loss=5.52221] \n",
      "[epoch]: 108, [lr]: 0.049514:   0%|          | 0/11888 [00:00<?, ?it/s]"
     ]
    },
    {
     "name": "stdout",
     "output_type": "stream",
     "text": [
      "[Info]: Loss for train: 6.58708\n"
     ]
    },
    {
     "name": "stderr",
     "output_type": "stream",
     "text": [
      "[epoch]: 108, [lr]: 0.049514: 100%|██████████| 11888/11888 [04:22<00:00, 45.28it/s, loss=6.64545] \n",
      "[epoch]: 109, [lr]: 0.049509:   0%|          | 0/11888 [00:00<?, ?it/s]"
     ]
    },
    {
     "name": "stdout",
     "output_type": "stream",
     "text": [
      "[Info]: Loss for train: 6.58857\n"
     ]
    },
    {
     "name": "stderr",
     "output_type": "stream",
     "text": [
      "[epoch]: 109, [lr]: 0.049509: 100%|██████████| 11888/11888 [04:22<00:00, 45.26it/s, loss=6.50882] \n",
      "[epoch]: 110, [lr]: 0.049505:   0%|          | 0/11888 [00:00<?, ?it/s]"
     ]
    },
    {
     "name": "stdout",
     "output_type": "stream",
     "text": [
      "[Info]: Loss for train: 6.57699\n"
     ]
    },
    {
     "name": "stderr",
     "output_type": "stream",
     "text": [
      "[epoch]: 110, [lr]: 0.049505: 100%|██████████| 11888/11888 [04:22<00:00, 45.29it/s, loss=5.83920] \n",
      "[epoch]: 111, [lr]: 0.049500:   0%|          | 0/11888 [00:00<?, ?it/s]"
     ]
    },
    {
     "name": "stdout",
     "output_type": "stream",
     "text": [
      "[Info]: Loss for train: 6.55683\n"
     ]
    },
    {
     "name": "stderr",
     "output_type": "stream",
     "text": [
      "[epoch]: 111, [lr]: 0.049500: 100%|██████████| 11888/11888 [04:22<00:00, 45.28it/s, loss=5.91801] \n",
      "[epoch]: 112, [lr]: 0.049496:   0%|          | 0/11888 [00:00<?, ?it/s]"
     ]
    },
    {
     "name": "stdout",
     "output_type": "stream",
     "text": [
      "[Info]: Loss for train: 6.54333\n"
     ]
    },
    {
     "name": "stderr",
     "output_type": "stream",
     "text": [
      "[epoch]: 112, [lr]: 0.049496: 100%|██████████| 11888/11888 [04:22<00:00, 45.27it/s, loss=6.53269] \n",
      "[epoch]: 113, [lr]: 0.049491:   0%|          | 0/11888 [00:00<?, ?it/s]"
     ]
    },
    {
     "name": "stdout",
     "output_type": "stream",
     "text": [
      "[Info]: Loss for train: 6.60439\n"
     ]
    },
    {
     "name": "stderr",
     "output_type": "stream",
     "text": [
      "[epoch]: 113, [lr]: 0.049491: 100%|██████████| 11888/11888 [04:22<00:00, 45.26it/s, loss=6.75549] \n",
      "[epoch]: 114, [lr]: 0.049487:   0%|          | 0/11888 [00:00<?, ?it/s]"
     ]
    },
    {
     "name": "stdout",
     "output_type": "stream",
     "text": [
      "[Info]: Loss for train: 6.55222\n"
     ]
    },
    {
     "name": "stderr",
     "output_type": "stream",
     "text": [
      "[epoch]: 114, [lr]: 0.049487: 100%|██████████| 11888/11888 [04:22<00:00, 45.27it/s, loss=6.35106] \n",
      "[epoch]: 115, [lr]: 0.049482:   0%|          | 0/11888 [00:00<?, ?it/s]"
     ]
    },
    {
     "name": "stdout",
     "output_type": "stream",
     "text": [
      "[Info]: Loss for train: 6.58956\n"
     ]
    },
    {
     "name": "stderr",
     "output_type": "stream",
     "text": [
      "[epoch]: 115, [lr]: 0.049482: 100%|██████████| 11888/11888 [04:22<00:00, 45.27it/s, loss=6.15899] \n",
      "[epoch]: 116, [lr]: 0.049478:   0%|          | 0/11888 [00:00<?, ?it/s]"
     ]
    },
    {
     "name": "stdout",
     "output_type": "stream",
     "text": [
      "[Info]: Loss for train: 6.56657\n"
     ]
    },
    {
     "name": "stderr",
     "output_type": "stream",
     "text": [
      "[epoch]: 116, [lr]: 0.049478: 100%|██████████| 11888/11888 [04:22<00:00, 45.30it/s, loss=5.85951] \n",
      "[epoch]: 117, [lr]: 0.049473:   0%|          | 0/11888 [00:00<?, ?it/s]"
     ]
    },
    {
     "name": "stdout",
     "output_type": "stream",
     "text": [
      "[Info]: Loss for train: 6.56032\n"
     ]
    },
    {
     "name": "stderr",
     "output_type": "stream",
     "text": [
      "[epoch]: 117, [lr]: 0.049473: 100%|██████████| 11888/11888 [04:22<00:00, 45.25it/s, loss=5.92071] \n",
      "[epoch]: 118, [lr]: 0.049469:   0%|          | 0/11888 [00:00<?, ?it/s]"
     ]
    },
    {
     "name": "stdout",
     "output_type": "stream",
     "text": [
      "[Info]: Loss for train: 6.57414\n"
     ]
    },
    {
     "name": "stderr",
     "output_type": "stream",
     "text": [
      "[epoch]: 118, [lr]: 0.049469: 100%|██████████| 11888/11888 [04:22<00:00, 45.27it/s, loss=6.92325] \n",
      "[epoch]: 119, [lr]: 0.049464:   0%|          | 0/11888 [00:00<?, ?it/s]"
     ]
    },
    {
     "name": "stdout",
     "output_type": "stream",
     "text": [
      "[Info]: Loss for train: 6.57327\n"
     ]
    },
    {
     "name": "stderr",
     "output_type": "stream",
     "text": [
      "[epoch]: 119, [lr]: 0.049464: 100%|██████████| 11888/11888 [04:22<00:00, 45.30it/s, loss=6.18809]\n",
      "[epoch]: 120, [lr]: 0.049460:   0%|          | 0/11888 [00:00<?, ?it/s]"
     ]
    },
    {
     "name": "stdout",
     "output_type": "stream",
     "text": [
      "[Info]: Loss for train: 6.55016\n"
     ]
    },
    {
     "name": "stderr",
     "output_type": "stream",
     "text": [
      "[epoch]: 120, [lr]: 0.049460: 100%|██████████| 11888/11888 [04:22<00:00, 45.29it/s, loss=6.38278] \n",
      "[epoch]: 121, [lr]: 0.049455:   0%|          | 0/11888 [00:00<?, ?it/s]"
     ]
    },
    {
     "name": "stdout",
     "output_type": "stream",
     "text": [
      "[Info]: Loss for train: 6.55378\n"
     ]
    },
    {
     "name": "stderr",
     "output_type": "stream",
     "text": [
      "[epoch]: 121, [lr]: 0.049455: 100%|██████████| 11888/11888 [04:22<00:00, 45.29it/s, loss=6.18168] \n",
      "[epoch]: 122, [lr]: 0.049451:   0%|          | 0/11888 [00:00<?, ?it/s]"
     ]
    },
    {
     "name": "stdout",
     "output_type": "stream",
     "text": [
      "[Info]: Loss for train: 6.57669\n"
     ]
    },
    {
     "name": "stderr",
     "output_type": "stream",
     "text": [
      "[epoch]: 122, [lr]: 0.049451: 100%|██████████| 11888/11888 [04:22<00:00, 45.29it/s, loss=5.97655] \n",
      "[epoch]: 123, [lr]: 0.049446:   0%|          | 0/11888 [00:00<?, ?it/s]"
     ]
    },
    {
     "name": "stdout",
     "output_type": "stream",
     "text": [
      "[Info]: Loss for train: 6.57990\n"
     ]
    },
    {
     "name": "stderr",
     "output_type": "stream",
     "text": [
      "[epoch]: 123, [lr]: 0.049446: 100%|██████████| 11888/11888 [04:22<00:00, 45.30it/s, loss=6.06906] \n",
      "[epoch]: 124, [lr]: 0.049442:   0%|          | 0/11888 [00:00<?, ?it/s]"
     ]
    },
    {
     "name": "stdout",
     "output_type": "stream",
     "text": [
      "[Info]: Loss for train: 6.55519\n"
     ]
    },
    {
     "name": "stderr",
     "output_type": "stream",
     "text": [
      "[epoch]: 124, [lr]: 0.049442: 100%|██████████| 11888/11888 [04:22<00:00, 45.31it/s, loss=6.28892] \n",
      "[epoch]: 125, [lr]: 0.049437:   0%|          | 0/11888 [00:00<?, ?it/s]"
     ]
    },
    {
     "name": "stdout",
     "output_type": "stream",
     "text": [
      "[Info]: Loss for train: 6.57199\n"
     ]
    },
    {
     "name": "stderr",
     "output_type": "stream",
     "text": [
      "[epoch]: 125, [lr]: 0.049437: 100%|██████████| 11888/11888 [04:22<00:00, 45.31it/s, loss=6.38904] \n",
      "[epoch]: 126, [lr]: 0.049433:   0%|          | 0/11888 [00:00<?, ?it/s]"
     ]
    },
    {
     "name": "stdout",
     "output_type": "stream",
     "text": [
      "[Info]: Loss for train: 6.54973\n"
     ]
    },
    {
     "name": "stderr",
     "output_type": "stream",
     "text": [
      "[epoch]: 126, [lr]: 0.049433: 100%|██████████| 11888/11888 [04:22<00:00, 45.27it/s, loss=5.79772]\n",
      "[epoch]: 127, [lr]: 0.049428:   0%|          | 0/11888 [00:00<?, ?it/s]"
     ]
    },
    {
     "name": "stdout",
     "output_type": "stream",
     "text": [
      "[Info]: Loss for train: 6.51589\n"
     ]
    },
    {
     "name": "stderr",
     "output_type": "stream",
     "text": [
      "[epoch]: 127, [lr]: 0.049428: 100%|██████████| 11888/11888 [04:22<00:00, 45.28it/s, loss=6.94496] \n",
      "[epoch]: 128, [lr]: 0.049424:   0%|          | 0/11888 [00:00<?, ?it/s]"
     ]
    },
    {
     "name": "stdout",
     "output_type": "stream",
     "text": [
      "[Info]: Loss for train: 6.59871\n"
     ]
    },
    {
     "name": "stderr",
     "output_type": "stream",
     "text": [
      "[epoch]: 128, [lr]: 0.049424: 100%|██████████| 11888/11888 [04:22<00:00, 45.32it/s, loss=6.38510] \n",
      "[epoch]: 129, [lr]: 0.049419:   0%|          | 0/11888 [00:00<?, ?it/s]"
     ]
    },
    {
     "name": "stdout",
     "output_type": "stream",
     "text": [
      "[Info]: Loss for train: 6.54273\n"
     ]
    },
    {
     "name": "stderr",
     "output_type": "stream",
     "text": [
      "[epoch]: 129, [lr]: 0.049419: 100%|██████████| 11888/11888 [04:22<00:00, 45.30it/s, loss=6.10695] \n",
      "[epoch]: 130, [lr]: 0.049415:   0%|          | 0/11888 [00:00<?, ?it/s]"
     ]
    },
    {
     "name": "stdout",
     "output_type": "stream",
     "text": [
      "[Info]: Loss for train: 6.56846\n"
     ]
    },
    {
     "name": "stderr",
     "output_type": "stream",
     "text": [
      "[epoch]: 130, [lr]: 0.049415: 100%|██████████| 11888/11888 [04:22<00:00, 45.28it/s, loss=5.76866] \n",
      "[epoch]: 131, [lr]: 0.049410:   0%|          | 0/11888 [00:00<?, ?it/s]"
     ]
    },
    {
     "name": "stdout",
     "output_type": "stream",
     "text": [
      "[Info]: Loss for train: 6.57301\n"
     ]
    },
    {
     "name": "stderr",
     "output_type": "stream",
     "text": [
      "[epoch]: 131, [lr]: 0.049410: 100%|██████████| 11888/11888 [04:22<00:00, 45.33it/s, loss=6.44134] \n",
      "[epoch]: 132, [lr]: 0.049406:   0%|          | 0/11888 [00:00<?, ?it/s]"
     ]
    },
    {
     "name": "stdout",
     "output_type": "stream",
     "text": [
      "[Info]: Loss for train: 6.52549\n"
     ]
    },
    {
     "name": "stderr",
     "output_type": "stream",
     "text": [
      "[epoch]: 132, [lr]: 0.049406: 100%|██████████| 11888/11888 [04:22<00:00, 45.30it/s, loss=5.82385] \n",
      "[epoch]: 133, [lr]: 0.049401:   0%|          | 0/11888 [00:00<?, ?it/s]"
     ]
    },
    {
     "name": "stdout",
     "output_type": "stream",
     "text": [
      "[Info]: Loss for train: 6.56665\n"
     ]
    },
    {
     "name": "stderr",
     "output_type": "stream",
     "text": [
      "[epoch]: 133, [lr]: 0.049401: 100%|██████████| 11888/11888 [04:22<00:00, 45.31it/s, loss=6.38660] \n",
      "[epoch]: 134, [lr]: 0.049397:   0%|          | 0/11888 [00:00<?, ?it/s]"
     ]
    },
    {
     "name": "stdout",
     "output_type": "stream",
     "text": [
      "[Info]: Loss for train: 6.56416\n"
     ]
    },
    {
     "name": "stderr",
     "output_type": "stream",
     "text": [
      "[epoch]: 134, [lr]: 0.049397: 100%|██████████| 11888/11888 [04:22<00:00, 45.31it/s, loss=6.66995] \n",
      "[epoch]: 135, [lr]: 0.049392:   0%|          | 0/11888 [00:00<?, ?it/s]"
     ]
    },
    {
     "name": "stdout",
     "output_type": "stream",
     "text": [
      "[Info]: Loss for train: 6.55056\n"
     ]
    },
    {
     "name": "stderr",
     "output_type": "stream",
     "text": [
      "[epoch]: 135, [lr]: 0.049392: 100%|██████████| 11888/11888 [04:22<00:00, 45.30it/s, loss=6.60943] \n",
      "[epoch]: 136, [lr]: 0.049388:   0%|          | 0/11888 [00:00<?, ?it/s]"
     ]
    },
    {
     "name": "stdout",
     "output_type": "stream",
     "text": [
      "[Info]: Loss for train: 6.57451\n"
     ]
    },
    {
     "name": "stderr",
     "output_type": "stream",
     "text": [
      "[epoch]: 136, [lr]: 0.049388: 100%|██████████| 11888/11888 [04:22<00:00, 45.28it/s, loss=5.62045] \n",
      "[epoch]: 137, [lr]: 0.049383:   0%|          | 0/11888 [00:00<?, ?it/s]"
     ]
    },
    {
     "name": "stdout",
     "output_type": "stream",
     "text": [
      "[Info]: Loss for train: 6.57583\n"
     ]
    },
    {
     "name": "stderr",
     "output_type": "stream",
     "text": [
      "[epoch]: 137, [lr]: 0.049383: 100%|██████████| 11888/11888 [04:22<00:00, 45.32it/s, loss=6.17672] \n",
      "[epoch]: 138, [lr]: 0.049379:   0%|          | 0/11888 [00:00<?, ?it/s]"
     ]
    },
    {
     "name": "stdout",
     "output_type": "stream",
     "text": [
      "[Info]: Loss for train: 6.55965\n"
     ]
    },
    {
     "name": "stderr",
     "output_type": "stream",
     "text": [
      "[epoch]: 138, [lr]: 0.049379: 100%|██████████| 11888/11888 [04:22<00:00, 45.34it/s, loss=5.86171] \n",
      "[epoch]: 139, [lr]: 0.049374:   0%|          | 0/11888 [00:00<?, ?it/s]"
     ]
    },
    {
     "name": "stdout",
     "output_type": "stream",
     "text": [
      "[Info]: Loss for train: 6.55936\n"
     ]
    },
    {
     "name": "stderr",
     "output_type": "stream",
     "text": [
      "[epoch]: 139, [lr]: 0.049374: 100%|██████████| 11888/11888 [04:22<00:00, 45.33it/s, loss=5.91098] \n",
      "[epoch]: 140, [lr]: 0.049370:   0%|          | 0/11888 [00:00<?, ?it/s]"
     ]
    },
    {
     "name": "stdout",
     "output_type": "stream",
     "text": [
      "[Info]: Loss for train: 6.54614\n"
     ]
    },
    {
     "name": "stderr",
     "output_type": "stream",
     "text": [
      "[epoch]: 140, [lr]: 0.049370: 100%|██████████| 11888/11888 [04:22<00:00, 45.32it/s, loss=6.72077] \n",
      "[epoch]: 141, [lr]: 0.049365:   0%|          | 0/11888 [00:00<?, ?it/s]"
     ]
    },
    {
     "name": "stdout",
     "output_type": "stream",
     "text": [
      "[Info]: Loss for train: 6.58683\n"
     ]
    },
    {
     "name": "stderr",
     "output_type": "stream",
     "text": [
      "[epoch]: 141, [lr]: 0.049365: 100%|██████████| 11888/11888 [04:22<00:00, 45.30it/s, loss=7.02446]\n",
      "[epoch]: 142, [lr]: 0.049361:   0%|          | 0/11888 [00:00<?, ?it/s]"
     ]
    },
    {
     "name": "stdout",
     "output_type": "stream",
     "text": [
      "[Info]: Loss for train: 6.57760\n"
     ]
    },
    {
     "name": "stderr",
     "output_type": "stream",
     "text": [
      "[epoch]: 142, [lr]: 0.049361: 100%|██████████| 11888/11888 [04:22<00:00, 45.32it/s, loss=6.46538] \n",
      "[epoch]: 143, [lr]: 0.049356:   0%|          | 0/11888 [00:00<?, ?it/s]"
     ]
    },
    {
     "name": "stdout",
     "output_type": "stream",
     "text": [
      "[Info]: Loss for train: 6.55262\n"
     ]
    },
    {
     "name": "stderr",
     "output_type": "stream",
     "text": [
      "[epoch]: 143, [lr]: 0.049356: 100%|██████████| 11888/11888 [04:22<00:00, 45.31it/s, loss=5.70193] \n",
      "[epoch]: 144, [lr]: 0.049352:   0%|          | 0/11888 [00:00<?, ?it/s]"
     ]
    },
    {
     "name": "stdout",
     "output_type": "stream",
     "text": [
      "[Info]: Loss for train: 6.57573\n"
     ]
    },
    {
     "name": "stderr",
     "output_type": "stream",
     "text": [
      "[epoch]: 144, [lr]: 0.049352: 100%|██████████| 11888/11888 [04:22<00:00, 45.30it/s, loss=6.32255] \n",
      "[epoch]: 145, [lr]: 0.049347:   0%|          | 0/11888 [00:00<?, ?it/s]"
     ]
    },
    {
     "name": "stdout",
     "output_type": "stream",
     "text": [
      "[Info]: Loss for train: 6.58147\n"
     ]
    },
    {
     "name": "stderr",
     "output_type": "stream",
     "text": [
      "[epoch]: 145, [lr]: 0.049347: 100%|██████████| 11888/11888 [04:22<00:00, 45.31it/s, loss=6.07694] \n",
      "[epoch]: 146, [lr]: 0.049343:   0%|          | 0/11888 [00:00<?, ?it/s]"
     ]
    },
    {
     "name": "stdout",
     "output_type": "stream",
     "text": [
      "[Info]: Loss for train: 6.57570\n"
     ]
    },
    {
     "name": "stderr",
     "output_type": "stream",
     "text": [
      "[epoch]: 146, [lr]: 0.049343: 100%|██████████| 11888/11888 [04:22<00:00, 45.32it/s, loss=6.17617] \n",
      "[epoch]: 147, [lr]: 0.049338:   0%|          | 0/11888 [00:00<?, ?it/s]"
     ]
    },
    {
     "name": "stdout",
     "output_type": "stream",
     "text": [
      "[Info]: Loss for train: 6.58949\n"
     ]
    },
    {
     "name": "stderr",
     "output_type": "stream",
     "text": [
      "[epoch]: 147, [lr]: 0.049338: 100%|██████████| 11888/11888 [04:22<00:00, 45.29it/s, loss=5.33523] \n",
      "[epoch]: 148, [lr]: 0.049334:   0%|          | 0/11888 [00:00<?, ?it/s]"
     ]
    },
    {
     "name": "stdout",
     "output_type": "stream",
     "text": [
      "[Info]: Loss for train: 6.56850\n"
     ]
    },
    {
     "name": "stderr",
     "output_type": "stream",
     "text": [
      "[epoch]: 148, [lr]: 0.049334: 100%|██████████| 11888/11888 [04:22<00:00, 45.35it/s, loss=5.68584] \n",
      "[epoch]: 149, [lr]: 0.049329:   0%|          | 0/11888 [00:00<?, ?it/s]"
     ]
    },
    {
     "name": "stdout",
     "output_type": "stream",
     "text": [
      "[Info]: Loss for train: 6.53808\n"
     ]
    },
    {
     "name": "stderr",
     "output_type": "stream",
     "text": [
      "[epoch]: 149, [lr]: 0.049329: 100%|██████████| 11888/11888 [04:22<00:00, 45.30it/s, loss=6.02473] \n",
      "[epoch]: 150, [lr]: 0.049324:   0%|          | 0/11888 [00:00<?, ?it/s]"
     ]
    },
    {
     "name": "stdout",
     "output_type": "stream",
     "text": [
      "[Info]: Loss for train: 6.55622\n"
     ]
    },
    {
     "name": "stderr",
     "output_type": "stream",
     "text": [
      "[epoch]: 150, [lr]: 0.049324: 100%|██████████| 11888/11888 [04:22<00:00, 45.32it/s, loss=5.95108] \n",
      "[epoch]: 151, [lr]: 0.049320:   0%|          | 0/11888 [00:00<?, ?it/s]"
     ]
    },
    {
     "name": "stdout",
     "output_type": "stream",
     "text": [
      "[Info]: Loss for train: 6.54524\n"
     ]
    },
    {
     "name": "stderr",
     "output_type": "stream",
     "text": [
      "[epoch]: 151, [lr]: 0.049320: 100%|██████████| 11888/11888 [04:22<00:00, 45.32it/s, loss=5.95672] \n",
      "[epoch]: 152, [lr]: 0.049315:   0%|          | 0/11888 [00:00<?, ?it/s]"
     ]
    },
    {
     "name": "stdout",
     "output_type": "stream",
     "text": [
      "[Info]: Loss for train: 6.55412\n"
     ]
    },
    {
     "name": "stderr",
     "output_type": "stream",
     "text": [
      "[epoch]: 152, [lr]: 0.049315: 100%|██████████| 11888/11888 [04:22<00:00, 45.32it/s, loss=5.73197] \n",
      "[epoch]: 153, [lr]: 0.049311:   0%|          | 0/11888 [00:00<?, ?it/s]"
     ]
    },
    {
     "name": "stdout",
     "output_type": "stream",
     "text": [
      "[Info]: Loss for train: 6.54806\n"
     ]
    },
    {
     "name": "stderr",
     "output_type": "stream",
     "text": [
      "[epoch]: 153, [lr]: 0.049311: 100%|██████████| 11888/11888 [04:22<00:00, 45.34it/s, loss=5.68546] \n",
      "[epoch]: 154, [lr]: 0.049306:   0%|          | 0/11888 [00:00<?, ?it/s]"
     ]
    },
    {
     "name": "stdout",
     "output_type": "stream",
     "text": [
      "[Info]: Loss for train: 6.55732\n"
     ]
    },
    {
     "name": "stderr",
     "output_type": "stream",
     "text": [
      "[epoch]: 154, [lr]: 0.049306: 100%|██████████| 11888/11888 [04:22<00:00, 45.34it/s, loss=5.72044] \n",
      "[epoch]: 155, [lr]: 0.049302:   0%|          | 0/11888 [00:00<?, ?it/s]"
     ]
    },
    {
     "name": "stdout",
     "output_type": "stream",
     "text": [
      "[Info]: Loss for train: 6.57806\n"
     ]
    },
    {
     "name": "stderr",
     "output_type": "stream",
     "text": [
      "[epoch]: 155, [lr]: 0.049302: 100%|██████████| 11888/11888 [04:22<00:00, 45.31it/s, loss=6.30135] \n",
      "[epoch]: 156, [lr]: 0.049297:   0%|          | 0/11888 [00:00<?, ?it/s]"
     ]
    },
    {
     "name": "stdout",
     "output_type": "stream",
     "text": [
      "[Info]: Loss for train: 6.53455\n"
     ]
    },
    {
     "name": "stderr",
     "output_type": "stream",
     "text": [
      "[epoch]: 156, [lr]: 0.049297: 100%|██████████| 11888/11888 [04:22<00:00, 45.33it/s, loss=5.74074] \n",
      "[epoch]: 157, [lr]: 0.049293:   0%|          | 0/11888 [00:00<?, ?it/s]"
     ]
    },
    {
     "name": "stdout",
     "output_type": "stream",
     "text": [
      "[Info]: Loss for train: 6.52061\n"
     ]
    },
    {
     "name": "stderr",
     "output_type": "stream",
     "text": [
      "[epoch]: 157, [lr]: 0.049293: 100%|██████████| 11888/11888 [04:22<00:00, 45.30it/s, loss=6.71761] \n",
      "[epoch]: 158, [lr]: 0.049288:   0%|          | 0/11888 [00:00<?, ?it/s]"
     ]
    },
    {
     "name": "stdout",
     "output_type": "stream",
     "text": [
      "[Info]: Loss for train: 6.55431\n"
     ]
    },
    {
     "name": "stderr",
     "output_type": "stream",
     "text": [
      "[epoch]: 158, [lr]: 0.049288: 100%|██████████| 11888/11888 [04:22<00:00, 45.32it/s, loss=5.60884]\n",
      "[epoch]: 159, [lr]: 0.049284:   0%|          | 0/11888 [00:00<?, ?it/s]"
     ]
    },
    {
     "name": "stdout",
     "output_type": "stream",
     "text": [
      "[Info]: Loss for train: 6.53134\n"
     ]
    },
    {
     "name": "stderr",
     "output_type": "stream",
     "text": [
      "[epoch]: 159, [lr]: 0.049284: 100%|██████████| 11888/11888 [04:21<00:00, 45.37it/s, loss=5.86867] \n",
      "[epoch]: 160, [lr]: 0.049279:   0%|          | 0/11888 [00:00<?, ?it/s]"
     ]
    },
    {
     "name": "stdout",
     "output_type": "stream",
     "text": [
      "[Info]: Loss for train: 6.50416\n"
     ]
    },
    {
     "name": "stderr",
     "output_type": "stream",
     "text": [
      "[epoch]: 160, [lr]: 0.049279: 100%|██████████| 11888/11888 [04:22<00:00, 45.33it/s, loss=5.98843] \n",
      "[epoch]: 161, [lr]: 0.049275:   0%|          | 0/11888 [00:00<?, ?it/s]"
     ]
    },
    {
     "name": "stdout",
     "output_type": "stream",
     "text": [
      "[Info]: Loss for train: 6.59406\n"
     ]
    },
    {
     "name": "stderr",
     "output_type": "stream",
     "text": [
      "[epoch]: 161, [lr]: 0.049275: 100%|██████████| 11888/11888 [04:22<00:00, 45.33it/s, loss=5.93400] \n",
      "[epoch]: 162, [lr]: 0.049270:   0%|          | 0/11888 [00:00<?, ?it/s]"
     ]
    },
    {
     "name": "stdout",
     "output_type": "stream",
     "text": [
      "[Info]: Loss for train: 6.56142\n"
     ]
    },
    {
     "name": "stderr",
     "output_type": "stream",
     "text": [
      "[epoch]: 162, [lr]: 0.049270: 100%|██████████| 11888/11888 [04:22<00:00, 45.33it/s, loss=6.01094] \n",
      "[epoch]: 163, [lr]: 0.049266:   0%|          | 0/11888 [00:00<?, ?it/s]"
     ]
    },
    {
     "name": "stdout",
     "output_type": "stream",
     "text": [
      "[Info]: Loss for train: 6.54764\n"
     ]
    },
    {
     "name": "stderr",
     "output_type": "stream",
     "text": [
      "[epoch]: 163, [lr]: 0.049266: 100%|██████████| 11888/11888 [04:22<00:00, 45.35it/s, loss=6.73531] \n",
      "[epoch]: 164, [lr]: 0.049261:   0%|          | 0/11888 [00:00<?, ?it/s]"
     ]
    },
    {
     "name": "stdout",
     "output_type": "stream",
     "text": [
      "[Info]: Loss for train: 6.57290\n"
     ]
    },
    {
     "name": "stderr",
     "output_type": "stream",
     "text": [
      "[epoch]: 164, [lr]: 0.049261: 100%|██████████| 11888/11888 [04:22<00:00, 45.33it/s, loss=5.96161] \n",
      "[epoch]: 165, [lr]: 0.049257:   0%|          | 0/11888 [00:00<?, ?it/s]"
     ]
    },
    {
     "name": "stdout",
     "output_type": "stream",
     "text": [
      "[Info]: Loss for train: 6.54194\n"
     ]
    },
    {
     "name": "stderr",
     "output_type": "stream",
     "text": [
      "[epoch]: 165, [lr]: 0.049257: 100%|██████████| 11888/11888 [04:22<00:00, 45.27it/s, loss=6.59240] \n",
      "[epoch]: 166, [lr]: 0.049252:   0%|          | 0/11888 [00:00<?, ?it/s]"
     ]
    },
    {
     "name": "stdout",
     "output_type": "stream",
     "text": [
      "[Info]: Loss for train: 6.57108\n"
     ]
    },
    {
     "name": "stderr",
     "output_type": "stream",
     "text": [
      "[epoch]: 166, [lr]: 0.049252: 100%|██████████| 11888/11888 [04:22<00:00, 45.31it/s, loss=5.27607] \n",
      "[epoch]: 167, [lr]: 0.049248:   0%|          | 0/11888 [00:00<?, ?it/s]"
     ]
    },
    {
     "name": "stdout",
     "output_type": "stream",
     "text": [
      "[Info]: Loss for train: 6.53202\n"
     ]
    },
    {
     "name": "stderr",
     "output_type": "stream",
     "text": [
      "[epoch]: 167, [lr]: 0.049248: 100%|██████████| 11888/11888 [04:22<00:00, 45.34it/s, loss=6.27470] \n",
      "[epoch]: 168, [lr]: 0.049243:   0%|          | 0/11888 [00:00<?, ?it/s]"
     ]
    },
    {
     "name": "stdout",
     "output_type": "stream",
     "text": [
      "[Info]: Loss for train: 6.54273\n"
     ]
    },
    {
     "name": "stderr",
     "output_type": "stream",
     "text": [
      "[epoch]: 168, [lr]: 0.049243: 100%|██████████| 11888/11888 [04:22<00:00, 45.32it/s, loss=5.89312] \n",
      "[epoch]: 169, [lr]: 0.049239:   0%|          | 0/11888 [00:00<?, ?it/s]"
     ]
    },
    {
     "name": "stdout",
     "output_type": "stream",
     "text": [
      "[Info]: Loss for train: 6.54784\n"
     ]
    },
    {
     "name": "stderr",
     "output_type": "stream",
     "text": [
      "[epoch]: 169, [lr]: 0.049239: 100%|██████████| 11888/11888 [04:22<00:00, 45.31it/s, loss=6.11050] \n",
      "[epoch]: 170, [lr]: 0.049234:   0%|          | 0/11888 [00:00<?, ?it/s]"
     ]
    },
    {
     "name": "stdout",
     "output_type": "stream",
     "text": [
      "[Info]: Loss for train: 6.54002\n"
     ]
    },
    {
     "name": "stderr",
     "output_type": "stream",
     "text": [
      "[epoch]: 170, [lr]: 0.049234: 100%|██████████| 11888/11888 [04:22<00:00, 45.31it/s, loss=6.12994] \n",
      "[epoch]: 171, [lr]: 0.049230:   0%|          | 0/11888 [00:00<?, ?it/s]"
     ]
    },
    {
     "name": "stdout",
     "output_type": "stream",
     "text": [
      "[Info]: Loss for train: 6.61804\n"
     ]
    },
    {
     "name": "stderr",
     "output_type": "stream",
     "text": [
      "[epoch]: 171, [lr]: 0.049230: 100%|██████████| 11888/11888 [04:22<00:00, 45.34it/s, loss=6.15023] \n",
      "[epoch]: 172, [lr]: 0.049225:   0%|          | 0/11888 [00:00<?, ?it/s]"
     ]
    },
    {
     "name": "stdout",
     "output_type": "stream",
     "text": [
      "[Info]: Loss for train: 6.55359\n"
     ]
    },
    {
     "name": "stderr",
     "output_type": "stream",
     "text": [
      "[epoch]: 172, [lr]: 0.049225: 100%|██████████| 11888/11888 [04:22<00:00, 45.36it/s, loss=5.79835] \n",
      "[epoch]: 173, [lr]: 0.049221:   0%|          | 0/11888 [00:00<?, ?it/s]"
     ]
    },
    {
     "name": "stdout",
     "output_type": "stream",
     "text": [
      "[Info]: Loss for train: 6.57888\n"
     ]
    },
    {
     "name": "stderr",
     "output_type": "stream",
     "text": [
      "[epoch]: 173, [lr]: 0.049221: 100%|██████████| 11888/11888 [04:22<00:00, 45.31it/s, loss=6.41308] \n",
      "[epoch]: 174, [lr]: 0.049216:   0%|          | 0/11888 [00:00<?, ?it/s]"
     ]
    },
    {
     "name": "stdout",
     "output_type": "stream",
     "text": [
      "[Info]: Loss for train: 6.57177\n"
     ]
    },
    {
     "name": "stderr",
     "output_type": "stream",
     "text": [
      "[epoch]: 174, [lr]: 0.049216: 100%|██████████| 11888/11888 [04:22<00:00, 45.34it/s, loss=6.53299]\n",
      "[epoch]: 175, [lr]: 0.049212:   0%|          | 0/11888 [00:00<?, ?it/s]"
     ]
    },
    {
     "name": "stdout",
     "output_type": "stream",
     "text": [
      "[Info]: Loss for train: 6.55731\n"
     ]
    },
    {
     "name": "stderr",
     "output_type": "stream",
     "text": [
      "[epoch]: 175, [lr]: 0.049212: 100%|██████████| 11888/11888 [04:22<00:00, 45.31it/s, loss=5.82640] \n",
      "[epoch]: 176, [lr]: 0.049207:   0%|          | 0/11888 [00:00<?, ?it/s]"
     ]
    },
    {
     "name": "stdout",
     "output_type": "stream",
     "text": [
      "[Info]: Loss for train: 6.56548\n"
     ]
    },
    {
     "name": "stderr",
     "output_type": "stream",
     "text": [
      "[epoch]: 176, [lr]: 0.049207: 100%|██████████| 11888/11888 [04:22<00:00, 45.34it/s, loss=6.75585] \n",
      "[epoch]: 177, [lr]: 0.049203:   0%|          | 0/11888 [00:00<?, ?it/s]"
     ]
    },
    {
     "name": "stdout",
     "output_type": "stream",
     "text": [
      "[Info]: Loss for train: 6.57268\n"
     ]
    },
    {
     "name": "stderr",
     "output_type": "stream",
     "text": [
      "[epoch]: 177, [lr]: 0.049203: 100%|██████████| 11888/11888 [04:22<00:00, 45.35it/s, loss=6.59033] \n",
      "[epoch]: 178, [lr]: 0.049198:   0%|          | 0/11888 [00:00<?, ?it/s]"
     ]
    },
    {
     "name": "stdout",
     "output_type": "stream",
     "text": [
      "[Info]: Loss for train: 6.51062\n"
     ]
    },
    {
     "name": "stderr",
     "output_type": "stream",
     "text": [
      "[epoch]: 178, [lr]: 0.049198: 100%|██████████| 11888/11888 [04:22<00:00, 45.31it/s, loss=6.60514] \n",
      "[epoch]: 179, [lr]: 0.049194:   0%|          | 0/11888 [00:00<?, ?it/s]"
     ]
    },
    {
     "name": "stdout",
     "output_type": "stream",
     "text": [
      "[Info]: Loss for train: 6.49886\n"
     ]
    },
    {
     "name": "stderr",
     "output_type": "stream",
     "text": [
      "[epoch]: 179, [lr]: 0.049194: 100%|██████████| 11888/11888 [04:22<00:00, 45.36it/s, loss=5.43416] \n",
      "[epoch]: 180, [lr]: 0.049189:   0%|          | 0/11888 [00:00<?, ?it/s]"
     ]
    },
    {
     "name": "stdout",
     "output_type": "stream",
     "text": [
      "[Info]: Loss for train: 6.52756\n"
     ]
    },
    {
     "name": "stderr",
     "output_type": "stream",
     "text": [
      "[epoch]: 180, [lr]: 0.049189: 100%|██████████| 11888/11888 [04:22<00:00, 45.27it/s, loss=6.26252] \n",
      "[epoch]: 181, [lr]: 0.049185:   0%|          | 0/11888 [00:00<?, ?it/s]"
     ]
    },
    {
     "name": "stdout",
     "output_type": "stream",
     "text": [
      "[Info]: Loss for train: 6.59482\n"
     ]
    },
    {
     "name": "stderr",
     "output_type": "stream",
     "text": [
      "[epoch]: 181, [lr]: 0.049185: 100%|██████████| 11888/11888 [04:22<00:00, 45.32it/s, loss=5.78364] \n",
      "[epoch]: 182, [lr]: 0.049180:   0%|          | 0/11888 [00:00<?, ?it/s]"
     ]
    },
    {
     "name": "stdout",
     "output_type": "stream",
     "text": [
      "[Info]: Loss for train: 6.57624\n"
     ]
    },
    {
     "name": "stderr",
     "output_type": "stream",
     "text": [
      "[epoch]: 182, [lr]: 0.049180: 100%|██████████| 11888/11888 [04:22<00:00, 45.33it/s, loss=6.29573] \n",
      "[epoch]: 183, [lr]: 0.049176:   0%|          | 0/11888 [00:00<?, ?it/s]"
     ]
    },
    {
     "name": "stdout",
     "output_type": "stream",
     "text": [
      "[Info]: Loss for train: 6.56162\n"
     ]
    },
    {
     "name": "stderr",
     "output_type": "stream",
     "text": [
      "[epoch]: 183, [lr]: 0.049176: 100%|██████████| 11888/11888 [04:22<00:00, 45.31it/s, loss=6.10991] \n",
      "[epoch]: 184, [lr]: 0.049171:   0%|          | 0/11888 [00:00<?, ?it/s]"
     ]
    },
    {
     "name": "stdout",
     "output_type": "stream",
     "text": [
      "[Info]: Loss for train: 6.61568\n"
     ]
    },
    {
     "name": "stderr",
     "output_type": "stream",
     "text": [
      "[epoch]: 184, [lr]: 0.049171: 100%|██████████| 11888/11888 [04:22<00:00, 45.33it/s, loss=6.02763] \n",
      "[epoch]: 185, [lr]: 0.049167:   0%|          | 0/11888 [00:00<?, ?it/s]"
     ]
    },
    {
     "name": "stdout",
     "output_type": "stream",
     "text": [
      "[Info]: Loss for train: 6.55625\n"
     ]
    },
    {
     "name": "stderr",
     "output_type": "stream",
     "text": [
      "[epoch]: 185, [lr]: 0.049167: 100%|██████████| 11888/11888 [04:22<00:00, 45.32it/s, loss=6.06220] \n",
      "[epoch]: 186, [lr]: 0.049162:   0%|          | 0/11888 [00:00<?, ?it/s]"
     ]
    },
    {
     "name": "stdout",
     "output_type": "stream",
     "text": [
      "[Info]: Loss for train: 6.52236\n"
     ]
    },
    {
     "name": "stderr",
     "output_type": "stream",
     "text": [
      "[epoch]: 186, [lr]: 0.049162: 100%|██████████| 11888/11888 [04:22<00:00, 45.30it/s, loss=6.34381]\n",
      "[epoch]: 187, [lr]: 0.049158:   0%|          | 0/11888 [00:00<?, ?it/s]"
     ]
    },
    {
     "name": "stdout",
     "output_type": "stream",
     "text": [
      "[Info]: Loss for train: 6.54478\n"
     ]
    },
    {
     "name": "stderr",
     "output_type": "stream",
     "text": [
      "[epoch]: 187, [lr]: 0.049158: 100%|██████████| 11888/11888 [04:22<00:00, 45.29it/s, loss=5.85447] \n",
      "[epoch]: 188, [lr]: 0.049153:   0%|          | 0/11888 [00:00<?, ?it/s]"
     ]
    },
    {
     "name": "stdout",
     "output_type": "stream",
     "text": [
      "[Info]: Loss for train: 6.52504\n"
     ]
    },
    {
     "name": "stderr",
     "output_type": "stream",
     "text": [
      "[epoch]: 188, [lr]: 0.049153: 100%|██████████| 11888/11888 [04:22<00:00, 45.33it/s, loss=5.69340] \n",
      "[epoch]: 189, [lr]: 0.049149:   0%|          | 0/11888 [00:00<?, ?it/s]"
     ]
    },
    {
     "name": "stdout",
     "output_type": "stream",
     "text": [
      "[Info]: Loss for train: 6.55588\n"
     ]
    },
    {
     "name": "stderr",
     "output_type": "stream",
     "text": [
      "[epoch]: 189, [lr]: 0.049149: 100%|██████████| 11888/11888 [04:22<00:00, 45.31it/s, loss=5.94954] \n",
      "[epoch]: 190, [lr]: 0.049144:   0%|          | 0/11888 [00:00<?, ?it/s]"
     ]
    },
    {
     "name": "stdout",
     "output_type": "stream",
     "text": [
      "[Info]: Loss for train: 6.60309\n"
     ]
    },
    {
     "name": "stderr",
     "output_type": "stream",
     "text": [
      "[epoch]: 190, [lr]: 0.049144: 100%|██████████| 11888/11888 [04:22<00:00, 45.32it/s, loss=6.06613] \n",
      "[epoch]: 191, [lr]: 0.049140:   0%|          | 0/11888 [00:00<?, ?it/s]"
     ]
    },
    {
     "name": "stdout",
     "output_type": "stream",
     "text": [
      "[Info]: Loss for train: 6.53453\n"
     ]
    },
    {
     "name": "stderr",
     "output_type": "stream",
     "text": [
      "[epoch]: 191, [lr]: 0.049140: 100%|██████████| 11888/11888 [04:22<00:00, 45.32it/s, loss=5.65979]\n",
      "[epoch]: 192, [lr]: 0.049135:   0%|          | 0/11888 [00:00<?, ?it/s]"
     ]
    },
    {
     "name": "stdout",
     "output_type": "stream",
     "text": [
      "[Info]: Loss for train: 6.53555\n"
     ]
    },
    {
     "name": "stderr",
     "output_type": "stream",
     "text": [
      "[epoch]: 192, [lr]: 0.049135: 100%|██████████| 11888/11888 [04:22<00:00, 45.33it/s, loss=5.98796] \n",
      "[epoch]: 193, [lr]: 0.049131:   0%|          | 0/11888 [00:00<?, ?it/s]"
     ]
    },
    {
     "name": "stdout",
     "output_type": "stream",
     "text": [
      "[Info]: Loss for train: 6.55863\n"
     ]
    },
    {
     "name": "stderr",
     "output_type": "stream",
     "text": [
      "[epoch]: 193, [lr]: 0.049131: 100%|██████████| 11888/11888 [04:22<00:00, 45.31it/s, loss=6.46637] \n",
      "[epoch]: 194, [lr]: 0.049126:   0%|          | 0/11888 [00:00<?, ?it/s]"
     ]
    },
    {
     "name": "stdout",
     "output_type": "stream",
     "text": [
      "[Info]: Loss for train: 6.55008\n"
     ]
    },
    {
     "name": "stderr",
     "output_type": "stream",
     "text": [
      "[epoch]: 194, [lr]: 0.049126: 100%|██████████| 11888/11888 [04:22<00:00, 45.30it/s, loss=6.66124] \n",
      "[epoch]: 195, [lr]: 0.049122:   0%|          | 0/11888 [00:00<?, ?it/s]"
     ]
    },
    {
     "name": "stdout",
     "output_type": "stream",
     "text": [
      "[Info]: Loss for train: 6.62787\n"
     ]
    },
    {
     "name": "stderr",
     "output_type": "stream",
     "text": [
      "[epoch]: 195, [lr]: 0.049122: 100%|██████████| 11888/11888 [04:22<00:00, 45.33it/s, loss=5.85298] \n",
      "[epoch]: 196, [lr]: 0.049117:   0%|          | 0/11888 [00:00<?, ?it/s]"
     ]
    },
    {
     "name": "stdout",
     "output_type": "stream",
     "text": [
      "[Info]: Loss for train: 6.54865\n"
     ]
    },
    {
     "name": "stderr",
     "output_type": "stream",
     "text": [
      "[epoch]: 196, [lr]: 0.049117: 100%|██████████| 11888/11888 [04:22<00:00, 45.30it/s, loss=5.83818] \n",
      "[epoch]: 197, [lr]: 0.049113:   0%|          | 0/11888 [00:00<?, ?it/s]"
     ]
    },
    {
     "name": "stdout",
     "output_type": "stream",
     "text": [
      "[Info]: Loss for train: 6.56904\n"
     ]
    },
    {
     "name": "stderr",
     "output_type": "stream",
     "text": [
      "[epoch]: 197, [lr]: 0.049113: 100%|██████████| 11888/11888 [04:22<00:00, 45.30it/s, loss=5.97364] \n",
      "[epoch]: 198, [lr]: 0.049108:   0%|          | 0/11888 [00:00<?, ?it/s]"
     ]
    },
    {
     "name": "stdout",
     "output_type": "stream",
     "text": [
      "[Info]: Loss for train: 6.56552\n"
     ]
    },
    {
     "name": "stderr",
     "output_type": "stream",
     "text": [
      "[epoch]: 198, [lr]: 0.049108: 100%|██████████| 11888/11888 [04:22<00:00, 45.28it/s, loss=6.39781] \n",
      "[epoch]: 199, [lr]: 0.049104:   0%|          | 0/11888 [00:00<?, ?it/s]"
     ]
    },
    {
     "name": "stdout",
     "output_type": "stream",
     "text": [
      "[Info]: Loss for train: 6.60201\n"
     ]
    },
    {
     "name": "stderr",
     "output_type": "stream",
     "text": [
      "[epoch]: 199, [lr]: 0.049104: 100%|██████████| 11888/11888 [04:22<00:00, 45.32it/s, loss=5.63535] \n",
      "[epoch]: 200, [lr]: 0.049099:   0%|          | 0/11888 [00:00<?, ?it/s]"
     ]
    },
    {
     "name": "stdout",
     "output_type": "stream",
     "text": [
      "[Info]: Loss for train: 6.54227\n"
     ]
    },
    {
     "name": "stderr",
     "output_type": "stream",
     "text": [
      "[epoch]: 200, [lr]: 0.049099: 100%|██████████| 11888/11888 [04:22<00:00, 45.31it/s, loss=6.28526] \n",
      "[epoch]: 201, [lr]: 0.049095:   0%|          | 0/11888 [00:00<?, ?it/s]"
     ]
    },
    {
     "name": "stdout",
     "output_type": "stream",
     "text": [
      "[Info]: Loss for train: 6.55661\n"
     ]
    },
    {
     "name": "stderr",
     "output_type": "stream",
     "text": [
      "[epoch]: 201, [lr]: 0.049095: 100%|██████████| 11888/11888 [04:22<00:00, 45.34it/s, loss=6.02672] \n",
      "[epoch]: 202, [lr]: 0.049090:   0%|          | 0/11888 [00:00<?, ?it/s]"
     ]
    },
    {
     "name": "stdout",
     "output_type": "stream",
     "text": [
      "[Info]: Loss for train: 6.55438\n"
     ]
    },
    {
     "name": "stderr",
     "output_type": "stream",
     "text": [
      "[epoch]: 202, [lr]: 0.049090: 100%|██████████| 11888/11888 [04:22<00:00, 45.29it/s, loss=6.01726] \n",
      "[epoch]: 203, [lr]: 0.049086:   0%|          | 0/11888 [00:00<?, ?it/s]"
     ]
    },
    {
     "name": "stdout",
     "output_type": "stream",
     "text": [
      "[Info]: Loss for train: 6.58287\n"
     ]
    },
    {
     "name": "stderr",
     "output_type": "stream",
     "text": [
      "[epoch]: 203, [lr]: 0.049086: 100%|██████████| 11888/11888 [04:22<00:00, 45.32it/s, loss=6.34441] \n",
      "[epoch]: 204, [lr]: 0.049081:   0%|          | 0/11888 [00:00<?, ?it/s]"
     ]
    },
    {
     "name": "stdout",
     "output_type": "stream",
     "text": [
      "[Info]: Loss for train: 6.51527\n"
     ]
    },
    {
     "name": "stderr",
     "output_type": "stream",
     "text": [
      "[epoch]: 204, [lr]: 0.049081: 100%|██████████| 11888/11888 [04:22<00:00, 45.31it/s, loss=6.21427] \n",
      "[epoch]: 205, [lr]: 0.049077:   0%|          | 0/11888 [00:00<?, ?it/s]"
     ]
    },
    {
     "name": "stdout",
     "output_type": "stream",
     "text": [
      "[Info]: Loss for train: 6.52132\n"
     ]
    },
    {
     "name": "stderr",
     "output_type": "stream",
     "text": [
      "[epoch]: 205, [lr]: 0.049077: 100%|██████████| 11888/11888 [04:22<00:00, 45.32it/s, loss=6.57981] \n",
      "[epoch]: 206, [lr]: 0.049072:   0%|          | 0/11888 [00:00<?, ?it/s]"
     ]
    },
    {
     "name": "stdout",
     "output_type": "stream",
     "text": [
      "[Info]: Loss for train: 6.58859\n"
     ]
    },
    {
     "name": "stderr",
     "output_type": "stream",
     "text": [
      "[epoch]: 206, [lr]: 0.049072: 100%|██████████| 11888/11888 [04:22<00:00, 45.35it/s, loss=6.03378] \n",
      "[epoch]: 207, [lr]: 0.049068:   0%|          | 0/11888 [00:00<?, ?it/s]"
     ]
    },
    {
     "name": "stdout",
     "output_type": "stream",
     "text": [
      "[Info]: Loss for train: 6.55046\n"
     ]
    },
    {
     "name": "stderr",
     "output_type": "stream",
     "text": [
      "[epoch]: 207, [lr]: 0.049068: 100%|██████████| 11888/11888 [04:22<00:00, 45.33it/s, loss=6.15142] \n",
      "[epoch]: 208, [lr]: 0.049063:   0%|          | 0/11888 [00:00<?, ?it/s]"
     ]
    },
    {
     "name": "stdout",
     "output_type": "stream",
     "text": [
      "[Info]: Loss for train: 6.57070\n"
     ]
    },
    {
     "name": "stderr",
     "output_type": "stream",
     "text": [
      "[epoch]: 208, [lr]: 0.049063: 100%|██████████| 11888/11888 [04:22<00:00, 45.34it/s, loss=6.51509] \n",
      "[epoch]: 209, [lr]: 0.049059:   0%|          | 0/11888 [00:00<?, ?it/s]"
     ]
    },
    {
     "name": "stdout",
     "output_type": "stream",
     "text": [
      "[Info]: Loss for train: 6.55385\n"
     ]
    },
    {
     "name": "stderr",
     "output_type": "stream",
     "text": [
      "[epoch]: 209, [lr]: 0.049059: 100%|██████████| 11888/11888 [04:22<00:00, 45.32it/s, loss=6.25464] \n",
      "[epoch]: 210, [lr]: 0.049054:   0%|          | 0/11888 [00:00<?, ?it/s]"
     ]
    },
    {
     "name": "stdout",
     "output_type": "stream",
     "text": [
      "[Info]: Loss for train: 6.54178\n"
     ]
    },
    {
     "name": "stderr",
     "output_type": "stream",
     "text": [
      "[epoch]: 210, [lr]: 0.049054: 100%|██████████| 11888/11888 [04:22<00:00, 45.35it/s, loss=6.54338] \n",
      "[epoch]: 211, [lr]: 0.049049:   0%|          | 0/11888 [00:00<?, ?it/s]"
     ]
    },
    {
     "name": "stdout",
     "output_type": "stream",
     "text": [
      "[Info]: Loss for train: 6.51601\n"
     ]
    },
    {
     "name": "stderr",
     "output_type": "stream",
     "text": [
      "[epoch]: 211, [lr]: 0.049049: 100%|██████████| 11888/11888 [04:22<00:00, 45.32it/s, loss=5.92918] \n",
      "[epoch]: 212, [lr]: 0.049045:   0%|          | 0/11888 [00:00<?, ?it/s]"
     ]
    },
    {
     "name": "stdout",
     "output_type": "stream",
     "text": [
      "[Info]: Loss for train: 6.56245\n"
     ]
    },
    {
     "name": "stderr",
     "output_type": "stream",
     "text": [
      "[epoch]: 212, [lr]: 0.049045: 100%|██████████| 11888/11888 [04:22<00:00, 45.36it/s, loss=6.07116]\n",
      "[epoch]: 213, [lr]: 0.049040:   0%|          | 0/11888 [00:00<?, ?it/s]"
     ]
    },
    {
     "name": "stdout",
     "output_type": "stream",
     "text": [
      "[Info]: Loss for train: 6.52412\n"
     ]
    },
    {
     "name": "stderr",
     "output_type": "stream",
     "text": [
      "[epoch]: 213, [lr]: 0.049040: 100%|██████████| 11888/11888 [04:22<00:00, 45.35it/s, loss=6.15161] \n",
      "[epoch]: 214, [lr]: 0.049036:   0%|          | 0/11888 [00:00<?, ?it/s]"
     ]
    },
    {
     "name": "stdout",
     "output_type": "stream",
     "text": [
      "[Info]: Loss for train: 6.53486\n"
     ]
    },
    {
     "name": "stderr",
     "output_type": "stream",
     "text": [
      "[epoch]: 214, [lr]: 0.049036: 100%|██████████| 11888/11888 [04:22<00:00, 45.34it/s, loss=6.04214] \n",
      "[epoch]: 215, [lr]: 0.049031:   0%|          | 0/11888 [00:00<?, ?it/s]"
     ]
    },
    {
     "name": "stdout",
     "output_type": "stream",
     "text": [
      "[Info]: Loss for train: 6.56285\n"
     ]
    },
    {
     "name": "stderr",
     "output_type": "stream",
     "text": [
      "[epoch]: 215, [lr]: 0.049031: 100%|██████████| 11888/11888 [04:22<00:00, 45.35it/s, loss=6.36380] \n",
      "[epoch]: 216, [lr]: 0.049027:   0%|          | 0/11888 [00:00<?, ?it/s]"
     ]
    },
    {
     "name": "stdout",
     "output_type": "stream",
     "text": [
      "[Info]: Loss for train: 6.54969\n"
     ]
    },
    {
     "name": "stderr",
     "output_type": "stream",
     "text": [
      "[epoch]: 216, [lr]: 0.049027: 100%|██████████| 11888/11888 [04:22<00:00, 45.36it/s, loss=5.64940] \n",
      "[epoch]: 217, [lr]: 0.049022:   0%|          | 0/11888 [00:00<?, ?it/s]"
     ]
    },
    {
     "name": "stdout",
     "output_type": "stream",
     "text": [
      "[Info]: Loss for train: 6.55105\n"
     ]
    },
    {
     "name": "stderr",
     "output_type": "stream",
     "text": [
      "[epoch]: 217, [lr]: 0.049022: 100%|██████████| 11888/11888 [04:22<00:00, 45.33it/s, loss=6.43960] \n",
      "[epoch]: 218, [lr]: 0.049018:   0%|          | 0/11888 [00:00<?, ?it/s]"
     ]
    },
    {
     "name": "stdout",
     "output_type": "stream",
     "text": [
      "[Info]: Loss for train: 6.61193\n"
     ]
    },
    {
     "name": "stderr",
     "output_type": "stream",
     "text": [
      "[epoch]: 218, [lr]: 0.049018: 100%|██████████| 11888/11888 [04:22<00:00, 45.35it/s, loss=5.93199] \n",
      "[epoch]: 219, [lr]: 0.049013:   0%|          | 0/11888 [00:00<?, ?it/s]"
     ]
    },
    {
     "name": "stdout",
     "output_type": "stream",
     "text": [
      "[Info]: Loss for train: 6.55835\n"
     ]
    },
    {
     "name": "stderr",
     "output_type": "stream",
     "text": [
      "[epoch]: 219, [lr]: 0.049013: 100%|██████████| 11888/11888 [04:22<00:00, 45.36it/s, loss=6.71556] \n",
      "[epoch]: 220, [lr]: 0.049009:   0%|          | 0/11888 [00:00<?, ?it/s]"
     ]
    },
    {
     "name": "stdout",
     "output_type": "stream",
     "text": [
      "[Info]: Loss for train: 6.49478\n"
     ]
    },
    {
     "name": "stderr",
     "output_type": "stream",
     "text": [
      "[epoch]: 220, [lr]: 0.049009: 100%|██████████| 11888/11888 [04:22<00:00, 45.35it/s, loss=6.03030] \n",
      "[epoch]: 221, [lr]: 0.049004:   0%|          | 0/11888 [00:00<?, ?it/s]"
     ]
    },
    {
     "name": "stdout",
     "output_type": "stream",
     "text": [
      "[Info]: Loss for train: 6.58070\n"
     ]
    },
    {
     "name": "stderr",
     "output_type": "stream",
     "text": [
      "[epoch]: 221, [lr]: 0.049004:  92%|█████████▏| 10912/11888 [04:00<00:21, 45.04it/s, loss=6.36852]"
     ]
    },
    {
     "ename": "KeyboardInterrupt",
     "evalue": "",
     "output_type": "error",
     "traceback": [
      "\u001b[0;31m---------------------------------------------------------------------------\u001b[0m",
      "\u001b[0;31mKeyboardInterrupt\u001b[0m                         Traceback (most recent call last)",
      "\u001b[0;32m<ipython-input-13-4626d80c6374>\u001b[0m in \u001b[0;36m<module>\u001b[0;34m\u001b[0m\n\u001b[1;32m     27\u001b[0m         \u001b[0moptimizer\u001b[0m\u001b[0;34m.\u001b[0m\u001b[0mzero_grad\u001b[0m\u001b[0;34m(\u001b[0m\u001b[0;34m)\u001b[0m\u001b[0;34m\u001b[0m\u001b[0;34m\u001b[0m\u001b[0m\n\u001b[1;32m     28\u001b[0m         \u001b[0mout0\u001b[0m\u001b[0;34m,\u001b[0m \u001b[0mout1\u001b[0m\u001b[0;34m,\u001b[0m \u001b[0mout2\u001b[0m\u001b[0;34m,\u001b[0m \u001b[0mout3\u001b[0m\u001b[0;34m,\u001b[0m \u001b[0mout4\u001b[0m \u001b[0;34m=\u001b[0m \u001b[0mnet\u001b[0m\u001b[0;34m(\u001b[0m\u001b[0mdata\u001b[0m\u001b[0;34m)\u001b[0m\u001b[0;34m\u001b[0m\u001b[0;34m\u001b[0m\u001b[0m\n\u001b[0;32m---> 29\u001b[0;31m         \u001b[0mloss0\u001b[0m \u001b[0;34m=\u001b[0m \u001b[0mloss_func\u001b[0m\u001b[0;34m(\u001b[0m\u001b[0mout0\u001b[0m\u001b[0;34m,\u001b[0m \u001b[0mlabel\u001b[0m\u001b[0;34m)\u001b[0m\u001b[0;34m\u001b[0m\u001b[0;34m\u001b[0m\u001b[0m\n\u001b[0m\u001b[1;32m     30\u001b[0m         \u001b[0mloss1\u001b[0m \u001b[0;34m=\u001b[0m \u001b[0mloss_func\u001b[0m\u001b[0;34m(\u001b[0m\u001b[0mout1\u001b[0m\u001b[0;34m,\u001b[0m \u001b[0mlabel\u001b[0m\u001b[0;34m)\u001b[0m\u001b[0;34m\u001b[0m\u001b[0;34m\u001b[0m\u001b[0m\n\u001b[1;32m     31\u001b[0m         \u001b[0mloss2\u001b[0m \u001b[0;34m=\u001b[0m \u001b[0mloss_func\u001b[0m\u001b[0;34m(\u001b[0m\u001b[0mout2\u001b[0m\u001b[0;34m,\u001b[0m \u001b[0mlabel\u001b[0m\u001b[0;34m)\u001b[0m\u001b[0;34m\u001b[0m\u001b[0;34m\u001b[0m\u001b[0m\n",
      "\u001b[0;32m~/.local/lib/python3.6/site-packages/torch/nn/modules/module.py\u001b[0m in \u001b[0;36m__call__\u001b[0;34m(self, *input, **kwargs)\u001b[0m\n\u001b[1;32m    530\u001b[0m             \u001b[0mresult\u001b[0m \u001b[0;34m=\u001b[0m \u001b[0mself\u001b[0m\u001b[0;34m.\u001b[0m\u001b[0m_slow_forward\u001b[0m\u001b[0;34m(\u001b[0m\u001b[0;34m*\u001b[0m\u001b[0minput\u001b[0m\u001b[0;34m,\u001b[0m \u001b[0;34m**\u001b[0m\u001b[0mkwargs\u001b[0m\u001b[0;34m)\u001b[0m\u001b[0;34m\u001b[0m\u001b[0;34m\u001b[0m\u001b[0m\n\u001b[1;32m    531\u001b[0m         \u001b[0;32melse\u001b[0m\u001b[0;34m:\u001b[0m\u001b[0;34m\u001b[0m\u001b[0;34m\u001b[0m\u001b[0m\n\u001b[0;32m--> 532\u001b[0;31m             \u001b[0mresult\u001b[0m \u001b[0;34m=\u001b[0m \u001b[0mself\u001b[0m\u001b[0;34m.\u001b[0m\u001b[0mforward\u001b[0m\u001b[0;34m(\u001b[0m\u001b[0;34m*\u001b[0m\u001b[0minput\u001b[0m\u001b[0;34m,\u001b[0m \u001b[0;34m**\u001b[0m\u001b[0mkwargs\u001b[0m\u001b[0;34m)\u001b[0m\u001b[0;34m\u001b[0m\u001b[0;34m\u001b[0m\u001b[0m\n\u001b[0m\u001b[1;32m    533\u001b[0m         \u001b[0;32mfor\u001b[0m \u001b[0mhook\u001b[0m \u001b[0;32min\u001b[0m \u001b[0mself\u001b[0m\u001b[0;34m.\u001b[0m\u001b[0m_forward_hooks\u001b[0m\u001b[0;34m.\u001b[0m\u001b[0mvalues\u001b[0m\u001b[0;34m(\u001b[0m\u001b[0;34m)\u001b[0m\u001b[0;34m:\u001b[0m\u001b[0;34m\u001b[0m\u001b[0;34m\u001b[0m\u001b[0m\n\u001b[1;32m    534\u001b[0m             \u001b[0mhook_result\u001b[0m \u001b[0;34m=\u001b[0m \u001b[0mhook\u001b[0m\u001b[0;34m(\u001b[0m\u001b[0mself\u001b[0m\u001b[0;34m,\u001b[0m \u001b[0minput\u001b[0m\u001b[0;34m,\u001b[0m \u001b[0mresult\u001b[0m\u001b[0;34m)\u001b[0m\u001b[0;34m\u001b[0m\u001b[0;34m\u001b[0m\u001b[0m\n",
      "\u001b[0;32m~/Mikoy/learn/DeepLearning/pytorch/papers/BiseNet_V2/loss.py\u001b[0m in \u001b[0;36mforward\u001b[0;34m(self, logits, labels)\u001b[0m\n\u001b[1;32m     17\u001b[0m         \u001b[0mN\u001b[0m\u001b[0;34m,\u001b[0m \u001b[0mC\u001b[0m\u001b[0;34m,\u001b[0m \u001b[0mH\u001b[0m\u001b[0;34m,\u001b[0m \u001b[0mW\u001b[0m \u001b[0;34m=\u001b[0m \u001b[0mlogits\u001b[0m\u001b[0;34m.\u001b[0m\u001b[0msize\u001b[0m\u001b[0;34m(\u001b[0m\u001b[0;34m)\u001b[0m\u001b[0;34m\u001b[0m\u001b[0;34m\u001b[0m\u001b[0m\n\u001b[1;32m     18\u001b[0m         \u001b[0mloss\u001b[0m \u001b[0;34m=\u001b[0m \u001b[0mself\u001b[0m\u001b[0;34m.\u001b[0m\u001b[0mcriteria\u001b[0m\u001b[0;34m(\u001b[0m\u001b[0mlogits\u001b[0m\u001b[0;34m,\u001b[0m \u001b[0mlabels\u001b[0m\u001b[0;34m)\u001b[0m\u001b[0;34m.\u001b[0m\u001b[0mview\u001b[0m\u001b[0;34m(\u001b[0m\u001b[0;34m-\u001b[0m\u001b[0;36m1\u001b[0m\u001b[0;34m)\u001b[0m\u001b[0;34m\u001b[0m\u001b[0;34m\u001b[0m\u001b[0m\n\u001b[0;32m---> 19\u001b[0;31m         \u001b[0mloss\u001b[0m\u001b[0;34m,\u001b[0m \u001b[0m_\u001b[0m \u001b[0;34m=\u001b[0m \u001b[0mtorch\u001b[0m\u001b[0;34m.\u001b[0m\u001b[0msort\u001b[0m\u001b[0;34m(\u001b[0m\u001b[0mloss\u001b[0m\u001b[0;34m,\u001b[0m \u001b[0mdescending\u001b[0m\u001b[0;34m=\u001b[0m\u001b[0;32mTrue\u001b[0m\u001b[0;34m)\u001b[0m\u001b[0;34m\u001b[0m\u001b[0;34m\u001b[0m\u001b[0m\n\u001b[0m\u001b[1;32m     20\u001b[0m         \u001b[0;32mif\u001b[0m \u001b[0mloss\u001b[0m\u001b[0;34m[\u001b[0m\u001b[0mself\u001b[0m\u001b[0;34m.\u001b[0m\u001b[0mn_min\u001b[0m\u001b[0;34m]\u001b[0m \u001b[0;34m>\u001b[0m \u001b[0mself\u001b[0m\u001b[0;34m.\u001b[0m\u001b[0mthresh\u001b[0m\u001b[0;34m:\u001b[0m\u001b[0;34m\u001b[0m\u001b[0;34m\u001b[0m\u001b[0m\n\u001b[1;32m     21\u001b[0m             \u001b[0mloss\u001b[0m \u001b[0;34m=\u001b[0m \u001b[0mloss\u001b[0m\u001b[0;34m[\u001b[0m\u001b[0mloss\u001b[0m\u001b[0;34m>\u001b[0m\u001b[0mself\u001b[0m\u001b[0;34m.\u001b[0m\u001b[0mthresh\u001b[0m\u001b[0;34m]\u001b[0m\u001b[0;34m\u001b[0m\u001b[0;34m\u001b[0m\u001b[0m\n",
      "\u001b[0;31mKeyboardInterrupt\u001b[0m: "
     ]
    }
   ],
   "source": [
    "net = BiseNet_V2(is_train=True)\n",
    "net = torch.nn.DataParallel(net).cuda()\n",
    "\n",
    "optimizer = torch.optim.SGD(params=net.parameters(),\n",
    "                            lr=learning_rate,\n",
    "                            momentum=0.9,\n",
    "                            weight_decay=5e-4)\n",
    "\n",
    "\n",
    "writer = SummaryWriter(log_dir='./logs/', comment='Bv2_Batch_16')\n",
    "loss_func = OhemCELoss(thresh=thresh,\n",
    "                       n_min=n_mid,\n",
    "                       ignore_lb=255)\n",
    "\n",
    "max_miou = 0\n",
    "step = 0\n",
    "for epoch in range(num_epochs):\n",
    "    lr = poly_lr_scheduler(optimizer, learning_rate, iter=epoch, max_iter=num_epochs)\n",
    "    net.train()\n",
    "    tq = tqdm(total=len(dataloader_train) * batch_size)\n",
    "    tq.set_description('[epoch]: %d, [lr]: %f' %(epoch, lr))\n",
    "    loss_record = []\n",
    "    for i, (data, label) in enumerate(dataloader_train):\n",
    "        data = data.cuda()\n",
    "        label = label.cuda()\n",
    "        label = torch.squeeze(label, 1)\n",
    "        optimizer.zero_grad()\n",
    "        out0, out1, out2, out3, out4 = net(data)\n",
    "        loss0 = loss_func(out0, label)\n",
    "        loss1 = loss_func(out1, label)\n",
    "        loss2 = loss_func(out2, label)\n",
    "        loss3 = loss_func(out3, label)\n",
    "        loss4 = loss_func(out4, label)\n",
    "        loss = loss0 + loss1 + loss2 + loss3 + loss4\n",
    "        tq.update(batch_size)\n",
    "        tq.set_postfix(loss='%.5f' % loss)\n",
    "        \n",
    "        loss.backward()\n",
    "        optimizer.step()\n",
    "        step += 1\n",
    "        writer.add_scalar('loss_step', loss, step)\n",
    "        loss_record.append(loss.item())\n",
    "    \n",
    "    tq.close()\n",
    "    loss_avg = np.mean(loss_record)\n",
    "    writer.add_scalar('epoch/loss_epoch_train', float(loss_avg), epoch)\n",
    "    print('[Info]: Loss for train: %.5f' % loss_avg)\n",
    "    if epoch % 50 == 0 and epoch != 0:\n",
    "        if not os.path.isdir(save_dir):\n",
    "            os.mkdir(save_dir)\n",
    "        torch.save(net.module.state_dict(),\n",
    "                   os.path.join(save_dir, 'latest_dice_loss.pth'))\n",
    "    \n",
    "    # Validation after"
   ]
  },
  {
   "cell_type": "code",
   "execution_count": null,
   "metadata": {},
   "outputs": [],
   "source": [
    "?SummaryWriter"
   ]
  },
  {
   "cell_type": "code",
   "execution_count": null,
   "metadata": {},
   "outputs": [],
   "source": []
  }
 ],
 "metadata": {
  "kernelspec": {
   "display_name": "Python 3",
   "language": "python",
   "name": "python3"
  },
  "language_info": {
   "codemirror_mode": {
    "name": "ipython",
    "version": 3
   },
   "file_extension": ".py",
   "mimetype": "text/x-python",
   "name": "python",
   "nbconvert_exporter": "python",
   "pygments_lexer": "ipython3",
   "version": "3.6.9"
  },
  "varInspector": {
   "cols": {
    "lenName": 16,
    "lenType": 16,
    "lenVar": 40
   },
   "kernels_config": {
    "python": {
     "delete_cmd_postfix": "",
     "delete_cmd_prefix": "del ",
     "library": "var_list.py",
     "varRefreshCmd": "print(var_dic_list())"
    },
    "r": {
     "delete_cmd_postfix": ") ",
     "delete_cmd_prefix": "rm(",
     "library": "var_list.r",
     "varRefreshCmd": "cat(var_dic_list()) "
    }
   },
   "types_to_exclude": [
    "module",
    "function",
    "builtin_function_or_method",
    "instance",
    "_Feature"
   ],
   "window_display": false
  }
 },
 "nbformat": 4,
 "nbformat_minor": 4
}
