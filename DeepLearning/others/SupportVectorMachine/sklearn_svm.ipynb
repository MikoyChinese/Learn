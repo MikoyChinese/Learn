{
 "cells": [
  {
   "cell_type": "code",
   "execution_count": 1,
   "metadata": {
    "ExecuteTime": {
     "end_time": "2021-03-15T07:21:51.177281Z",
     "start_time": "2021-03-15T07:21:51.175239Z"
    }
   },
   "outputs": [],
   "source": [
    "from sklearn.pipeline import make_pipeline\n",
    "from sklearn.preprocessing import StandardScaler\n",
    "from sklearn.svm import SVC"
   ]
  },
  {
   "cell_type": "code",
   "execution_count": 2,
   "metadata": {
    "ExecuteTime": {
     "end_time": "2021-03-15T07:36:40.843136Z",
     "start_time": "2021-03-15T07:36:40.840662Z"
    }
   },
   "outputs": [],
   "source": [
    "clf = make_pipeline(StandardScaler(), SVC(gamma='auto', kernel='rbf'))"
   ]
  },
  {
   "cell_type": "code",
   "execution_count": null,
   "metadata": {},
   "outputs": [],
   "source": [
    "# Pre Train SVM\n",
    "\n",
    "def trainSVM(clf, train_data, test_data, train_labels, test_labels):\n",
    "    clf.fit(train_data, train_labels)\n",
    "    predict_test = clf.predict(test_data)\n",
    "    return clf, predict_test"
   ]
  },
  {
   "cell_type": "code",
   "execution_count": null,
   "metadata": {},
   "outputs": [],
   "source": [
    "import os\n",
    "import json\n",
    "import cv2\n",
    "from sklearn.preprocessing import StandardScaler\n",
    "\n",
    "class Dataloader:\n",
    "    \n",
    "    \n",
    "    def __init__(self, path, label_file, test_label):\n",
    "        self.train_path = os.path.join(path, 'training')\n",
    "        self.test_path = os.path.join(path, 'testing')\n",
    "        self.label_path = os.path.join(path, label_file)\n",
    "        self.test_label_path = os.path.join(path, test_label)\n",
    "        self.train_data = []\n",
    "        self.train_images = []\n",
    "        self.train_file_name = []\n",
    "        self.test_data = []\n",
    "        self.test_images = []\n",
    "        self.test_file_name = []\n",
    "        self.labels_train = []\n",
    "        self.labels_test = []\n",
    "        \n",
    "        self.TOTAL_SAMPLES_PER_CLASS = 100\n",
    "        \n",
    "        \n",
    "    def _assert_exist(self, label_path):\n",
    "        msg = 'Gile is not availble: %s' % label_path\n",
    "        assert os.path.exists(label_path), msg\n",
    "        \n",
    "    def load_labels(self, label_path, test_label):\n",
    "        \"\"\"\n",
    "        Loads the training and testing labels from a json file.\n",
    "        \"\"\"\n",
    "        self._assert_exist(label_path)\n",
    "        self._assert_exist(test_label)\n",
    "        with open(label_path, 'r') as f:\n",
    "            label_data = json.load(f)\n",
    "        self.labels_train = label_data['labels']\n",
    "        with open(test_label, 'r') as f:\n",
    "            test_label = json.load(f)\n",
    "        self.labels_test = test_label['labels']\n",
    "        \n",
    "    def scaled_data(self, train_data, test_data):\n",
    "        \"\"\"\n",
    "        This method helps scaling/normalizing data.\n",
    "        \"\"\"\n",
    "        raw_scaler = StandardScaler().fit(train_data)\n",
    "        scaled_train_data = raw_scaler.transform(train_data)\n",
    "        scaled_test_data = raw_scaler.transform(test_data)\n",
    "        return scaled_train_data, scaled_test_data, raw_scaler\n",
    "    \n",
    "    def load_dataset(self, train_path, test_path):\n",
    "        \"\"\"\n",
    "        This method loads the images for training the classifier.\n",
    "        \"\"\"\n",
    "        # For ResNet 256x256\n",
    "        WIDTH = 256\n",
    "        HEIGHT = 256\n",
    "        for filename in sorted(os.listdir(train_path)):\n",
    "            self.train_file_name.append(filename)\n",
    "            image = cv2.imread(os.path.join(train_path, filename))\n",
    "            image = cv2.resize(image, (WIDTH, HEIGHT), interpolation=cv2.INTER_AREA)\n",
    "            self.train_data.append(np.reshape(np.array(image), WIDTH*HEIGHT*3))\n",
    "            self.train_images.append(image)\n",
    "            \n",
    "        for filename in sorted(os.listdir(test_path)):\n",
    "            self.test_file_name.append(filename)\n",
    "            image = cv2.imread(os.path.join(test_path, filename))\n",
    "            image = cv2.resize(image, (WIDTH, HEIGHT), interpolation=cv2.INTER_AREA)\n",
    "            self.test_images.append(image)\n",
    "            self.test_data.append(np.reshape(np.array(image), WIDTH*HEIGHT*3))\n",
    "            \n",
    "    def smaller_dataset(self, dataset, no_samples_per_class, no_of_classes):\n",
    "        \"\"\"\n",
    "        This method helps training with a subset of the dataset.\n",
    "        \"\"\"\n",
    "        \n",
    "        start = 0\n",
    "        end = no_samples_per_class\n",
    "        new_dataset = []\n",
    "        labels = []\n",
    "        for i in range(no_of_classes):\n",
    "            new_data = dataset[start:end]\n",
    "            start += self.TOTAL_SAMPLES_PER_CLASS\n",
    "            end = start + no_samples_per_class\n",
    "            new_dataset.extend(new_data)\n",
    "            labels.extend([i+1] * no_samples_per_class)\n",
    "        return new_dataset, labels"
   ]
  },
  {
   "cell_type": "code",
   "execution_count": null,
   "metadata": {},
   "outputs": [],
   "source": []
  }
 ],
 "metadata": {
  "kernelspec": {
   "display_name": "Python 3",
   "language": "python",
   "name": "python3"
  },
  "language_info": {
   "codemirror_mode": {
    "name": "ipython",
    "version": 3
   },
   "file_extension": ".py",
   "mimetype": "text/x-python",
   "name": "python",
   "nbconvert_exporter": "python",
   "pygments_lexer": "ipython3",
   "version": "3.8.5"
  },
  "varInspector": {
   "cols": {
    "lenName": 16,
    "lenType": 16,
    "lenVar": 40
   },
   "kernels_config": {
    "python": {
     "delete_cmd_postfix": "",
     "delete_cmd_prefix": "del ",
     "library": "var_list.py",
     "varRefreshCmd": "print(var_dic_list())"
    },
    "r": {
     "delete_cmd_postfix": ") ",
     "delete_cmd_prefix": "rm(",
     "library": "var_list.r",
     "varRefreshCmd": "cat(var_dic_list()) "
    }
   },
   "types_to_exclude": [
    "module",
    "function",
    "builtin_function_or_method",
    "instance",
    "_Feature"
   ],
   "window_display": false
  }
 },
 "nbformat": 4,
 "nbformat_minor": 4
}
