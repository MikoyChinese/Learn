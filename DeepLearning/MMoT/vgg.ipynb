{
 "cells": [
  {
   "cell_type": "code",
   "execution_count": 1,
   "metadata": {},
   "outputs": [],
   "source": [
    "import tensorflow as tf\n",
    "import numpy as np"
   ]
  },
  {
   "cell_type": "code",
   "execution_count": null,
   "metadata": {},
   "outputs": [],
   "source": [
    "CKPT_FILE = '/home/commaai-03/Downloads/tmp/vgg_16.ckpt'\n",
    "with tf.Session() as sess: \n",
    "    for var_name, _ in tf.contrib.framework.list_variables(CKPT_FILE): \n",
    "     var = tf.contrib.framework.load_variable(CKPT_FILE, var_name) \n",
    "     if 'biases' in var_name: \n",
    "         var_name = var_name.replace('biases', 'bias') \n",
    "     var = tf.Variable(var, name=var_name) \n",
    "    saver = tf.train.Saver() \n",
    "    sess.run(tf.global_variables_initializer()) \n",
    "    saver.save(sess, '/home/commaai-03/Downloads/tmp/vgg_16_1.ckpt') "
   ]
  },
  {
   "cell_type": "code",
   "execution_count": 2,
   "metadata": {},
   "outputs": [],
   "source": [
    "class VGG16():\n",
    "        \n",
    "    def repeat(self, inputs, times, filters, kernel_size, scope=None):\n",
    "        \n",
    "        with tf.variable_scope(scope):\n",
    "            layers = []\n",
    "            Conv2D = tf.keras.layers.Conv2D\n",
    "            for time in range(times):\n",
    "                layer = Conv2D(filters=filters, \n",
    "                               kernel_size=kernel_size, \n",
    "                               strides=(1,1), \n",
    "                               padding='same',\n",
    "                               activation=tf.nn.relu, \n",
    "                               name='%s_%d' % (scope, time+1))\n",
    "                layers.append(layer)\n",
    "                net = layers[-1](inputs)\n",
    "            return net\n",
    "    \n",
    "    def build(self, inputs, num_classes):\n",
    "        \n",
    "        with tf.variable_scope('vgg_16'):\n",
    "            # Definition\n",
    "            MaxPooling2D = tf.keras.layers.MaxPooling2D\n",
    "\n",
    "            # First conv3-64 * 2\n",
    "            net = self.repeat(inputs, 2, 64, [3, 3], scope='conv1')\n",
    "            # MaxPooling 1: if strides is None, it will default to pool_size\n",
    "            net = MaxPooling2D(pool_size=[2,2], \n",
    "                               strides=[2,2], \n",
    "                               padding='same')(net)\n",
    "            # Second conv3-128 * 2\n",
    "            net = self.repeat(net, 2, 128, [3,3], scope='conv2')\n",
    "            net = MaxPooling2D(pool_size=[2,2], \n",
    "                               strides=[2,2], \n",
    "                               padding='same')(net)\n",
    "            # Third conv3-256 * 3\n",
    "            net = self.repeat(net, 3, 256, [3,3], scope='conv3')\n",
    "            net = MaxPooling2D(pool_size=[2,2], \n",
    "                               strides=[2,2], \n",
    "                               padding='same')(net)\n",
    "            # Fourth conv3-512 * 3\n",
    "            net = self.repeat(net, 3, 512, [3,3], scope='conv4')\n",
    "            net = MaxPooling2D(pool_size=[2,2], \n",
    "                               strides=[2,2], \n",
    "                               padding='same')(net)\n",
    "            # Fifth conv3-512 * 3\n",
    "            net = self.repeat(net, 3, 512, [3,3], scope='conv5')\n",
    "            net = MaxPooling2D(pool_size=[2,2], \n",
    "                               strides=[2,2], \n",
    "                               padding='same')(net)\n",
    "\n",
    "            # Conv2D instead of fully connected layers.\n",
    "            # FC-4096\n",
    "            net = tf.keras.layers.Conv2D(filters=4096, \n",
    "                                         kernel_size=[7,7], \n",
    "                                         strides=[1,1], \n",
    "                                         padding='valid', \n",
    "                                         activation=tf.nn.relu, \n",
    "                                         name='fc6')(net)\n",
    "            net = tf.keras.layers.Dropout(0.5)(net)\n",
    "            # FC-4096\n",
    "            net = tf.keras.layers.Conv2D(filters=4096, \n",
    "                                         kernel_size=[1,1],\n",
    "                                         strides=[1,1], \n",
    "                                         padding='valid', \n",
    "                                         activation=tf.nn.relu, \n",
    "                                         name='fc7')(net)\n",
    "            net = tf.keras.layers.Dropout(0.5)(net)\n",
    "\n",
    "            net = tf.keras.layers.Conv2D(filters=num_classes, \n",
    "                                         kernel_size=[1,1], \n",
    "                                         strides=[1,1], \n",
    "                                         padding='valid', \n",
    "                                         activation=None, \n",
    "                                         name='fc8')(net)\n",
    "        return net"
   ]
  },
  {
   "cell_type": "code",
   "execution_count": null,
   "metadata": {},
   "outputs": [],
   "source": [
    "CKPT_FILE = '/home/commaai-03/Downloads/tmp/vgg_16_1.ckpt'"
   ]
  },
  {
   "cell_type": "code",
   "execution_count": 3,
   "metadata": {},
   "outputs": [
    {
     "name": "stderr",
     "output_type": "stream",
     "text": [
      "WARNING: Logging before flag parsing goes to stderr.\n",
      "W0929 14:32:09.764033 140618198177600 deprecation.py:506] From /home/commaai-03/.local/lib/python3.6/site-packages/tensorflow/python/ops/init_ops.py:1251: calling VarianceScaling.__init__ (from tensorflow.python.ops.init_ops) with dtype is deprecated and will be removed in a future version.\n",
      "Instructions for updating:\n",
      "Call initializer instance with the dtype argument instead of passing it to the constructor\n"
     ]
    },
    {
     "name": "stdout",
     "output_type": "stream",
     "text": [
      "[<tf.Variable 'vgg_16/conv1/conv1_1/kernel:0' shape=(3, 3, 3, 64) dtype=float32>, <tf.Variable 'vgg_16/conv1/conv1_1/bias:0' shape=(64,) dtype=float32>, <tf.Variable 'vgg_16/conv1/conv1_2/kernel:0' shape=(3, 3, 3, 64) dtype=float32>, <tf.Variable 'vgg_16/conv1/conv1_2/bias:0' shape=(64,) dtype=float32>, <tf.Variable 'vgg_16/conv2/conv2_1/kernel:0' shape=(3, 3, 64, 128) dtype=float32>, <tf.Variable 'vgg_16/conv2/conv2_1/bias:0' shape=(128,) dtype=float32>, <tf.Variable 'vgg_16/conv2/conv2_2/kernel:0' shape=(3, 3, 64, 128) dtype=float32>, <tf.Variable 'vgg_16/conv2/conv2_2/bias:0' shape=(128,) dtype=float32>, <tf.Variable 'vgg_16/conv3/conv3_1/kernel:0' shape=(3, 3, 128, 256) dtype=float32>, <tf.Variable 'vgg_16/conv3/conv3_1/bias:0' shape=(256,) dtype=float32>, <tf.Variable 'vgg_16/conv3/conv3_2/kernel:0' shape=(3, 3, 128, 256) dtype=float32>, <tf.Variable 'vgg_16/conv3/conv3_2/bias:0' shape=(256,) dtype=float32>, <tf.Variable 'vgg_16/conv3/conv3_3/kernel:0' shape=(3, 3, 128, 256) dtype=float32>, <tf.Variable 'vgg_16/conv3/conv3_3/bias:0' shape=(256,) dtype=float32>, <tf.Variable 'vgg_16/conv4/conv4_1/kernel:0' shape=(3, 3, 256, 512) dtype=float32>, <tf.Variable 'vgg_16/conv4/conv4_1/bias:0' shape=(512,) dtype=float32>, <tf.Variable 'vgg_16/conv4/conv4_2/kernel:0' shape=(3, 3, 256, 512) dtype=float32>, <tf.Variable 'vgg_16/conv4/conv4_2/bias:0' shape=(512,) dtype=float32>, <tf.Variable 'vgg_16/conv4/conv4_3/kernel:0' shape=(3, 3, 256, 512) dtype=float32>, <tf.Variable 'vgg_16/conv4/conv4_3/bias:0' shape=(512,) dtype=float32>, <tf.Variable 'vgg_16/conv5/conv5_1/kernel:0' shape=(3, 3, 512, 512) dtype=float32>, <tf.Variable 'vgg_16/conv5/conv5_1/bias:0' shape=(512,) dtype=float32>, <tf.Variable 'vgg_16/conv5/conv5_2/kernel:0' shape=(3, 3, 512, 512) dtype=float32>, <tf.Variable 'vgg_16/conv5/conv5_2/bias:0' shape=(512,) dtype=float32>, <tf.Variable 'vgg_16/conv5/conv5_3/kernel:0' shape=(3, 3, 512, 512) dtype=float32>, <tf.Variable 'vgg_16/conv5/conv5_3/bias:0' shape=(512,) dtype=float32>, <tf.Variable 'vgg_16/fc6/kernel:0' shape=(7, 7, 512, 4096) dtype=float32>, <tf.Variable 'vgg_16/fc6/bias:0' shape=(4096,) dtype=float32>, <tf.Variable 'vgg_16/fc7/kernel:0' shape=(1, 1, 4096, 4096) dtype=float32>, <tf.Variable 'vgg_16/fc7/bias:0' shape=(4096,) dtype=float32>, <tf.Variable 'vgg_16/fc8/kernel:0' shape=(1, 1, 4096, 1000) dtype=float32>, <tf.Variable 'vgg_16/fc8/bias:0' shape=(1000,) dtype=float32>]\n"
     ]
    }
   ],
   "source": [
    "x = tf.placeholder(tf.float32, shape=[None, 224, 224, 3])\n",
    "net = VGG16().build(inputs=x, num_classes=1000)\n",
    "with tf.Session() as sess:\n",
    "    tf.global_variables_initializer().run()\n",
    "    print(tf.global_variables())"
   ]
  },
  {
   "cell_type": "code",
   "execution_count": null,
   "metadata": {},
   "outputs": [],
   "source": [
    "x = tf.placeholder(tf.float32, shape=[None, 224, 224, 3])\n",
    "net = VGG16().build(inputs=x, num_classes=1000)\n",
    "\n",
    "saver = tf.train.Saver()\n",
    "\n",
    "with tf.Session() as sess:\n",
    "    # Restore variables from ckpt file.\n",
    "    tf.global_variables_initializer().run()\n",
    "    \n",
    "    saver.restore(sess, CKPT_FILE)\n",
    "    print('[Tensorflow]: Model Restored.')\n",
    "    print('FC8: %s' % net.eval())"
   ]
  },
  {
   "cell_type": "code",
   "execution_count": null,
   "metadata": {},
   "outputs": [],
   "source": []
  }
 ],
 "metadata": {
  "kernelspec": {
   "display_name": "Python 3",
   "language": "python",
   "name": "python3"
  },
  "language_info": {
   "codemirror_mode": {
    "name": "ipython",
    "version": 3
   },
   "file_extension": ".py",
   "mimetype": "text/x-python",
   "name": "python",
   "nbconvert_exporter": "python",
   "pygments_lexer": "ipython3",
   "version": "3.6.8"
  },
  "varInspector": {
   "cols": {
    "lenName": 16,
    "lenType": 16,
    "lenVar": 40
   },
   "kernels_config": {
    "python": {
     "delete_cmd_postfix": "",
     "delete_cmd_prefix": "del ",
     "library": "var_list.py",
     "varRefreshCmd": "print(var_dic_list())"
    },
    "r": {
     "delete_cmd_postfix": ") ",
     "delete_cmd_prefix": "rm(",
     "library": "var_list.r",
     "varRefreshCmd": "cat(var_dic_list()) "
    }
   },
   "types_to_exclude": [
    "module",
    "function",
    "builtin_function_or_method",
    "instance",
    "_Feature"
   ],
   "window_display": false
  }
 },
 "nbformat": 4,
 "nbformat_minor": 2
}
