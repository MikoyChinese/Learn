{
 "cells": [
  {
   "cell_type": "code",
   "execution_count": null,
   "metadata": {},
   "outputs": [],
   "source": [
    "TF_RECORD_FILE = '/media/commaai-03/Data/dataset/segment-1208303279778032257_1360_000_1380_000_with_camera_labels.tfrecord'"
   ]
  },
  {
   "cell_type": "code",
   "execution_count": null,
   "metadata": {},
   "outputs": [],
   "source": [
    "import os\n",
    "import math\n",
    "import tensorflow as tf\n",
    "import numpy as np"
   ]
  },
  {
   "cell_type": "code",
   "execution_count": null,
   "metadata": {},
   "outputs": [],
   "source": [
    "# For running session without tensor running.\n",
    "tf.enable_eager_execution()\n",
    "\n",
    "# Waymo open dataset Modules\n",
    "# waymo_open_dataset: pip3 install waymo-open-dataset\n",
    "from waymo_open_dataset import dataset_pb2 as open_dataset\n",
    "from waymo_open_dataset.utils import range_image_utils\n",
    "from waymo_open_dataset.utils import transform_utils\n",
    "from waymo_open_dataset.utils import frame_utils"
   ]
  },
  {
   "cell_type": "code",
   "execution_count": null,
   "metadata": {},
   "outputs": [],
   "source": [
    "def load_dataset(filenames):\n",
    "    dataset = tf.data.TFRecordDataset(filenames=filenames, \n",
    "                                      compression_type='')\n",
    "    frames = []\n",
    "    for data in dataset:\n",
    "        frame = open_dataset.Frame()\n",
    "        frame.ParseFromString(bytearray(data.numpy()))\n",
    "        frames.append(frame)\n",
    "    \n",
    "    return frames"
   ]
  },
  {
   "cell_type": "code",
   "execution_count": null,
   "metadata": {},
   "outputs": [],
   "source": [
    "frames = load_dataset(TF_RECORD_FILE)"
   ]
  },
  {
   "cell_type": "code",
   "execution_count": null,
   "metadata": {},
   "outputs": [],
   "source": [
    "frames[0].context"
   ]
  },
  {
   "cell_type": "markdown",
   "metadata": {},
   "source": [
    "### Waymo Open Dataset Format\n",
    "\n",
    "#### 1. Lidar Data:\n",
    "\n",
    "- Top(mid-range lidar)\n",
    "- Front\n",
    "- Side Left\n",
    "- Side Right\n",
    "- Rear\n",
    "\n",
    "**Describe:** Each lidar provides two range images, one for each of the two strongest returns.\n",
    "\n",
    "**Format:**\n",
    "\n",
    "- Basic: [range, lidar intensity, lidar elongation, is_in_nlz(1 in but -1 not in)]\n",
    "- Additional: [camera_name, x, y, camera name of 2nd projection, x, y] (**Note:** x: axis along image width, y: axis along image height, camera name of 2nd projection: set to UNKNOWN if no projection.)\n",
    "\n",
    "---\n",
    "\n",
    "#### 2. Camera Data:\n",
    "\n",
    "- Front\n",
    "- Front Left\n",
    "- Front Right\n",
    "- Side Left\n",
    "- Side Right"
   ]
  },
  {
   "cell_type": "code",
   "execution_count": null,
   "metadata": {},
   "outputs": [],
   "source": [
    "(range_images, camera_projections, range_image_top_pose) = \\\n",
    "    frame_utils.parse_range_image_and_camera_projection(frames[0])"
   ]
  },
  {
   "cell_type": "code",
   "execution_count": null,
   "metadata": {},
   "outputs": [],
   "source": [
    "print(len(range_images))\n",
    "print(len(camera_projections))\n",
    "print(min(range_image_top_pose.data[:]))"
   ]
  },
  {
   "cell_type": "code",
   "execution_count": null,
   "metadata": {},
   "outputs": [],
   "source": [
    "points, cp_points = frame_utils.convert_range_image_to_point_cloud(\n",
    "    frames[0], \n",
    "    range_images, \n",
    "    camera_projections, \n",
    "    range_image_top_pose)\n",
    "# points [B, x, y, r]"
   ]
  },
  {
   "cell_type": "code",
   "execution_count": null,
   "metadata": {},
   "outputs": [],
   "source": []
  },
  {
   "cell_type": "code",
   "execution_count": null,
   "metadata": {},
   "outputs": [],
   "source": [
    "import cv2\n",
    "\n",
    "#depth_data = np.array(points[1])\n",
    "print(np.min(points[:][:][2]))\n",
    "print(points[0][0])\n",
    "\n",
    "for i in range(5):\n",
    "    print(cp_points[i][0])\n",
    "#cv2.imwrite('/home/commaai-03/Test/tmp/1.pgm', depth_data)"
   ]
  },
  {
   "cell_type": "code",
   "execution_count": null,
   "metadata": {},
   "outputs": [],
   "source": [
    "#np.average(depth_data)"
   ]
  },
  {
   "cell_type": "code",
   "execution_count": null,
   "metadata": {},
   "outputs": [],
   "source": []
  }
 ],
 "metadata": {
  "kernelspec": {
   "display_name": "Python 3",
   "language": "python",
   "name": "python3"
  },
  "language_info": {
   "codemirror_mode": {
    "name": "ipython",
    "version": 3
   },
   "file_extension": ".py",
   "mimetype": "text/x-python",
   "name": "python",
   "nbconvert_exporter": "python",
   "pygments_lexer": "ipython3",
   "version": "3.6.9"
  },
  "varInspector": {
   "cols": {
    "lenName": 16,
    "lenType": 16,
    "lenVar": 40
   },
   "kernels_config": {
    "python": {
     "delete_cmd_postfix": "",
     "delete_cmd_prefix": "del ",
     "library": "var_list.py",
     "varRefreshCmd": "print(var_dic_list())"
    },
    "r": {
     "delete_cmd_postfix": ") ",
     "delete_cmd_prefix": "rm(",
     "library": "var_list.r",
     "varRefreshCmd": "cat(var_dic_list()) "
    }
   },
   "types_to_exclude": [
    "module",
    "function",
    "builtin_function_or_method",
    "instance",
    "_Feature"
   ],
   "window_display": false
  }
 },
 "nbformat": 4,
 "nbformat_minor": 2
}
