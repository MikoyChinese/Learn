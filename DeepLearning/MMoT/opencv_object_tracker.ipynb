{
 "cells": [
  {
   "cell_type": "code",
   "execution_count": 1,
   "metadata": {},
   "outputs": [],
   "source": [
    "# import the necessary packages.\n",
    "\n",
    "from imutils.video import VideoStream\n",
    "from imutils.video import FPS\n",
    "\n",
    "import argparse\n",
    "import imutils\n",
    "import time\n",
    "import cv2"
   ]
  },
  {
   "cell_type": "code",
   "execution_count": 5,
   "metadata": {},
   "outputs": [],
   "source": [
    "'''\n",
    "ap = argparse.ArgumentParser()\n",
    "\n",
    "ap.add_argument('-v', '--video', type=str, \n",
    "                help='Path to input video file.')\n",
    "ap.add_argument('-t', '--tracker', type=str, default='kcf', \n",
    "                help='OpenCV object tracker type.')\n",
    "args = vars(ap.parse_args())\n",
    "'''\n",
    "\n",
    "import easydict\n",
    "args = easydict.EasyDict({\n",
    "        'video': 0,\n",
    "        'tracker': 'kcf'\n",
    "})"
   ]
  },
  {
   "cell_type": "code",
   "execution_count": null,
   "metadata": {},
   "outputs": [],
   "source": [
    "# extract the OpenCV version info.\n",
    "(major, minor) = cv2.__version__.split('.')[:2]\n",
    "\n",
    "# if we are using OpenCV 3.2 or Before, we can use a special factory\n",
    "# function to create object tracker.\n",
    "if int(major) == 3 and int(minor) < 3:\n",
    "    tracker = cv2.Tracker_create(args['tracker'].upper())\n",
    "\n",
    "# Otherwise, for OpenCV 3.3 or Newer, we need to explicity call the\n",
    "# approrpiate object tracker constructor:\n",
    "else:\n",
    "    # Initialize a dictionary that maps strings to their corresponding\n",
    "    # OpenCV object tracker implementations.\n",
    "    OPENCV_OBJECT_TRACKERS = {\n",
    "        'csrt': cv2.Tracker_create\n",
    "    }"
   ]
  }
 ],
 "metadata": {
  "kernelspec": {
   "display_name": "Python 3",
   "language": "python",
   "name": "python3"
  },
  "language_info": {
   "codemirror_mode": {
    "name": "ipython",
    "version": 3
   },
   "file_extension": ".py",
   "mimetype": "text/x-python",
   "name": "python",
   "nbconvert_exporter": "python",
   "pygments_lexer": "ipython3",
   "version": "3.6.8"
  },
  "varInspector": {
   "cols": {
    "lenName": 16,
    "lenType": 16,
    "lenVar": 40
   },
   "kernels_config": {
    "python": {
     "delete_cmd_postfix": "",
     "delete_cmd_prefix": "del ",
     "library": "var_list.py",
     "varRefreshCmd": "print(var_dic_list())"
    },
    "r": {
     "delete_cmd_postfix": ") ",
     "delete_cmd_prefix": "rm(",
     "library": "var_list.r",
     "varRefreshCmd": "cat(var_dic_list()) "
    }
   },
   "types_to_exclude": [
    "module",
    "function",
    "builtin_function_or_method",
    "instance",
    "_Feature"
   ],
   "window_display": false
  }
 },
 "nbformat": 4,
 "nbformat_minor": 2
}
