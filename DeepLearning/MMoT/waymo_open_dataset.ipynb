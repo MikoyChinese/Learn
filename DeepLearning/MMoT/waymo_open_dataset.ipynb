{
 "cells": [
  {
   "cell_type": "code",
   "execution_count": null,
   "metadata": {},
   "outputs": [],
   "source": [
    "TF_RECORD_FILE = '/media/commaai-03/Data/dataset/segment-1208303279778032257_1360_000_1380_000_with_camera_labels.tfrecord'"
   ]
  },
  {
   "cell_type": "code",
   "execution_count": null,
   "metadata": {},
   "outputs": [],
   "source": [
    "import os\n",
    "import math\n",
    "import tensorflow as tf\n",
    "import numpy as np"
   ]
  },
  {
   "cell_type": "code",
   "execution_count": null,
   "metadata": {},
   "outputs": [],
   "source": [
    "# For running session without tensor running.\n",
    "tf.enable_eager_execution()\n",
    "\n",
    "# Waymo open dataset Modules\n",
    "from waymo_open_dataset import dataset_pb2 as open_dataset\n",
    "from waymo_open_dataset.utils import range_image_utils\n",
    "from waymo_open_dataset.utils import transform_utils\n",
    "from waymo_open_dataset.utils import frame_utils"
   ]
  },
  {
   "cell_type": "code",
   "execution_count": null,
   "metadata": {
    "scrolled": true
   },
   "outputs": [],
   "source": [
    "dataset = tf.data.TFRecordDataset(filenames=TF_RECORD_FILE, \n",
    "                                  compression_type='')\n",
    "for data in dataset:\n",
    "    frame = open_dataset.Frame()\n",
    "    frame.ParseFromString(bytearray(data.numpy()))\n",
    "    break\n",
    "    \n",
    "(range_images, camera_projections, range_image_top_pose) = \\\n",
    "    frame_utils.parse_range_image_and_camera_projection(frame)"
   ]
  },
  {
   "cell_type": "code",
   "execution_count": null,
   "metadata": {},
   "outputs": [],
   "source": [
    "?range_image_top_pose"
   ]
  },
  {
   "cell_type": "code",
   "execution_count": null,
   "metadata": {},
   "outputs": [],
   "source": [
    "print(frame.context)"
   ]
  },
  {
   "cell_type": "markdown",
   "metadata": {},
   "source": [
    "#### Visualize camera Images and Labels"
   ]
  },
  {
   "cell_type": "code",
   "execution_count": null,
   "metadata": {},
   "outputs": [],
   "source": [
    "import matplotlib.pyplot as plt\n",
    "import matplotlib.patches as patches\n",
    "%matplotlib inline"
   ]
  },
  {
   "cell_type": "code",
   "execution_count": null,
   "metadata": {},
   "outputs": [],
   "source": [
    "def show_image_with_boxes(camera_image, camera_labels, layout, cmap=None):\n",
    "    '''\n",
    "    Show a camera image and the given camera labels.\n",
    "    Args:\n",
    "    - camera_image:\n",
    "    - camera_labels:\n",
    "    - layout:\n",
    "    - cmap:\n",
    "    '''\n",
    "    \n",
    "    axs = plt.subplot(*layout)\n",
    "    \n",
    "    # Draw the camera labels.\n",
    "    for camera_labels in frame.camera_labels:\n",
    "        # Ignore tcamera labels that do not correspond to this camera.\n",
    "        if camera_labels.name != camera_image.name:\n",
    "            continue\n",
    "        \n",
    "        # Iterate over the individual labels.\n",
    "        for label in camera_labels.labels:\n",
    "            # Draw the object bounding box.\n",
    "            x = label.box.center_x - 0.5 * label.box.length\n",
    "            y = label.box.center_y - 0.5 * label.box.width\n",
    "            axs.add_patch(patches.Rectangle(\n",
    "                xy=(x, y),\n",
    "                width=label.box.length,\n",
    "                height=label.box.width,\n",
    "                linewidth=1, \n",
    "                edgecolor='green', facecolor='none'))\n",
    "            \n",
    "    # Show the camera image\n",
    "    plt.imshow(tf.image.decode_image(camera_image.image), cmap=cmap)\n",
    "    plt.title(open_dataset.CameraName.Name.Name(camera_image.name))\n",
    "    plt.grid(False)\n",
    "    plt.axis('off')"
   ]
  },
  {
   "cell_type": "code",
   "execution_count": null,
   "metadata": {},
   "outputs": [],
   "source": [
    "plt.figure(figsize=(25, 20))\n",
    "\n",
    "for index, image in enumerate(frame.images):\n",
    "    show_image_with_boxes(image, frame.camera_labels, [3, 3, index+1])"
   ]
  },
  {
   "cell_type": "markdown",
   "metadata": {},
   "source": [
    "#### Visualize range Images"
   ]
  },
  {
   "cell_type": "code",
   "execution_count": null,
   "metadata": {},
   "outputs": [],
   "source": [
    "plt.figure(figsize=(33,33))\n",
    "\n",
    "def plot_range_image_helper(data, name, layout, vmin=0, vmax=1, cmap='gray'):\n",
    "    ''' Plots range image.\n",
    "    Args:\n",
    "    - data: range image data\n",
    "    - name: the image title\n",
    "    - layout: pyplot layout\n",
    "    - vmin: minimum value of the passed data\n",
    "    - vmax: maximum value of the passed data\n",
    "    - cmap: color map\n",
    "    '''\n",
    "    \n",
    "    plt.subplot(*layout)\n",
    "    plt.imshow(data, cmap=cmap, vmin=vmin, vmax=vmax)\n",
    "    plt.title(name)\n",
    "    plt.grid(False)\n",
    "    plt.axis('off')\n",
    "    \n",
    "def get_range_image(laser_name, index):\n",
    "    return range_images[laser_name][index]\n",
    "\n",
    "def show_range_image(range_image, layout_index_start=1):\n",
    "    ''' Shows range image.\n",
    "    Args:\n",
    "    - range_image: the range image data from a given lidar of type MatrixFloat.\n",
    "    - layout_index_start: layout offset.\n",
    "    '''\n",
    "    \n",
    "    range_image_tensor = tf.convert_to_tensor(range_image.data)\n",
    "    range_image_tensor = tf.reshape(range_image_tensor, \n",
    "                                    range_image.shape.dims)\n",
    "    lidar_image_mask = tf.greater_equal(range_image_tensor, 0)\n",
    "    range_image_tensor = tf.where(lidar_image_mask, \n",
    "                                  range_image_tensor, \n",
    "                                  tf.ones_like(range_image_tensor) * 1e10)\n",
    "    range_image_range = range_image_tensor[...,0] \n",
    "    range_image_intensity = range_image_tensor[...,1]\n",
    "    range_image_elongation = range_image_tensor[...,2]\n",
    "    plot_range_image_helper(range_image_range.numpy(), 'range',\n",
    "                   [8, 1, layout_index_start], vmax=75, cmap='gray')\n",
    "    plot_range_image_helper(range_image_intensity.numpy(), 'intensity',\n",
    "                   [8, 1, layout_index_start + 1], vmax=1.5, cmap='gray')\n",
    "    plot_range_image_helper(range_image_elongation.numpy(), 'elongation',\n",
    "                   [8, 1, layout_index_start + 2], vmax=1.5, cmap='gray')\n",
    "    \n",
    "frame.lasers.sort(key=lambda laser: laser.name)\n",
    "show_range_image(get_range_image(open_dataset.LaserName.TOP, 0), 1)\n",
    "#show_range_image(get_range_image(open_dataset.LaserName.TOP, 1), 4)"
   ]
  },
  {
   "cell_type": "markdown",
   "metadata": {},
   "source": [
    "#### Point Cloud conversion and visualization"
   ]
  },
  {
   "cell_type": "code",
   "execution_count": null,
   "metadata": {},
   "outputs": [],
   "source": [
    "points, cp_points = frame_utils.convert_range_image_to_point_cloud(\n",
    "    frame, \n",
    "    range_images, \n",
    "    camera_projections, \n",
    "    range_image_top_pose)\n",
    "\n",
    "points_ri2, cp_points_ri2 = frame_utils.convert_range_image_to_point_cloud(\n",
    "    frame,\n",
    "    range_images,\n",
    "    camera_projections,\n",
    "    range_image_top_pose,\n",
    "    ri_index=1)\n",
    "\n",
    "# 3d points in vehicle frame.\n",
    "points_all = np.concatenate(points, axis=0)\n",
    "points_all_ri2 = np.concatenate(points_ri2, axis=0)\n",
    "# camera projection corresponding to each point.\n",
    "cp_points_all = np.concatenate(cp_points, axis=0)\n",
    "cp_points_all_ri2 = np.concatenate(cp_points_ri2, axis=0)"
   ]
  },
  {
   "cell_type": "markdown",
   "metadata": {},
   "source": [
    "#### Examine number of points in each lidar sensor."
   ]
  },
  {
   "cell_type": "code",
   "execution_count": null,
   "metadata": {},
   "outputs": [],
   "source": [
    "print(points_all.shape)\n",
    "print(cp_points_all.shape)\n",
    "print()\n",
    "for i in range(5):\n",
    "    print(points[i].shape)\n",
    "    print(cp_points[i].shape)"
   ]
  },
  {
   "cell_type": "code",
   "execution_count": null,
   "metadata": {},
   "outputs": [],
   "source": [
    "print(points_all_ri2.shape)\n",
    "print(cp_points_all_ri2.shape)\n",
    "print(points_all_ri2[0:2])\n",
    "\n",
    "print()\n",
    "\n",
    "for i in range(5):\n",
    "  print(points_ri2[i].shape)\n",
    "  print(cp_points_ri2[i].shape)"
   ]
  },
  {
   "cell_type": "code",
   "execution_count": null,
   "metadata": {},
   "outputs": [],
   "source": [
    "?frame_utils.convert_range_image_to_point_cloud"
   ]
  },
  {
   "cell_type": "code",
   "execution_count": null,
   "metadata": {},
   "outputs": [],
   "source": []
  }
 ],
 "metadata": {
  "kernelspec": {
   "display_name": "Python 3",
   "language": "python",
   "name": "python3"
  },
  "language_info": {
   "codemirror_mode": {
    "name": "ipython",
    "version": 3
   },
   "file_extension": ".py",
   "mimetype": "text/x-python",
   "name": "python",
   "nbconvert_exporter": "python",
   "pygments_lexer": "ipython3",
   "version": "3.6.9"
  },
  "varInspector": {
   "cols": {
    "lenName": 16,
    "lenType": 16,
    "lenVar": 40
   },
   "kernels_config": {
    "python": {
     "delete_cmd_postfix": "",
     "delete_cmd_prefix": "del ",
     "library": "var_list.py",
     "varRefreshCmd": "print(var_dic_list())"
    },
    "r": {
     "delete_cmd_postfix": ") ",
     "delete_cmd_prefix": "rm(",
     "library": "var_list.r",
     "varRefreshCmd": "cat(var_dic_list()) "
    }
   },
   "position": {
    "height": "623.722px",
    "left": "420px",
    "right": "20px",
    "top": "119px",
    "width": "350px"
   },
   "types_to_exclude": [
    "module",
    "function",
    "builtin_function_or_method",
    "instance",
    "_Feature"
   ],
   "window_display": false
  }
 },
 "nbformat": 4,
 "nbformat_minor": 2
}
