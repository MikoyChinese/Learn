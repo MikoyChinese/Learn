{
 "cells": [
  {
   "cell_type": "markdown",
   "metadata": {},
   "source": [
    "Deep Learning\n",
    "=============\n",
    "\n",
    "Assignment 3\n",
    "------------\n",
    "\n",
    "Previously in `2_fullyconnected.ipynb`, you trained a logistic regression and a neural network model.\n",
    "\n",
    "The goal of this assignment is to explore regularization techniques."
   ]
  },
  {
   "cell_type": "code",
   "execution_count": null,
   "metadata": {
    "scrolled": false
   },
   "outputs": [],
   "source": [
    "import os, pickle\n",
    "import numpy as np\n",
    "import tensorflow as tf"
   ]
  },
  {
   "cell_type": "code",
   "execution_count": null,
   "metadata": {
    "scrolled": false
   },
   "outputs": [],
   "source": [
    "data_root = './dataset/'\n",
    "pickle_file = os.path.join(data_root, 'noMNIST_sanit.pickle')"
   ]
  },
  {
   "cell_type": "code",
   "execution_count": null,
   "metadata": {
    "scrolled": false
   },
   "outputs": [],
   "source": [
    "with open(pickle_file, 'rb') as f:\n",
    "    data = pickle.load(f, encoding='bytes')\n",
    "    print('Data dict\\'s key:', data.keys())\n",
    "    _train_dataset = data['train_dataset']\n",
    "    _train_labels = data['train_labels']\n",
    "    _valid_dataset = data['valid_dataset']\n",
    "    _valid_labels = data['valid_labels']\n",
    "    _test_dataset = data['test_dataset']\n",
    "    _test_labels = data['test_labels']\n",
    "    del data\n",
    "    print('Train set', _train_dataset.shape, 'Labels:', _train_labels.shape)\n",
    "    print('Valid set', _valid_dataset.shape, 'Labels:', _valid_labels.shape)\n",
    "    print('Test set', _test_dataset.shape, 'Labels:', _test_labels.shape)"
   ]
  },
  {
   "cell_type": "code",
   "execution_count": null,
   "metadata": {
    "scrolled": false
   },
   "outputs": [],
   "source": [
    "image_size = 28\n",
    "num_labels = 10\n",
    "\n",
    "def reformat(dataset, labels):\n",
    "    dataset = dataset.reshape((-1, image_size*image_size)).astype(np.float32)\n",
    "    labels = (np.arange(num_labels) == labels[:,None]).astype(np.float32)\n",
    "    return dataset, labels\n",
    "\n",
    "train_dataset, train_labels = reformat(_train_dataset, _train_labels)\n",
    "valid_dataset, valid_labels = reformat(_valid_dataset, _valid_labels)\n",
    "test_dataset, test_labels = reformat(_test_dataset, _test_labels)\n",
    "\n",
    "print('Train set', train_dataset.shape, 'Labels:',train_labels.shape)\n",
    "print('Valid set', valid_dataset.shape, 'Labels:',valid_labels.shape)\n",
    "print('Test set', test_dataset.shape, 'Labels:',test_labels.shape)"
   ]
  },
  {
   "cell_type": "code",
   "execution_count": null,
   "metadata": {
    "scrolled": false
   },
   "outputs": [],
   "source": [
    "def accuracy(predictions, labels):\n",
    "    return (100.0 * np.sum(np.argmax(predictions, 1) == np.argmax(labels, 1))\n",
    "          / predictions.shape[0])"
   ]
  },
  {
   "cell_type": "markdown",
   "metadata": {},
   "source": [
    "---\n",
    "Problem 1\n",
    "---------\n",
    "\n",
    "Introduce and tune L2 regularization for both logistic and neural network models. Remember that L2 amounts to adding a penalty on the norm of the weights to the loss. In TensorFlow, you can compute the L2 loss for a tensor `t` using `nn.l2_loss(t)`. The right amount of regularization should improve your validation / test accuracy.\n",
    "\n",
    "---"
   ]
  },
  {
   "cell_type": "code",
   "execution_count": null,
   "metadata": {
    "scrolled": false
   },
   "outputs": [],
   "source": [
    "batch_size = 128\n",
    "\n",
    "graph = tf.Graph()\n",
    "with graph.as_default():\n",
    "    tf_train_dataset = tf.placeholder(tf.float32,\n",
    "                                     shape=(batch_size, image_size*image_size))\n",
    "    tf_train_labels = tf.placeholder(tf.float32,\n",
    "                                    shape=(batch_size, num_labels))\n",
    "    tf_valid_dataset = tf.constant(valid_dataset)\n",
    "    tf_test_dataset =  tf.constant(test_dataset)\n",
    "    # If the shape is not specified, you can feed a tensor of any shape.\n",
    "    beta_regul = tf.placeholder(tf.float32)\n",
    "    \n",
    "    # Variables.\n",
    "    weights = tf.get_variable('weights',\n",
    "                             shape=[tf_train_dataset.shape[-1], \n",
    "                                    tf_train_labels.shape[-1]],\n",
    "                             initializer=tf.truncated_normal_initializer(0., 1.))\n",
    "    biases = tf.get_variable('biases',\n",
    "                            shape=[tf_train_labels.shape[-1]],\n",
    "                            initializer=tf.constant_initializer(0.))\n",
    "    \n",
    "    # Training computation.\n",
    "    _logits = tf.matmul(tf_train_dataset, weights) + biases\n",
    "    _loss = tf.reduce_mean(\n",
    "        tf.nn.softmax_cross_entropy_with_logits_v2(logits=_logits, \n",
    "                                                   labels=tf_train_labels)\n",
    "        + beta_regul * tf.nn.l2_loss(weights))\n",
    "    \n",
    "    # Optimizer.\n",
    "    optimizer = tf.train.GradientDescentOptimizer(0.5).minimize(_loss)\n",
    "    \n",
    "    # Predictions for the training.\n",
    "    train_prediction = tf.nn.softmax(_logits)\n",
    "    valid_logits = tf.matmul(tf_valid_dataset, weights) + biases\n",
    "    valid_prediction = tf.nn.softmax(valid_logits)\n",
    "    test_logits = tf.matmul(tf_test_dataset, weights) + biases\n",
    "    test_prediction = tf.nn.softmax(test_logits)"
   ]
  },
  {
   "cell_type": "code",
   "execution_count": null,
   "metadata": {
    "scrolled": true
   },
   "outputs": [],
   "source": [
    "steps = 5000\n",
    "regul_val = [pow(10, i) for i in np.arange(-4, -2, 0.1)]\n",
    "accuracy_val = []\n",
    "\n",
    "for i, regul in enumerate(regul_val):\n",
    "    with tf.Session(graph=graph) as session:\n",
    "        tf.global_variables_initializer().run()\n",
    "        for step in range(steps):\n",
    "            offset = (step * batch_size) % (train_labels.shape[0] - batch_size)\n",
    "            \n",
    "            # Generate a minibatch.\n",
    "            batch_data = train_dataset[offset:(offset + batch_size), :]\n",
    "            batch_labels = train_labels[offset:(offset + batch_size), :]\n",
    "            \n",
    "            # Feed it.\n",
    "            feed_dict = {tf_train_dataset: batch_data, \n",
    "                         tf_train_labels: batch_labels,\n",
    "                         beta_regul: regul}\n",
    "            \n",
    "            _, loss, predictions = session.run([optimizer, \n",
    "                                                _loss, \n",
    "                                                train_prediction], feed_dict=feed_dict)\n",
    "            \n",
    "            if ((step+1) % 500 == 0):\n",
    "                print('Minibatch step: %d, loss: %4.5f, acc: %.1f%%, valid_acc: %.1f%%.'\n",
    "                  % ((i*steps) + (step+1), loss,\n",
    "                     accuracy(predictions, batch_labels), \n",
    "                     accuracy(valid_prediction.eval(), valid_labels)))\n",
    "        print('Test Accuracy: %.1f%%' % accuracy(test_prediction.eval(), test_labels))\n",
    "        accuracy_val.append(accuracy(test_prediction.eval(), test_labels))"
   ]
  },
  {
   "cell_type": "code",
   "execution_count": null,
   "metadata": {
    "scrolled": false
   },
   "outputs": [],
   "source": [
    "import matplotlib.pyplot as plt\n",
    "%matplotlib inline\n",
    "\n",
    "# x轴是以对数的底的值log(x).\n",
    "# plt.plot 绘制折线图.\n",
    "plt.semilogx(regul_val, accuracy_val)\n",
    "plt.grid(True)\n",
    "plt.title('Test accuracy by Regularization (Logistic)')\n",
    "plt.show()"
   ]
  },
  {
   "cell_type": "markdown",
   "metadata": {},
   "source": [
    "If same technique will improve prediction of the 1-layer neural network."
   ]
  },
  {
   "cell_type": "code",
   "execution_count": null,
   "metadata": {
    "scrolled": false
   },
   "outputs": [],
   "source": [
    "batch_size = 128\n",
    "num_hidden_nodes = 1024\n",
    "\n",
    "graph = tf.Graph()\n",
    "with graph.as_default():\n",
    "    tf_train_dataset = tf.placeholder(tf.float32,\n",
    "                                     shape=(batch_size, image_size*image_size))\n",
    "    tf_train_labels = tf.placeholder(tf.float32,\n",
    "                                    shape=(batch_size, num_labels))\n",
    "    tf_valid_dataset = tf.constant(valid_dataset)\n",
    "    tf_test_dataset =  tf.constant(test_dataset)\n",
    "    # If the shape is not specified, you can feed a tensor of any shape.\n",
    "    beta_regul = tf.placeholder(tf.float32)\n",
    "    \n",
    "    # Variables.\n",
    "    weights_1 = tf.get_variable('weights_1',\n",
    "                             shape=[tf_train_dataset.shape[-1], \n",
    "                                    num_hidden_nodes],\n",
    "                             initializer=tf.truncated_normal_initializer(0., 1.))\n",
    "    biases_1 = tf.get_variable('biases_1',\n",
    "                            shape=[num_hidden_nodes],\n",
    "                            initializer=tf.constant_initializer(0.))\n",
    "    \n",
    "    weights_2 = tf.get_variable('weights_2',\n",
    "                               shape=[num_hidden_nodes, num_labels],\n",
    "                               initializer=tf.truncated_normal_initializer(0., 1.))\n",
    "    biases_2 = tf.get_variable('biases_2',\n",
    "                              shape=[num_labels],\n",
    "                              initializer=tf.constant_initializer(0.))\n",
    "    \n",
    "    lay1 = tf.nn.relu(tf.matmul(tf_train_dataset, weights_1) + biases_1)\n",
    "    \n",
    "    # Training computation.\n",
    "    _logits = tf.matmul(lay1, weights_2) + biases_2\n",
    "    _loss = tf.reduce_mean(\n",
    "        tf.nn.softmax_cross_entropy_with_logits_v2(logits=_logits, \n",
    "                                                   labels=tf_train_labels)\n",
    "        + beta_regul * (tf.nn.l2_loss(weights_1) + tf.nn.l2_loss(weights_2)))\n",
    "    \n",
    "    # Optimizer.\n",
    "    optimizer = tf.train.GradientDescentOptimizer(0.5).minimize(_loss)\n",
    "    \n",
    "    # Predictions for the training.\n",
    "    train_prediction = tf.nn.softmax(_logits)\n",
    "    valid_lay1 = tf.nn.relu(tf.matmul(tf_valid_dataset, weights_1) + biases_1)\n",
    "    valid_logits = tf.matmul(valid_lay1, weights_2) + biases_2\n",
    "    valid_prediction = tf.nn.softmax(valid_logits)\n",
    "    test_lay1 = tf.nn.relu(tf.matmul(tf_test_dataset, weights_1) + biases_1)\n",
    "    test_logits = tf.matmul(test_lay1, weights_2) + biases_2\n",
    "    test_prediction = tf.nn.softmax(test_logits)"
   ]
  },
  {
   "cell_type": "code",
   "execution_count": null,
   "metadata": {
    "scrolled": true
   },
   "outputs": [],
   "source": [
    "%matplotlib qt5\n",
    "plt.ion()\n",
    "plt.title('Loss by Steps')\n",
    "plt.figure(1)\n",
    "plt.xlabel('Steps')\n",
    "plt.ylabel('Loss')\n",
    "x = []\n",
    "y = []\n",
    "line, = plt.plot(x, y)\n",
    "ax = plt.gca()\n",
    "\n",
    "steps = 3000\n",
    "regul_val = [pow(10, i) for i in np.arange(-4, -2, 0.1)]\n",
    "accuracy_val = []\n",
    "\n",
    "for i, regul in enumerate(regul_val):\n",
    "    with tf.Session(graph=graph) as session:\n",
    "        tf.global_variables_initializer().run()\n",
    "        for step in range(steps):\n",
    "            offset = (step * batch_size) % (train_labels.shape[0] - batch_size)\n",
    "            \n",
    "            # Generate a minibatch.\n",
    "            batch_data = train_dataset[offset:(offset + batch_size), :]\n",
    "            batch_labels = train_labels[offset:(offset + batch_size), :]\n",
    "            \n",
    "            # Feed it.\n",
    "            feed_dict = {tf_train_dataset: batch_data, \n",
    "                         tf_train_labels: batch_labels,\n",
    "                         beta_regul: regul}\n",
    "            \n",
    "            _, loss, predictions = session.run([optimizer, \n",
    "                                                _loss, \n",
    "                                                train_prediction], feed_dict=feed_dict)\n",
    "            \n",
    "            if ((step+1) % 500 == 0):\n",
    "                print('Minibatch step: %d, loss: %4.5f, acc: %.1f%%, valid_acc: %.1f%%.'\n",
    "                  % ((i*steps) + (step+1), loss,\n",
    "                     accuracy(predictions, batch_labels), \n",
    "                     accuracy(valid_prediction.eval(), valid_labels)))\n",
    "                \n",
    "                # Plot loss by steps:\n",
    "                x = np.append(x, (i*steps) + (step+1))\n",
    "                y = np.append(y, loss)\n",
    "                line.set_xdata(x)\n",
    "                line.set_ydata(y)\n",
    "                ax.relim()\n",
    "                ax.autoscale_view(True, True, True)\n",
    "                plt.draw()\n",
    "                plt.pause(1e-17)\n",
    "                \n",
    "        print('Test Accuracy: %.1f%%' % accuracy(test_prediction.eval(), test_labels))\n",
    "        accuracy_val.append(accuracy(test_prediction.eval(), test_labels))"
   ]
  },
  {
   "cell_type": "code",
   "execution_count": null,
   "metadata": {
    "scrolled": false
   },
   "outputs": [],
   "source": [
    "import matplotlib.pyplot as plt\n",
    "%matplotlib inline\n",
    "\n",
    "# x轴是以对数的底的值log(x).\n",
    "# plt.plot 绘制折线图.\n",
    "plt.semilogx(regul_val, accuracy_val)\n",
    "plt.grid(True)\n",
    "plt.title('Test accuracy by Regularization (1-Layer Net)')\n",
    "plt.show()"
   ]
  },
  {
   "cell_type": "markdown",
   "metadata": {},
   "source": [
    "---\n",
    "Problem 2\n",
    "---------\n",
    "Let's demonstrate an extreme case of overfitting. Restrict your training data to just a few batches. What happens?\n",
    "\n",
    "---"
   ]
  },
  {
   "cell_type": "code",
   "execution_count": null,
   "metadata": {
    "scrolled": false
   },
   "outputs": [],
   "source": [
    "steps = 101\n",
    "num_batches = 3\n",
    "\n",
    "with tf.Session(graph=graph) as session:\n",
    "    tf.global_variables_initializer().run()\n",
    "    print('[Tensorflow]: Initialized!')\n",
    "    for step in range(steps):\n",
    "        offset = ((step % num_batches) * batch_size) % (train_labels.shape[0] - batch_size)\n",
    "        \n",
    "        # Generate minibatch.\n",
    "        batch_data = train_dataset[offset:(offset + batch_size), :]\n",
    "        batch_labels = train_labels[offset:(offset + batch_size), :]\n",
    "        \n",
    "        # Feed it.\n",
    "        feed_dict = {tf_train_dataset: batch_data, \n",
    "                     tf_train_labels: batch_labels, beta_regul: 1e-3}\n",
    "        \n",
    "        _, loss, predictions = session.run([optimizer, \n",
    "                                                _loss, \n",
    "                                                train_prediction], feed_dict=feed_dict)\n",
    "            \n",
    "        if ((step+1) % 2 == 0):\n",
    "            print('Minibatch step: %d, loss: %4.5f, acc: %.1f%%, valid_acc: %.1f%%.'\n",
    "                  % ((step+1), loss,\n",
    "                     accuracy(predictions, batch_labels), \n",
    "                     accuracy(valid_prediction.eval(), valid_labels)))\n",
    "    print('Test Accuracy: %.1f%%' % accuracy(test_prediction.eval(), test_labels))\n",
    "    accuracy_val.append(accuracy(test_prediction.eval(), test_labels))"
   ]
  },
  {
   "cell_type": "markdown",
   "metadata": {},
   "source": [
    "---\n",
    "Problem 3\n",
    "---------\n",
    "Introduce Dropout on the hidden layer of the neural network. Remember: Dropout should only be introduced during training, not evaluation, otherwise your evaluation results would be stochastic as well. TensorFlow provides `nn.dropout()` for that, but you have to make sure it's only inserted during training.\n",
    "\n",
    "What happens to our extreme overfitting case?\n",
    "\n",
    "---\n",
    "\n",
    "#### Dropout"
   ]
  },
  {
   "cell_type": "code",
   "execution_count": null,
   "metadata": {
    "scrolled": false
   },
   "outputs": [],
   "source": [
    "batch_size = 128\n",
    "num_hidden_nodes = 1024\n",
    "\n",
    "graph = tf.Graph()\n",
    "with graph.as_default():\n",
    "    tf_train_dataset = tf.placeholder(tf.float32,\n",
    "                                     shape=(batch_size, image_size*image_size))\n",
    "    tf_train_labels = tf.placeholder(tf.float32,\n",
    "                                    shape=(batch_size, num_labels))\n",
    "    tf_valid_dataset = tf.constant(valid_dataset)\n",
    "    tf_test_dataset =  tf.constant(test_dataset)\n",
    "    # If the shape is not specified, you can feed a tensor of any shape.\n",
    "    beta_regul = tf.placeholder(tf.float32)\n",
    "    \n",
    "    # Variables.\n",
    "    weights_1 = tf.get_variable('weights_1',\n",
    "                             shape=[tf_train_dataset.shape[-1], \n",
    "                                    num_hidden_nodes],\n",
    "                             initializer=tf.truncated_normal_initializer(0., 1.))\n",
    "    biases_1 = tf.get_variable('biases_1',\n",
    "                            shape=[num_hidden_nodes],\n",
    "                            initializer=tf.constant_initializer(0.))\n",
    "    \n",
    "    weights_2 = tf.get_variable('weights_2',\n",
    "                               shape=[num_hidden_nodes, num_labels],\n",
    "                               initializer=tf.truncated_normal_initializer(0., 1.))\n",
    "    biases_2 = tf.get_variable('biases_2',\n",
    "                              shape=[num_labels],\n",
    "                              initializer=tf.constant_initializer(0.))\n",
    "    \n",
    "    lay1 = tf.nn.relu(tf.matmul(tf_train_dataset, weights_1) + biases_1)\n",
    "    \n",
    "    # Dropout layer\n",
    "    dropout_1 = tf.nn.dropout(lay1, rate=0.5)\n",
    "    \n",
    "    # Training computation.\n",
    "    _logits = tf.matmul(dropout_1, weights_2) + biases_2\n",
    "    _loss = tf.reduce_mean(\n",
    "        tf.nn.softmax_cross_entropy_with_logits_v2(logits=_logits, \n",
    "                                                   labels=tf_train_labels)\n",
    "        + beta_regul * (tf.nn.l2_loss(weights_1) + tf.nn.l2_loss(weights_2)))\n",
    "    \n",
    "    # Optimizer.\n",
    "    optimizer = tf.train.GradientDescentOptimizer(0.5).minimize(_loss)\n",
    "    \n",
    "    # Predictions for the training.\n",
    "    train_prediction = tf.nn.softmax(_logits)\n",
    "    valid_lay1 = tf.nn.relu(tf.matmul(tf_valid_dataset, weights_1) + biases_1)\n",
    "    valid_logits = tf.matmul(valid_lay1, weights_2) + biases_2\n",
    "    valid_prediction = tf.nn.softmax(valid_logits)\n",
    "    test_lay1 = tf.nn.relu(tf.matmul(tf_test_dataset, weights_1) + biases_1)\n",
    "    test_logits = tf.matmul(test_lay1, weights_2) + biases_2\n",
    "    test_prediction = tf.nn.softmax(test_logits)"
   ]
  },
  {
   "cell_type": "code",
   "execution_count": null,
   "metadata": {
    "scrolled": false
   },
   "outputs": [],
   "source": [
    "steps = 101\n",
    "num_batches = 3\n",
    "\n",
    "with tf.Session(graph=graph) as session:\n",
    "    tf.global_variables_initializer().run()\n",
    "    print('[Tensorflow]: Initialized!')\n",
    "    for step in range(steps):\n",
    "        offset = ((step % num_batches) * batch_size) % (train_labels.shape[0] - batch_size)\n",
    "        \n",
    "        # Generate minibatch.\n",
    "        batch_data = train_dataset[offset:(offset + batch_size), :]\n",
    "        batch_labels = train_labels[offset:(offset + batch_size), :]\n",
    "        \n",
    "        # Feed it.\n",
    "        feed_dict = {tf_train_dataset: batch_data, \n",
    "                     tf_train_labels: batch_labels, beta_regul: 1e-3}\n",
    "        \n",
    "        _, loss, predictions = session.run([optimizer, \n",
    "                                                _loss, \n",
    "                                                train_prediction], feed_dict=feed_dict)\n",
    "            \n",
    "        if ((step+1) % 2 == 0):\n",
    "            print('Minibatch step: %d, loss: %4.5f, acc: %.1f%%, valid_acc: %.1f%%.'\n",
    "                  % ((step+1), loss,\n",
    "                     accuracy(predictions, batch_labels), \n",
    "                     accuracy(valid_prediction.eval(), valid_labels)))\n",
    "    print('Test Accuracy: %.1f%%' % accuracy(test_prediction.eval(), test_labels))\n",
    "    accuracy_val.append(accuracy(test_prediction.eval(), test_labels))"
   ]
  },
  {
   "cell_type": "markdown",
   "metadata": {},
   "source": [
    "The first conclusion is that 100% of accuracy on the minibatches is more diffcult achieved or to keep. As a result, the test accuracy is improved from 78.9% to 82.5%, the final net is more capable of generalization."
   ]
  },
  {
   "cell_type": "markdown",
   "metadata": {},
   "source": [
    "---\n",
    "Problem 4\n",
    "---------\n",
    "\n",
    "Try to get the best performance you can using a multi-layer model! The best reported test accuracy using a deep network is [97.1%](http://yaroslavvb.blogspot.com/2011/09/notmnist-dataset.html?showComment=1391023266211#c8758720086795711595).\n",
    "\n",
    "One avenue you can explore is to add multiple layers.\n",
    "\n",
    "Another one is to use learning rate decay:\n",
    "\n",
    "    global_step = tf.Variable(0)  # count the number of steps taken.\n",
    "    learning_rate = tf.train.exponential_decay(0.5, global_step, ...)\n",
    "    optimizer = tf.train.GradientDescentOptimizer(learning_rate).minimize(loss, global_step=global_step)\n",
    " \n",
    " ---\n"
   ]
  },
  {
   "cell_type": "markdown",
   "metadata": {},
   "source": [
    "#### 2-Layers Network"
   ]
  },
  {
   "cell_type": "code",
   "execution_count": null,
   "metadata": {
    "scrolled": false
   },
   "outputs": [],
   "source": [
    "batch_size = 128\n",
    "num_hidden_nodes_1 = 1024\n",
    "num_hidden_nodes_2 = 256\n",
    "beta_regul = 1e-3\n",
    "\n",
    "graph = tf.Graph()\n",
    "with graph.as_default():\n",
    "    tf_train_dataset = tf.placeholder(tf.float32,\n",
    "                                     shape=(batch_size, image_size*image_size))\n",
    "    tf_train_labels = tf.placeholder(tf.float32,\n",
    "                                    shape=(batch_size, num_labels))\n",
    "    tf_valid_dataset = tf.constant(valid_dataset)\n",
    "    tf_test_dataset =  tf.constant(test_dataset)\n",
    "    # If the shape is not specified, you can feed a tensor of any shape.\n",
    "    beta_regul = tf.placeholder(tf.float32)\n",
    "    global_step = tf.Variable(0)\n",
    "    \n",
    "    # Variables.\n",
    "    weights_1 = tf.get_variable('weights_1',\n",
    "                             shape=[tf_train_dataset.shape[-1], \n",
    "                                    num_hidden_nodes_1],\n",
    "                             initializer=tf.truncated_normal_initializer(0., np.sqrt(3. / (image_size*image_size))))\n",
    "    biases_1 = tf.get_variable('biases_1',\n",
    "                            shape=[weights_1.shape[-1]],\n",
    "                            initializer=tf.constant_initializer(0.))\n",
    "    \n",
    "    weights_2 = tf.get_variable('weights_2',\n",
    "                               shape=[num_hidden_nodes_1, num_hidden_nodes_2],\n",
    "                               initializer=tf.truncated_normal_initializer(0., 3. / num_hidden_nodes_1))\n",
    "    biases_2 = tf.get_variable('biases_2',\n",
    "                              shape=[weights_2.shape[-1]],\n",
    "                              initializer=tf.constant_initializer(0.))\n",
    "    \n",
    "    weights_3 = tf.get_variable('weights_3',\n",
    "                               shape=[num_hidden_nodes_2, num_labels],\n",
    "                               initializer=tf.truncated_normal_initializer(0., 3. / num_hidden_nodes_2))\n",
    "    biases_3 = tf.get_variable('biases_3',\n",
    "                              shape=[weights_3.shape[-1]],\n",
    "                              initializer=tf.constant_initializer(0.))\n",
    "    \n",
    "    lay1 = tf.nn.relu(tf.matmul(tf_train_dataset, weights_1) + biases_1)\n",
    "    lay2 = tf.nn.relu(tf.matmul(lay1, weights_2) + biases_2)\n",
    "    \n",
    "    # Dropout layer\n",
    "    dropout_1 = tf.nn.dropout(lay2, rate=0.5)\n",
    "    \n",
    "    # Training computation.\n",
    "    _logits = tf.matmul(dropout_1, weights_3) + biases_3\n",
    "    _loss = tf.reduce_mean(\n",
    "        tf.nn.softmax_cross_entropy_with_logits_v2(logits=_logits, \n",
    "                                                   labels=tf_train_labels)\n",
    "        + beta_regul * (tf.nn.l2_loss(weights_1) + tf.nn.l2_loss(weights_2) + tf.nn.l2_loss(weights_3)))\n",
    "    \n",
    "    # Optimizer.\n",
    "    # decayed_learning_rate = learning_rate * \n",
    "    #                         decay_rate ^ (global_step / decay_steps)\n",
    "    learning_rate = tf.train.exponential_decay(0.5, # learning_rate\n",
    "                                               global_step, # global_step\n",
    "                                               1000, # decay_steps\n",
    "                                               0.65, # decay_rate\n",
    "                                               staircase=True)\n",
    "    optimizer = tf.train.GradientDescentOptimizer(\n",
    "        learning_rate).minimize(_loss, global_step=global_step)\n",
    "    \n",
    "    # Predictions for the training.\n",
    "    train_prediction = tf.nn.softmax(_logits)\n",
    "    valid_lay1 = tf.nn.relu(tf.matmul(tf_valid_dataset, weights_1) + biases_1)\n",
    "    valid_lay2 = tf.nn.relu(tf.matmul(valid_lay1, weights_2) + biases_2)\n",
    "    valid_logits = tf.matmul(valid_lay2, weights_3) + biases_3\n",
    "    valid_prediction = tf.nn.softmax(valid_logits)\n",
    "    test_lay1 = tf.nn.relu(tf.matmul(tf_test_dataset, weights_1) + biases_1)\n",
    "    test_lay2 = tf.nn.relu(tf.matmul(test_lay1, weights_2) + biases_2)\n",
    "    test_logits = tf.matmul(test_lay2, weights_3) + biases_3\n",
    "    test_prediction = tf.nn.softmax(test_logits)"
   ]
  },
  {
   "cell_type": "code",
   "execution_count": null,
   "metadata": {
    "scrolled": true
   },
   "outputs": [],
   "source": [
    "steps = 10000\n",
    "accuracy_val = []\n",
    "\n",
    "with tf.Session(graph=graph) as session:\n",
    "    tf.global_variables_initializer().run()\n",
    "    print('[Tensorflow]: Initialized!')\n",
    "    for step in range(steps):\n",
    "        offset = (step * batch_size) % (train_labels.shape[0] - batch_size)\n",
    "        \n",
    "        # Generate minibatch.\n",
    "        batch_data = train_dataset[offset:(offset + batch_size), :]\n",
    "        batch_labels = train_labels[offset:(offset + batch_size), :]\n",
    "        \n",
    "        # Feed it.\n",
    "        feed_dict = {tf_train_dataset: batch_data, \n",
    "                     tf_train_labels: batch_labels, beta_regul: 1e-3}\n",
    "        \n",
    "        _, loss, predictions = session.run([optimizer, \n",
    "                                                _loss, \n",
    "                                                train_prediction], feed_dict=feed_dict)\n",
    "            \n",
    "        if ((step+1) % 500 == 0):\n",
    "            print('Minibatch step: %d, loss: %4.5f, acc: %.1f%%, valid_acc: %.1f%%.'\n",
    "                  % ((step+1), loss,\n",
    "                     accuracy(predictions, batch_labels), \n",
    "                     accuracy(valid_prediction.eval(), valid_labels)))\n",
    "    print('Test Accuracy: %.1f%%' % accuracy(test_prediction.eval(), test_labels))\n",
    "    accuracy_val.append(accuracy(test_prediction.eval(), test_labels))"
   ]
  },
  {
   "cell_type": "code",
   "execution_count": null,
   "metadata": {
    "scrolled": true
   },
   "outputs": [],
   "source": []
  }
 ],
 "metadata": {
  "celltoolbar": "Raw Cell Format",
  "kernelspec": {
   "display_name": "Python 3",
   "language": "python",
   "name": "python3"
  },
  "language_info": {
   "codemirror_mode": {
    "name": "ipython",
    "version": 3
   },
   "file_extension": ".py",
   "mimetype": "text/x-python",
   "name": "python",
   "nbconvert_exporter": "python",
   "pygments_lexer": "ipython3",
   "version": "3.6.8"
  },
  "varInspector": {
   "cols": {
    "lenName": 16,
    "lenType": 16,
    "lenVar": 40
   },
   "kernels_config": {
    "python": {
     "delete_cmd_postfix": "",
     "delete_cmd_prefix": "del ",
     "library": "var_list.py",
     "varRefreshCmd": "print(var_dic_list())"
    },
    "r": {
     "delete_cmd_postfix": ") ",
     "delete_cmd_prefix": "rm(",
     "library": "var_list.r",
     "varRefreshCmd": "cat(var_dic_list()) "
    }
   },
   "oldHeight": 825,
   "position": {
    "height": "40px",
    "left": "1551px",
    "right": "20px",
    "top": "122px",
    "width": "351px"
   },
   "types_to_exclude": [
    "module",
    "function",
    "builtin_function_or_method",
    "instance",
    "_Feature"
   ],
   "varInspector_section_display": "none",
   "window_display": false
  }
 },
 "nbformat": 4,
 "nbformat_minor": 2
}
