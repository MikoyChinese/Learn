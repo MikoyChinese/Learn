{
 "cells": [
  {
   "cell_type": "markdown",
   "metadata": {},
   "source": [
    "### 1.递归目标目录，直到返回文件"
   ]
  },
  {
   "cell_type": "code",
   "execution_count": null,
   "metadata": {},
   "outputs": [],
   "source": [
    "#-*- coding: utf-8 -*-\n",
    "import os\n",
    "\n",
    "file_paths = []\n",
    "def find_file(arg, dirname, files):\n",
    "    for file in files:\n",
    "        file_path = os.path.join(dirname, file)\n",
    "        if os.path.isfile(file_path):\n",
    "            file_paths.append(file_path)\n",
    "            print file_path + ' is appended in file_paths.'\n",
    "\n",
    "os.path.walk('/home/commaai/Desktop/img', find_file,())"
   ]
  },
  {
   "cell_type": "code",
   "execution_count": null,
   "metadata": {},
   "outputs": [],
   "source": [
    "import os\n",
    "\n",
    "file_paths = []\n",
    "def endTree(sourceDir):\n",
    "    dir_lst = os.listdir(sourceDir)\n",
    "    for d in dir_lst:\n",
    "        d_path = sourceDir + '/' + str(d)\n",
    "        if os.path.isdir(d_path):\n",
    "            yield d_path\n",
    "        if os.path.isfile(d_path):\n",
    "            file_paths.append(d_path)\n",
    "            print d_path + 'is appended in file_paths!'\n",
    "f = endTree('/home/commaai/Desktop/img')"
   ]
  },
  {
   "cell_type": "code",
   "execution_count": null,
   "metadata": {},
   "outputs": [],
   "source": [
    "len(f)"
   ]
  },
  {
   "cell_type": "code",
   "execution_count": null,
   "metadata": {},
   "outputs": [],
   "source": []
  }
 ],
 "metadata": {
  "kernelspec": {
   "display_name": "Python 2",
   "language": "python",
   "name": "python2"
  },
  "language_info": {
   "codemirror_mode": {
    "name": "ipython",
    "version": 2
   },
   "file_extension": ".py",
   "mimetype": "text/x-python",
   "name": "python",
   "nbconvert_exporter": "python",
   "pygments_lexer": "ipython2",
   "version": "2.7.17"
  },
  "varInspector": {
   "cols": {
    "lenName": 16,
    "lenType": 16,
    "lenVar": 40
   },
   "kernels_config": {
    "python": {
     "delete_cmd_postfix": "",
     "delete_cmd_prefix": "del ",
     "library": "var_list.py",
     "varRefreshCmd": "print(var_dic_list())"
    },
    "r": {
     "delete_cmd_postfix": ") ",
     "delete_cmd_prefix": "rm(",
     "library": "var_list.r",
     "varRefreshCmd": "cat(var_dic_list()) "
    }
   },
   "types_to_exclude": [
    "module",
    "function",
    "builtin_function_or_method",
    "instance",
    "_Feature"
   ],
   "window_display": false
  }
 },
 "nbformat": 4,
 "nbformat_minor": 2
}
