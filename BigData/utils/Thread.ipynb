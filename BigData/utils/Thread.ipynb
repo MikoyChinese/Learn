{
 "cells": [
  {
   "cell_type": "code",
   "execution_count": null,
   "metadata": {},
   "outputs": [
    {
     "name": "stdout",
     "output_type": "stream",
     "text": [
      "Thread-1: Wed Jan 17 13:53:02 2018\n",
      "Thread-2: Wed Jan 17 13:53:04 2018\n",
      "Thread-1: Wed Jan 17 13:53:04 2018\n",
      "Thread-1: Wed Jan 17 13:53:06 2018\n",
      "Thread-2: Wed Jan 17 13:53:08 2018\n",
      "Thread-1: Wed Jan 17 13:53:08 2018\n",
      "Thread-1: Wed Jan 17 13:53:10 2018\n",
      "Thread-2: Wed Jan 17 13:53:12 2018\n",
      "Thread-2: Wed Jan 17 13:53:16 2018\n",
      "Thread-2: Wed Jan 17 13:53:20 2018\n"
     ]
    }
   ],
   "source": [
    "#!/usr/bin/python\n",
    "# -*- coding: utf-8 -*-\n",
    "\n",
    "import thread\n",
    "import time\n",
    "#def a new thread\n",
    "def print_time(thread_Name, delay):\n",
    "    count = 0\n",
    "    while count < 5:\n",
    "        time.sleep(delay)\n",
    "        count += 1\n",
    "        print '%s: %s' % (thread_Name, time.ctime(time.time()))\n",
    "try:\n",
    "    thread.start_new_thread(print_time, (\"Thread-1\", 2, ))\n",
    "    thread.start_new_thread(print_time, ('Thread-2', 4, ))\n",
    "except:\n",
    "    print 'Error: can\\'t start a new thread! '\n",
    "while 1:\n",
    "    pass"
   ]
  },
  {
   "cell_type": "code",
   "execution_count": null,
   "metadata": {},
   "outputs": [],
   "source": []
  }
 ],
 "metadata": {
  "kernelspec": {
   "display_name": "Python 2",
   "language": "python",
   "name": "python2"
  },
  "language_info": {
   "codemirror_mode": {
    "name": "ipython",
    "version": 2
   },
   "file_extension": ".py",
   "mimetype": "text/x-python",
   "name": "python",
   "nbconvert_exporter": "python",
   "pygments_lexer": "ipython2",
   "version": "2.7.12"
  }
 },
 "nbformat": 4,
 "nbformat_minor": 2
}
