{
 "cells": [
  {
   "cell_type": "code",
   "execution_count": 2,
   "metadata": {},
   "outputs": [
    {
     "name": "stderr",
     "output_type": "stream",
     "text": [
      "usage: ipykernel_launcher.py [-h] [--a A] [--b B] [--c C]\n",
      "ipykernel_launcher.py: error: unrecognized arguments: -f /run/user/1000/jupyter/kernel-5864b9f3-1f99-46be-bdfc-ae44840c0eb3.json\n"
     ]
    },
    {
     "ename": "SystemExit",
     "evalue": "2",
     "output_type": "error",
     "traceback": [
      "An exception has occurred, use %tb to see the full traceback.\n",
      "\u001b[0;31mSystemExit\u001b[0m\u001b[0;31m:\u001b[0m 2\n"
     ]
    },
    {
     "name": "stderr",
     "output_type": "stream",
     "text": [
      "/usr/local/lib/python2.7/dist-packages/IPython/core/interactiveshell.py:2890: UserWarning: To exit: use 'exit', 'quit', or Ctrl-D.\n",
      "  warn(\"To exit: use 'exit', 'quit', or Ctrl-D.\", stacklevel=1)\n"
     ]
    }
   ],
   "source": [
    "#-*- coding: utf-8 -*-\n",
    "import math #导入数学库\n",
    "import argparse\n",
    "\n",
    "def parse_args():\n",
    "    parser = argparse.ArgumentParser(description='Cal angle!')\n",
    "    parser.add_argument('--a', dest='a', default= 1, type=float)\n",
    "    parser.add_argument('--b', dest='b', default= 1, type=float)\n",
    "    parser.add_argument('--c', dest='c', default= 1, type=float)\n",
    "    args = parser.parse_args()\n",
    "    return args\n",
    "\n",
    "def cos_angle(a, b, c):\n",
    "    cos_angle = (b ** 2 + c ** 2 - a ** 2)/(2*b*c)\n",
    "    return cos_angle\n",
    "def cal_angle():\n",
    "    a = args.a\n",
    "    b = args.b\n",
    "    c = args.c\n",
    "    cos_A = cos_angle(a, b, c)\n",
    "    cos_B = cos_angle(b, a, c)\n",
    "    cos_C = cos_angle(c, a, b)\n",
    "    A = 180*math.acos(cos_A)/math.pi\n",
    "    B = 180*math.acos(cos_B)/math.pi\n",
    "    C = 180*math.acos(cos_C)/math.pi\n",
    "    \n",
    "    print 'The angle of A is ' + A + 'and the soild is ' + a + '!!!'\n",
    "    print 'The angle of B is ' + B + 'and the soild is ' + b + '!!!'\n",
    "    print 'The angle of C is ' + C + 'and the soild is ' + c + '!!!'\n",
    "    \n",
    "if __name__ == '__main__':\n",
    "    args = parse_args()\n",
    "    cal_angle()"
   ]
  },
  {
   "cell_type": "code",
   "execution_count": null,
   "metadata": {},
   "outputs": [],
   "source": []
  }
 ],
 "metadata": {
  "kernelspec": {
   "display_name": "Python 2",
   "language": "python",
   "name": "python2"
  },
  "language_info": {
   "codemirror_mode": {
    "name": "ipython",
    "version": 2
   },
   "file_extension": ".py",
   "mimetype": "text/x-python",
   "name": "python",
   "nbconvert_exporter": "python",
   "pygments_lexer": "ipython2",
   "version": "2.7.12"
  }
 },
 "nbformat": 4,
 "nbformat_minor": 2
}
