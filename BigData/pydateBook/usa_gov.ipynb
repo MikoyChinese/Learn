{
 "cells": [
  {
   "cell_type": "code",
   "execution_count": 1,
   "metadata": {},
   "outputs": [],
   "source": [
    "import json\n",
    "#Path is your data's path which decided your self date where you put!\n",
    "path = './datasets/bitly_usagov/example.txt'"
   ]
  },
  {
   "cell_type": "code",
   "execution_count": 2,
   "metadata": {},
   "outputs": [
    {
     "name": "stdout",
     "output_type": "stream",
     "text": [
      "{'r': 'http://www.facebook.com/l/7AQEFzjSi/1.usa.gov/wfLQtf', 'al': 'en-US,en;q=0.8', 'a': 'Mozilla/5.0 (Windows NT 6.1; WOW64) AppleWebKit/535.11 (KHTML, like Gecko) Chrome/17.0.963.78 Safari/535.11', 'nk': 1, 'tz': 'America/New_York', 'cy': 'Danvers', 'u': 'http://www.ncbi.nlm.nih.gov/pubmed/22415991', 'c': 'US', 'l': 'orofrog', 'hh': '1.usa.gov', 't': 1331923247, 'll': [42.576698, -70.954903], 'hc': 1331822918, 'h': 'wfLQtf', 'gr': 'MA', 'g': 'A6qOVH'}\n",
      "\n",
      "MA\n"
     ]
    }
   ],
   "source": [
    "#Show the date at line 1 that make sure of no mistakes.\n",
    "open(path).readline()\n",
    "records = [json.loads(line) for line in open(path)]\n",
    "print(records[0])\n",
    "print('\\n' + records[0]['gr'])"
   ]
  },
  {
   "cell_type": "code",
   "execution_count": 3,
   "metadata": {},
   "outputs": [
    {
     "data": {
      "text/plain": [
       "['America/New_York',\n",
       " 'America/Denver',\n",
       " 'America/New_York',\n",
       " 'America/Sao_Paulo',\n",
       " 'America/New_York',\n",
       " 'America/New_York',\n",
       " 'Europe/Warsaw',\n",
       " '',\n",
       " '',\n",
       " '']"
      ]
     },
     "execution_count": 3,
     "metadata": {},
     "output_type": "execute_result"
    }
   ],
   "source": [
    "time_zones = [rec['tz'] for rec in records if 'tz' in rec]\n",
    "time_zones[:10]"
   ]
  },
  {
   "cell_type": "code",
   "execution_count": 4,
   "metadata": {},
   "outputs": [
    {
     "name": "stdout",
     "output_type": "stream",
     "text": [
      "   _heartbeat_                                                  a  \\\n",
      "0          NaN  Mozilla/5.0 (Windows NT 6.1; WOW64) AppleWebKi...   \n",
      "1          NaN                             GoogleMaps/RochesterNY   \n",
      "2          NaN  Mozilla/4.0 (compatible; MSIE 8.0; Windows NT ...   \n",
      "\n",
      "               al   c          cy       g  gr       h            hc  \\\n",
      "0  en-US,en;q=0.8  US     Danvers  A6qOVH  MA  wfLQtf  1.331823e+09   \n",
      "1             NaN  US       Provo  mwszkS  UT  mwszkS  1.308262e+09   \n",
      "2           en-US  US  Washington  xxr3Qb  DC  xxr3Qb  1.331920e+09   \n",
      "\n",
      "          hh   kw        l                        ll   nk  \\\n",
      "0  1.usa.gov  NaN  orofrog   [42.576698, -70.954903]  1.0   \n",
      "1       j.mp  NaN    bitly  [40.218102, -111.613297]  0.0   \n",
      "2  1.usa.gov  NaN    bitly     [38.9007, -77.043098]  1.0   \n",
      "\n",
      "                                                   r             t  \\\n",
      "0  http://www.facebook.com/l/7AQEFzjSi/1.usa.gov/...  1.331923e+09   \n",
      "1                           http://www.AwareMap.com/  1.331923e+09   \n",
      "2                               http://t.co/03elZC4Q  1.331923e+09   \n",
      "\n",
      "                 tz                                                  u  \n",
      "0  America/New_York        http://www.ncbi.nlm.nih.gov/pubmed/22415991  \n",
      "1    America/Denver        http://www.monroecounty.gov/etc/911/rss.php  \n",
      "2  America/New_York  http://boxer.senate.gov/en/press/releases/0316...  \n"
     ]
    },
    {
     "data": {
      "text/plain": [
       "pandas.core.series.Series"
      ]
     },
     "execution_count": 4,
     "metadata": {},
     "output_type": "execute_result"
    }
   ],
   "source": [
    "import pandas as pd\n",
    "import numpy as np\n",
    "frame = pd.DataFrame(records)\n",
    "#frame is a summary view(摘要试图)\n",
    "print(frame[:3])\n",
    "frame['tz'][:10]\n",
    "type(frame['tz'])"
   ]
  },
  {
   "cell_type": "code",
   "execution_count": 5,
   "metadata": {},
   "outputs": [
    {
     "data": {
      "text/plain": [
       "America/New_York                  1251\n",
       "                                   521\n",
       "America/Chicago                    400\n",
       "America/Los_Angeles                382\n",
       "America/Denver                     191\n",
       "Europe/London                       74\n",
       "Asia/Tokyo                          37\n",
       "Pacific/Honolulu                    36\n",
       "Europe/Madrid                       35\n",
       "America/Sao_Paulo                   33\n",
       "Europe/Berlin                       28\n",
       "Europe/Rome                         27\n",
       "America/Rainy_River                 25\n",
       "Europe/Amsterdam                    22\n",
       "America/Indianapolis                20\n",
       "America/Phoenix                     20\n",
       "Europe/Warsaw                       16\n",
       "America/Mexico_City                 15\n",
       "Europe/Paris                        14\n",
       "Europe/Stockholm                    14\n",
       "America/Vancouver                   12\n",
       "Pacific/Auckland                    11\n",
       "Asia/Hong_Kong                      10\n",
       "Europe/Moscow                       10\n",
       "Europe/Prague                       10\n",
       "America/Puerto_Rico                 10\n",
       "Europe/Oslo                         10\n",
       "Europe/Helsinki                     10\n",
       "Asia/Calcutta                        9\n",
       "Asia/Istanbul                        9\n",
       "                                  ... \n",
       "Europe/Vilnius                       2\n",
       "Europe/Ljubljana                     1\n",
       "Asia/Kuching                         1\n",
       "Asia/Nicosia                         1\n",
       "Africa/Lusaka                        1\n",
       "Europe/Volgograd                     1\n",
       "America/St_Kitts                     1\n",
       "Australia/Queensland                 1\n",
       "America/Caracas                      1\n",
       "Asia/Pontianak                       1\n",
       "America/Costa_Rica                   1\n",
       "Asia/Novosibirsk                     1\n",
       "America/Argentina/Buenos_Aires       1\n",
       "America/Tegucigalpa                  1\n",
       "America/Santo_Domingo                1\n",
       "America/Argentina/Cordoba            1\n",
       "Africa/Johannesburg                  1\n",
       "Asia/Riyadh                          1\n",
       "Europe/Skopje                        1\n",
       "Europe/Sofia                         1\n",
       "America/Lima                         1\n",
       "America/Mazatlan                     1\n",
       "America/Argentina/Mendoza            1\n",
       "America/Monterrey                    1\n",
       "Africa/Casablanca                    1\n",
       "America/La_Paz                       1\n",
       "America/Montevideo                   1\n",
       "Asia/Yekaterinburg                   1\n",
       "Asia/Manila                          1\n",
       "Europe/Uzhgorod                      1\n",
       "Name: tz, Length: 97, dtype: int64"
      ]
     },
     "execution_count": 5,
     "metadata": {},
     "output_type": "execute_result"
    }
   ],
   "source": [
    "tz_counts = frame['tz'].value_counts()\n",
    "tz_counts"
   ]
  },
  {
   "cell_type": "markdown",
   "metadata": {},
   "source": [
    "### Use Matplotlib to draw data's view\n",
    "**We want to use the Python package of matplotlib to draw that so many data show what we want due to analize convenient**\n",
    "* If time_zone is unknown or missing, replace it with 'NaN' by function of fillna, such as missing.\n",
    "* If time_zone is null, replace it with boolean's array seeking index."
   ]
  },
  {
   "cell_type": "code",
   "execution_count": 6,
   "metadata": {},
   "outputs": [
    {
     "name": "stdout",
     "output_type": "stream",
     "text": [
      "10    America/Los_Angeles\n",
      "11       America/New_York\n",
      "12       America/New_York\n",
      "13                    NaN\n",
      "14       America/New_York\n",
      "Name: tz, dtype: object\n"
     ]
    },
    {
     "data": {
      "text/plain": [
       "pandas.core.series.Series"
      ]
     },
     "execution_count": 6,
     "metadata": {},
     "output_type": "execute_result"
    }
   ],
   "source": [
    "print(frame['tz'][10:15])\n",
    "#Series的fillna方法，将NaN缺省值填充为Missing.\n",
    "clean_tz = frame['tz'].fillna('Missing')\n",
    "#通过List匹配boolean序列将null值替换为Unknown.\n",
    "clean_tz[clean_tz == ''] = 'Unknown'\n",
    "#print(clean_tz)\n",
    "tz_counts = clean_tz.value_counts()\n",
    "type(tz_counts[:10])"
   ]
  },
  {
   "cell_type": "code",
   "execution_count": 7,
   "metadata": {},
   "outputs": [
    {
     "data": {
      "text/plain": [
       "<matplotlib.axes._subplots.AxesSubplot at 0x7fe9d1bfdf60>"
      ]
     },
     "execution_count": 7,
     "metadata": {},
     "output_type": "execute_result"
    }
   ],
   "source": [
    "#仅能py2运行，py3运行会报错。\n",
    "tz_counts[:10].plot(kind='barh', rot=0)"
   ]
  },
  {
   "cell_type": "code",
   "execution_count": 8,
   "metadata": {},
   "outputs": [
    {
     "name": "stdout",
     "output_type": "stream",
     "text": [
      "Print the count of the Series.value'show.\n"
     ]
    },
    {
     "data": {
      "text/plain": [
       "Mozilla/5.0                 2594\n",
       "Mozilla/4.0                  601\n",
       "GoogleMaps/RochesterNY       121\n",
       "Opera/9.80                    34\n",
       "TEST_INTERNET_AGENT           24\n",
       "GoogleProducer                21\n",
       "Mozilla/6.0                    5\n",
       "BlackBerry8520/5.0.0.681       4\n",
       "BlackBerry8520/5.0.0.592       3\n",
       "Dalvik/1.4.0                   3\n",
       "dtype: int64"
      ]
     },
     "execution_count": 8,
     "metadata": {},
     "output_type": "execute_result"
    }
   ],
   "source": [
    "#Series.dropna 返回一个仅含非空数据和索引值的 Series。\n",
    "results = pd.Series([x.split()[0] for x in frame.a.dropna()])\n",
    "results[:5]\n",
    "print('Print the count of the Series.value\\'show.')\n",
    "results.value_counts()[:10]"
   ]
  },
  {
   "cell_type": "code",
   "execution_count": 9,
   "metadata": {},
   "outputs": [
    {
     "data": {
      "text/plain": [
       "array(['Windows', 'Not Windows', 'Windows', 'Not Windows', 'Windows'],\n",
       "      dtype='<U11')"
      ]
     },
     "execution_count": 9,
     "metadata": {},
     "output_type": "execute_result"
    }
   ],
   "source": [
    "#notnull 排除非空项\n",
    "cframe = frame[frame.a.notnull()]\n",
    "#str.contains(),是否含有指定‘str'，有则输出第二个，无则第三个。\n",
    "operating_system = np.where(cframe['a'].str.contains('Windows'), 'Windows','Not Windows')\n",
    "operating_system[:5]"
   ]
  },
  {
   "cell_type": "code",
   "execution_count": 17,
   "metadata": {},
   "outputs": [
    {
     "name": "stdout",
     "output_type": "stream",
     "text": [
      "                                            _heartbeat_            hc  \\\n",
      "tz                                                                      \n",
      "                               Not Windows          NaN  1.325870e+09   \n",
      "                               Windows              NaN  1.324013e+09   \n",
      "Africa/Cairo                   Windows              NaN  1.304479e+09   \n",
      "Africa/Casablanca              Windows              NaN  1.328021e+09   \n",
      "Africa/Ceuta                   Windows              NaN  1.331627e+09   \n",
      "Africa/Johannesburg            Windows              NaN  1.331923e+09   \n",
      "Africa/Lusaka                  Windows              NaN  1.327006e+09   \n",
      "America/Anchorage              Not Windows          NaN  1.331091e+09   \n",
      "                               Windows              NaN  1.331219e+09   \n",
      "America/Argentina/Buenos_Aires Not Windows          NaN  1.331923e+09   \n",
      "America/Argentina/Cordoba      Windows              NaN  1.331923e+09   \n",
      "America/Argentina/Mendoza      Windows              NaN  1.330459e+09   \n",
      "America/Bogota                 Not Windows          NaN  1.331565e+09   \n",
      "                               Windows              NaN  1.331916e+09   \n",
      "America/Caracas                Windows              NaN  1.330459e+09   \n",
      "America/Chicago                Not Windows          NaN  1.326228e+09   \n",
      "                               Windows              NaN  1.319684e+09   \n",
      "America/Chihuahua              Not Windows          NaN  1.331473e+09   \n",
      "                               Windows              NaN  1.331923e+09   \n",
      "America/Costa_Rica             Windows              NaN  1.323189e+09   \n",
      "America/Denver                 Not Windows          NaN  1.310219e+09   \n",
      "                               Windows              NaN  1.323654e+09   \n",
      "America/Edmonton               Not Windows          NaN  1.331526e+09   \n",
      "                               Windows              NaN  1.328786e+09   \n",
      "America/Guayaquil              Not Windows          NaN  1.330459e+09   \n",
      "America/Halifax                Not Windows          NaN  1.331835e+09   \n",
      "                               Windows              NaN  1.331924e+09   \n",
      "America/Indianapolis           Not Windows          NaN  1.331512e+09   \n",
      "                               Windows              NaN  1.330842e+09   \n",
      "America/La_Paz                 Windows              NaN  1.313166e+09   \n",
      "...                                                 ...           ...   \n",
      "Europe/Madrid                  Not Windows          NaN  1.329393e+09   \n",
      "                               Windows              NaN  1.325089e+09   \n",
      "Europe/Malta                   Windows              NaN  1.331914e+09   \n",
      "Europe/Moscow                  Not Windows          NaN  1.331921e+09   \n",
      "                               Windows              NaN  1.325672e+09   \n",
      "Europe/Oslo                    Not Windows          NaN  1.331561e+09   \n",
      "                               Windows              NaN  1.331874e+09   \n",
      "Europe/Paris                   Not Windows          NaN  1.331731e+09   \n",
      "                               Windows              NaN  1.331921e+09   \n",
      "Europe/Prague                  Not Windows          NaN  1.331883e+09   \n",
      "                               Windows              NaN  1.331879e+09   \n",
      "Europe/Riga                    Not Windows          NaN  1.331828e+09   \n",
      "                               Windows              NaN  1.297260e+09   \n",
      "Europe/Rome                    Not Windows          NaN  1.331886e+09   \n",
      "                               Windows              NaN  1.331896e+09   \n",
      "Europe/Skopje                  Windows              NaN  1.331908e+09   \n",
      "Europe/Sofia                   Windows              NaN  1.331923e+09   \n",
      "Europe/Stockholm               Not Windows          NaN  1.317069e+09   \n",
      "                               Windows              NaN  1.325893e+09   \n",
      "Europe/Uzhgorod                Windows              NaN  1.331908e+09   \n",
      "Europe/Vienna                  Not Windows          NaN  1.331810e+09   \n",
      "                               Windows              NaN  1.331921e+09   \n",
      "Europe/Vilnius                 Windows              NaN  1.331923e+09   \n",
      "Europe/Volgograd               Windows              NaN  1.331923e+09   \n",
      "Europe/Warsaw                  Not Windows          NaN  1.331923e+09   \n",
      "                               Windows              NaN  1.329897e+09   \n",
      "Europe/Zurich                  Not Windows          NaN  1.331867e+09   \n",
      "Pacific/Auckland               Not Windows          NaN  1.331805e+09   \n",
      "                               Windows              NaN  1.331810e+09   \n",
      "Pacific/Honolulu               Windows              NaN  1.331393e+09   \n",
      "\n",
      "                                                  nk             t  \n",
      "tz                                                                  \n",
      "                               Not Windows  0.281633  1.331925e+09  \n",
      "                               Windows      0.500000  1.331925e+09  \n",
      "Africa/Cairo                   Windows      0.333333  1.331924e+09  \n",
      "Africa/Casablanca              Windows      0.000000  1.331926e+09  \n",
      "Africa/Ceuta                   Windows      0.000000  1.331925e+09  \n",
      "Africa/Johannesburg            Windows      0.000000  1.331925e+09  \n",
      "Africa/Lusaka                  Windows      0.000000  1.331925e+09  \n",
      "America/Anchorage              Not Windows  0.000000  1.331925e+09  \n",
      "                               Windows      0.000000  1.331923e+09  \n",
      "America/Argentina/Buenos_Aires Not Windows  1.000000  1.331924e+09  \n",
      "America/Argentina/Cordoba      Windows      0.000000  1.331926e+09  \n",
      "America/Argentina/Mendoza      Windows      0.000000  1.331925e+09  \n",
      "America/Bogota                 Not Windows  0.000000  1.331925e+09  \n",
      "                               Windows      0.000000  1.331924e+09  \n",
      "America/Caracas                Windows      0.000000  1.331925e+09  \n",
      "America/Chicago                Not Windows  0.365217  1.331925e+09  \n",
      "                               Windows      0.498246  1.331925e+09  \n",
      "America/Chihuahua              Not Windows  0.000000  1.331926e+09  \n",
      "                               Windows      1.000000  1.331925e+09  \n",
      "America/Costa_Rica             Windows      0.000000  1.331925e+09  \n",
      "America/Denver                 Not Windows  0.030303  1.331925e+09  \n",
      "                               Windows      0.559322  1.331925e+09  \n",
      "America/Edmonton               Not Windows  0.000000  1.331926e+09  \n",
      "                               Windows      0.250000  1.331925e+09  \n",
      "America/Guayaquil              Not Windows  0.000000  1.331925e+09  \n",
      "America/Halifax                Not Windows  1.000000  1.331925e+09  \n",
      "                               Windows      0.666667  1.331925e+09  \n",
      "America/Indianapolis           Not Windows  0.250000  1.331925e+09  \n",
      "                               Windows      0.250000  1.331925e+09  \n",
      "America/La_Paz                 Windows      0.000000  1.331926e+09  \n",
      "...                                              ...           ...  \n",
      "Europe/Madrid                  Not Windows  0.562500  1.331925e+09  \n",
      "                               Windows      0.105263  1.331925e+09  \n",
      "Europe/Malta                   Windows      0.000000  1.331924e+09  \n",
      "Europe/Moscow                  Not Windows  1.000000  1.331926e+09  \n",
      "                               Windows      0.111111  1.331925e+09  \n",
      "Europe/Oslo                    Not Windows  0.000000  1.331926e+09  \n",
      "                               Windows      0.500000  1.331926e+09  \n",
      "Europe/Paris                   Not Windows  0.500000  1.331925e+09  \n",
      "                               Windows      0.000000  1.331925e+09  \n",
      "Europe/Prague                  Not Windows  0.333333  1.331925e+09  \n",
      "                               Windows      0.142857  1.331924e+09  \n",
      "Europe/Riga                    Not Windows  1.000000  1.331926e+09  \n",
      "                               Windows      1.000000  1.331924e+09  \n",
      "Europe/Rome                    Not Windows  0.375000  1.331925e+09  \n",
      "                               Windows      0.105263  1.331924e+09  \n",
      "Europe/Skopje                  Windows      0.000000  1.331923e+09  \n",
      "Europe/Sofia                   Windows      0.000000  1.331924e+09  \n",
      "Europe/Stockholm               Not Windows  0.000000  1.331926e+09  \n",
      "                               Windows      0.416667  1.331925e+09  \n",
      "Europe/Uzhgorod                Windows      1.000000  1.331925e+09  \n",
      "Europe/Vienna                  Not Windows  0.666667  1.331925e+09  \n",
      "                               Windows      1.000000  1.331923e+09  \n",
      "Europe/Vilnius                 Windows      0.500000  1.331925e+09  \n",
      "Europe/Volgograd               Windows      0.000000  1.331926e+09  \n",
      "Europe/Warsaw                  Not Windows  0.000000  1.331925e+09  \n",
      "                               Windows      0.133333  1.331924e+09  \n",
      "Europe/Zurich                  Not Windows  0.250000  1.331925e+09  \n",
      "Pacific/Auckland               Not Windows  1.000000  1.331926e+09  \n",
      "                               Windows      0.000000  1.331926e+09  \n",
      "Pacific/Honolulu               Windows      0.833333  1.331924e+09  \n",
      "\n",
      "[149 rows x 4 columns]\n"
     ]
    }
   ],
   "source": [
    "by_tz_os = cframe.groupby(['tz', operating_system]).mean()\n",
    "print(by_tz_os)"
   ]
  }
 ],
 "metadata": {
  "kernelspec": {
   "display_name": "Python 2",
   "language": "python",
   "name": "python2"
  },
  "language_info": {
   "codemirror_mode": {
    "name": "ipython",
    "version": 3
   },
   "file_extension": ".py",
   "mimetype": "text/x-python",
   "name": "python",
   "nbconvert_exporter": "python",
   "pygments_lexer": "ipython3",
   "version": "3.5.2"
  }
 },
 "nbformat": 4,
 "nbformat_minor": 2
}
