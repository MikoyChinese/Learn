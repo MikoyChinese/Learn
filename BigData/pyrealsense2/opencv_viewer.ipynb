{
 "cells": [
  {
   "cell_type": "code",
   "execution_count": 1,
   "metadata": {},
   "outputs": [],
   "source": [
    "import pyrealsense2 as rs\n",
    "import numpy as np\n",
    "import cv2 # Check your ros path, if opencv can not import, edit your bashrc file.\n",
    "import time"
   ]
  },
  {
   "cell_type": "markdown",
   "metadata": {},
   "source": [
    "Configure depth and color streams."
   ]
  },
  {
   "cell_type": "code",
   "execution_count": 2,
   "metadata": {},
   "outputs": [],
   "source": [
    "pipeline = rs.pipeline()\n",
    "config = rs.config()"
   ]
  },
  {
   "cell_type": "markdown",
   "metadata": {},
   "source": [
    "Configure the stream format, size, fps."
   ]
  },
  {
   "cell_type": "code",
   "execution_count": 3,
   "metadata": {},
   "outputs": [],
   "source": [
    "config.enable_stream(rs.stream.depth, 640, 480, rs.format.z16, 30)\n",
    "config.enable_stream(rs.stream.color, 640, 480, rs.format.bgr8, 30)"
   ]
  },
  {
   "cell_type": "code",
   "execution_count": 4,
   "metadata": {},
   "outputs": [
    {
     "data": {
      "text/plain": [
       "<pyrealsense2.pyrealsense2.pipeline_profile at 0x7f05933d8768>"
      ]
     },
     "execution_count": 4,
     "metadata": {},
     "output_type": "execute_result"
    }
   ],
   "source": [
    "# Start streaming.\n",
    "pipeline.start(config)"
   ]
  },
  {
   "cell_type": "code",
   "execution_count": 5,
   "metadata": {},
   "outputs": [],
   "source": [
    "# Wait for a coherent pair of frames: depth and color. Default is 5000 ms == 5s.\n",
    "frames = pipeline.wait_for_frames()\n",
    "#?pipeline.wait_for_frames"
   ]
  },
  {
   "cell_type": "code",
   "execution_count": 6,
   "metadata": {},
   "outputs": [],
   "source": [
    "depth_frame = frames.get_depth_frame()"
   ]
  },
  {
   "cell_type": "code",
   "execution_count": 7,
   "metadata": {},
   "outputs": [],
   "source": [
    "color_frame = frames.get_color_frame()"
   ]
  },
  {
   "cell_type": "code",
   "execution_count": 8,
   "metadata": {},
   "outputs": [
    {
     "data": {
      "text/plain": [
       "(480, 640)"
      ]
     },
     "execution_count": 8,
     "metadata": {},
     "output_type": "execute_result"
    }
   ],
   "source": [
    "depth_image = np.asanyarray(depth_frame.get_data())\n",
    "depth_data = depth_frame.as_frame().get_data()\n",
    "\n",
    "'''\n",
    "# As same as up.\n",
    "image = np.asanyarray(depth_data)\n",
    "print(image)\n",
    "print(depth_image)\n",
    "'''\n",
    "\n",
    "depth_image.shape"
   ]
  },
  {
   "cell_type": "code",
   "execution_count": 9,
   "metadata": {},
   "outputs": [
    {
     "data": {
      "text/plain": [
       "(480, 640, 3)"
      ]
     },
     "execution_count": 9,
     "metadata": {},
     "output_type": "execute_result"
    }
   ],
   "source": [
    "color_image = np.asanyarray(color_frame.get_data())\n",
    "color_image.shape"
   ]
  },
  {
   "cell_type": "markdown",
   "metadata": {},
   "source": [
    "Apply colormap on depth image(image must be converted to 8-bit per pixel first)."
   ]
  },
  {
   "cell_type": "code",
   "execution_count": 10,
   "metadata": {},
   "outputs": [
    {
     "data": {
      "text/plain": [
       "array([[[128,   0,   0],\n",
       "        [128,   0,   0],\n",
       "        [128,   0,   0],\n",
       "        ...,\n",
       "        [128,   0,   0],\n",
       "        [128,   0,   0],\n",
       "        [128,   0,   0]],\n",
       "\n",
       "       [[128,   0,   0],\n",
       "        [128,   0,   0],\n",
       "        [128,   0,   0],\n",
       "        ...,\n",
       "        [128,   0,   0],\n",
       "        [128,   0,   0],\n",
       "        [128,   0,   0]],\n",
       "\n",
       "       [[128,   0,   0],\n",
       "        [128,   0,   0],\n",
       "        [128,   0,   0],\n",
       "        ...,\n",
       "        [128,   0,   0],\n",
       "        [128,   0,   0],\n",
       "        [128,   0,   0]],\n",
       "\n",
       "       ...,\n",
       "\n",
       "       [[128,   0,   0],\n",
       "        [128,   0,   0],\n",
       "        [128,   0,   0],\n",
       "        ...,\n",
       "        [128,   0,   0],\n",
       "        [128,   0,   0],\n",
       "        [128,   0,   0]],\n",
       "\n",
       "       [[128,   0,   0],\n",
       "        [128,   0,   0],\n",
       "        [128,   0,   0],\n",
       "        ...,\n",
       "        [128,   0,   0],\n",
       "        [128,   0,   0],\n",
       "        [128,   0,   0]],\n",
       "\n",
       "       [[128,   0,   0],\n",
       "        [128,   0,   0],\n",
       "        [128,   0,   0],\n",
       "        ...,\n",
       "        [128,   0,   0],\n",
       "        [128,   0,   0],\n",
       "        [128,   0,   0]]], dtype=uint8)"
      ]
     },
     "execution_count": 10,
     "metadata": {},
     "output_type": "execute_result"
    }
   ],
   "source": [
    "depth_colormap = cv2.applyColorMap(cv2.convertScaleAbs(depth_image, alpha=0.03), cv2.COLORMAP_JET)\n",
    "depth_colormap"
   ]
  },
  {
   "cell_type": "markdown",
   "metadata": {},
   "source": [
    "Stack both images horizontally."
   ]
  },
  {
   "cell_type": "code",
   "execution_count": 11,
   "metadata": {},
   "outputs": [],
   "source": [
    "images = np.hstack((color_image, depth_colormap))"
   ]
  },
  {
   "cell_type": "markdown",
   "metadata": {},
   "source": [
    "Show Images."
   ]
  },
  {
   "cell_type": "code",
   "execution_count": 12,
   "metadata": {},
   "outputs": [
    {
     "data": {
      "text/plain": [
       "\"\\ncv2.namedWindow('RealSense', cv2.WINDOW_AUTOSIZE)\\ncv2.imshow('RealSense', images)\\ncv2.waitKey(1)\\n\""
      ]
     },
     "execution_count": 12,
     "metadata": {},
     "output_type": "execute_result"
    }
   ],
   "source": [
    "'''\n",
    "cv2.namedWindow('RealSense', cv2.WINDOW_AUTOSIZE)\n",
    "cv2.imshow('RealSense', images)\n",
    "cv2.waitKey(1)\n",
    "'''"
   ]
  },
  {
   "cell_type": "markdown",
   "metadata": {},
   "source": [
    "## Loop get the frame."
   ]
  },
  {
   "cell_type": "code",
   "execution_count": 13,
   "metadata": {},
   "outputs": [],
   "source": [
    "try:\n",
    "    while True:\n",
    "        \n",
    "        frames = pipeline.wait_for_frames()\n",
    "        depth_frame = frames.get_depth_frame()\n",
    "        color_frame = frames.get_color_frame()\n",
    "        if not depth_frame or not color_frame:\n",
    "            continue\n",
    "        \n",
    "        # Convert images to numpy arrays\n",
    "        depth_image = np.asanyarray(depth_frame.get_data())\n",
    "        color_image = np.asanyarray(color_frame.get_data())\n",
    "        \n",
    "        # Apply colormap on depth image (image must be converted to 8-bit per pixel first).\n",
    "        depth_colormap = cv2.applyColorMap(cv2.convertScaleAbs(depth_image, alpha=0.03), cv2.COLORMAP_HSV)\n",
    "        \n",
    "        # Stack both images horizontally\n",
    "        images = np.hstack((color_image, depth_colormap))\n",
    "        \n",
    "        # Show images\n",
    "        cv2.namedWindow('RealSense', cv2.WINDOW_AUTOSIZE)\n",
    "        cv2.imshow('RealSense', images)\n",
    "        #cv2.imwrite(\"/home/commaai-03/image/color/%.9f.jpg\" % time.time(), color_image)\n",
    "        if cv2.waitKey(1) == ord('q'):\n",
    "            cv2.destroyAllWindows()\n",
    "            break\n",
    "        \n",
    "finally:\n",
    "    # pipeline.stop()\n",
    "    pass"
   ]
  },
  {
   "cell_type": "code",
   "execution_count": null,
   "metadata": {},
   "outputs": [],
   "source": [
    "# If you wanna close the device. Run this.\n",
    "pipeline.stop"
   ]
  },
  {
   "cell_type": "code",
   "execution_count": null,
   "metadata": {},
   "outputs": [],
   "source": []
  }
 ],
 "metadata": {
  "kernelspec": {
   "display_name": "Python 3",
   "language": "python",
   "name": "python3"
  },
  "language_info": {
   "codemirror_mode": {
    "name": "ipython",
    "version": 3
   },
   "file_extension": ".py",
   "mimetype": "text/x-python",
   "name": "python",
   "nbconvert_exporter": "python",
   "pygments_lexer": "ipython3",
   "version": "3.5.2"
  }
 },
 "nbformat": 4,
 "nbformat_minor": 2
}
