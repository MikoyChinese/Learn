{
 "cells": [
  {
   "cell_type": "code",
   "execution_count": null,
   "metadata": {},
   "outputs": [],
   "source": [
    "# Fist import the library.\n",
    "import pyrealsense2 as rs\n",
    "import numpy as np\n",
    "import cv2\n",
    "import time, traceback"
   ]
  },
  {
   "cell_type": "code",
   "execution_count": null,
   "metadata": {},
   "outputs": [],
   "source": [
    "# Create a pipeline\n",
    "pipeline = rs.pipeline()"
   ]
  },
  {
   "cell_type": "code",
   "execution_count": null,
   "metadata": {},
   "outputs": [],
   "source": [
    "# Create a config and configure the pipeline to stream.\n",
    "# Different resolutions of color and depth streams.\n",
    "\n",
    "config = rs.config()"
   ]
  },
  {
   "cell_type": "code",
   "execution_count": null,
   "metadata": {},
   "outputs": [],
   "source": [
    "config.enable_stream(rs.stream.depth, 640, 480, rs.format.z16, 60)\n",
    "config.enable_stream(rs.stream.color, 640, 480, rs.format.bgr8, 60)"
   ]
  },
  {
   "cell_type": "code",
   "execution_count": null,
   "metadata": {},
   "outputs": [],
   "source": [
    "# Start streaming\n",
    "profile = pipeline.start(config)"
   ]
  },
  {
   "cell_type": "code",
   "execution_count": null,
   "metadata": {},
   "outputs": [],
   "source": [
    "align_to = rs.stream.color\n",
    "align = rs.align(align_to)"
   ]
  },
  {
   "cell_type": "code",
   "execution_count": null,
   "metadata": {},
   "outputs": [],
   "source": [
    "frames = pipeline.wait_for_frames()"
   ]
  },
  {
   "cell_type": "markdown",
   "metadata": {},
   "source": [
    "### Dhash"
   ]
  },
  {
   "cell_type": "code",
   "execution_count": null,
   "metadata": {},
   "outputs": [],
   "source": [
    "def cal_diff(image, hash_size=8):\n",
    "    width = 9\n",
    "    height = 8\n",
    "    # Reshape image to 9*8 and grey it.\n",
    "    image = Image.fromarray(image)\n",
    "    img = image.resize((width, height))\n",
    "    gray_image = img.convert('L')\n",
    "    pixels = list(gray_image.getdata())\n",
    "    difference = []\n",
    "    for h in range(height):\n",
    "        start_index = h * width\n",
    "        for w in range(width - 1):\n",
    "            left_pixel_index = start_index + w\n",
    "            difference.append(pixels[left_pixel_index] > pixels[left_pixel_index + 1])\n",
    "    return difference\n",
    "\n",
    "def hamming_distance(first, second):\n",
    "    \n",
    "    hamming_distance = 0\n",
    "    first_diff = cal_diff(first)\n",
    "    second_diff = cal_diff(second)\n",
    "    \n",
    "    for index, img_1 in enumerate(first_diff):\n",
    "        img_2 = second_diff[index]\n",
    "        if img_1 != img_2:\n",
    "            hamming_distance += 1\n",
    "    return hamming_distance"
   ]
  },
  {
   "cell_type": "markdown",
   "metadata": {},
   "source": [
    "### Average Hash"
   ]
  },
  {
   "cell_type": "code",
   "execution_count": null,
   "metadata": {},
   "outputs": [],
   "source": [
    "def average_hash(image):\n",
    "    \"\"\"\n",
    "    :param image: numpy array or img.\n",
    "    :return hash_string: str\n",
    "    \"\"\"\n",
    "    image = cv2.resize(image,(8,8),interpolation=cv2.INTER_CUBIC)\n",
    "    gray = cv2.cvtColor(image,cv2.COLOR_BGR2GRAY)\n",
    "    s = 0\n",
    "    hash_string = ''\n",
    "    \n",
    "    for i in range(8):\n",
    "        for j in range(8):\n",
    "            s = s + gray[i, j]\n",
    "    avg = s/64\n",
    "    \n",
    "    for i in range(8):\n",
    "        for j in range(8):\n",
    "            if gray[i, j] > avg:\n",
    "                hash_string += '1'\n",
    "            else:\n",
    "                hash_string += '0'\n",
    "    return hash_string\n",
    "\n",
    "def hamming_distance_with_hash(dhash1, dhash2):\n",
    "    \"\"\"\n",
    "    *Private method*\n",
    "    根据dHash值计算hamming distance\n",
    "    :param dhash1: str\n",
    "    :param dhash2: str\n",
    "    :return: 汉明距离(int)\n",
    "    \"\"\"\n",
    "    difference = (int(dhash1, 16)) ^ (int(dhash2, 16))\n",
    "    return bin(difference).count(\"1\")"
   ]
  },
  {
   "cell_type": "code",
   "execution_count": null,
   "metadata": {},
   "outputs": [],
   "source": [
    "background = None\n",
    "\n",
    "try:\n",
    "    while True:\n",
    "        frames = pipeline.wait_for_frames()\n",
    "        \n",
    "        aligned_frames = align.process(frames)\n",
    "        aligened_depth_frame = aligned_frames.get_depth_frame()\n",
    "        color_frame = aligned_frames.get_color_frame()\n",
    "        \n",
    "        if not aligened_depth_frame or not color_frame:\n",
    "            continue\n",
    "            \n",
    "        depth_image = np.asanyarray(aligened_depth_frame.get_data())\n",
    "        color_image = np.asanyarray(color_frame.get_data())\n",
    "        \n",
    "        if background is None:\n",
    "            background = color_image\n",
    "            continue\n",
    "        distance = hamming_distance(background, color_image)\n",
    "        print(\"[Distance]: %s\" % distance)\n",
    "        \n",
    "        background = color_image\n",
    "        \n",
    "        if distance > 5:\n",
    "            #cv2.imwrite(\"/home/commaai-03/image/depth/%.9f.pgm\" % time.time(), depth_image)\n",
    "            #cv2.imwrite(\"/home/commaai-03/image/color/%.9f.jpg\" % time.time(), color_image)\n",
    "            print(\"Shape:  \", depth_image.shape)\n",
    "        key = cv2.waitKey(1)\n",
    "        if key & 0xFF == ord('q') or key == 27:\n",
    "            cv2.destroyAllWindows()\n",
    "            break\n",
    "except Exception as e:\n",
    "    traceback.print_exc()"
   ]
  }
 ],
 "metadata": {
  "kernelspec": {
   "display_name": "Python 3",
   "language": "python",
   "name": "python3"
  },
  "language_info": {
   "codemirror_mode": {
    "name": "ipython",
    "version": 2
   },
   "file_extension": ".py",
   "mimetype": "text/x-python",
   "name": "python",
   "nbconvert_exporter": "python",
   "pygments_lexer": "ipython2",
   "version": "2.7.15+"
  }
 },
 "nbformat": 4,
 "nbformat_minor": 2
}
