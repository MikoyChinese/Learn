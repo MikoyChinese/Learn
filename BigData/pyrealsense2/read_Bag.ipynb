{
 "cells": [
  {
   "cell_type": "code",
   "execution_count": 1,
   "metadata": {},
   "outputs": [],
   "source": [
    "import pyrealsense2 as rs\n",
    "import numpy as py\n",
    "import cv2\n",
    "import argparse\n",
    "import os.path"
   ]
  },
  {
   "cell_type": "code",
   "execution_count": null,
   "metadata": {},
   "outputs": [],
   "source": [
    "# Create object for parsing command-line options\n",
    "parser = argparse.ArgumentParser(description=\"Read recorded bag file and display depth stream in jet colormap.\\\n",
    "                                Remember to change the stream resolution, fps and format to match the recorded.\")\n",
    "# Add argument which takes path to a bag file as an input\n",
    "parser.add_argument(\"-i\", \"--input\", type=str, help=\"Path to the bag file\")\n",
    "# Parse the command line arguments to an object\n",
    "args = parser.parse_args()\n",
    "# Safety if no parameter have been given\n",
    "if not args.input:\n",
    "    print(\"No input paramater have been given.\")\n",
    "    print(\"For help type --help\")\n",
    "    exit()\n",
    "# Check if the given file have bag extension\n",
    "if os.path.splitext(args.input)[1] != \".bag\":\n",
    "    print(\"The given file is not of correct file format.\")\n",
    "    print(\"Only .bag files are accepted\")\n",
    "    exit()\n",
    "try:\n",
    "    # Create pipeline\n",
    "    pipeline = rs.pipeline()\n",
    "\n",
    "    # Create a config object\n",
    "    config = rs.config()\n",
    "    # Tell config that we will use a recorded device from filem to be used by the pipeline through playback.\n",
    "    rs.config.enable_device_from_file(config, args.input)\n",
    "    # Configure the pipeline to stream the depth stream\n",
    "    config.enable_stream(rs.stream.depth, 1280, 720, rs.format.z16, 30)\n",
    "\n",
    "    # Start streaming from file\n",
    "    pipeline.start(config)\n",
    "\n",
    "    # Create opencv window to render image in\n",
    "    cv2.namedWindow(\"Depth Stream\", cv2.WINDOW_AUTOSIZE)\n",
    "\n",
    "    # Streaming loop\n",
    "    while True:\n",
    "        # Get frameset of depth\n",
    "        frames = pipeline.wait_for_frames()\n",
    "\n",
    "        # Get depth frame\n",
    "        depth_frame = frames.get_depth_frame()\n",
    "\n",
    "        # Colorize depth frame to jet colormap\n",
    "        depth_color_frame = rs.colorizer().colorize(depth_frame)\n",
    "\n",
    "        # Convert depth_frame to numpy array to render image in opencv\n",
    "        depth_color_image = np.asanyarray(depth_color_frame.get_data())\n",
    "\n",
    "        # Render image in opencv window\n",
    "        cv2.imshow(\"Depth Stream\", depth_color_image)\n",
    "        key = cv2.waitKey(1)\n",
    "        # if pressed escape exit program\n",
    "        if key == 27:\n",
    "            cv2.destroyAllWindows()\n",
    "            break\n",
    "\n",
    "finally:\n",
    "    pass"
   ]
  }
 ],
 "metadata": {
  "kernelspec": {
   "display_name": "Python 3",
   "language": "python",
   "name": "python3"
  },
  "language_info": {
   "codemirror_mode": {
    "name": "ipython",
    "version": 3
   },
   "file_extension": ".py",
   "mimetype": "text/x-python",
   "name": "python",
   "nbconvert_exporter": "python",
   "pygments_lexer": "ipython3",
   "version": "3.5.2"
  }
 },
 "nbformat": 4,
 "nbformat_minor": 2
}
