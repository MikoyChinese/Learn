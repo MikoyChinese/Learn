{
 "cells": [
  {
   "cell_type": "code",
   "execution_count": 1,
   "metadata": {},
   "outputs": [],
   "source": [
    "from calibration_kabsch import cal_transformation_kabsch, Transformation\n",
    "import numpy as np\n",
    "import pyrealsense2 as rs\n",
    "import dt_apriltags\n",
    "import cv2\n",
    "import os"
   ]
  },
  {
   "cell_type": "code",
   "execution_count": 3,
   "metadata": {},
   "outputs": [],
   "source": [
    "class RSCalibration:\n",
    "    \n",
    "    def __init__(self, intrinsic=None, tag_family='tagStandard41h12', tag_size=None):\n",
    "\n",
    "        self.at_detector = dt_apriltags.Detector(searchpath=['apriltags'],\n",
    "                               families=tag_family,\n",
    "                               nthreads=1,\n",
    "                               quad_decimate=1.0,\n",
    "                               quad_sigma=0.0,\n",
    "                               refine_edges=1,\n",
    "                               decode_sharpening=0.25,\n",
    "                               debug=0)\n",
    "        self.intrinsic = intrinsic\n",
    "        self.tag_size = tag_size\n",
    "        \n",
    "    def convert_depth_pixel_to_metric_coordinate(self, depth, pixel_x, pixel_y):\n",
    "        X = (pixel_x - self.intrinsic.ppx) / self.intrinsic.fx * depth\n",
    "        Y = (pixel_y - self.intrinsic.ppy) / self.intrinsic.fy * depth\n",
    "        return X, Y, depth\n",
    "        \n",
    "    def get_3d_corners(self, img, depth):\n",
    "        '''\n",
    "        Args:\n",
    "        ------\n",
    "        img: (H, W, C) ndarray, 1 for gray or 3 for color.\n",
    "        depth: (H, W) ndarray.\n",
    "        '''\n",
    "        assert img.shape[:2] == depth.shape[:2]\n",
    "        if img.shape[-1] == 3:\n",
    "            gray = cv2.cvtColor(img, cv2.COLOR_BGR2GRAY)\n",
    "        elif img.shape[-1] == 1:\n",
    "            gray = img\n",
    "        else:\n",
    "            raise Exception('Only support gray or color.')\n",
    "        detections = self.at_detector.detect(gray)\n",
    "        if detections:\n",
    "            corners2D = {}\n",
    "            for each in detections:\n",
    "                corners, center = each.corners.tolist(), each.center.tolist()\n",
    "                #corners.append(center)\n",
    "                corners2D[each.tag_id] = corners\n",
    "                \n",
    "            corners3D = {}\n",
    "            for k, v in corners2D.items():\n",
    "                corners3D[k] = []\n",
    "                for point in v:\n",
    "                    X = point[0]\n",
    "                    Y = point[1]\n",
    "                    Z = depth[int(round(Y)), int(round(X))]\n",
    "                    if Z == 0 or Z is None:\n",
    "                        Z = None\n",
    "                    # Convert\n",
    "                    else:\n",
    "                        X, Y, Z = self.convert_depth_pixel_to_metric_coordinate(Z, X, Y)\n",
    "                    corners3D[k].append([X, Y, Z])\n",
    "            return corners3D\n",
    "        else:\n",
    "            return None\n",
    "\n",
    "\n",
    "\n",
    "def perform_RT(src3D, dst3D):\n",
    "    \n",
    "    srcPoints = []\n",
    "    dstPoints = []\n",
    "    \n",
    "    for k in src3D.keys():\n",
    "        if not k in dst3D.keys():\n",
    "            continue\n",
    "        for i in range(len(src3D[k])):\n",
    "            src_point = src3D[k][i]\n",
    "            dst_point = dst3D[k][i]\n",
    "            # Check Z value is ok.\n",
    "            \n",
    "            if src_point[2] and dst_point[2]:\n",
    "                srcPoints.append(src_point)\n",
    "                dstPoints.append(dst_point)\n",
    "    if len(srcPoints) < 5:\n",
    "        return None, None\n",
    "\n",
    "    srcPoints = np.asarray(srcPoints)\n",
    "    dstPoints = np.asarray(dstPoints)\n",
    "    R, T, rmsd_value = cal_transformation_kabsch(srcPoints, dstPoints)\n",
    "    print(rmsd_value)\n",
    "    return R, T"
   ]
  },
  {
   "cell_type": "code",
   "execution_count": 4,
   "metadata": {},
   "outputs": [],
   "source": [
    "def handle_baodi(srcCam, dstCam, imgs_dir, srcIntrinsic, dstIntrinsic):\n",
    "    '''\n",
    "    Args:\n",
    "      srcCam: str, camera's name, eg: rs15 or rs16\n",
    "      dstCam: str.\n",
    "      imgs_dir: str, the path of images, filename is [camName]_[seq].jpg or png\n",
    "                eg: rs15_0.jpg, rs16_1.jpg...\n",
    "    '''\n",
    "    \n",
    "    allfiles = os.listdir(imgs_dir)\n",
    "    allfiles.sort()\n",
    "    \n",
    "    absPath = lambda file: os.path.join(imgs_dir, file) \n",
    "    srcColorFiles = [absPath(file) for file in allfiles if ('.jpg' in file and srcCam in file)]\n",
    "    srcDepthFiles = [absPath(file) for file in allfiles if ('.png' in file and srcCam in file)]\n",
    "    dstColorFiles = [absPath(file) for file in allfiles if ('.jpg' in file and dstCam in file)]\n",
    "    dstDepthFiles = [absPath(file) for file in allfiles if ('.png' in file and dstCam in file)]\n",
    "    assert len(srcColorFiles) == len(srcDepthFiles) == len(dstColorFiles) == len(dstDepthFiles)\n",
    "    # get sequence length.\n",
    "    loop = len(srcColorFiles)\n",
    "    \n",
    "    srcRS = RSCalibration(intrinsic=srcIntrinsic)\n",
    "    dstRS = RSCalibration(intrinsic=dstIntrinsic)\n",
    "    src3D_valid = []\n",
    "    dst3D_valid = []\n",
    "    \n",
    "    for i in range(loop):\n",
    "        srcColor, srcDepth = cv2.imread(srcColorFiles[i]), cv2.imread(srcDepthFiles[i], cv2.IMREAD_ANYDEPTH) \n",
    "        dstColor, dstDepth = cv2.imread(dstColorFiles[i]), cv2.imread(dstDepthFiles[i], cv2.IMREAD_ANYDEPTH)\n",
    "        \n",
    "        src3D = srcRS.get_3d_corners(srcColor, srcDepth)\n",
    "        dst3D = dstRS.get_3d_corners(dstColor, dstDepth)\n",
    "        \n",
    "        if src3D and dst3D:\n",
    "            for k in src3D.keys():\n",
    "                if not k in dst3D.keys():\n",
    "                    continue\n",
    "                for i in range(len(src3D[k])):\n",
    "                    src_point = src3D[k][i]\n",
    "                    dst_point = dst3D[k][i]\n",
    "                    \n",
    "                    if src_point[2] and dst_point[2]:\n",
    "                        src3D_valid.append(src_point)\n",
    "                        dst3D_valid.append(dst_point)\n",
    "    assert len(src3D_valid) > 5                    \n",
    "    srcPoints = np.asarray(src3D_valid)\n",
    "    dstPoints = np.asarray(dst3D_valid)\n",
    "    R, T, rmsd_value = cal_transformation_kabsch(srcPoints, dstPoints)\n",
    "    print(rmsd_value)\n",
    "    return R, T"
   ]
  },
  {
   "cell_type": "code",
   "execution_count": 5,
   "metadata": {},
   "outputs": [],
   "source": [
    "import json\n",
    "from easydict import EasyDict\n",
    "intrinsics_file = '/home/commaai-03/Data/color/apriltags/intrinsics.json'\n",
    "with open(intrinsics_file, 'r') as f:\n",
    "    intrinsics = json.load(f)\n",
    "    intrinsics = EasyDict(intrinsics)\n",
    "    \n",
    "imgs_dir = '/home/commaai-03/Data/color/apriltags'"
   ]
  },
  {
   "cell_type": "code",
   "execution_count": 7,
   "metadata": {},
   "outputs": [
    {
     "name": "stdout",
     "output_type": "stream",
     "text": [
      "80.72483309446866\n"
     ]
    },
    {
     "data": {
      "text/plain": [
       "(array([[ 9.89204577e-01,  5.11590156e-02,  1.37321014e-01],\n",
       "        [-5.07422327e-02,  9.98690394e-01, -6.53628019e-03],\n",
       "        [-1.37475567e-01, -5.02256558e-04,  9.90505031e-01]]),\n",
       " array([-626.0794935 ,  884.22278229,  177.23313627]))"
      ]
     },
     "execution_count": 7,
     "metadata": {},
     "output_type": "execute_result"
    }
   ],
   "source": [
    "R, T = handle_baodi(srcCam='rs15',\n",
    "             dstCam='rs16',\n",
    "             imgs_dir=imgs_dir,\n",
    "             srcIntrinsic=intrinsics.rs15,\n",
    "             dstIntrinsic=intrinsics.rs16)\n",
    "\n",
    "R, T"
   ]
  },
  {
   "cell_type": "code",
   "execution_count": null,
   "metadata": {},
   "outputs": [],
   "source": [
    "80.74263480130824\n",
    "(array([[ 9.89177226e-01,  5.16229793e-02,  1.37344398e-01],\n",
    "        [-5.12005139e-02,  9.98666523e-01, -6.60936323e-03],\n",
    "        [-1.37502448e-01, -4.94272171e-04,  9.90501304e-01]]),\n",
    " array([-625.7165647 ,  885.27609408,  177.27231593]))"
   ]
  },
  {
   "cell_type": "code",
   "execution_count": 145,
   "metadata": {},
   "outputs": [],
   "source": [
    "i15, d15 = imgs_dir + '/rs15_0.jpg', imgs_dir + '/rs15_0.png'\n",
    "i15, d15 = cv2.imread(i15), cv2.imread(d15, cv2.IMREAD_ANYDEPTH)\n",
    "i16, d16 = imgs_dir + '/rs16_0.jpg', imgs_dir + '/rs16_0.png'\n",
    "i16, d16 = cv2.imread(i16), cv2.imread(d16, cv2.IMREAD_ANYDEPTH)\n",
    "\n",
    "RS15, RS16 = RSCalibration(intrinsic=intrinsics.rs15), RSCalibration(intrinsic=intrinsics.rs16)\n",
    "\n",
    "p15 = RS15.get_3d_corners(i15, d15)\n",
    "p16 = RS16.get_3d_corners(i16, d16)"
   ]
  },
  {
   "cell_type": "code",
   "execution_count": 13,
   "metadata": {},
   "outputs": [
    {
     "data": {
      "text/plain": [
       "{9: [[1029.4184478426162, 451.72074449690683, 2975],\n",
       "  [943.9195528149374, 450.77555067148035, 2962],\n",
       "  [940.4149670483158, 524.7050845479765, 2936],\n",
       "  [991.1168810534929, 511.1152791459044, 2861]],\n",
       " 11: [[778.647337333774, 464.1278097941673, 3001],\n",
       "  [686.8233330419037, 454.81062953063196, 2949],\n",
       "  [700.0256470283048, 542.9431179944609, 3001],\n",
       "  [769.7090710938467, 535.7089483452044, 2962]],\n",
       " 21: [[1004.57047196792, 171.8188122410669, 2910],\n",
       "  [939.5566830605551, 174.0239472472308, 2949],\n",
       "  [927.7997489858564, 249.30320518144555, 2910],\n",
       "  [988.9207469531513, 245.7303121530997, 2861]],\n",
       " 99: [[770.3026122678958, 168.18852553040387, 2975],\n",
       "  [694.0718493502296, 168.74942285657613, 2988],\n",
       "  [703.4889132111705, 250.49079552367905, 3028],\n",
       "  [786.4584645226429, 251.89752165460013, 3042]]}"
      ]
     },
     "execution_count": 13,
     "metadata": {},
     "output_type": "execute_result"
    }
   ],
   "source": [
    "p16"
   ]
  },
  {
   "cell_type": "code",
   "execution_count": 12,
   "metadata": {},
   "outputs": [],
   "source": [
    "cv2.imshow('rs15', i15)\n",
    "cv2.imshow('rs16', i16)\n",
    "k = cv2.waitKey()\n",
    "if k:\n",
    "    cv2.destroyAllWindows()"
   ]
  },
  {
   "cell_type": "code",
   "execution_count": 14,
   "metadata": {},
   "outputs": [
    {
     "name": "stderr",
     "output_type": "stream",
     "text": [
      "/usr/local/lib/python3.6/dist-packages/ipykernel_launcher.py:4: YAMLLoadWarning: calling yaml.load() without Loader=... is deprecated, as the default Loader is unsafe. Please read https://msg.pyyaml.org/load for full details.\n",
      "  after removing the cwd from sys.path.\n"
     ]
    }
   ],
   "source": [
    "pose_file = '/home/commaai-03/Public/ye/camera_poses.yaml'\n",
    "import yaml\n",
    "with open(pose_file, 'r') as f:\n",
    "    yaml_pose = yaml.load(f)"
   ]
  },
  {
   "cell_type": "code",
   "execution_count": 218,
   "metadata": {},
   "outputs": [],
   "source": [
    "poses = EasyDict(yaml_pose['poses'])"
   ]
  },
  {
   "cell_type": "code",
   "execution_count": 207,
   "metadata": {},
   "outputs": [],
   "source": [
    "def q2r(x, y, z, w):\n",
    "    x2, y2, z2, w2 = np.square(x), np.square(y), np.square(z), np.square(w)\n",
    "    xy = x * y\n",
    "    zw = z * w\n",
    "    xz = x * z\n",
    "    yw = y * w\n",
    "    yz = y * z\n",
    "    xw = x * w\n",
    "    #assert np.abs(x2 + y2 + z2 + w2 == 1\n",
    "    R = [[x2 - y2 - z2 + w2, 2 * (xy + zw), 2 * (xz - yw)],\n",
    "         [2 * (xy - zw), -x2 + y2 - z2 + w2, 2 * (yz + xw)],\n",
    "         [2 * (xz + yw), 2 * (yz - xw), -x2 - y2 + z2 + w2]\n",
    "        ]\n",
    "    R = np.asarray(R)\n",
    "    return R"
   ]
  },
  {
   "cell_type": "code",
   "execution_count": 219,
   "metadata": {},
   "outputs": [],
   "source": [
    "x, y, z, w = [poses.rs15.rotation.x,\n",
    "              poses.rs15.rotation.y,\n",
    "              poses.rs15.rotation.z,\n",
    "              poses.rs15.rotation.w]\n",
    "r15 = q2r(x, y, z, w)\n",
    "t15 = np.asarray([poses.rs15.translation.x, \n",
    "                  poses.rs15.translation.y,\n",
    "                  poses.rs15.translation.z])\n",
    "\n",
    "x, y, z, w = [poses.rs16.rotation.x,\n",
    "              poses.rs16.rotation.y,\n",
    "              poses.rs16.rotation.z,\n",
    "              poses.rs16.rotation.w]\n",
    "r16 = q2r(x, y, z, w)\n",
    "t16 = np.asarray([poses.rs16.translation.x, \n",
    "                  poses.rs16.translation.y,\n",
    "                  poses.rs16.translation.z])"
   ]
  },
  {
   "cell_type": "code",
   "execution_count": 220,
   "metadata": {},
   "outputs": [],
   "source": [
    "mat15 = np.zeros((4,4))\n",
    "mat15[:3,:3] = r15\n",
    "mat15[:3,3] = t15\n",
    "mat15[3,3] = 1.0\n",
    "\n",
    "mat16 = np.zeros((4,4))\n",
    "mat16[:3,:3] = r16\n",
    "mat16[:3,3] = t16\n",
    "mat16[3,3] = 1.0"
   ]
  },
  {
   "cell_type": "code",
   "execution_count": 221,
   "metadata": {},
   "outputs": [
    {
     "data": {
      "text/plain": [
       "array([[ 0.02232187, -0.99886687, -0.04203228, -0.31349071],\n",
       "       [-0.99899794, -0.02065399, -0.03970555,  1.05958542],\n",
       "       [ 0.03879242,  0.04287646, -0.99832698,  3.08604742],\n",
       "       [ 0.        ,  0.        ,  0.        ,  1.        ]])"
      ]
     },
     "execution_count": 221,
     "metadata": {},
     "output_type": "execute_result"
    }
   ],
   "source": [
    "mat15"
   ]
  },
  {
   "cell_type": "code",
   "execution_count": 237,
   "metadata": {},
   "outputs": [
    {
     "data": {
      "text/plain": [
       "array([[-0.02412933, -0.99969946,  0.00433129,  0.58678025],\n",
       "       [-0.99912732,  0.02396731, -0.0342077 ,  0.9619321 ],\n",
       "       [ 0.03409361, -0.00515291, -0.99940536,  3.08382652],\n",
       "       [ 0.        ,  0.        ,  0.        ,  1.        ]])"
      ]
     },
     "execution_count": 237,
     "metadata": {},
     "output_type": "execute_result"
    }
   ],
   "source": [
    "mat16"
   ]
  },
  {
   "cell_type": "code",
   "execution_count": 223,
   "metadata": {},
   "outputs": [],
   "source": [
    "p1 = np.asarray(p15[9]) / 1000.\n",
    "p2 = np.asarray(p16[9]) / 1000."
   ]
  },
  {
   "cell_type": "code",
   "execution_count": 234,
   "metadata": {},
   "outputs": [
    {
     "data": {
      "text/plain": [
       "array([0.87011248, 0.57943966, 3.11235672, 1.        ])"
      ]
     },
     "execution_count": 234,
     "metadata": {},
     "output_type": "execute_result"
    }
   ],
   "source": [
    "np.dot(mat16, [0,0,0,1])"
   ]
  },
  {
   "cell_type": "code",
   "execution_count": 224,
   "metadata": {},
   "outputs": [
    {
     "data": {
      "text/plain": [
       "array([[ 1.25800051, -0.3594974 ,  2.917     ],\n",
       "       [ 1.1762206 , -0.35972738,  2.917     ],\n",
       "       [ 1.16853385, -0.27896083,  2.904     ],\n",
       "       [ 1.25023226, -0.27820992,  2.904     ]])"
      ]
     },
     "execution_count": 224,
     "metadata": {},
     "output_type": "execute_result"
    }
   ],
   "source": [
    "p1"
   ]
  },
  {
   "cell_type": "code",
   "execution_count": 225,
   "metadata": {},
   "outputs": [
    {
     "data": {
      "text/plain": [
       "array([[1.02941845, 0.45172074, 2.975     ],\n",
       "       [0.94391955, 0.45077555, 2.962     ],\n",
       "       [0.94041497, 0.52470508, 2.936     ],\n",
       "       [0.99111688, 0.51111528, 2.861     ]])"
      ]
     },
     "execution_count": 225,
     "metadata": {},
     "output_type": "execute_result"
    }
   ],
   "source": [
    "p2"
   ]
  },
  {
   "cell_type": "code",
   "execution_count": 226,
   "metadata": {},
   "outputs": [],
   "source": [
    "def point2Homo(points):\n",
    "    N = len(points)\n",
    "    tmp = np.empty((N,4))\n",
    "    tmp[:N, :3] = points\n",
    "    tmp[:, 3] = 1.\n",
    "    return tmp"
   ]
  },
  {
   "cell_type": "code",
   "execution_count": 227,
   "metadata": {},
   "outputs": [
    {
     "data": {
      "text/plain": [
       "array([[-0.04892789, -0.30555053,  0.20731454,  1.        ],\n",
       "       [-0.05052365, -0.22384781,  0.20413223,  1.        ],\n",
       "       [-0.13082385, -0.21732075,  0.22027528,  1.        ],\n",
       "       [-0.12975025, -0.2989528 ,  0.22347676,  1.        ]])"
      ]
     },
     "execution_count": 227,
     "metadata": {},
     "output_type": "execute_result"
    }
   ],
   "source": [
    "#np.dot(mat15, point2Homo(p1))\n",
    "\n",
    "p1_w = np.asarray([np.dot(mat15, point) for point in point2Homo(p1)])\n",
    "p1_w"
   ]
  },
  {
   "cell_type": "code",
   "execution_count": 228,
   "metadata": {},
   "outputs": [
    {
     "data": {
      "text/plain": [
       "array([[ 0.12324166, -0.15752937,  0.14336449,  1.        ],\n",
       "       [ 0.12619329, -0.07168304,  0.15344666,  1.        ],\n",
       "       [ 0.05225793, -0.06552022,  0.17893076,  1.        ],\n",
       "       [ 0.0642954 , -0.11393802,  0.2556848 ,  1.        ]])"
      ]
     },
     "execution_count": 228,
     "metadata": {},
     "output_type": "execute_result"
    }
   ],
   "source": [
    "#np.dot(mat16, point2Homo(p2))\n",
    "\n",
    "p2_w = np.asarray([np.dot(mat16, point) for point in point2Homo(p2)])\n",
    "p2_w"
   ]
  },
  {
   "cell_type": "code",
   "execution_count": 160,
   "metadata": {},
   "outputs": [],
   "source": [
    "from scipy.spatial.transform import Rotation as R\n",
    "\n",
    "r = R.from_quat([x, y, z, w])"
   ]
  },
  {
   "cell_type": "code",
   "execution_count": 161,
   "metadata": {},
   "outputs": [],
   "source": [
    "r16 = r.as_dcm()"
   ]
  },
  {
   "cell_type": "code",
   "execution_count": 98,
   "metadata": {},
   "outputs": [
    {
     "data": {
      "text/plain": [
       "array([[-0.02412933, -0.99912732,  0.03409361],\n",
       "       [-0.99969946,  0.02396731, -0.00515291],\n",
       "       [ 0.00433129, -0.0342077 , -0.99940536]])"
      ]
     },
     "execution_count": 98,
     "metadata": {},
     "output_type": "execute_result"
    }
   ],
   "source": [
    "r16"
   ]
  },
  {
   "cell_type": "code",
   "execution_count": 186,
   "metadata": {},
   "outputs": [
    {
     "data": {
      "text/plain": [
       "0.37280028049995634"
      ]
     },
     "execution_count": 186,
     "metadata": {},
     "output_type": "execute_result"
    }
   ],
   "source": [
    "diff = p1_w[:,:3]/1000. - p2_w[:,:3]/1000.\n",
    "N = len(p1)\n",
    "np.sqrt((diff * diff).sum() / N)"
   ]
  },
  {
   "cell_type": "code",
   "execution_count": 189,
   "metadata": {},
   "outputs": [
    {
     "data": {
      "text/plain": [
       "array([[-0.04892789, -0.30555053,  0.20731454],\n",
       "       [-0.05052365, -0.22384781,  0.20413223],\n",
       "       [-0.13082385, -0.21732075,  0.22027528],\n",
       "       [-0.12975025, -0.2989528 ,  0.22347676]])"
      ]
     },
     "execution_count": 189,
     "metadata": {},
     "output_type": "execute_result"
    }
   ],
   "source": [
    "p1_w[:,:3]/1000."
   ]
  },
  {
   "cell_type": "code",
   "execution_count": 188,
   "metadata": {},
   "outputs": [
    {
     "data": {
      "text/plain": [
       "array([[ 0.21204302, -0.07168036,  0.09960195,  0.001     ],\n",
       "       [ 0.2146072 ,  0.01383717,  0.11225624,  0.001     ],\n",
       "       [ 0.13994031,  0.01924657,  0.13569664,  0.001     ],\n",
       "       [ 0.14973783, -0.03137934,  0.21133652,  0.001     ]])"
      ]
     },
     "execution_count": 188,
     "metadata": {},
     "output_type": "execute_result"
    }
   ],
   "source": [
    "p2_w/1000."
   ]
  },
  {
   "cell_type": "code",
   "execution_count": null,
   "metadata": {},
   "outputs": [],
   "source": []
  }
 ],
 "metadata": {
  "kernelspec": {
   "display_name": "Python 3",
   "language": "python",
   "name": "python3"
  },
  "language_info": {
   "codemirror_mode": {
    "name": "ipython",
    "version": 3
   },
   "file_extension": ".py",
   "mimetype": "text/x-python",
   "name": "python",
   "nbconvert_exporter": "python",
   "pygments_lexer": "ipython3",
   "version": "3.6.9"
  },
  "varInspector": {
   "cols": {
    "lenName": 16,
    "lenType": 16,
    "lenVar": 40
   },
   "kernels_config": {
    "python": {
     "delete_cmd_postfix": "",
     "delete_cmd_prefix": "del ",
     "library": "var_list.py",
     "varRefreshCmd": "print(var_dic_list())"
    },
    "r": {
     "delete_cmd_postfix": ") ",
     "delete_cmd_prefix": "rm(",
     "library": "var_list.r",
     "varRefreshCmd": "cat(var_dic_list()) "
    }
   },
   "types_to_exclude": [
    "module",
    "function",
    "builtin_function_or_method",
    "instance",
    "_Feature"
   ],
   "window_display": false
  }
 },
 "nbformat": 4,
 "nbformat_minor": 4
}
