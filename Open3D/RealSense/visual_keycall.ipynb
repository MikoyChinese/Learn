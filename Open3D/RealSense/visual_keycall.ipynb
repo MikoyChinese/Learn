{
 "cells": [
  {
   "cell_type": "code",
   "execution_count": 2,
   "metadata": {},
   "outputs": [],
   "source": [
    "import open3d as o3d\n",
    "import pyrealsense2 as rs\n",
    "import time"
   ]
  },
  {
   "cell_type": "code",
   "execution_count": null,
   "metadata": {},
   "outputs": [],
   "source": [
    "pipeline = rs.pipeline()\n",
    "config = rs.config()\n",
    "config.enable_stream(rs.stream.depth, 848, 480, rs.format.z16, 30)\n",
    "config.enable_stream(rs.stream.color, 848, 480, rs.format.rgb8, 30)\n",
    "\n",
    "pipeline.start(config)\n",
    "\n",
    "# skip some frames\n",
    "for x in range(30):\n",
    "    pipeline.wait_for_frames()\n",
    "\n",
    "align_to = rs.stream.color\n",
    "align = rs.align(align_to)\n",
    "add = False\n",
    "\n",
    "# Filter\n",
    "decimation = rs.decimation_filter()\n",
    "spatial = rs.spatial_filter()\n",
    "temporal = rs.temporal_filter()\n",
    "\n",
    "try:\n",
    "    alive = True\n",
    "    vis = o3d.visualization.VisualizerWithKeyCallback()\n",
    "    def key_action_callback(vis, action, mods):\n",
    "        nonlocal alive\n",
    "        if action == 0:\n",
    "            alive = False\n",
    "        return True\n",
    "    \n",
    "    vis.register_key_action_callback(ord('q'), key_action_callback)\n",
    "    vis.register_key_action_callback(ord('Q'), key_action_callback)\n",
    "    vis.create_window('ShowTime', width=1280, height=720)\n",
    "    pcd = o3d.geometry.PointCloud()\n",
    "    \n",
    "    while alive:\n",
    "        t0 = time.time()\n",
    "        frames = pipeline.wait_for_frames()\n",
    "        aligned_frames = align.process(frames)\n",
    "        profile = aligned_frames.get_profile()\n",
    "        color = aligned_frames.get_color_frame()\n",
    "        depth = aligned_frames.get_depth_frame()\n",
    "        depth = decimation.process(depth)\n",
    "        depth = spatial.process(depth)\n",
    "        depth = temporal.process(depth)\n",
    "        t1 = time.time()\n",
    "        if not color or not depth:\n",
    "            continue\n",
    "        \n",
    "        d_img = np.asanyarray(depth.get_data())\n",
    "        d_img = nonZeroSubsampling(d_img, kernel_size=2, method='mean')\n",
    "        img = np.asanyarray(color.get_data())\n",
    "        img = cv2.resize(img, (424, 240))\n",
    "        \n",
    "        d_img = o3d.geometry.Image(d_img)\n",
    "        img = o3d.geometry.Image(img)\n",
    "        \n",
    "        rgbd = o3d.geometry.RGBDImage.create_from_color_and_depth(img, d_img, depth_trunc=5.0, convert_rgb_to_intensity=False)\n",
    "        intrinsics = profile.as_video_stream_profile().get_intrinsics()\n",
    "        pinhole_camera_intrinsic = o3d.camera.PinholeCameraIntrinsic(intrinsics.width, intrinsics.height, intrinsics.fx, intrinsics.fy, intrinsics.ppx, intrinsics.ppy)\n",
    "        pc = o3d.geometry.PointCloud.create_from_rgbd_image(rgbd, pinhole_camera_intrinsic)\n",
    "        pc.transform([[1, 0, 0, 0], [0, -1, 0, 0], [0, 0, -1, 0], [0, 0, 0, 1]])\n",
    "        pcd.points = pc.points\n",
    "        pcd.colors = pc.colors\n",
    "        \n",
    "        if not add:\n",
    "            vis.add_geometry(pcd)\n",
    "            add = True\n",
    "            \n",
    "        vis.update_geometry(pcd)\n",
    "        vis.poll_events()\n",
    "        vis.update_renderer()\n",
    "        print('[FPS]: %.2f' % (1/(t1 - t0)))\n",
    "finally:\n",
    "    pipeline.stop()\n",
    "    vis.destroy_window()"
   ]
  }
 ],
 "metadata": {
  "kernelspec": {
   "display_name": "Python 3",
   "language": "python",
   "name": "python3"
  },
  "language_info": {
   "codemirror_mode": {
    "name": "ipython",
    "version": 3
   },
   "file_extension": ".py",
   "mimetype": "text/x-python",
   "name": "python",
   "nbconvert_exporter": "python",
   "pygments_lexer": "ipython3",
   "version": "3.6.9"
  },
  "varInspector": {
   "cols": {
    "lenName": 16,
    "lenType": 16,
    "lenVar": 40
   },
   "kernels_config": {
    "python": {
     "delete_cmd_postfix": "",
     "delete_cmd_prefix": "del ",
     "library": "var_list.py",
     "varRefreshCmd": "print(var_dic_list())"
    },
    "r": {
     "delete_cmd_postfix": ") ",
     "delete_cmd_prefix": "rm(",
     "library": "var_list.r",
     "varRefreshCmd": "cat(var_dic_list()) "
    }
   },
   "types_to_exclude": [
    "module",
    "function",
    "builtin_function_or_method",
    "instance",
    "_Feature"
   ],
   "window_display": false
  }
 },
 "nbformat": 4,
 "nbformat_minor": 4
}
