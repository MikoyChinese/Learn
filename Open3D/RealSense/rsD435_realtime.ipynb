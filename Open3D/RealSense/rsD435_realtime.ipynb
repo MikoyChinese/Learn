{
 "cells": [
  {
   "cell_type": "code",
   "execution_count": 1,
   "metadata": {},
   "outputs": [],
   "source": [
    "import time\n",
    "import pyrealsense2 as rs\n",
    "import numpy as np\n",
    "import open3d as o3d\n",
    "import json\n",
    "import cv2"
   ]
  },
  {
   "cell_type": "code",
   "execution_count": 2,
   "metadata": {},
   "outputs": [],
   "source": [
    "# Load json file\n",
    "json_path = '/home/commaai-03/Test/test.json'\n",
    "with open(json_path, 'r') as f:\n",
    "    json_obj = json.load(f)\n",
    "    \n",
    "json_str = str(json_obj).replace(\"'\", '\\\"')"
   ]
  },
  {
   "cell_type": "code",
   "execution_count": 3,
   "metadata": {},
   "outputs": [],
   "source": [
    "ctx = rs.context()                                                \n",
    "devices = ctx.query_devices()                                     \n",
    "#print('devices: ', devices)\n",
    "advance_mode = rs.rs400_advanced_mode(devices[0])\n",
    "advance_mode.load_json(json_str)"
   ]
  },
  {
   "cell_type": "code",
   "execution_count": 4,
   "metadata": {},
   "outputs": [
    {
     "name": "stdout",
     "output_type": "stream",
     "text": [
      "(480, 848, 3)\n"
     ]
    },
    {
     "data": {
      "text/plain": [
       "'\\n    for i in range(len(points)):\\n        x, y = points[i]\\n        dic = d_img[y, x].astype(float)\\n        distances[i].append(dic)\\n\\n        \\ndistances = np.asarray(distances)\\ndistances = distances[:, 1:]\\nstd = np.std(distances, axis=1)\\nstd\\n'"
      ]
     },
     "execution_count": 4,
     "metadata": {},
     "output_type": "execute_result"
    }
   ],
   "source": [
    "points = [[453, 223], [340, 223], [24, 256], [767, 437], [828, 13]]\n",
    "\n",
    "pipeline = rs.pipeline()\n",
    "config = rs.config()\n",
    "config.enable_stream(rs.stream.depth, 848, 480, rs.format.z16, 30)\n",
    "config.enable_stream(rs.stream.color, 848, 480, rs.format.rgb8, 30)\n",
    "\n",
    "pipeline.start(config)\n",
    "\n",
    "spatial = rs.spatial_filter()\n",
    "temporal = rs.temporal_filter()\n",
    "\n",
    "# skip some frames\n",
    "for x in range(30):\n",
    "    pipeline.wait_for_frames()\n",
    "\n",
    "distances = [[0] for i in range(len(points))]\n",
    "\n",
    "for i in range(1):\n",
    "    align_to = rs.stream.color\n",
    "    align = rs.align(align_to)\n",
    "\n",
    "    frames = pipeline.wait_for_frames()\n",
    "    aligned_frames = align.process(frames)\n",
    "\n",
    "    color = aligned_frames.get_color_frame()\n",
    "    depth = aligned_frames.get_depth_frame()\n",
    "    \n",
    "    #depth = decimation.process(depth)\n",
    "    depth = spatial.process(depth)\n",
    "    depth = temporal.process(depth)\n",
    "    \n",
    "\n",
    "    d_img = np.asanyarray(depth.get_data())\n",
    "    #d_img_1 = nonZeroSubsampling(d_img, kernel_size=2, method='mean')\n",
    "    img = np.asanyarray(color.get_data())\n",
    "    print(img.shape)\n",
    "\n",
    "'''\n",
    "    for i in range(len(points)):\n",
    "        x, y = points[i]\n",
    "        dic = d_img[y, x].astype(float)\n",
    "        distances[i].append(dic)\n",
    "\n",
    "        \n",
    "distances = np.asarray(distances)\n",
    "distances = distances[:, 1:]\n",
    "std = np.std(distances, axis=1)\n",
    "std\n",
    "'''"
   ]
  },
  {
   "cell_type": "code",
   "execution_count": 6,
   "metadata": {},
   "outputs": [
    {
     "data": {
      "text/plain": [
       "2.182000160217285"
      ]
     },
     "execution_count": 6,
     "metadata": {},
     "output_type": "execute_result"
    }
   ],
   "source": [
    "d = pipeline.wait_for_frames().get_depth_frame()\n",
    "dpt_frame = d.as_depth_frame()\n",
    "pixel_distance_in_meters = dpt_frame.get_distance(233,455)\n",
    "pixel_distance_in_meters"
   ]
  },
  {
   "cell_type": "code",
   "execution_count": null,
   "metadata": {},
   "outputs": [],
   "source": [
    "profiles = pipeline.get_active_profile()"
   ]
  },
  {
   "cell_type": "code",
   "execution_count": null,
   "metadata": {},
   "outputs": [],
   "source": [
    "profile = profiles.get_stream(rs.stream.color).as_video_stream_profile()"
   ]
  },
  {
   "cell_type": "code",
   "execution_count": null,
   "metadata": {},
   "outputs": [],
   "source": [
    "profile.get_intrinsics()"
   ]
  },
  {
   "cell_type": "code",
   "execution_count": null,
   "metadata": {},
   "outputs": [],
   "source": [
    "data = d_img.reshape([240, 2, 424, 2])\n",
    "data = np.transpose(data, [0, 2, 1, 3])\n",
    "data = data.reshape(240, 424, 4)\n",
    "'''\n",
    "mean = np.true_divide(np.sum(data, axis=(2,3)), \n",
    "                      np.count_nonzero(data, axis=(2, 3)))\n",
    "mean = np.nan_to_num(mean)\n",
    "mean\n",
    "'''"
   ]
  },
  {
   "cell_type": "code",
   "execution_count": null,
   "metadata": {},
   "outputs": [],
   "source": [
    "np.mean(, axis=2)"
   ]
  },
  {
   "cell_type": "code",
   "execution_count": null,
   "metadata": {},
   "outputs": [],
   "source": [
    "data.reshape(240, 424, 4)"
   ]
  },
  {
   "cell_type": "code",
   "execution_count": null,
   "metadata": {},
   "outputs": [],
   "source": [
    "np.median(data[np.nonzero(data)], axis=[2,3])"
   ]
  },
  {
   "cell_type": "code",
   "execution_count": null,
   "metadata": {},
   "outputs": [],
   "source": [
    "x, y = points[0]\n",
    "dic = d_img[x, y]\n",
    "dic.astype(float)"
   ]
  },
  {
   "cell_type": "code",
   "execution_count": null,
   "metadata": {},
   "outputs": [],
   "source": [
    "pipeline = rs.pipeline()\n",
    "config = rs.config()\n",
    "config.enable_stream(rs.stream.depth, 848, 480, rs.format.z16, 30)\n",
    "config.enable_stream(rs.stream.color, 848, 480, rs.format.rgb8, 30)\n",
    "\n",
    "pipeline.start(config)\n",
    "\n",
    "# skip some frames\n",
    "for x in range(99):\n",
    "    pipeline.wait_for_frames()\n",
    "\n",
    "align_to = rs.stream.color\n",
    "align = rs.align(align_to)\n",
    "add = False\n",
    "\n",
    "# Filter\n",
    "decimation = rs.decimation_filter()\n",
    "spatial = rs.spatial_filter()\n",
    "temporal = rs.temporal_filter()\n",
    "\n",
    "try:\n",
    "    vis = o3d.visualization.Visualizer()\n",
    "    vis.create_window('D435', width=1280, height=720)\n",
    "    pcd = o3d.geometry.PointCloud()\n",
    "    while 1:\n",
    "        t0 = time.time()\n",
    "        frames = pipeline.wait_for_frames()\n",
    "        aligned_frames = align.process(frames)\n",
    "        profile = aligned_frames.get_profile()\n",
    "        color = aligned_frames.get_color_frame()\n",
    "        depth = aligned_frames.get_depth_frame()\n",
    "        #depth = decimation.process(depth)\n",
    "        #depth = spatial.process(depth)\n",
    "        #depth = temporal.process(depth)\n",
    "        if not color or not depth:\n",
    "            continue\n",
    "        \n",
    "        d_img = np.asanyarray(depth.get_data())\n",
    "        d_img = nonZeroSubsampling(d_img, kernel_size=2, method='mean')\n",
    "        img = np.asanyarray(color.get_data())\n",
    "        img = cv2.resize(img, (424, 240))\n",
    "        \n",
    "        d_img = o3d.geometry.Image(d_img)\n",
    "        img = o3d.geometry.Image(img)\n",
    "        \n",
    "        rgbd = o3d.geometry.RGBDImage.create_from_color_and_depth(img, d_img, depth_trunc=5.0, convert_rgb_to_intensity=False)\n",
    "        intrinsics = profile.as_video_stream_profile().get_intrinsics()\n",
    "        pinhole_camera_intrinsic = o3d.camera.PinholeCameraIntrinsic(intrinsics.width, intrinsics.height, intrinsics.fx, intrinsics.fy, intrinsics.ppx, intrinsics.ppy)\n",
    "        pc = o3d.geometry.PointCloud.create_from_rgbd_image(rgbd, pinhole_camera_intrinsic)\n",
    "        pc.transform([[1, 0, 0, 0], [0, -1, 0, 0], [0, 0, -1, 0], [0, 0, 0, 1]])\n",
    "        pcd.points = pc.points\n",
    "        pcd.colors = pc.colors\n",
    "        \n",
    "        if not add:\n",
    "            vis.add_geometry(pcd)\n",
    "            add = True\n",
    "            \n",
    "        vis.update_geometry(pcd)\n",
    "        vis.poll_events()\n",
    "        vis.update_renderer()\n",
    "        t1 = time.time()\n",
    "        print('[FPS]: %.2f' % (1/(t1 - t0)))\n",
    "finally:\n",
    "    pipeline.stop()\n",
    "    vis.destroy_window()"
   ]
  },
  {
   "cell_type": "code",
   "execution_count": null,
   "metadata": {},
   "outputs": [],
   "source": [
    "?rs.decimation_filter"
   ]
  },
  {
   "cell_type": "code",
   "execution_count": null,
   "metadata": {},
   "outputs": [],
   "source": [
    "import pyrealsense2 as rs\n",
    "import time\n",
    "import json\n",
    "\n",
    "DS5_product_ids = [\"0AD1\", \"0AD2\", \"0AD3\", \"0AD4\", \"0AD5\", \"0AF6\", \"0AFE\", \"0AFF\", \"0B00\", \"0B01\", \"0B03\", \"0B07\",\"0B3A\"]\n",
    "\n",
    "def find_device_that_supports_advanced_mode() :\n",
    "    ctx = rs.context()\n",
    "    ds5_dev = rs.device()\n",
    "    devices = ctx.query_devices();\n",
    "    for dev in devices:\n",
    "        if dev.supports(rs.camera_info.product_id) and str(dev.get_info(rs.camera_info.product_id)) in DS5_product_ids:\n",
    "            if dev.supports(rs.camera_info.name):\n",
    "                print(\"Found device that supports advanced mode:\", dev.get_info(rs.camera_info.name))\n",
    "            return dev\n",
    "    raise Exception(\"No device that supports advanced mode was found\")\n",
    "\n",
    "try:\n",
    "    dev = find_device_that_supports_advanced_mode()\n",
    "    advnc_mode = rs.rs400_advanced_mode(dev)\n",
    "    print(\"Advanced mode is\", \"enabled\" if advnc_mode.is_enabled() else \"disabled\")\n",
    "\n",
    "    # Loop until we successfully enable advanced mode\n",
    "    while not advnc_mode.is_enabled():\n",
    "        print(\"Trying to enable advanced mode...\")\n",
    "        advnc_mode.toggle_advanced_mode(True)\n",
    "        # At this point the device will disconnect and re-connect.\n",
    "        print(\"Sleeping for 5 seconds...\")\n",
    "        time.sleep(5)\n",
    "        # The 'dev' object will become invalid and we need to initialize it again\n",
    "        dev = find_device_that_supports_advanced_mode()\n",
    "        advnc_mode = rs.rs400_advanced_mode(dev)\n",
    "        print(\"Advanced mode is\", \"enabled\" if advnc_mode.is_enabled() else \"disabled\")\n",
    "\n",
    "    # Get each control's current value\n",
    "    print(\"Depth Control: \\n\", advnc_mode.get_depth_control())\n",
    "    print(\"RSM: \\n\", advnc_mode.get_rsm())\n",
    "    print(\"RAU Support Vector Control: \\n\", advnc_mode.get_rau_support_vector_control())\n",
    "    print(\"Color Control: \\n\", advnc_mode.get_color_control())\n",
    "    print(\"RAU Thresholds Control: \\n\", advnc_mode.get_rau_thresholds_control())\n",
    "    print(\"SLO Color Thresholds Control: \\n\", advnc_mode.get_slo_color_thresholds_control())\n",
    "    print(\"SLO Penalty Control: \\n\", advnc_mode.get_slo_penalty_control())\n",
    "    print(\"HDAD: \\n\", advnc_mode.get_hdad())\n",
    "    print(\"Color Correction: \\n\", advnc_mode.get_color_correction())\n",
    "    print(\"Depth Table: \\n\", advnc_mode.get_depth_table())\n",
    "    print(\"Auto Exposure Control: \\n\", advnc_mode.get_ae_control())\n",
    "    print(\"Census: \\n\", advnc_mode.get_census())\n",
    "\n",
    "    #To get the minimum and maximum value of each control use the mode value:\n",
    "    query_min_values_mode = 1\n",
    "    query_max_values_mode = 2\n",
    "    current_std_depth_control_group = advnc_mode.get_depth_control()\n",
    "    min_std_depth_control_group = advnc_mode.get_depth_control(query_min_values_mode)\n",
    "    max_std_depth_control_group = advnc_mode.get_depth_control(query_max_values_mode)\n",
    "    print(\"Depth Control Min Values: \\n \", min_std_depth_control_group)\n",
    "    print(\"Depth Control Max Values: \\n \", max_std_depth_control_group)\n",
    "\n",
    "    # Set some control with a new (median) value\n",
    "    current_std_depth_control_group.scoreThreshA = int((max_std_depth_control_group.scoreThreshA - min_std_depth_control_group.scoreThreshA) / 2)\n",
    "    advnc_mode.set_depth_control(current_std_depth_control_group)\n",
    "    print(\"After Setting new value, Depth Control: \\n\", advnc_mode.get_depth_control())\n",
    "\n",
    "    # Serialize all controls to a Json string\n",
    "    serialized_string = advnc_mode.serialize_json()\n",
    "    print(\"Controls as JSON: \\n\", serialized_string)\n",
    "    as_json_object = json.loads(serialized_string)\n",
    "\n",
    "    # We can also load controls from a json string\n",
    "    # For Python 2, the values in 'as_json_object' dict need to be converted from unicode object to utf-8\n",
    "    if type(next(iter(as_json_object))) != str:\n",
    "        as_json_object = {k.encode('utf-8'): v.encode(\"utf-8\") for k, v in as_json_object.items()}\n",
    "    # The C++ JSON parser requires double-quotes for the json object so we need\n",
    "    # to replace the single quote of the pythonic json to double-quotes\n",
    "    json_string = str(as_json_object).replace(\"'\", '\\\"')\n",
    "    advnc_mode.load_json(json_string)\n",
    "\n",
    "except Exception as e:\n",
    "    print(e)\n",
    "    pass"
   ]
  },
  {
   "cell_type": "code",
   "execution_count": null,
   "metadata": {},
   "outputs": [],
   "source": [
    "# Sub-sampling\n",
    "\n",
    "import numpy as np\n",
    "\n",
    "def nonZeroSubsampling(data, kernel_size=1, method='median'):\n",
    "    '''Non-zero median or Non-zero mean\n",
    "    Args:\n",
    "     - data: input depth data\n",
    "     - kerne_size: \n",
    "     - method: median or mean\n",
    "    '''\n",
    "    if not type(data) == np.ndarray:\n",
    "        data = np.asarray(data)\n",
    "    assert len(data.shape) == 2\n",
    "    assert isinstance(kernel_size, int) or (isinstance(kernel_size, tuple) and len(kernel_size)==2)\n",
    "    assert method.lower() in ['median', 'mean']\n",
    "    if isinstance(kernel_size, int):\n",
    "        stride_x, stride_y = kernel_size, kernel_size\n",
    "    else:\n",
    "        stride_x, stride_y = kernel_size\n",
    "        \n",
    "    assert data.shape[0] % stride_x == 0 and data.shape[1] % stride_y == 0\n",
    "    \n",
    "    shape = [data.shape[0] // stride_x, stride_x, data.shape[1] // stride_y, stride_y]\n",
    "    data = data.reshape(shape)\n",
    "    data = np.transpose(data, [0, 2, 1, 3])\n",
    "    \n",
    "    if method.lower() == 'mean':\n",
    "        mean = np.true_divide(np.sum(data, axis=(2,3)), \n",
    "                      np.count_nonzero(data, axis=(2, 3)))\n",
    "        mean = np.nan_to_num(mean)\n",
    "        return mean.astype(np.uint16)\n",
    "    \n",
    "    subsampling = np.zeros([shape[0], shape[2]])\n",
    "    \n",
    "    for i in range(shape[0]):\n",
    "        for j in range(shape[2]):\n",
    "            window = data[i, j]\n",
    "            non_zero = window[np.nonzero(window)]\n",
    "            subsampling[i, j] = np.median(non_zero)\n",
    "            subsampling = np.nan_to_num(subsampling)\n",
    "                \n",
    "    return subsampling.astype(np.uint16)"
   ]
  },
  {
   "cell_type": "code",
   "execution_count": null,
   "metadata": {},
   "outputs": [],
   "source": [
    "# temporal filtering\n",
    "\n",
    "class TemporalFilter():\n",
    "    \n",
    "    def __init__(self, alpha=0.5, delta=20, initiation=True):\n",
    "        self.alpha = alpha\n",
    "        self.delta = delta\n",
    "        self.initiation = initiation\n",
    "        self.source = None\n",
    "    \n",
    "    def process(self, x):\n",
    "        assert type(x) == np.ndarray and len(x.shape == 2)\n",
    "        if self.initiation:\n",
    "            self.source = x\n",
    "            self.initiation = False\n",
    "            return x\n",
    "        \n",
    "        target = self.alpha * x + (1 - self.alpha) * self.source\n",
    "        print(target)\n",
    "        thresh = np.abs(target - self.source)\n",
    "        self.source = np.where(thresh < self.delta, \n",
    "                               target, x)\n",
    "        return self.source"
   ]
  },
  {
   "cell_type": "code",
   "execution_count": null,
   "metadata": {},
   "outputs": [],
   "source": []
  }
 ],
 "metadata": {
  "kernelspec": {
   "display_name": "Python 3",
   "language": "python",
   "name": "python3"
  },
  "language_info": {
   "codemirror_mode": {
    "name": "ipython",
    "version": 3
   },
   "file_extension": ".py",
   "mimetype": "text/x-python",
   "name": "python",
   "nbconvert_exporter": "python",
   "pygments_lexer": "ipython3",
   "version": "3.8.10"
  },
  "varInspector": {
   "cols": {
    "lenName": 16,
    "lenType": 16,
    "lenVar": 40
   },
   "kernels_config": {
    "python": {
     "delete_cmd_postfix": "",
     "delete_cmd_prefix": "del ",
     "library": "var_list.py",
     "varRefreshCmd": "print(var_dic_list())"
    },
    "r": {
     "delete_cmd_postfix": ") ",
     "delete_cmd_prefix": "rm(",
     "library": "var_list.r",
     "varRefreshCmd": "cat(var_dic_list()) "
    }
   },
   "types_to_exclude": [
    "module",
    "function",
    "builtin_function_or_method",
    "instance",
    "_Feature"
   ],
   "window_display": false
  }
 },
 "nbformat": 4,
 "nbformat_minor": 4
}
