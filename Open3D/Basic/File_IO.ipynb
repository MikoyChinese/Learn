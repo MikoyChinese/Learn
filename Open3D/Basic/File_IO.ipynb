{
 "cells": [
  {
   "cell_type": "code",
   "execution_count": 1,
   "metadata": {},
   "outputs": [],
   "source": [
    "import open3d as o3d"
   ]
  },
  {
   "cell_type": "markdown",
   "metadata": {},
   "source": [
    "### File IO\n",
    "\n",
    "This shows how basic geometries are read and written by Open3D.\n",
    "\n",
    "1. IO for point cloud:\n",
    "\n",
    "```python\n",
    "# Read\n",
    "pcd = o3d.io.read_point_cloud(pcd_file)\n",
    "# Write\n",
    "o3d.io.write_point_cloud('copy_file', pcd)\n",
    "```\n",
    "\n",
    "2. IO for meshes:\n",
    "\n",
    "```python\n",
    "# Read\n",
    "mesh = o3d.io.read_triangle_mesh('.ply')\n",
    "# Write\n",
    "o3d.io.write_triangle_mesh('', mesh)\n",
    "```\n",
    "\n",
    "3. IO for images\n",
    "\n",
    "```python\n",
    "# Read\n",
    "img = o3d.io.read_image(img_file)\n",
    "# Write\n",
    "o3d.io.write_image('', img)\n",
    "```"
   ]
  },
  {
   "cell_type": "markdown",
   "metadata": {},
   "source": [
    "### PointCloud\n",
    "\n",
    "#### 1. Visualize point cloud\n",
    "\n",
    "```python\n",
    "pcd = o3d.io.read_point_cloud(pcd_file)\n",
    "print(pcd)\n",
    "print(np.asarray(pcd.points))\n",
    "\n",
    "# Visualization:\n",
    "o3d.visualization.draw_geometries([pcd])\n",
    "```\n",
    "\n",
    "#### 2. Voxel downsampling: 体素下采样\n",
    "\n",
    "Voxel downsampling uses a regular voxel grid to create a uniformly downsampled point cloud from an input point cloud. It is often used as a pre-processing step for many point cloud processing tasks. The algorithm operates in two steps:\n",
    "\n",
    "1. Points are bucketed into voxels.\n",
    "\n",
    "2. Each occupied voxel generates exact one point by averaging all points inside.\n",
    "\n",
    "```python\n",
    "downpcd = pcd.voxel_down_sample(voxel_size=0.05)\n",
    "o3d.visualization.draw_geometries([downpcd])\n",
    "```\n",
    "\n",
    "#### 3. Vertex normal estimation\n",
    "\n",
    "estimate_normals computes normal for every point. The function finds adjacent points and calculate the principal axis of the adjacent points using covariance analysis.\n",
    "\n",
    "```python\n",
    "downpcd.estimate_normals(search_param=o3d.geometry.KDTreeSearchParamHybrid(\n",
    "        radius=0.1, max_nn=30))\n",
    "o3d.visualization.draw_geometries([downpcd])\n",
    "```\n",
    "\n",
    "The function takes an instance of KDTreeSearchParamHybrid class as an argument. The two key arguments `radius = 0.1` and `max_nn = 30` specifies search radius and maximum nearest neighbor. It has 10cm of search radius, and only considers up to 30 neighbors to save computation time.\n",
    "\n",
    "#### 4. Access estimated vertex normal\n",
    "\n",
    "Estimated normal vectors can be retrieved by normals variable of downpcd.\n",
    "\n",
    "```python\n",
    "print(downpcd.normals[0]) # Normal vector of the 0th point.\n",
    "```\n",
    "\n",
    "#### 5. Crop point cloud\n",
    "\n",
    "`read_selection_polygon_volume` reads a json file that specifies polygon selection area. `vol.crop_point_cloud(pcd) filters out points.\n",
    "\n",
    "```python\n",
    "vol = o3d.visualization.read_selection_polygon_volume(crop.json)\n",
    "crop = vol.crop_point_cloud(pcd)\n",
    "o3d.visualization.draw_geometries([crop])\n",
    "\n",
    "# Paint point cloud\n",
    "\n",
    "crop.paint_uniform_color([0,0,0])\n",
    "o3d.visualization.draw_geometries([crop])\n",
    "```"
   ]
  },
  {
   "cell_type": "code",
   "execution_count": null,
   "metadata": {},
   "outputs": [],
   "source": []
  }
 ],
 "metadata": {
  "kernelspec": {
   "display_name": "Python 3",
   "language": "python",
   "name": "python3"
  },
  "language_info": {
   "codemirror_mode": {
    "name": "ipython",
    "version": 3
   },
   "file_extension": ".py",
   "mimetype": "text/x-python",
   "name": "python",
   "nbconvert_exporter": "python",
   "pygments_lexer": "ipython3",
   "version": "3.6.8"
  },
  "varInspector": {
   "cols": {
    "lenName": 16,
    "lenType": 16,
    "lenVar": 40
   },
   "kernels_config": {
    "python": {
     "delete_cmd_postfix": "",
     "delete_cmd_prefix": "del ",
     "library": "var_list.py",
     "varRefreshCmd": "print(var_dic_list())"
    },
    "r": {
     "delete_cmd_postfix": ") ",
     "delete_cmd_prefix": "rm(",
     "library": "var_list.r",
     "varRefreshCmd": "cat(var_dic_list()) "
    }
   },
   "types_to_exclude": [
    "module",
    "function",
    "builtin_function_or_method",
    "instance",
    "_Feature"
   ],
   "window_display": false
  }
 },
 "nbformat": 4,
 "nbformat_minor": 2
}
