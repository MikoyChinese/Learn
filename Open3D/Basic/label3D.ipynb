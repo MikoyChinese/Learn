{
 "cells": [
  {
   "cell_type": "code",
   "execution_count": 1,
   "metadata": {},
   "outputs": [],
   "source": [
    "import open3d as o3d\n",
    "import numpy as np\n",
    "\n",
    "import os\n",
    "import json\n",
    "import logging"
   ]
  },
  {
   "cell_type": "code",
   "execution_count": 2,
   "metadata": {},
   "outputs": [],
   "source": [
    "def write_labelFile(label, labelFile):\n",
    "    \"\"\"Function to write label dict to json format file.\n",
    "    \n",
    "    Args:\n",
    "        label(dict)   : The dict of label.\n",
    "        labelFile(str): The label file, json format.\n",
    "        \n",
    "    Returns:\n",
    "        True or False\n",
    "    \"\"\"\n",
    "    _flag = True\n",
    "    try:\n",
    "        with open(labelFile, 'w') as _labelfile:\n",
    "            json.dump(label, _labelfile, indent=2, sort_keys=True)\n",
    "    except TypeError:\n",
    "        _flag = False\n",
    "        raise Exception(\"[Error]: Unable to serialize it to json: %s\" % label)\n",
    "    \n",
    "    return _flag\n",
    "    \n",
    "\n",
    "def load_pcd(filename):\n",
    "    \"\"\"Load point cloud file.\n",
    "    \n",
    "    Input a pcd file, it will return open3d format pointcloud.\n",
    "    \n",
    "    Args:\n",
    "        filename(str): pcd file path.\n",
    "        \n",
    "    Returns:\n",
    "        open3d.geometry.PointCloud\n",
    "    \"\"\"\n",
    "    if os.path.exists(filename):\n",
    "        return o3d.io.read_point_cloud(filename)\n",
    "    else:\n",
    "        logging.warning('[Warnning]: %s is not found.' % filename)\n",
    "        \n",
    "\n",
    "def label3D(pcd):\n",
    "    \"\"\"Label point cloud file by a point with label.\n",
    "    \n",
    "    Press [SHIFT + CLICK_LEFT] to select a point, it will show\n",
    "    a tiny dialog which got the label name you input.\n",
    "    \n",
    "    Args:\n",
    "        pcd(open3d.geometry.PointCloud): open3d.geometry.PointCloud.\n",
    "        label_file\n",
    "    \n",
    "    Returns:\n",
    "        The points coordinates: {'labelname': {'x': 0, 'y': 0, 'z': 0}, ...}\n",
    "    \"\"\"\n",
    "    _visEditing = o3d.visualization.VisualizerWithEditing()\n",
    "    _visEditing.create_window()\n",
    "    _visEditing.add_geometry(pcd)\n",
    "    _visEditing.run()\n",
    "    _visEditing.destroy_window()\n",
    "    _picked_points = _visEditing.get_picked_points()\n",
    "    _picked_map = _visEditing.get_picked_map()\n",
    "    for k, v in _picked_map.items():\n",
    "        # If you delete some points, remove from _packed_map.\n",
    "        if _picked_map[k] not in _picked_points:\n",
    "            _picked_map.pop(k)\n",
    "            continue\n",
    "        # Transform point index to x, y, z.\n",
    "        _v = np.asarray(pcd.points)[v]\n",
    "        point_coordinates = {'x': _v[0], 'y': _v[1], 'z': _v[2]}\n",
    "        _picked_map[k] = point_coordinates\n",
    "    return _picked_map"
   ]
  },
  {
   "cell_type": "code",
   "execution_count": 3,
   "metadata": {},
   "outputs": [
    {
     "ename": "IndexError",
     "evalue": "list index out of range",
     "output_type": "error",
     "traceback": [
      "\u001b[0;31m---------------------------------------------------------------------------\u001b[0m",
      "\u001b[0;31mIndexError\u001b[0m                                Traceback (most recent call last)",
      "\u001b[0;32m<ipython-input-3-2cb0b84145bf>\u001b[0m in \u001b[0;36m<module>\u001b[0;34m\u001b[0m\n\u001b[1;32m     19\u001b[0m     \u001b[0mlabelfile\u001b[0m \u001b[0;34m=\u001b[0m \u001b[0mos\u001b[0m\u001b[0;34m.\u001b[0m\u001b[0mpath\u001b[0m\u001b[0;34m.\u001b[0m\u001b[0msplitext\u001b[0m\u001b[0;34m(\u001b[0m\u001b[0m_filename\u001b[0m\u001b[0;34m)\u001b[0m\u001b[0;34m[\u001b[0m\u001b[0;36m0\u001b[0m\u001b[0;34m]\u001b[0m \u001b[0;34m+\u001b[0m \u001b[0;34m'.json'\u001b[0m\u001b[0;34m\u001b[0m\u001b[0;34m\u001b[0m\u001b[0m\n\u001b[1;32m     20\u001b[0m     \u001b[0mwrite_labelFile\u001b[0m\u001b[0;34m(\u001b[0m\u001b[0mlabel\u001b[0m\u001b[0;34m,\u001b[0m \u001b[0mlabelfile\u001b[0m\u001b[0;34m)\u001b[0m\u001b[0;34m\u001b[0m\u001b[0;34m\u001b[0m\u001b[0m\n\u001b[0;32m---> 21\u001b[0;31m     \u001b[0mconfig\u001b[0m\u001b[0;34m[\u001b[0m\u001b[0;34m'index'\u001b[0m\u001b[0;34m]\u001b[0m \u001b[0;34m=\u001b[0m \u001b[0mfilenames\u001b[0m\u001b[0;34m[\u001b[0m\u001b[0mi\u001b[0m\u001b[0;34m+\u001b[0m\u001b[0;36m1\u001b[0m\u001b[0;34m]\u001b[0m\u001b[0;34m\u001b[0m\u001b[0;34m\u001b[0m\u001b[0m\n\u001b[0m\u001b[1;32m     22\u001b[0m     \u001b[0;32mwith\u001b[0m \u001b[0mopen\u001b[0m\u001b[0;34m(\u001b[0m\u001b[0mconfig_file\u001b[0m\u001b[0;34m,\u001b[0m \u001b[0mmode\u001b[0m\u001b[0;34m=\u001b[0m\u001b[0;34m'w'\u001b[0m\u001b[0;34m,\u001b[0m \u001b[0mencoding\u001b[0m\u001b[0;34m=\u001b[0m\u001b[0;34m'utf-8'\u001b[0m\u001b[0;34m)\u001b[0m \u001b[0;32mas\u001b[0m \u001b[0mf\u001b[0m\u001b[0;34m:\u001b[0m\u001b[0;34m\u001b[0m\u001b[0;34m\u001b[0m\u001b[0m\n\u001b[1;32m     23\u001b[0m         \u001b[0mjson\u001b[0m\u001b[0;34m.\u001b[0m\u001b[0mdump\u001b[0m\u001b[0;34m(\u001b[0m\u001b[0mconfig\u001b[0m\u001b[0;34m,\u001b[0m \u001b[0mf\u001b[0m\u001b[0;34m,\u001b[0m \u001b[0mindent\u001b[0m\u001b[0;34m=\u001b[0m\u001b[0;36m2\u001b[0m\u001b[0;34m)\u001b[0m\u001b[0;34m\u001b[0m\u001b[0;34m\u001b[0m\u001b[0m\n",
      "\u001b[0;31mIndexError\u001b[0m: list index out of range"
     ]
    }
   ],
   "source": [
    "# Main\n",
    "WORK_DIR = '/home/commaai-03/Public/points_a'\n",
    "\n",
    "config_file = os.path.join(WORK_DIR, 'config.json')\n",
    "if not os.path.isfile(config_file):\n",
    "    raise Exception('[Error]: No config.json file found. Please read help.')\n",
    "    \n",
    "with open(config_file, mode='r', encoding='utf-8') as f:\n",
    "    config = json.load(f)\n",
    "    logging.info('[Info]: Loaded config success.')\n",
    "    \n",
    "filenames = config['filenames']\n",
    "index = filenames.index(config['index'])\n",
    "\n",
    "for i in range(index, len(filenames)):\n",
    "    _filename = os.path.join(WORK_DIR, filenames[i])\n",
    "    pcd = load_pcd(_filename)\n",
    "    label = label3D(pcd)\n",
    "    if not label:\n",
    "        continue\n",
    "    labelfile = os.path.splitext(_filename)[0] + '.json'\n",
    "    write_labelFile(label, labelfile)\n",
    "    if not i == len(filenames) - 1:\n",
    "        config['index'] = filenames[i+1]\n",
    "        with open(config_file, mode='w', encoding='utf-8') as f:\n",
    "            json.dump(config, f, indent=2)\n",
    "            logging.info('[Info]: Index is in %s.' % config['index'])"
   ]
  },
  {
   "cell_type": "code",
   "execution_count": null,
   "metadata": {},
   "outputs": [],
   "source": []
  }
 ],
 "metadata": {
  "kernelspec": {
   "display_name": "Python 3",
   "language": "python",
   "name": "python3"
  },
  "language_info": {
   "codemirror_mode": {
    "name": "ipython",
    "version": 3
   },
   "file_extension": ".py",
   "mimetype": "text/x-python",
   "name": "python",
   "nbconvert_exporter": "python",
   "pygments_lexer": "ipython3",
   "version": "3.6.8"
  },
  "varInspector": {
   "cols": {
    "lenName": 16,
    "lenType": 16,
    "lenVar": 40
   },
   "kernels_config": {
    "python": {
     "delete_cmd_postfix": "",
     "delete_cmd_prefix": "del ",
     "library": "var_list.py",
     "varRefreshCmd": "print(var_dic_list())"
    },
    "r": {
     "delete_cmd_postfix": ") ",
     "delete_cmd_prefix": "rm(",
     "library": "var_list.r",
     "varRefreshCmd": "cat(var_dic_list()) "
    }
   },
   "types_to_exclude": [
    "module",
    "function",
    "builtin_function_or_method",
    "instance",
    "_Feature"
   ],
   "window_display": false
  }
 },
 "nbformat": 4,
 "nbformat_minor": 2
}
